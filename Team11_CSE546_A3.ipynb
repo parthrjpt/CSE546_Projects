{
  "nbformat": 4,
  "nbformat_minor": 0,
  "metadata": {
    "colab": {
      "name": "Team11_CSE546_A3.ipynb",
      "provenance": [],
      "collapsed_sections": [
        "O21UIxyYfn05"
      ],
      "toc_visible": true,
      "include_colab_link": true
    },
    "kernelspec": {
      "name": "python3",
      "display_name": "Python 3"
    },
    "language_info": {
      "name": "python"
    }
  },
  "cells": [
    {
      "cell_type": "markdown",
      "metadata": {
        "id": "view-in-github",
        "colab_type": "text"
      },
      "source": [
        "<a href=\"https://colab.research.google.com/github/parthrjpt/EAS546_Projects/blob/DEV/Team11_CSE546_A3.ipynb\" target=\"_parent\"><img src=\"https://colab.research.google.com/assets/colab-badge.svg\" alt=\"Open In Colab\"/></a>"
      ]
    },
    {
      "cell_type": "code",
      "metadata": {
        "id": "3BuQcMBJG3AJ",
        "colab": {
          "base_uri": "https://localhost:8080/"
        },
        "outputId": "20d41d74-a120-4edf-a058-e62cd52b316e"
      },
      "source": [
        "!pip install gym"
      ],
      "execution_count": null,
      "outputs": [
        {
          "output_type": "stream",
          "text": [
            "Requirement already satisfied: gym in /usr/local/lib/python3.7/dist-packages (0.17.3)\n",
            "Requirement already satisfied: scipy in /usr/local/lib/python3.7/dist-packages (from gym) (1.4.1)\n",
            "Requirement already satisfied: pyglet<=1.5.0,>=1.4.0 in /usr/local/lib/python3.7/dist-packages (from gym) (1.5.0)\n",
            "Requirement already satisfied: cloudpickle<1.7.0,>=1.2.0 in /usr/local/lib/python3.7/dist-packages (from gym) (1.3.0)\n",
            "Requirement already satisfied: numpy>=1.10.4 in /usr/local/lib/python3.7/dist-packages (from gym) (1.19.5)\n",
            "Requirement already satisfied: future in /usr/local/lib/python3.7/dist-packages (from pyglet<=1.5.0,>=1.4.0->gym) (0.16.0)\n"
          ],
          "name": "stdout"
        }
      ]
    },
    {
      "cell_type": "code",
      "metadata": {
        "id": "qDKPP7nGMv6C"
      },
      "source": [
        "import numpy as np\n",
        "import matplotlib.pyplot as plt\n",
        "import gym\n",
        "from gym import spaces\n",
        "from google.colab import widgets\n",
        "import time\n",
        "import copy\n",
        "import random\n",
        "from collections import deque\n",
        "import torch\n",
        "import torchvision\n",
        "import torchvision.transforms as transforms\n",
        "import torch.nn as nn\n",
        "import torch.nn.functional as F\n",
        "import matplotlib.pyplot as plt\n",
        "import torch.optim as optim\n",
        "from torch.autograd import Variable "
      ],
      "execution_count": null,
      "outputs": []
    },
    {
      "cell_type": "markdown",
      "metadata": {
        "id": "O21UIxyYfn05"
      },
      "source": [
        "# Cartpole Environment"
      ]
    },
    {
      "cell_type": "code",
      "metadata": {
        "id": "zxdBpAUZfuEO"
      },
      "source": [
        "env = gym.make(\"CartPole-v1\")"
      ],
      "execution_count": null,
      "outputs": []
    },
    {
      "cell_type": "code",
      "metadata": {
        "id": "ZJblRt5Pf3lD"
      },
      "source": [
        "env = env\n",
        "observation = env.reset()"
      ],
      "execution_count": null,
      "outputs": []
    },
    {
      "cell_type": "code",
      "metadata": {
        "id": "Z1DAdmMWgGIF"
      },
      "source": [
        "import gym, os\n",
        "from itertools import count\n",
        "import torch\n",
        "import torch.nn as nn\n",
        "import torch.optim as optim\n",
        "import torch.nn.functional as F\n",
        "from torch.distributions import Categorical\n",
        "\n",
        "\n",
        "\n",
        "lr = 0.0001\n",
        "\n",
        "class Actor(nn.Module):\n",
        "    def __init__(self,):\n",
        "        super(Actor, self).__init__()\n",
        "        self.linear1 = nn.Linear(4, 128)\n",
        "        self.linear2 = nn.Linear(128, 256)\n",
        "        self.linear3 = nn.Linear(256, 2)\n",
        "\n",
        "    def forward(self, state):\n",
        "        output = F.relu(self.linear1(state))\n",
        "        output = F.relu(self.linear2(output))\n",
        "        output = self.linear3(output)\n",
        "        distribution = Categorical(F.softmax(output, dim=-1))\n",
        "        return distribution\n",
        "\n",
        "\n",
        "class Critic(nn.Module):\n",
        "    def __init__(self,):\n",
        "        super(Critic, self).__init__()\n",
        "        self.linear1 = nn.Linear(4, 128)\n",
        "        self.linear2 = nn.Linear(128, 256)\n",
        "        self.linear3 = nn.Linear(256, 1)\n",
        "\n",
        "    def forward(self, state):\n",
        "        output = F.relu(self.linear1(state))\n",
        "        output = F.relu(self.linear2(output))\n",
        "        value = self.linear3(output)\n",
        "        return value\n",
        "\n",
        "\n",
        "def compute_returns(next_value, rewards, masks, gamma=0.99):\n",
        "    R = next_value\n",
        "    returns = []\n",
        "    for step in reversed(range(len(rewards))):\n",
        "        R = rewards[step] + gamma * R * masks[step]\n",
        "        returns.insert(0, R)\n",
        "    return returns"
      ],
      "execution_count": null,
      "outputs": []
    },
    {
      "cell_type": "code",
      "metadata": {
        "id": "CaMvUF2NgYz3",
        "colab": {
          "base_uri": "https://localhost:8080/",
          "height": 312
        },
        "outputId": "2908da1c-cbb2-4e97-8c1d-33bee68a8537"
      },
      "source": [
        "actor=Actor()\n",
        "critic=Critic()\n",
        "returnplot=[]\n",
        "n_iters=500\n",
        "optimizerA = optim.Adam(actor.parameters())\n",
        "optimizerC = optim.Adam(critic.parameters())\n",
        "\n",
        "#agent=A2CAgent(env)\n",
        "for iter in range(n_iters):\n",
        "    state= env.reset()\n",
        "    cumulativereward=0\n",
        "    state= torch.FloatTensor(state)\n",
        "    log_probs = []\n",
        "    values = []\n",
        "    rewards = []\n",
        "    masks = []\n",
        "    entropy = 0\n",
        "    for i in count():\n",
        "        state= torch.FloatTensor(state)\n",
        "        dist, value = actor(state), critic(state)\n",
        "        action = dist.sample()\n",
        "        next_state, reward, done, _ = env.step(action.numpy())\n",
        "\n",
        "        log_prob = dist.log_prob(action).unsqueeze(0)\n",
        "        entropy += dist.entropy().mean()\n",
        "\n",
        "        log_probs.append(log_prob)\n",
        "        values.append(value)\n",
        "        cumulativereward+=reward\n",
        "        rewards.append(torch.tensor([reward], dtype=torch.float))\n",
        "        masks.append(torch.tensor([1-done], dtype=torch.float))\n",
        "\n",
        "        state = next_state\n",
        "\n",
        "        if done:\n",
        "            break\n",
        "\n",
        "\n",
        "    next_state = torch.FloatTensor(next_state)\n",
        "    next_value = critic(next_state)\n",
        "    returns = compute_returns(next_value, rewards, masks)\n",
        "    returnplot.append(cumulativereward)\n",
        "    log_probs = torch.cat(log_probs)\n",
        "    returns = torch.cat(returns).detach()\n",
        "    #print(returns)\n",
        "    values = torch.cat(values)\n",
        "\n",
        "    advantage = returns - values\n",
        "\n",
        "    actor_loss = -(log_probs * advantage.detach()).mean()\n",
        "    critic_loss = advantage.pow(2).mean()\n",
        "\n",
        "    optimizerA.zero_grad()\n",
        "    optimizerC.zero_grad()\n",
        "    actor_loss.backward()\n",
        "    critic_loss.backward()\n",
        "    optimizerA.step()\n",
        "    optimizerC.step()\n",
        "env.close()\n",
        "plt.plot(returnplot)\n",
        "plt.title('reward')\n",
        "plt.xlabel('episode')\n",
        "plt.ylabel('reward')\n",
        "plt.show  \n",
        "#env.monitor.close()"
      ],
      "execution_count": null,
      "outputs": [
        {
          "output_type": "execute_result",
          "data": {
            "text/plain": [
              "<function matplotlib.pyplot.show>"
            ]
          },
          "metadata": {
            "tags": []
          },
          "execution_count": 6
        },
        {
          "output_type": "display_data",
          "data": {
            "image/png": "[encoded data removed]",
            "text/plain": [
              "<Figure size 432x288 with 1 Axes>"
            ]
          },
          "metadata": {
            "tags": [],
            "needs_background": "light"
          }
        }
      ]
    },
    {
      "cell_type": "markdown",
      "metadata": {
        "id": "OOIWYyEhY9Va"
      },
      "source": [
        "# LunarLander"
      ]
    },
    {
      "cell_type": "code",
      "metadata": {
        "colab": {
          "base_uri": "https://localhost:8080/"
        },
        "id": "zFDy6n8KX4Yu",
        "outputId": "c40bd649-56cf-4684-fbeb-2d7881cf6074"
      },
      "source": [
        "! pip install Box2D\n"
      ],
      "execution_count": null,
      "outputs": [
        {
          "output_type": "stream",
          "text": [
            "Collecting Box2D\n",
            "\u001b[?25l  Downloading https://files.pythonhosted.org/packages/22/1b/ce95bb5d1807d4d85af8d0c90050add1a77124459f8097791f0c39136d53/Box2D-2.3.10-cp37-cp37m-manylinux1_x86_64.whl (1.3MB)\n",
            "\r\u001b[K     |▎                               | 10kB 10.5MB/s eta 0:00:01\r\u001b[K     |▌                               | 20kB 15.7MB/s eta 0:00:01\r\u001b[K     |▊                               | 30kB 11.1MB/s eta 0:00:01\r\u001b[K     |█                               | 40kB 8.4MB/s eta 0:00:01\r\u001b[K     |█▎                              | 51kB 5.2MB/s eta 0:00:01\r\u001b[K     |█▌                              | 61kB 5.1MB/s eta 0:00:01\r\u001b[K     |█▊                              | 71kB 5.7MB/s eta 0:00:01\r\u001b[K     |██                              | 81kB 6.2MB/s eta 0:00:01\r\u001b[K     |██▎                             | 92kB 6.6MB/s eta 0:00:01\r\u001b[K     |██▌                             | 102kB 6.7MB/s eta 0:00:01\r\u001b[K     |██▊                             | 112kB 6.7MB/s eta 0:00:01\r\u001b[K     |███                             | 122kB 6.7MB/s eta 0:00:01\r\u001b[K     |███▏                            | 133kB 6.7MB/s eta 0:00:01\r\u001b[K     |███▌                            | 143kB 6.7MB/s eta 0:00:01\r\u001b[K     |███▊                            | 153kB 6.7MB/s eta 0:00:01\r\u001b[K     |████                            | 163kB 6.7MB/s eta 0:00:01\r\u001b[K     |████▏                           | 174kB 6.7MB/s eta 0:00:01\r\u001b[K     |████▌                           | 184kB 6.7MB/s eta 0:00:01\r\u001b[K     |████▊                           | 194kB 6.7MB/s eta 0:00:01\r\u001b[K     |█████                           | 204kB 6.7MB/s eta 0:00:01\r\u001b[K     |█████▏                          | 215kB 6.7MB/s eta 0:00:01\r\u001b[K     |█████▌                          | 225kB 6.7MB/s eta 0:00:01\r\u001b[K     |█████▊                          | 235kB 6.7MB/s eta 0:00:01\r\u001b[K     |██████                          | 245kB 6.7MB/s eta 0:00:01\r\u001b[K     |██████▏                         | 256kB 6.7MB/s eta 0:00:01\r\u001b[K     |██████▍                         | 266kB 6.7MB/s eta 0:00:01\r\u001b[K     |██████▊                         | 276kB 6.7MB/s eta 0:00:01\r\u001b[K     |███████                         | 286kB 6.7MB/s eta 0:00:01\r\u001b[K     |███████▏                        | 296kB 6.7MB/s eta 0:00:01\r\u001b[K     |███████▍                        | 307kB 6.7MB/s eta 0:00:01\r\u001b[K     |███████▊                        | 317kB 6.7MB/s eta 0:00:01\r\u001b[K     |████████                        | 327kB 6.7MB/s eta 0:00:01\r\u001b[K     |████████▏                       | 337kB 6.7MB/s eta 0:00:01\r\u001b[K     |████████▍                       | 348kB 6.7MB/s eta 0:00:01\r\u001b[K     |████████▊                       | 358kB 6.7MB/s eta 0:00:01\r\u001b[K     |█████████                       | 368kB 6.7MB/s eta 0:00:01\r\u001b[K     |█████████▏                      | 378kB 6.7MB/s eta 0:00:01\r\u001b[K     |█████████▍                      | 389kB 6.7MB/s eta 0:00:01\r\u001b[K     |█████████▋                      | 399kB 6.7MB/s eta 0:00:01\r\u001b[K     |██████████                      | 409kB 6.7MB/s eta 0:00:01\r\u001b[K     |██████████▏                     | 419kB 6.7MB/s eta 0:00:01\r\u001b[K     |██████████▍                     | 430kB 6.7MB/s eta 0:00:01\r\u001b[K     |██████████▋                     | 440kB 6.7MB/s eta 0:00:01\r\u001b[K     |███████████                     | 450kB 6.7MB/s eta 0:00:01\r\u001b[K     |███████████▏                    | 460kB 6.7MB/s eta 0:00:01\r\u001b[K     |███████████▍                    | 471kB 6.7MB/s eta 0:00:01\r\u001b[K     |███████████▋                    | 481kB 6.7MB/s eta 0:00:01\r\u001b[K     |████████████                    | 491kB 6.7MB/s eta 0:00:01\r\u001b[K     |████████████▏                   | 501kB 6.7MB/s eta 0:00:01\r\u001b[K     |████████████▍                   | 512kB 6.7MB/s eta 0:00:01\r\u001b[K     |████████████▋                   | 522kB 6.7MB/s eta 0:00:01\r\u001b[K     |████████████▉                   | 532kB 6.7MB/s eta 0:00:01\r\u001b[K     |█████████████▏                  | 542kB 6.7MB/s eta 0:00:01\r\u001b[K     |█████████████▍                  | 552kB 6.7MB/s eta 0:00:01\r\u001b[K     |█████████████▋                  | 563kB 6.7MB/s eta 0:00:01\r\u001b[K     |█████████████▉                  | 573kB 6.7MB/s eta 0:00:01\r\u001b[K     |██████████████▏                 | 583kB 6.7MB/s eta 0:00:01\r\u001b[K     |██████████████▍                 | 593kB 6.7MB/s eta 0:00:01\r\u001b[K     |██████████████▋                 | 604kB 6.7MB/s eta 0:00:01\r\u001b[K     |██████████████▉                 | 614kB 6.7MB/s eta 0:00:01\r\u001b[K     |███████████████▏                | 624kB 6.7MB/s eta 0:00:01\r\u001b[K     |███████████████▍                | 634kB 6.7MB/s eta 0:00:01\r\u001b[K     |███████████████▋                | 645kB 6.7MB/s eta 0:00:01\r\u001b[K     |███████████████▉                | 655kB 6.7MB/s eta 0:00:01\r\u001b[K     |████████████████                | 665kB 6.7MB/s eta 0:00:01\r\u001b[K     |████████████████▍               | 675kB 6.7MB/s eta 0:00:01\r\u001b[K     |████████████████▋               | 686kB 6.7MB/s eta 0:00:01\r\u001b[K     |████████████████▉               | 696kB 6.7MB/s eta 0:00:01\r\u001b[K     |█████████████████               | 706kB 6.7MB/s eta 0:00:01\r\u001b[K     |█████████████████▍              | 716kB 6.7MB/s eta 0:00:01\r\u001b[K     |█████████████████▋              | 727kB 6.7MB/s eta 0:00:01\r\u001b[K     |█████████████████▉              | 737kB 6.7MB/s eta 0:00:01\r\u001b[K     |██████████████████              | 747kB 6.7MB/s eta 0:00:01\r\u001b[K     |██████████████████▎             | 757kB 6.7MB/s eta 0:00:01\r\u001b[K     |██████████████████▋             | 768kB 6.7MB/s eta 0:00:01\r\u001b[K     |██████████████████▉             | 778kB 6.7MB/s eta 0:00:01\r\u001b[K     |███████████████████             | 788kB 6.7MB/s eta 0:00:01\r\u001b[K     |███████████████████▎            | 798kB 6.7MB/s eta 0:00:01\r\u001b[K     |███████████████████▋            | 808kB 6.7MB/s eta 0:00:01\r\u001b[K     |███████████████████▉            | 819kB 6.7MB/s eta 0:00:01\r\u001b[K     |████████████████████            | 829kB 6.7MB/s eta 0:00:01\r\u001b[K     |████████████████████▎           | 839kB 6.7MB/s eta 0:00:01\r\u001b[K     |████████████████████▋           | 849kB 6.7MB/s eta 0:00:01\r\u001b[K     |████████████████████▉           | 860kB 6.7MB/s eta 0:00:01\r\u001b[K     |█████████████████████           | 870kB 6.7MB/s eta 0:00:01\r\u001b[K     |█████████████████████▎          | 880kB 6.7MB/s eta 0:00:01\r\u001b[K     |█████████████████████▌          | 890kB 6.7MB/s eta 0:00:01\r\u001b[K     |█████████████████████▉          | 901kB 6.7MB/s eta 0:00:01\r\u001b[K     |██████████████████████          | 911kB 6.7MB/s eta 0:00:01\r\u001b[K     |██████████████████████▎         | 921kB 6.7MB/s eta 0:00:01\r\u001b[K     |██████████████████████▌         | 931kB 6.7MB/s eta 0:00:01\r\u001b[K     |██████████████████████▉         | 942kB 6.7MB/s eta 0:00:01\r\u001b[K     |███████████████████████         | 952kB 6.7MB/s eta 0:00:01\r\u001b[K     |███████████████████████▎        | 962kB 6.7MB/s eta 0:00:01\r\u001b[K     |███████████████████████▌        | 972kB 6.7MB/s eta 0:00:01\r\u001b[K     |███████████████████████▉        | 983kB 6.7MB/s eta 0:00:01\r\u001b[K     |████████████████████████        | 993kB 6.7MB/s eta 0:00:01\r\u001b[K     |████████████████████████▎       | 1.0MB 6.7MB/s eta 0:00:01\r\u001b[K     |████████████████████████▌       | 1.0MB 6.7MB/s eta 0:00:01\r\u001b[K     |████████████████████████▊       | 1.0MB 6.7MB/s eta 0:00:01\r\u001b[K     |█████████████████████████       | 1.0MB 6.7MB/s eta 0:00:01\r\u001b[K     |█████████████████████████▎      | 1.0MB 6.7MB/s eta 0:00:01\r\u001b[K     |█████████████████████████▌      | 1.1MB 6.7MB/s eta 0:00:01\r\u001b[K     |█████████████████████████▊      | 1.1MB 6.7MB/s eta 0:00:01\r\u001b[K     |██████████████████████████      | 1.1MB 6.7MB/s eta 0:00:01\r\u001b[K     |██████████████████████████▎     | 1.1MB 6.7MB/s eta 0:00:01\r\u001b[K     |██████████████████████████▌     | 1.1MB 6.7MB/s eta 0:00:01\r\u001b[K     |██████████████████████████▊     | 1.1MB 6.7MB/s eta 0:00:01\r\u001b[K     |███████████████████████████     | 1.1MB 6.7MB/s eta 0:00:01\r\u001b[K     |███████████████████████████▎    | 1.1MB 6.7MB/s eta 0:00:01\r\u001b[K     |███████████████████████████▌    | 1.1MB 6.7MB/s eta 0:00:01\r\u001b[K     |███████████████████████████▊    | 1.1MB 6.7MB/s eta 0:00:01\r\u001b[K     |████████████████████████████    | 1.2MB 6.7MB/s eta 0:00:01\r\u001b[K     |████████████████████████████▎   | 1.2MB 6.7MB/s eta 0:00:01\r\u001b[K     |████████████████████████████▌   | 1.2MB 6.7MB/s eta 0:00:01\r\u001b[K     |████████████████████████████▊   | 1.2MB 6.7MB/s eta 0:00:01\r\u001b[K     |█████████████████████████████   | 1.2MB 6.7MB/s eta 0:00:01\r\u001b[K     |█████████████████████████████▎  | 1.2MB 6.7MB/s eta 0:00:01\r\u001b[K     |█████████████████████████████▌  | 1.2MB 6.7MB/s eta 0:00:01\r\u001b[K     |█████████████████████████████▊  | 1.2MB 6.7MB/s eta 0:00:01\r\u001b[K     |██████████████████████████████  | 1.2MB 6.7MB/s eta 0:00:01\r\u001b[K     |██████████████████████████████▎ | 1.2MB 6.7MB/s eta 0:00:01\r\u001b[K     |██████████████████████████████▌ | 1.3MB 6.7MB/s eta 0:00:01\r\u001b[K     |██████████████████████████████▊ | 1.3MB 6.7MB/s eta 0:00:01\r\u001b[K     |███████████████████████████████ | 1.3MB 6.7MB/s eta 0:00:01\r\u001b[K     |███████████████████████████████▏| 1.3MB 6.7MB/s eta 0:00:01\r\u001b[K     |███████████████████████████████▌| 1.3MB 6.7MB/s eta 0:00:01\r\u001b[K     |███████████████████████████████▊| 1.3MB 6.7MB/s eta 0:00:01\r\u001b[K     |████████████████████████████████| 1.3MB 6.7MB/s eta 0:00:01\r\u001b[K     |████████████████████████████████| 1.3MB 6.7MB/s \n",
            "\u001b[?25hInstalling collected packages: Box2D\n",
            "Successfully installed Box2D-2.3.10\n"
          ],
          "name": "stdout"
        }
      ]
    },
    {
      "cell_type": "code",
      "metadata": {
        "id": "MdjD4wrUTXUj"
      },
      "source": [
        "env = gym.make(\"LunarLander-v2\")"
      ],
      "execution_count": null,
      "outputs": []
    },
    {
      "cell_type": "code",
      "metadata": {
        "colab": {
          "base_uri": "https://localhost:8080/"
        },
        "id": "ipb34CDbUiJB",
        "outputId": "be62b7a4-244f-4437-80ac-dc8890add039"
      },
      "source": [
        "env.observation_space.shape"
      ],
      "execution_count": null,
      "outputs": [
        {
          "output_type": "execute_result",
          "data": {
            "text/plain": [
              "(8,)"
            ]
          },
          "metadata": {
            "tags": []
          },
          "execution_count": 9
        }
      ]
    },
    {
      "cell_type": "code",
      "metadata": {
        "id": "upxUblKmZTqn"
      },
      "source": [
        "import gym, os\n",
        "from itertools import count\n",
        "import torch\n",
        "import torch.nn as nn\n",
        "import torch.optim as optim\n",
        "import torch.nn.functional as F\n",
        "from torch.distributions import Categorical\n",
        "\n",
        "\n",
        "\n",
        "lr = 0.01\n",
        "\n",
        "class Actor(nn.Module):\n",
        "    def __init__(self,):\n",
        "        super(Actor, self).__init__()\n",
        "        self.linear1 = nn.Linear(8, 128)\n",
        "        self.linear2 = nn.Linear(128, 256)\n",
        "        self.linear3 = nn.Linear(256, 4)\n",
        "\n",
        "    def forward(self, state):\n",
        "        output = F.relu(self.linear1(state))\n",
        "        output = F.relu(self.linear2(output))\n",
        "        output = self.linear3(output)\n",
        "        distribution = Categorical(F.softmax(output, dim=-1))\n",
        "        return distribution\n",
        "\n",
        "\n",
        "class Critic(nn.Module):\n",
        "    def __init__(self,):\n",
        "        super(Critic, self).__init__()\n",
        "        self.linear1 = nn.Linear(8, 128)\n",
        "        self.linear2 = nn.Linear(128, 256)\n",
        "        self.linear3 = nn.Linear(256, 1)\n",
        "\n",
        "    def forward(self, state):\n",
        "        output = F.relu(self.linear1(state))\n",
        "        output = F.relu(self.linear2(output))\n",
        "        value = self.linear3(output)\n",
        "        return value\n",
        "\n",
        "\n",
        "def compute_returns(next_value, rewards, masks, gamma=0.99):\n",
        "    R = next_value\n",
        "    returns = []\n",
        "    for step in reversed(range(len(rewards))):\n",
        "        R = rewards[step] + gamma * R * masks[step]\n",
        "        returns.insert(0, R)\n",
        "    return returns"
      ],
      "execution_count": null,
      "outputs": []
    },
    {
      "cell_type": "code",
      "metadata": {
        "colab": {
          "base_uri": "https://localhost:8080/",
          "height": 312
        },
        "id": "OY1JbWejZaq-",
        "outputId": "bea9c835-0528-4e9d-ddc8-8c738b83f44e"
      },
      "source": [
        "actor=Actor()\n",
        "critic=Critic()\n",
        "returnplot=[]\n",
        "n_iters=1000\n",
        "optimizerA = optim.Adam(actor.parameters())\n",
        "optimizerC = optim.Adam(critic.parameters())\n",
        "\n",
        "#agent=A2CAgent(env)\n",
        "for iter in range(n_iters):\n",
        "    state= env.reset()\n",
        "    cumulativereward=0\n",
        "    state= torch.FloatTensor(state)\n",
        "    log_probs = []\n",
        "    values = []\n",
        "    rewards = []\n",
        "    masks = []\n",
        "    entropy = 0\n",
        "    for i in count():\n",
        "        state= torch.FloatTensor(state)\n",
        "        #print(state)\n",
        "        dist, value = actor(state), critic(state)\n",
        "        action = dist.sample()\n",
        "        next_state, reward, done, _ = env.step(action.numpy())\n",
        "\n",
        "        log_prob = dist.log_prob(action).unsqueeze(0)\n",
        "        entropy += dist.entropy().mean()\n",
        "\n",
        "        log_probs.append(log_prob)\n",
        "        values.append(value)\n",
        "        cumulativereward+=reward\n",
        "        rewards.append(torch.tensor([reward], dtype=torch.float))\n",
        "        masks.append(torch.tensor([1-done], dtype=torch.float))\n",
        "\n",
        "        state = next_state\n",
        "        if done:\n",
        "            break\n",
        "\n",
        "\n",
        "    next_state = torch.FloatTensor(next_state)\n",
        "    next_value = critic(next_state)\n",
        "    returns = compute_returns(next_value, rewards, masks)\n",
        "    returnplot.append(cumulativereward)\n",
        "    log_probs = torch.cat(log_probs)\n",
        "    returns = torch.cat(returns).detach()\n",
        "    #print(returns)\n",
        "    values = torch.cat(values)\n",
        "\n",
        "    advantage = returns - values\n",
        "\n",
        "    actor_loss = -(log_probs * advantage.detach()).mean()\n",
        "    critic_loss = advantage.pow(2).mean()\n",
        "\n",
        "    optimizerA.zero_grad()\n",
        "    optimizerC.zero_grad()\n",
        "    actor_loss.backward()\n",
        "    critic_loss.backward()\n",
        "    optimizerA.step()\n",
        "    optimizerC.step()\n",
        "env.close()\n",
        "plt.plot(returnplot)\n",
        "plt.title('reward')\n",
        "plt.xlabel('episode')\n",
        "plt.ylabel('reward')\n",
        "plt.show  \n",
        "#env.monitor.close()"
      ],
      "execution_count": null,
      "outputs": [
        {
          "output_type": "execute_result",
          "data": {
            "text/plain": [
              "<function matplotlib.pyplot.show>"
            ]
          },
          "metadata": {
            "tags": []
          },
          "execution_count": 11
        },
        {
          "output_type": "display_data",
          "data": {
            "image/png": "[encoded data removed]",
            "text/plain": [
              "<Figure size 432x288 with 1 Axes>"
            ]
          },
          "metadata": {
            "tags": [],
            "needs_background": "light"
          }
        }
      ]
    },
    {
      "cell_type": "markdown",
      "metadata": {
        "id": "96h0FBPMpXc6"
      },
      "source": [
        "# Acrobot"
      ]
    },
    {
      "cell_type": "code",
      "metadata": {
        "id": "RsMoOe3adSn3"
      },
      "source": [
        "env = gym.make(\"Acrobot-v1\")"
      ],
      "execution_count": null,
      "outputs": []
    },
    {
      "cell_type": "code",
      "metadata": {
        "colab": {
          "base_uri": "https://localhost:8080/"
        },
        "id": "ubLMrgeqzFO1",
        "outputId": "9ebf3063-3c2f-4d10-ef90-17425e075b86"
      },
      "source": [
        "env.observation_space.sample()"
      ],
      "execution_count": null,
      "outputs": [
        {
          "output_type": "execute_result",
          "data": {
            "text/plain": [
              "array([  0.3979476,   0.9814587,   0.877324 ,  -0.2302985,  -5.8014946,\n",
              "       -20.164982 ], dtype=float32)"
            ]
          },
          "metadata": {
            "tags": []
          },
          "execution_count": 18
        }
      ]
    },
    {
      "cell_type": "code",
      "metadata": {
        "id": "nCD3I4v7zfi9"
      },
      "source": [
        "import gym, os\n",
        "from itertools import count\n",
        "import torch\n",
        "import torch.nn as nn\n",
        "import torch.optim as optim\n",
        "import torch.nn.functional as F\n",
        "from torch.distributions import Categorical\n",
        "\n",
        "\n",
        "\n",
        "lr = 0.01\n",
        "\n",
        "class Actor(nn.Module):\n",
        "    def __init__(self,):\n",
        "        super(Actor, self).__init__()\n",
        "        self.linear1 = nn.Linear(6, 128)\n",
        "        self.linear2 = nn.Linear(128, 256)\n",
        "        self.linear3 = nn.Linear(256, 3)\n",
        "\n",
        "    def forward(self, state):\n",
        "        output = F.relu(self.linear1(state))\n",
        "        output = F.relu(self.linear2(output))\n",
        "        output = self.linear3(output)\n",
        "        distribution = Categorical(F.softmax(output, dim=-1))\n",
        "        return distribution\n",
        "\n",
        "\n",
        "class Critic(nn.Module):\n",
        "    def __init__(self,):\n",
        "        super(Critic, self).__init__()\n",
        "        self.linear1 = nn.Linear(6, 128)\n",
        "        self.linear2 = nn.Linear(128, 256)\n",
        "        self.linear3 = nn.Linear(256, 1)\n",
        "\n",
        "    def forward(self, state):\n",
        "        output = F.relu(self.linear1(state))\n",
        "        output = F.relu(self.linear2(output))\n",
        "        value = self.linear3(output)\n",
        "        return value\n",
        "\n",
        "\n",
        "def compute_returns(next_value, rewards, masks, gamma=0.99):\n",
        "    R = next_value\n",
        "    returns = []\n",
        "    for step in reversed(range(len(rewards))):\n",
        "        R = rewards[step] + gamma * R * masks[step]\n",
        "        returns.insert(0, R)\n",
        "    return returns"
      ],
      "execution_count": null,
      "outputs": []
    },
    {
      "cell_type": "code",
      "metadata": {
        "id": "U1OTutcTzn03",
        "colab": {
          "base_uri": "https://localhost:8080/",
          "height": 312
        },
        "outputId": "6d023e76-f52a-41e8-c879-91c50e6f8488"
      },
      "source": [
        "actor=Actor()\n",
        "critic=Critic()\n",
        "returnplot=[]\n",
        "n_iters=1000\n",
        "optimizerA = optim.Adam(actor.parameters())\n",
        "optimizerC = optim.Adam(critic.parameters())\n",
        "\n",
        "#agent=A2CAgent(env)\n",
        "for iter in range(n_iters):\n",
        "    state= env.reset()\n",
        "    cumulativereward=0\n",
        "    state= torch.FloatTensor(state)\n",
        "    log_probs = []\n",
        "    values = []\n",
        "    rewards = []\n",
        "    masks = []\n",
        "    entropy = 0\n",
        "    for i in count():\n",
        "        state= torch.FloatTensor(state)\n",
        "        dist, value = actor(state), critic(state)\n",
        "        action = dist.sample()\n",
        "        next_state, reward, done, _ = env.step(action.numpy())\n",
        "\n",
        "        log_prob = dist.log_prob(action).unsqueeze(0)\n",
        "        entropy += dist.entropy().mean()\n",
        "\n",
        "        log_probs.append(log_prob)\n",
        "        values.append(value)\n",
        "        cumulativereward+=reward\n",
        "        rewards.append(torch.tensor([reward], dtype=torch.float))\n",
        "        masks.append(torch.tensor([1-done], dtype=torch.float))\n",
        "\n",
        "        state = next_state\n",
        "\n",
        "        if done:\n",
        "            break\n",
        "\n",
        "\n",
        "    next_state = torch.FloatTensor(next_state)\n",
        "    next_value = critic(next_state)\n",
        "    returns = compute_returns(next_value, rewards, masks)\n",
        "    returnplot.append(cumulativereward)\n",
        "    log_probs = torch.cat(log_probs)\n",
        "    returns = torch.cat(returns).detach()\n",
        "    #print(returns)\n",
        "    values = torch.cat(values)\n",
        "\n",
        "    advantage = returns - values\n",
        "\n",
        "    actor_loss = -(log_probs * advantage.detach()).mean()\n",
        "    critic_loss = advantage.pow(2).mean()\n",
        "\n",
        "    optimizerA.zero_grad()\n",
        "    optimizerC.zero_grad()\n",
        "    actor_loss.backward()\n",
        "    critic_loss.backward()\n",
        "    optimizerA.step()\n",
        "    optimizerC.step()\n",
        "env.close()\n",
        "plt.plot(returnplot)\n",
        "plt.title('reward')\n",
        "plt.xlabel('episode')\n",
        "plt.ylabel('reward')\n",
        "plt.show  \n",
        "#env.monitor.close()"
      ],
      "execution_count": null,
      "outputs": [
        {
          "output_type": "execute_result",
          "data": {
            "text/plain": [
              "<function matplotlib.pyplot.show>"
            ]
          },
          "metadata": {
            "tags": []
          },
          "execution_count": 20
        },
        {
          "output_type": "display_data",
          "data": {
            "image/png": "[encoded data removed]",
            "text/plain": [
              "<Figure size 432x288 with 1 Axes>"
            ]
          },
          "metadata": {
            "tags": [],
            "needs_background": "light"
          }
        }
      ]
    },
    {
      "cell_type": "code",
      "metadata": {
        "id": "boGnBGxhzs2p"
      },
      "source": [
        ""
      ],
      "execution_count": null,
      "outputs": []
    }
  ]
}