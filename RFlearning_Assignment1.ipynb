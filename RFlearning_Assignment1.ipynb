{
  "nbformat": 4,
  "nbformat_minor": 0,
  "metadata": {
    "colab": {
      "name": "RFlearning_Assignment1.ipynb",
      "provenance": [],
      "collapsed_sections": [],
      "authorship_tag": "ABX9TyMO+xIM85o9aBTxhMW3wDbM",
      "include_colab_link": true
    },
    "kernelspec": {
      "name": "python3",
      "display_name": "Python 3"
    }
  },
  "cells": [
    {
      "cell_type": "markdown",
      "metadata": {
        "id": "view-in-github",
        "colab_type": "text"
      },
      "source": [
        "<a href=\"https://colab.research.google.com/github/parthrjpt/EAS546_Projects/blob/DEV/RFlearning_Assignment1.ipynb\" target=\"_parent\"><img src=\"https://colab.research.google.com/assets/colab-badge.svg\" alt=\"Open In Colab\"/></a>"
      ]
    },
    {
      "cell_type": "code",
      "metadata": {
        "id": "GKbDuhwswxao",
        "colab": {
          "base_uri": "https://localhost:8080/"
        },
        "outputId": "cc37e05f-43cb-40e0-c984-f7ed0054cf20"
      },
      "source": [
        "!pip install gym"
      ],
      "execution_count": null,
      "outputs": [
        {
          "output_type": "stream",
          "text": [
            "Requirement already satisfied: gym in /usr/local/lib/python3.7/dist-packages (0.17.3)\n",
            "Requirement already satisfied: pyglet<=1.5.0,>=1.4.0 in /usr/local/lib/python3.7/dist-packages (from gym) (1.5.0)\n",
            "Requirement already satisfied: numpy>=1.10.4 in /usr/local/lib/python3.7/dist-packages (from gym) (1.19.5)\n",
            "Requirement already satisfied: cloudpickle<1.7.0,>=1.2.0 in /usr/local/lib/python3.7/dist-packages (from gym) (1.3.0)\n",
            "Requirement already satisfied: scipy in /usr/local/lib/python3.7/dist-packages (from gym) (1.4.1)\n",
            "Requirement already satisfied: future in /usr/local/lib/python3.7/dist-packages (from pyglet<=1.5.0,>=1.4.0->gym) (0.16.0)\n"
          ],
          "name": "stdout"
        }
      ]
    },
    {
      "cell_type": "code",
      "metadata": {
        "id": "7Mp-A-v4wNGf"
      },
      "source": [
        "import numpy as np\r\n",
        "import matplotlib.pyplot as plt\r\n",
        "import gym\r\n",
        "from gym import spaces"
      ],
      "execution_count": null,
      "outputs": []
    },
    {
      "cell_type": "markdown",
      "metadata": {
        "id": "mALR4E027dk1"
      },
      "source": [
        "### RL Environment"
      ]
    },
    {
      "cell_type": "code",
      "metadata": {
        "colab": {
          "base_uri": "https://localhost:8080/"
        },
        "id": "njYaUnaIwU1k",
        "outputId": "e2ca817e-158b-43ae-fed2-82d19f0f6412"
      },
      "source": [
        "grid = np.zeros((5,4))\r\n",
        "\r\n",
        "pos1 = [0, 0] #start\r\n",
        "pos2 = [4,3] #finish\r\n",
        "\r\n",
        "#non-permitted blocks\r\n",
        "pos3 = [2, 0]\r\n",
        "pos4 = [3, 0]\r\n",
        "pos5 = [1,2]\r\n",
        "pos6 = [3,2]\r\n",
        "\r\n",
        "pos7 = [4,0] #key \r\n",
        "pos8 = [4,2] #diamond with locked door \r\n",
        "pos9 = [2,2] #fire with locked door\r\n",
        "\r\n",
        "pos10 =[0,2] #locked door no reward\r\n",
        "\r\n",
        "grid[tuple(pos1)] = 1\r\n",
        "grid[tuple(pos2)] = 0.5\r\n",
        "\r\n",
        "grid[tuple(pos7)]= 0.2\r\n",
        "grid[tuple(pos8)]= 0.4\r\n",
        "grid[tuple(pos9)]= 0.8\r\n",
        "grid[tuple(pos10)]= 0.7\r\n",
        "\r\n",
        "grid[tuple(pos3)] = 0.3\r\n",
        "grid[tuple(pos4)] = 0.3\r\n",
        "grid[tuple(pos5)] = 0.3\r\n",
        "grid[tuple(pos6)] = 0.3\r\n",
        "\r\n",
        "print(grid)"
      ],
      "execution_count": null,
      "outputs": [
        {
          "output_type": "stream",
          "text": [
            "[[1.  0.  0.7 0. ]\n",
            " [0.  0.  0.3 0. ]\n",
            " [0.3 0.  0.8 0. ]\n",
            " [0.3 0.  0.3 0. ]\n",
            " [0.2 0.  0.4 0.5]]\n"
          ],
          "name": "stdout"
        }
      ]
    },
    {
      "cell_type": "code",
      "metadata": {
        "colab": {
          "base_uri": "https://localhost:8080/",
          "height": 282
        },
        "id": "OiRuopUAweyS",
        "outputId": "83008476-ffa5-48fc-ff43-ef583a0b8150"
      },
      "source": [
        "plt.imshow(grid)"
      ],
      "execution_count": null,
      "outputs": [
        {
          "output_type": "execute_result",
          "data": {
            "text/plain": [
              "<matplotlib.image.AxesImage at 0x7fefa8691f90>"
            ]
          },
          "metadata": {
            "tags": []
          },
          "execution_count": 97
        },
        {
          "output_type": "display_data",
          "data": {
            "image/png": "[encoded data removed]",
            "text/plain": [
              "<Figure size 432x288 with 1 Axes>"
            ]
          },
          "metadata": {
            "tags": [],
            "needs_background": "light"
          }
        }
      ]
    },
    {
      "cell_type": "markdown",
      "metadata": {
        "id": "jb5DO6mT7qCU"
      },
      "source": [
        "## Environment Initialization and definition"
      ]
    },
    {
      "cell_type": "code",
      "metadata": {
        "id": "xRJpY7jX3tyT"
      },
      "source": [
        "class GridEnvironment(gym.Env):\r\n",
        "    metadata = { 'render.modes': [] }\r\n",
        "    \r\n",
        "    def __init__(self):\r\n",
        "        self.observation_space = spaces.Discrete(9)\r\n",
        "        self.action_space = spaces.Discrete(4)\r\n",
        "        self.max_timesteps = 5\r\n",
        "        \r\n",
        "    def reset(self):\r\n",
        "        self.timestep = 0\r\n",
        "        self.agent_pos = [0, 0]\r\n",
        "        self.agent_haskey=0\r\n",
        "        self.goal_pos = [4, 3]\r\n",
        "        self.blocked_pos =[[2,0],[3,0],[1,2],[3,2]]\r\n",
        "        self.simple_door=[0,2]\r\n",
        "        self.key_pos = [4,0]\r\n",
        "        self.reward_pos = [4,2]\r\n",
        "        self.penalty_pos = [2,2]\r\n",
        "        self.state = np.zeros((5,4))\r\n",
        "        self.state[tuple(self.agent_pos)] = 1\r\n",
        "        self.state[tuple(self.goal_pos)] = 0.5\r\n",
        "        \r\n",
        "        self.state[tuple(self.key_pos)]= 0.2\r\n",
        "        self.state[tuple(self.reward_pos)]= 0.4\r\n",
        "        self.state[tuple(self.penalty_pos)]= 0.8\r\n",
        "        self.state[tuple(self.simple_door)]=0.7\r\n",
        "        self.state[tuple(self.blocked_pos[0])] = 0.3\r\n",
        "        self.state[tuple(self.blocked_pos[1])] = 0.3\r\n",
        "        self.state[tuple(self.blocked_pos[2])] = 0.3\r\n",
        "        self.state[tuple(self.blocked_pos[3])] = 0.3\r\n",
        "\r\n",
        "        observation = self.agent_pos\r\n",
        "        return observation\r\n",
        "    \r\n",
        "    def step(self, action):\r\n",
        "        if action == 0:\r\n",
        "          self.agent_pos[0] += 1\r\n",
        "        if action == 1:\r\n",
        "          self.agent_pos[0] -= 1\r\n",
        "        if action == 2:\r\n",
        "          self.agent_pos[1] += 1\r\n",
        "        if action == 3:\r\n",
        "          self.agent_pos[1] -= 1\r\n",
        "          \r\n",
        "        self.agent_pos = np.clip(self.agent_pos, 0, 2)\r\n",
        "        self.state = np.zeros((5,4))\r\n",
        "        self.state[tuple(self.agent_pos)] = 1\r\n",
        "        self.state[tuple(self.goal_pos)] = 0.5\r\n",
        "        \r\n",
        "        self.state[tuple(self.key_pos)]= 0.2\r\n",
        "        self.state[tuple(self.reward_pos)]= 0.4\r\n",
        "        self.state[tuple(self.penalty_pos)]= 0.8\r\n",
        "\r\n",
        "        self.state[tuple(self.blocked_pos[0])] = 0.3\r\n",
        "        self.state[tuple(self.blocked_pos[1])] = 0.3\r\n",
        "        self.state[tuple(self.blocked_pos[2])] = 0.3\r\n",
        "        self.state[tuple(self.blocked_pos[3])] = 0.3\r\n",
        "        \r\n",
        "        observation = self.agent_pos\r\n",
        "        \r\n",
        "        reward = 0\r\n",
        "        if (self.agent_pos == self.goal_pos).all():\r\n",
        "          reward = 10\r\n",
        "        if (self.agent_pos == self.reward_pos).all() and (self.agent_haskey==1):\r\n",
        "          reward = 3\r\n",
        "        else:\r\n",
        "          self.agent_pos=[4,1]\r\n",
        "          reward = -2\r\n",
        "        if (self.agent_pos == self.penalty_pos) and (self.agent_haskey==1):\r\n",
        "          reward = -3\r\n",
        "        else:\r\n",
        "          self.agent_pos=[2,1]\r\n",
        "          reward = -2\r\n",
        "        if (self.agent_pos == self.key_pos) and (self.agent_haskey==0):\r\n",
        "          reward = 1\r\n",
        "          self.agent_haskey= 1\r\n",
        "        if (self.agent_pos == self.simple_door) and (self.agent_haskey==0):\r\n",
        "          self.agent_pos=[0,1]\r\n",
        "          reward = -2  \r\n",
        "          \r\n",
        "\r\n",
        "        self.timestep += 1\r\n",
        "        done = True if (self.timestep >= self.max_timesteps) or (self.agent_pos == self.goal_pos) else False\r\n",
        "        info = {}\r\n",
        "        \r\n",
        "        return observation, reward, done, info\r\n",
        "        \r\n",
        "    def render(self):\r\n",
        "        plt.imshow(self.state)"
      ],
      "execution_count": null,
      "outputs": []
    },
    {
      "cell_type": "markdown",
      "metadata": {
        "id": "ROUA6Z-WVkaZ"
      },
      "source": [
        "## Testing the Environment"
      ]
    },
    {
      "cell_type": "code",
      "metadata": {
        "colab": {
          "base_uri": "https://localhost:8080/",
          "height": 265
        },
        "id": "gqARItt73yPk",
        "outputId": "10419f3d-e2ad-414d-a886-87b2908817c5"
      },
      "source": [
        "env = GridEnvironment()\r\n",
        "obs = env.reset()\r\n",
        "env.render()"
      ],
      "execution_count": null,
      "outputs": [
        {
          "output_type": "display_data",
          "data": {
            "image/png": "[encoded data removed]",
            "text/plain": [
              "<Figure size 432x288 with 1 Axes>"
            ]
          },
          "metadata": {
            "tags": [],
            "needs_background": "light"
          }
        }
      ]
    },
    {
      "cell_type": "code",
      "metadata": {
        "colab": {
          "base_uri": "https://localhost:8080/",
          "height": 268
        },
        "id": "WP7aiQdv31vI",
        "outputId": "1eed8c00-eb76-4b2d-d430-883eee37f456"
      },
      "source": [
        "from google.colab import widgets\r\n",
        "import time\r\n",
        "\r\n",
        "output_grid = widgets.Grid(1, 1)\r\n",
        "for _ in range(5):\r\n",
        "  grid = np.zeros((5, 4))\r\n",
        "  grid[np.random.randint(5), np.random.randint(4)] = 1\r\n",
        "  with output_grid.output_to(0, 0):\r\n",
        "    output_grid.clear_cell()\r\n",
        "    plt.imshow(grid)\r\n",
        "  time.sleep(1)"
      ],
      "execution_count": null,
      "outputs": [
        {
          "output_type": "display_data",
          "data": {
            "text/html": [
              "<style>\n",
              "       table#id30, #id30 > tbody > tr > th, #id30 > tbody > tr > td {\n",
              "         border: 1px solid lightgray;\n",
              "         border-collapse:collapse;\n",
              "         \n",
              "        }</style>"
            ],
            "text/plain": [
              "<IPython.core.display.HTML object>"
            ]
          },
          "metadata": {
            "tags": [
              "outputarea_id30"
            ]
          }
        },
        {
          "output_type": "display_data",
          "data": {
            "text/html": [
              "<table id=id30><tr><td id=id30-0-0></td></tr></table>"
            ],
            "text/plain": [
              "<IPython.core.display.HTML object>"
            ]
          },
          "metadata": {
            "tags": [
              "outputarea_id30"
            ]
          }
        },
        {
          "output_type": "display_data",
          "data": {
            "application/javascript": [
              "window[\"cce733e4-77bf-11eb-82e4-0242ac1c0002\"] = google.colab.output.getActiveOutputArea();\n",
              "//# sourceURL=js_fe48223732"
            ],
            "text/plain": [
              "<IPython.core.display.Javascript object>"
            ]
          },
          "metadata": {
            "tags": [
              "id30-0-0",
              "outputarea_id30"
            ]
          }
        },
        {
          "output_type": "display_data",
          "data": {
            "application/javascript": [
              "window[\"cce7a860-77bf-11eb-82e4-0242ac1c0002\"] = document.querySelector(\"#id30-0-0\");\n",
              "//# sourceURL=js_ab9f676d39"
            ],
            "text/plain": [
              "<IPython.core.display.Javascript object>"
            ]
          },
          "metadata": {
            "tags": [
              "id30-0-0",
              "outputarea_id30"
            ]
          }
        },
        {
          "output_type": "display_data",
          "data": {
            "application/javascript": [
              "window[\"cce8178c-77bf-11eb-82e4-0242ac1c0002\"] = google.colab.output.setActiveOutputArea(window[\"cce7a860-77bf-11eb-82e4-0242ac1c0002\"]);\n",
              "//# sourceURL=js_ed290af817"
            ],
            "text/plain": [
              "<IPython.core.display.Javascript object>"
            ]
          },
          "metadata": {
            "tags": [
              "id30-0-0",
              "outputarea_id30"
            ]
          }
        },
        {
          "output_type": "display_data",
          "data": {
            "application/javascript": [
              "window[\"cd0117b4-77bf-11eb-82e4-0242ac1c0002\"] = google.colab.output.setActiveOutputArea(window[\"cce733e4-77bf-11eb-82e4-0242ac1c0002\"]);\n",
              "//# sourceURL=js_dcc08fcd70"
            ],
            "text/plain": [
              "<IPython.core.display.Javascript object>"
            ]
          },
          "metadata": {
            "tags": [
              "id30-0-0",
              "outputarea_id30"
            ]
          }
        },
        {
          "output_type": "display_data",
          "data": {
            "application/javascript": [
              "window[\"cd9b99c4-77bf-11eb-82e4-0242ac1c0002\"] = google.colab.output.getActiveOutputArea();\n",
              "//# sourceURL=js_f3e4f9ab1f"
            ],
            "text/plain": [
              "<IPython.core.display.Javascript object>"
            ]
          },
          "metadata": {
            "tags": [
              "id30-0-0",
              "outputarea_id30"
            ]
          }
        },
        {
          "output_type": "display_data",
          "data": {
            "application/javascript": [
              "window[\"cd9c2150-77bf-11eb-82e4-0242ac1c0002\"] = document.querySelector(\"#id30-0-0\");\n",
              "//# sourceURL=js_c961d85b30"
            ],
            "text/plain": [
              "<IPython.core.display.Javascript object>"
            ]
          },
          "metadata": {
            "tags": [
              "id30-0-0",
              "outputarea_id30"
            ]
          }
        },
        {
          "output_type": "display_data",
          "data": {
            "application/javascript": [
              "window[\"cd9c8b22-77bf-11eb-82e4-0242ac1c0002\"] = google.colab.output.setActiveOutputArea(window[\"cd9c2150-77bf-11eb-82e4-0242ac1c0002\"]);\n",
              "//# sourceURL=js_8160bd39d6"
            ],
            "text/plain": [
              "<IPython.core.display.Javascript object>"
            ]
          },
          "metadata": {
            "tags": [
              "id30-0-0",
              "outputarea_id30"
            ]
          }
        },
        {
          "output_type": "display_data",
          "data": {
            "application/javascript": [
              "window[\"cdb83156-77bf-11eb-82e4-0242ac1c0002\"] = google.colab.output.setActiveOutputArea(window[\"cd9b99c4-77bf-11eb-82e4-0242ac1c0002\"]);\n",
              "//# sourceURL=js_238e7f2b36"
            ],
            "text/plain": [
              "<IPython.core.display.Javascript object>"
            ]
          },
          "metadata": {
            "tags": [
              "id30-0-0",
              "outputarea_id30"
            ]
          }
        },
        {
          "output_type": "display_data",
          "data": {
            "application/javascript": [
              "window[\"ce526c8a-77bf-11eb-82e4-0242ac1c0002\"] = google.colab.output.getActiveOutputArea();\n",
              "//# sourceURL=js_b8a29ae477"
            ],
            "text/plain": [
              "<IPython.core.display.Javascript object>"
            ]
          },
          "metadata": {
            "tags": [
              "id30-0-0",
              "outputarea_id30"
            ]
          }
        },
        {
          "output_type": "display_data",
          "data": {
            "application/javascript": [
              "window[\"ce52a646-77bf-11eb-82e4-0242ac1c0002\"] = document.querySelector(\"#id30-0-0\");\n",
              "//# sourceURL=js_68e77033f7"
            ],
            "text/plain": [
              "<IPython.core.display.Javascript object>"
            ]
          },
          "metadata": {
            "tags": [
              "id30-0-0",
              "outputarea_id30"
            ]
          }
        },
        {
          "output_type": "display_data",
          "data": {
            "application/javascript": [
              "window[\"ce52fda8-77bf-11eb-82e4-0242ac1c0002\"] = google.colab.output.setActiveOutputArea(window[\"ce52a646-77bf-11eb-82e4-0242ac1c0002\"]);\n",
              "//# sourceURL=js_17fd7ba620"
            ],
            "text/plain": [
              "<IPython.core.display.Javascript object>"
            ]
          },
          "metadata": {
            "tags": [
              "id30-0-0",
              "outputarea_id30"
            ]
          }
        },
        {
          "output_type": "display_data",
          "data": {
            "application/javascript": [
              "window[\"ce6c14dc-77bf-11eb-82e4-0242ac1c0002\"] = google.colab.output.setActiveOutputArea(window[\"ce526c8a-77bf-11eb-82e4-0242ac1c0002\"]);\n",
              "//# sourceURL=js_ab71d1345e"
            ],
            "text/plain": [
              "<IPython.core.display.Javascript object>"
            ]
          },
          "metadata": {
            "tags": [
              "id30-0-0",
              "outputarea_id30"
            ]
          }
        },
        {
          "output_type": "display_data",
          "data": {
            "application/javascript": [
              "window[\"cf06470a-77bf-11eb-82e4-0242ac1c0002\"] = google.colab.output.getActiveOutputArea();\n",
              "//# sourceURL=js_07a7c49d32"
            ],
            "text/plain": [
              "<IPython.core.display.Javascript object>"
            ]
          },
          "metadata": {
            "tags": [
              "id30-0-0",
              "outputarea_id30"
            ]
          }
        },
        {
          "output_type": "display_data",
          "data": {
            "application/javascript": [
              "window[\"cf0683c8-77bf-11eb-82e4-0242ac1c0002\"] = document.querySelector(\"#id30-0-0\");\n",
              "//# sourceURL=js_4b9c4838a1"
            ],
            "text/plain": [
              "<IPython.core.display.Javascript object>"
            ]
          },
          "metadata": {
            "tags": [
              "id30-0-0",
              "outputarea_id30"
            ]
          }
        },
        {
          "output_type": "display_data",
          "data": {
            "application/javascript": [
              "window[\"cf06b758-77bf-11eb-82e4-0242ac1c0002\"] = google.colab.output.setActiveOutputArea(window[\"cf0683c8-77bf-11eb-82e4-0242ac1c0002\"]);\n",
              "//# sourceURL=js_1fe7ec3232"
            ],
            "text/plain": [
              "<IPython.core.display.Javascript object>"
            ]
          },
          "metadata": {
            "tags": [
              "id30-0-0",
              "outputarea_id30"
            ]
          }
        },
        {
          "output_type": "display_data",
          "data": {
            "application/javascript": [
              "window[\"cf21b6b6-77bf-11eb-82e4-0242ac1c0002\"] = google.colab.output.setActiveOutputArea(window[\"cf06470a-77bf-11eb-82e4-0242ac1c0002\"]);\n",
              "//# sourceURL=js_5b232e4ff5"
            ],
            "text/plain": [
              "<IPython.core.display.Javascript object>"
            ]
          },
          "metadata": {
            "tags": [
              "id30-0-0",
              "outputarea_id30"
            ]
          }
        },
        {
          "output_type": "display_data",
          "data": {
            "application/javascript": [
              "window[\"cfbbe182-77bf-11eb-82e4-0242ac1c0002\"] = google.colab.output.getActiveOutputArea();\n",
              "//# sourceURL=js_291bf112a4"
            ],
            "text/plain": [
              "<IPython.core.display.Javascript object>"
            ]
          },
          "metadata": {
            "tags": [
              "id30-0-0",
              "outputarea_id30"
            ]
          }
        },
        {
          "output_type": "display_data",
          "data": {
            "application/javascript": [
              "window[\"cfbc28ea-77bf-11eb-82e4-0242ac1c0002\"] = document.querySelector(\"#id30-0-0\");\n",
              "//# sourceURL=js_29efb67da9"
            ],
            "text/plain": [
              "<IPython.core.display.Javascript object>"
            ]
          },
          "metadata": {
            "tags": [
              "id30-0-0",
              "outputarea_id30"
            ]
          }
        },
        {
          "output_type": "display_data",
          "data": {
            "application/javascript": [
              "window[\"cfbca996-77bf-11eb-82e4-0242ac1c0002\"] = google.colab.output.setActiveOutputArea(window[\"cfbc28ea-77bf-11eb-82e4-0242ac1c0002\"]);\n",
              "//# sourceURL=js_51e3943cc5"
            ],
            "text/plain": [
              "<IPython.core.display.Javascript object>"
            ]
          },
          "metadata": {
            "tags": [
              "id30-0-0",
              "outputarea_id30"
            ]
          }
        },
        {
          "output_type": "display_data",
          "data": {
            "image/png": "[encoded data removed]",
            "text/plain": [
              "<Figure size 432x288 with 1 Axes>"
            ]
          },
          "metadata": {
            "tags": [
              "id30-0-0",
              "outputarea_id30",
              "user_output"
            ],
            "needs_background": "light"
          }
        },
        {
          "output_type": "display_data",
          "data": {
            "application/javascript": [
              "window[\"cfe48e20-77bf-11eb-82e4-0242ac1c0002\"] = google.colab.output.setActiveOutputArea(window[\"cfbbe182-77bf-11eb-82e4-0242ac1c0002\"]);\n",
              "//# sourceURL=js_895d8d3368"
            ],
            "text/plain": [
              "<IPython.core.display.Javascript object>"
            ]
          },
          "metadata": {
            "tags": [
              "id30-0-0",
              "outputarea_id30"
            ]
          }
        }
      ]
    },
    {
      "cell_type": "code",
      "metadata": {
        "colab": {
          "base_uri": "https://localhost:8080/",
          "height": 282
        },
        "id": "JAgqnoM6V1mb",
        "outputId": "42d1d9b6-41a8-46a2-9bdb-00ca51526d09"
      },
      "source": [
        "# setting up environment and agent\r\n",
        "action = 0\r\n",
        "observation, reward, done, info = env.step(action)\r\n",
        "env.render()\r\n",
        "print('Reward:', reward)"
      ],
      "execution_count": null,
      "outputs": [
        {
          "output_type": "stream",
          "text": [
            "Reward: -2\n"
          ],
          "name": "stdout"
        },
        {
          "output_type": "display_data",
          "data": {
            "image/png": "[encoded data removed]",
            "text/plain": [
              "<Figure size 432x288 with 1 Axes>"
            ]
          },
          "metadata": {
            "tags": [],
            "needs_background": "light"
          }
        }
      ]
    },
    {
      "cell_type": "markdown",
      "metadata": {
        "id": "xFDXE3ALVo80"
      },
      "source": [
        "## Random Agent"
      ]
    },
    {
      "cell_type": "code",
      "metadata": {
        "id": "h9ht4xYq35iW"
      },
      "source": [
        "class RandomAgent:\r\n",
        "    def __init__(self, env):\r\n",
        "        self.env = env\r\n",
        "        self.observation_space = env.observation_space\r\n",
        "        self.action_space = env.action_space\r\n",
        "        \r\n",
        "    def step(self, observation):\r\n",
        "        return np.random.choice(self.action_space.n)"
      ],
      "execution_count": null,
      "outputs": []
    },
    {
      "cell_type": "markdown",
      "metadata": {
        "id": "zeZ7rQXvWIme"
      },
      "source": [
        "## Running a Markov Decision Process\r\n"
      ]
    },
    {
      "cell_type": "code",
      "metadata": {
        "colab": {
          "base_uri": "https://localhost:8080/",
          "height": 268
        },
        "id": "y_cgAQi53_iH",
        "outputId": "7bb2ff13-a1e6-45e0-c3a2-7f935b52d87a"
      },
      "source": [
        "# setting up environment and agent\r\n",
        "env = GridEnvironment()\r\n",
        "agent = RandomAgent(env)\r\n",
        "\r\n",
        "obs = env.reset()\r\n",
        "done = False\r\n",
        "\r\n",
        "# setting up animation\r\n",
        "output_grid = widgets.Grid(1, 1)\r\n",
        "with output_grid.output_to(0, 0):\r\n",
        "  env.render()\r\n",
        "\r\n",
        "# MDP Loop\r\n",
        "while not done:\r\n",
        "  action = agent.step(obs)\r\n",
        "  obs, reward, done, info = env.step(action)\r\n",
        "  with output_grid.output_to(0, 0):\r\n",
        "    output_grid.clear_cell()\r\n",
        "    env.render()\r\n",
        "  time.sleep(1)"
      ],
      "execution_count": null,
      "outputs": [
        {
          "output_type": "display_data",
          "data": {
            "text/html": [
              "<style>\n",
              "       table#id36, #id36 > tbody > tr > th, #id36 > tbody > tr > td {\n",
              "         border: 1px solid lightgray;\n",
              "         border-collapse:collapse;\n",
              "         \n",
              "        }</style>"
            ],
            "text/plain": [
              "<IPython.core.display.HTML object>"
            ]
          },
          "metadata": {
            "tags": [
              "outputarea_id36"
            ]
          }
        },
        {
          "output_type": "display_data",
          "data": {
            "text/html": [
              "<table id=id36><tr><td id=id36-0-0></td></tr></table>"
            ],
            "text/plain": [
              "<IPython.core.display.HTML object>"
            ]
          },
          "metadata": {
            "tags": [
              "outputarea_id36"
            ]
          }
        },
        {
          "output_type": "display_data",
          "data": {
            "application/javascript": [
              "window[\"21b97792-77c0-11eb-82e4-0242ac1c0002\"] = google.colab.output.getActiveOutputArea();\n",
              "//# sourceURL=js_cf9cbec63f"
            ],
            "text/plain": [
              "<IPython.core.display.Javascript object>"
            ]
          },
          "metadata": {
            "tags": [
              "id36-0-0",
              "outputarea_id36"
            ]
          }
        },
        {
          "output_type": "display_data",
          "data": {
            "application/javascript": [
              "window[\"21ba1508-77c0-11eb-82e4-0242ac1c0002\"] = document.querySelector(\"#id36-0-0\");\n",
              "//# sourceURL=js_d6b4b73c2a"
            ],
            "text/plain": [
              "<IPython.core.display.Javascript object>"
            ]
          },
          "metadata": {
            "tags": [
              "id36-0-0",
              "outputarea_id36"
            ]
          }
        },
        {
          "output_type": "display_data",
          "data": {
            "application/javascript": [
              "window[\"21baa194-77c0-11eb-82e4-0242ac1c0002\"] = google.colab.output.setActiveOutputArea(window[\"21ba1508-77c0-11eb-82e4-0242ac1c0002\"]);\n",
              "//# sourceURL=js_3031d7c27c"
            ],
            "text/plain": [
              "<IPython.core.display.Javascript object>"
            ]
          },
          "metadata": {
            "tags": [
              "id36-0-0",
              "outputarea_id36"
            ]
          }
        },
        {
          "output_type": "display_data",
          "data": {
            "application/javascript": [
              "window[\"21d45e22-77c0-11eb-82e4-0242ac1c0002\"] = google.colab.output.setActiveOutputArea(window[\"21b97792-77c0-11eb-82e4-0242ac1c0002\"]);\n",
              "//# sourceURL=js_7d331649e5"
            ],
            "text/plain": [
              "<IPython.core.display.Javascript object>"
            ]
          },
          "metadata": {
            "tags": [
              "id36-0-0",
              "outputarea_id36"
            ]
          }
        },
        {
          "output_type": "display_data",
          "data": {
            "application/javascript": [
              "window[\"21d96232-77c0-11eb-82e4-0242ac1c0002\"] = google.colab.output.getActiveOutputArea();\n",
              "//# sourceURL=js_e5b2bee44e"
            ],
            "text/plain": [
              "<IPython.core.display.Javascript object>"
            ]
          },
          "metadata": {
            "tags": [
              "id36-0-0",
              "outputarea_id36"
            ]
          }
        },
        {
          "output_type": "display_data",
          "data": {
            "application/javascript": [
              "window[\"21d9f9ea-77c0-11eb-82e4-0242ac1c0002\"] = document.querySelector(\"#id36-0-0\");\n",
              "//# sourceURL=js_c8891a37da"
            ],
            "text/plain": [
              "<IPython.core.display.Javascript object>"
            ]
          },
          "metadata": {
            "tags": [
              "id36-0-0",
              "outputarea_id36"
            ]
          }
        },
        {
          "output_type": "display_data",
          "data": {
            "application/javascript": [
              "window[\"21da75f0-77c0-11eb-82e4-0242ac1c0002\"] = google.colab.output.setActiveOutputArea(window[\"21d9f9ea-77c0-11eb-82e4-0242ac1c0002\"]);\n",
              "//# sourceURL=js_7fd95c8a11"
            ],
            "text/plain": [
              "<IPython.core.display.Javascript object>"
            ]
          },
          "metadata": {
            "tags": [
              "id36-0-0",
              "outputarea_id36"
            ]
          }
        },
        {
          "output_type": "display_data",
          "data": {
            "application/javascript": [
              "window[\"21f43e7c-77c0-11eb-82e4-0242ac1c0002\"] = google.colab.output.setActiveOutputArea(window[\"21d96232-77c0-11eb-82e4-0242ac1c0002\"]);\n",
              "//# sourceURL=js_a2a545c731"
            ],
            "text/plain": [
              "<IPython.core.display.Javascript object>"
            ]
          },
          "metadata": {
            "tags": [
              "id36-0-0",
              "outputarea_id36"
            ]
          }
        },
        {
          "output_type": "display_data",
          "data": {
            "application/javascript": [
              "window[\"228e7424-77c0-11eb-82e4-0242ac1c0002\"] = google.colab.output.getActiveOutputArea();\n",
              "//# sourceURL=js_9c371e2611"
            ],
            "text/plain": [
              "<IPython.core.display.Javascript object>"
            ]
          },
          "metadata": {
            "tags": [
              "id36-0-0",
              "outputarea_id36"
            ]
          }
        },
        {
          "output_type": "display_data",
          "data": {
            "application/javascript": [
              "window[\"228efa02-77c0-11eb-82e4-0242ac1c0002\"] = document.querySelector(\"#id36-0-0\");\n",
              "//# sourceURL=js_a57ab2c70c"
            ],
            "text/plain": [
              "<IPython.core.display.Javascript object>"
            ]
          },
          "metadata": {
            "tags": [
              "id36-0-0",
              "outputarea_id36"
            ]
          }
        },
        {
          "output_type": "display_data",
          "data": {
            "application/javascript": [
              "window[\"228f7c8e-77c0-11eb-82e4-0242ac1c0002\"] = google.colab.output.setActiveOutputArea(window[\"228efa02-77c0-11eb-82e4-0242ac1c0002\"]);\n",
              "//# sourceURL=js_085a3c209b"
            ],
            "text/plain": [
              "<IPython.core.display.Javascript object>"
            ]
          },
          "metadata": {
            "tags": [
              "id36-0-0",
              "outputarea_id36"
            ]
          }
        },
        {
          "output_type": "display_data",
          "data": {
            "application/javascript": [
              "window[\"22a8fdda-77c0-11eb-82e4-0242ac1c0002\"] = google.colab.output.setActiveOutputArea(window[\"228e7424-77c0-11eb-82e4-0242ac1c0002\"]);\n",
              "//# sourceURL=js_059485e679"
            ],
            "text/plain": [
              "<IPython.core.display.Javascript object>"
            ]
          },
          "metadata": {
            "tags": [
              "id36-0-0",
              "outputarea_id36"
            ]
          }
        },
        {
          "output_type": "display_data",
          "data": {
            "application/javascript": [
              "window[\"23438210-77c0-11eb-82e4-0242ac1c0002\"] = google.colab.output.getActiveOutputArea();\n",
              "//# sourceURL=js_b318cf67cc"
            ],
            "text/plain": [
              "<IPython.core.display.Javascript object>"
            ]
          },
          "metadata": {
            "tags": [
              "id36-0-0",
              "outputarea_id36"
            ]
          }
        },
        {
          "output_type": "display_data",
          "data": {
            "application/javascript": [
              "window[\"23445d20-77c0-11eb-82e4-0242ac1c0002\"] = document.querySelector(\"#id36-0-0\");\n",
              "//# sourceURL=js_20d6aa8aa9"
            ],
            "text/plain": [
              "<IPython.core.display.Javascript object>"
            ]
          },
          "metadata": {
            "tags": [
              "id36-0-0",
              "outputarea_id36"
            ]
          }
        },
        {
          "output_type": "display_data",
          "data": {
            "application/javascript": [
              "window[\"2344b63a-77c0-11eb-82e4-0242ac1c0002\"] = google.colab.output.setActiveOutputArea(window[\"23445d20-77c0-11eb-82e4-0242ac1c0002\"]);\n",
              "//# sourceURL=js_fd584e5a50"
            ],
            "text/plain": [
              "<IPython.core.display.Javascript object>"
            ]
          },
          "metadata": {
            "tags": [
              "id36-0-0",
              "outputarea_id36"
            ]
          }
        },
        {
          "output_type": "display_data",
          "data": {
            "application/javascript": [
              "window[\"235d263e-77c0-11eb-82e4-0242ac1c0002\"] = google.colab.output.setActiveOutputArea(window[\"23438210-77c0-11eb-82e4-0242ac1c0002\"]);\n",
              "//# sourceURL=js_82d3e0e555"
            ],
            "text/plain": [
              "<IPython.core.display.Javascript object>"
            ]
          },
          "metadata": {
            "tags": [
              "id36-0-0",
              "outputarea_id36"
            ]
          }
        },
        {
          "output_type": "display_data",
          "data": {
            "application/javascript": [
              "window[\"23f7b44c-77c0-11eb-82e4-0242ac1c0002\"] = google.colab.output.getActiveOutputArea();\n",
              "//# sourceURL=js_7df73760db"
            ],
            "text/plain": [
              "<IPython.core.display.Javascript object>"
            ]
          },
          "metadata": {
            "tags": [
              "id36-0-0",
              "outputarea_id36"
            ]
          }
        },
        {
          "output_type": "display_data",
          "data": {
            "application/javascript": [
              "window[\"23f8409c-77c0-11eb-82e4-0242ac1c0002\"] = document.querySelector(\"#id36-0-0\");\n",
              "//# sourceURL=js_bcd9d10252"
            ],
            "text/plain": [
              "<IPython.core.display.Javascript object>"
            ]
          },
          "metadata": {
            "tags": [
              "id36-0-0",
              "outputarea_id36"
            ]
          }
        },
        {
          "output_type": "display_data",
          "data": {
            "application/javascript": [
              "window[\"23f8a974-77c0-11eb-82e4-0242ac1c0002\"] = google.colab.output.setActiveOutputArea(window[\"23f8409c-77c0-11eb-82e4-0242ac1c0002\"]);\n",
              "//# sourceURL=js_e463182ce4"
            ],
            "text/plain": [
              "<IPython.core.display.Javascript object>"
            ]
          },
          "metadata": {
            "tags": [
              "id36-0-0",
              "outputarea_id36"
            ]
          }
        },
        {
          "output_type": "display_data",
          "data": {
            "application/javascript": [
              "window[\"2423f7c8-77c0-11eb-82e4-0242ac1c0002\"] = google.colab.output.setActiveOutputArea(window[\"23f7b44c-77c0-11eb-82e4-0242ac1c0002\"]);\n",
              "//# sourceURL=js_adf558edf0"
            ],
            "text/plain": [
              "<IPython.core.display.Javascript object>"
            ]
          },
          "metadata": {
            "tags": [
              "id36-0-0",
              "outputarea_id36"
            ]
          }
        },
        {
          "output_type": "display_data",
          "data": {
            "application/javascript": [
              "window[\"24be76ae-77c0-11eb-82e4-0242ac1c0002\"] = google.colab.output.getActiveOutputArea();\n",
              "//# sourceURL=js_e7207a37d0"
            ],
            "text/plain": [
              "<IPython.core.display.Javascript object>"
            ]
          },
          "metadata": {
            "tags": [
              "id36-0-0",
              "outputarea_id36"
            ]
          }
        },
        {
          "output_type": "display_data",
          "data": {
            "application/javascript": [
              "window[\"24bebaa6-77c0-11eb-82e4-0242ac1c0002\"] = document.querySelector(\"#id36-0-0\");\n",
              "//# sourceURL=js_250a8f65ec"
            ],
            "text/plain": [
              "<IPython.core.display.Javascript object>"
            ]
          },
          "metadata": {
            "tags": [
              "id36-0-0",
              "outputarea_id36"
            ]
          }
        },
        {
          "output_type": "display_data",
          "data": {
            "application/javascript": [
              "window[\"24bf029a-77c0-11eb-82e4-0242ac1c0002\"] = google.colab.output.setActiveOutputArea(window[\"24bebaa6-77c0-11eb-82e4-0242ac1c0002\"]);\n",
              "//# sourceURL=js_9414d7e75f"
            ],
            "text/plain": [
              "<IPython.core.display.Javascript object>"
            ]
          },
          "metadata": {
            "tags": [
              "id36-0-0",
              "outputarea_id36"
            ]
          }
        },
        {
          "output_type": "display_data",
          "data": {
            "image/png": "[encoded data removed]",
            "text/plain": [
              "<Figure size 432x288 with 1 Axes>"
            ]
          },
          "metadata": {
            "tags": [
              "id36-0-0",
              "outputarea_id36",
              "user_output"
            ],
            "needs_background": "light"
          }
        },
        {
          "output_type": "display_data",
          "data": {
            "application/javascript": [
              "window[\"24d796c0-77c0-11eb-82e4-0242ac1c0002\"] = google.colab.output.setActiveOutputArea(window[\"24be76ae-77c0-11eb-82e4-0242ac1c0002\"]);\n",
              "//# sourceURL=js_a7f6ab6c5b"
            ],
            "text/plain": [
              "<IPython.core.display.Javascript object>"
            ]
          },
          "metadata": {
            "tags": [
              "id36-0-0",
              "outputarea_id36"
            ]
          }
        }
      ]
    }
  ]
}