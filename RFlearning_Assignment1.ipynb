{
  "nbformat": 4,
  "nbformat_minor": 0,
  "metadata": {
    "colab": {
      "name": "RFlearning_Assignment1.ipynb",
      "provenance": [],
      "collapsed_sections": [],
      "authorship_tag": "ABX9TyN3QWSN/ctNBk0wsMPkTYZW",
      "include_colab_link": true
    },
    "kernelspec": {
      "name": "python3",
      "display_name": "Python 3"
    }
  },
  "cells": [
    {
      "cell_type": "markdown",
      "metadata": {
        "id": "view-in-github",
        "colab_type": "text"
      },
      "source": [
        "<a href=\"https://colab.research.google.com/github/parthrjpt/EAS546_Projects/blob/DEV/RFlearning_Assignment1.ipynb\" target=\"_parent\"><img src=\"https://colab.research.google.com/assets/colab-badge.svg\" alt=\"Open In Colab\"/></a>"
      ]
    },
    {
      "cell_type": "code",
      "metadata": {
        "id": "GKbDuhwswxao",
        "colab": {
          "base_uri": "https://localhost:8080/"
        },
        "outputId": "c7479ed0-29be-46ca-aac7-b3888f4965c0"
      },
      "source": [
        "!pip install gym"
      ],
      "execution_count": 1,
      "outputs": [
        {
          "output_type": "stream",
          "text": [
            "Requirement already satisfied: gym in /usr/local/lib/python3.7/dist-packages (0.17.3)\n",
            "Requirement already satisfied: pyglet<=1.5.0,>=1.4.0 in /usr/local/lib/python3.7/dist-packages (from gym) (1.5.0)\n",
            "Requirement already satisfied: numpy>=1.10.4 in /usr/local/lib/python3.7/dist-packages (from gym) (1.19.5)\n",
            "Requirement already satisfied: cloudpickle<1.7.0,>=1.2.0 in /usr/local/lib/python3.7/dist-packages (from gym) (1.3.0)\n",
            "Requirement already satisfied: scipy in /usr/local/lib/python3.7/dist-packages (from gym) (1.4.1)\n",
            "Requirement already satisfied: future in /usr/local/lib/python3.7/dist-packages (from pyglet<=1.5.0,>=1.4.0->gym) (0.16.0)\n"
          ],
          "name": "stdout"
        }
      ]
    },
    {
      "cell_type": "code",
      "metadata": {
        "id": "7Mp-A-v4wNGf"
      },
      "source": [
        "import numpy as np\r\n",
        "import matplotlib.pyplot as plt\r\n",
        "import gym\r\n",
        "from gym import spaces\r\n",
        "\r\n",
        "from matplotlib.patches import Circle\r\n",
        "from matplotlib.offsetbox import (TextArea, DrawingArea, OffsetImage,\r\n",
        "                                  AnnotationBbox)\r\n"
      ],
      "execution_count": 2,
      "outputs": []
    },
    {
      "cell_type": "markdown",
      "metadata": {
        "id": "mALR4E027dk1"
      },
      "source": [
        "### RL Environment"
      ]
    },
    {
      "cell_type": "code",
      "metadata": {
        "colab": {
          "base_uri": "https://localhost:8080/"
        },
        "id": "njYaUnaIwU1k",
        "outputId": "099e36c9-34e6-4a13-9b64-f7ad00402605"
      },
      "source": [
        "grid = np.zeros((5,5))\r\n",
        "\r\n",
        "pos1 = [0, 0] #start\r\n",
        "pos2 = [4,4] #finish\r\n",
        "\r\n",
        "#non-permitted blocks\r\n",
        "pos3 = [2, 0]\r\n",
        "pos4 = [3, 0]\r\n",
        "pos5 = [1,2]\r\n",
        "pos6 = [3,2]\r\n",
        "\r\n",
        "pos7 = [4,0] #key \r\n",
        "pos8 = [4,2] #diamond with locked door \r\n",
        "pos9 = [2,2] #fire with locked door\r\n",
        "\r\n",
        "pos10 =[0,2] #locked door no reward\r\n",
        "\r\n",
        "grid[tuple(pos1)] = 1\r\n",
        "grid[tuple(pos2)] = 0.5\r\n",
        "\r\n",
        "grid[tuple(pos7)]= 0.2\r\n",
        "grid[tuple(pos8)]= 0.4\r\n",
        "grid[tuple(pos9)]= 0.8\r\n",
        "grid[tuple(pos10)]= 0.1\r\n",
        "\r\n",
        "grid[tuple(pos3)] = 0.3\r\n",
        "grid[tuple(pos4)] = 0.3\r\n",
        "grid[tuple(pos5)] = 0.3\r\n",
        "grid[tuple(pos6)] = 0.3\r\n",
        "\r\n",
        "print(grid)"
      ],
      "execution_count": 3,
      "outputs": [
        {
          "output_type": "stream",
          "text": [
            "[[1.  0.  0.1 0.  0. ]\n",
            " [0.  0.  0.3 0.  0. ]\n",
            " [0.3 0.  0.8 0.  0. ]\n",
            " [0.3 0.  0.3 0.  0. ]\n",
            " [0.2 0.  0.4 0.  0.5]]\n"
          ],
          "name": "stdout"
        }
      ]
    },
    {
      "cell_type": "code",
      "metadata": {
        "colab": {
          "base_uri": "https://localhost:8080/",
          "height": 282
        },
        "id": "OiRuopUAweyS",
        "outputId": "19c9ac6a-4c0c-41f6-c87c-b6cddc210716"
      },
      "source": [
        "plt.imshow(grid)"
      ],
      "execution_count": 4,
      "outputs": [
        {
          "output_type": "execute_result",
          "data": {
            "text/plain": [
              "<matplotlib.image.AxesImage at 0x7fad2f22c950>"
            ]
          },
          "metadata": {
            "tags": []
          },
          "execution_count": 4
        },
        {
          "output_type": "display_data",
          "data": {
            "image/png": "[encoded data removed]",
            "text/plain": [
              "<Figure size 432x288 with 1 Axes>"
            ]
          },
          "metadata": {
            "tags": [],
            "needs_background": "light"
          }
        }
      ]
    },
    {
      "cell_type": "markdown",
      "metadata": {
        "id": "jb5DO6mT7qCU"
      },
      "source": [
        "## Environment Initialization and definition"
      ]
    },
    {
      "cell_type": "code",
      "metadata": {
        "id": "xRJpY7jX3tyT"
      },
      "source": [
        "class GridEnvironment(gym.Env):\r\n",
        "    metadata = { 'render.modes': [] }\r\n",
        "    \r\n",
        "    def __init__(self):\r\n",
        "        self.observation_space = spaces.Discrete(20)\r\n",
        "        self.action_space = spaces.Discrete(4)\r\n",
        "        self.max_timesteps = 50\r\n",
        "        \r\n",
        "    def reset(self):\r\n",
        "        self.timestep = 0\r\n",
        "        self.agent_pos = [0, 0]\r\n",
        "        self.agent_haskey=0\r\n",
        "        self.goal_pos = [4, 4]\r\n",
        "        #self.blocked_pos =[[2,0],[3,0],[1,2],[3,2]]\r\n",
        "        self.simple_door=[0,2]\r\n",
        "        self.key_pos = [4,0]\r\n",
        "        self.reward_pos = [4,2]\r\n",
        "        self.penalty_pos = [2,2]\r\n",
        "        self.state = np.zeros((5,5))\r\n",
        "        self.state[tuple(self.agent_pos)] = 1\r\n",
        "        self.state[tuple(self.goal_pos)] = 0.5\r\n",
        "        \r\n",
        "        self.state[tuple(self.key_pos)]= 0.2\r\n",
        "        self.state[tuple(self.reward_pos)]= 0.4\r\n",
        "        self.state[tuple(self.penalty_pos)]= 0.8\r\n",
        "        self.state[tuple(self.simple_door)]=0.1\r\n",
        "        #self.state[tuple(self.blocked_pos[0])] = 0.3\r\n",
        "        #self.state[tuple(self.blocked_pos[1])] = 0.3\r\n",
        "        #self.state[tuple(self.blocked_pos[2])] = 0.3\r\n",
        "        #self.state[tuple(self.blocked_pos[3])] = 0.3\r\n",
        "\r\n",
        "        observation = self.agent_pos\r\n",
        "        return observation\r\n",
        "    \r\n",
        "    def step(self, action):\r\n",
        "        prev_pos=self.agent_pos\r\n",
        "        if action == 0:\r\n",
        "          self.agent_pos[0] += 1\r\n",
        "        if action == 1:\r\n",
        "          self.agent_pos[0] -= 1\r\n",
        "        if action == 2:\r\n",
        "          self.agent_pos[1] += 1\r\n",
        "        if action == 3:\r\n",
        "          self.agent_pos[1] -= 1\r\n",
        "\r\n",
        "\r\n",
        "          \r\n",
        "        self.agent_pos = np.clip(self.agent_pos, 0, 4)\r\n",
        "        self.state = np.zeros((5,5))\r\n",
        "        self.state[tuple(self.agent_pos)] = 1\r\n",
        "        self.state[tuple(self.goal_pos)] = 0.5\r\n",
        "        self.state[tuple(self.simple_door)]= 0.1\r\n",
        "        self.state[tuple(self.key_pos)]= 0.2\r\n",
        "        self.state[tuple(self.reward_pos)]= 0.4\r\n",
        "        self.state[tuple(self.penalty_pos)]= 0.8\r\n",
        "\r\n",
        "        #self.state[tuple(self.blocked_pos[0])] = 0.3\r\n",
        "        #self.state[tuple(self.blocked_pos[1])] = 0.3\r\n",
        "        #self.state[tuple(self.blocked_pos[2])] = 0.3\r\n",
        "        #self.state[tuple(self.blocked_pos[3])] = 0.3\r\n",
        "        \r\n",
        "        observation = self.agent_pos\r\n",
        "        \r\n",
        "        reward = 0\r\n",
        "        if (self.agent_pos == self.goal_pos).all():\r\n",
        "          reward = 10\r\n",
        "        if (self.agent_pos == self.reward_pos).all() and (self.agent_haskey==1):\r\n",
        "          reward = 3\r\n",
        "        else:\r\n",
        "          self.agent_pos=prev_pos\r\n",
        "          reward = -2\r\n",
        "        if ((self.agent_pos == self.penalty_pos) and (self.agent_haskey==1)):\r\n",
        "          reward = -3\r\n",
        "        else:\r\n",
        "          self.agent_pos=prev_pos\r\n",
        "          reward = -2\r\n",
        "        if ((self.agent_pos == self.key_pos) and (self.agent_haskey==0)):\r\n",
        "          reward = 1\r\n",
        "          self.agent_haskey= 1\r\n",
        "        if ((self.agent_pos == self.simple_door) and (self.agent_haskey==0)):\r\n",
        "          self.agent_pos=prev_pos\r\n",
        "          reward = -2            \r\n",
        "          \r\n",
        "        self.timestep += 1\r\n",
        "        done = True if (self.timestep >= self.max_timesteps) or (self.agent_pos == self.goal_pos) else False\r\n",
        "        info = {}\r\n",
        "        \r\n",
        "        return observation, reward, done, info\r\n",
        "\r\n",
        "    # def render(self):\r\n",
        "    #   fig ,ax = plt.subplots(figsize=(10,10))\r\n",
        "    #   ax.set_xlim(0,4)\r\n",
        "    #   ax.set_ylim(0,5)\r\n",
        "    #   agentImg='https://static.thenounproject.com/png/2674535-200.png'\r\n",
        "    #   agent = AnnotationBbox(OffsetImage(plt.imread(agentImg),zoom=0.36),\r\n",
        "    #                 self.agent_pos,[0.5,0.5],frameon=False)\r\n",
        "    #   ax.add_artist(agent)\r\n",
        "\r\n",
        "    #   block=[]\r\n",
        "    #   i=0\r\n",
        "    #   #blockedImg='https://upload.wikimedia.org/wikipedia/commons/3/39/BLACK.PNG'\r\n",
        "    #   while i <len(self.blocked_pos):\r\n",
        "    #     block.append(AnnotationBbox(TextArea('Wall')),\r\n",
        "    #                  self.blocked_pos[i] ,[0.5,0.5],frameon=False)\r\n",
        "    #     ax.add_artist(block[i])\r\n",
        "    #     i+=1\r\n",
        "    #   plt.xticks([0,1,2,3])\r\n",
        "    #   plt.yticks([0,1,2,3,4])\r\n",
        "    #   plt.grid()\r\n",
        "    #   plt.show()\r\n",
        "    def render(self):\r\n",
        "        plt.imshow(self.state)"
      ],
      "execution_count": 6,
      "outputs": []
    },
    {
      "cell_type": "markdown",
      "metadata": {
        "id": "8yWwYfBnCgpc"
      },
      "source": [
        ""
      ]
    },
    {
      "cell_type": "markdown",
      "metadata": {
        "id": "ROUA6Z-WVkaZ"
      },
      "source": [
        "## Testing the Environment"
      ]
    },
    {
      "cell_type": "code",
      "metadata": {
        "id": "jpwAvK4Px-cG"
      },
      "source": [
        ""
      ],
      "execution_count": null,
      "outputs": []
    },
    {
      "cell_type": "code",
      "metadata": {
        "colab": {
          "base_uri": "https://localhost:8080/",
          "height": 265
        },
        "id": "gqARItt73yPk",
        "outputId": "a23a60a9-5aa0-46ad-e8c3-594f643db111"
      },
      "source": [
        "env = GridEnvironment()\r\n",
        "obs = env.reset()\r\n",
        "env.render()"
      ],
      "execution_count": 7,
      "outputs": [
        {
          "output_type": "display_data",
          "data": {
            "image/png": "[encoded data removed]",
            "text/plain": [
              "<Figure size 432x288 with 1 Axes>"
            ]
          },
          "metadata": {
            "tags": [],
            "needs_background": "light"
          }
        }
      ]
    },
    {
      "cell_type": "code",
      "metadata": {
        "colab": {
          "base_uri": "https://localhost:8080/",
          "height": 268
        },
        "id": "WP7aiQdv31vI",
        "outputId": "171fd6aa-a4e0-4820-b962-67646faf7627"
      },
      "source": [
        "from google.colab import widgets\r\n",
        "import time\r\n",
        "\r\n",
        "output_grid = widgets.Grid(1, 1)\r\n",
        "for _ in range(5):\r\n",
        "  grid = np.zeros((5, 5))\r\n",
        "  grid[np.random.randint(5), np.random.randint(5)] = 1\r\n",
        "  with output_grid.output_to(0, 0):\r\n",
        "    output_grid.clear_cell()\r\n",
        "    plt.imshow(grid)\r\n",
        "  time.sleep(1)"
      ],
      "execution_count": 8,
      "outputs": [
        {
          "output_type": "display_data",
          "data": {
            "text/html": [
              "<style>\n",
              "       table#id2, #id2 > tbody > tr > th, #id2 > tbody > tr > td {\n",
              "         border: 1px solid lightgray;\n",
              "         border-collapse:collapse;\n",
              "         \n",
              "        }</style>"
            ],
            "text/plain": [
              "<IPython.core.display.HTML object>"
            ]
          },
          "metadata": {
            "tags": [
              "outputarea_id2"
            ]
          }
        },
        {
          "output_type": "display_data",
          "data": {
            "text/html": [
              "<table id=id2><tr><td id=id2-0-0></td></tr></table>"
            ],
            "text/plain": [
              "<IPython.core.display.HTML object>"
            ]
          },
          "metadata": {
            "tags": [
              "outputarea_id2"
            ]
          }
        },
        {
          "output_type": "display_data",
          "data": {
            "application/javascript": [
              "window[\"1b3e9cf2-7f5f-11eb-bd7d-0242ac1c0002\"] = google.colab.output.getActiveOutputArea();\n",
              "//# sourceURL=js_378dd22714"
            ],
            "text/plain": [
              "<IPython.core.display.Javascript object>"
            ]
          },
          "metadata": {
            "tags": [
              "id2-0-0",
              "outputarea_id2"
            ]
          }
        },
        {
          "output_type": "display_data",
          "data": {
            "application/javascript": [
              "window[\"1b3f07f0-7f5f-11eb-bd7d-0242ac1c0002\"] = document.querySelector(\"#id2-0-0\");\n",
              "//# sourceURL=js_abc97bd853"
            ],
            "text/plain": [
              "<IPython.core.display.Javascript object>"
            ]
          },
          "metadata": {
            "tags": [
              "id2-0-0",
              "outputarea_id2"
            ]
          }
        },
        {
          "output_type": "display_data",
          "data": {
            "application/javascript": [
              "window[\"1b3f4792-7f5f-11eb-bd7d-0242ac1c0002\"] = google.colab.output.setActiveOutputArea(window[\"1b3f07f0-7f5f-11eb-bd7d-0242ac1c0002\"]);\n",
              "//# sourceURL=js_fcf78192b6"
            ],
            "text/plain": [
              "<IPython.core.display.Javascript object>"
            ]
          },
          "metadata": {
            "tags": [
              "id2-0-0",
              "outputarea_id2"
            ]
          }
        },
        {
          "output_type": "display_data",
          "data": {
            "application/javascript": [
              "window[\"1b55b086-7f5f-11eb-bd7d-0242ac1c0002\"] = google.colab.output.setActiveOutputArea(window[\"1b3e9cf2-7f5f-11eb-bd7d-0242ac1c0002\"]);\n",
              "//# sourceURL=js_05d0ac856b"
            ],
            "text/plain": [
              "<IPython.core.display.Javascript object>"
            ]
          },
          "metadata": {
            "tags": [
              "id2-0-0",
              "outputarea_id2"
            ]
          }
        },
        {
          "output_type": "display_data",
          "data": {
            "application/javascript": [
              "window[\"1bef9a70-7f5f-11eb-bd7d-0242ac1c0002\"] = google.colab.output.getActiveOutputArea();\n",
              "//# sourceURL=js_4962282b7a"
            ],
            "text/plain": [
              "<IPython.core.display.Javascript object>"
            ]
          },
          "metadata": {
            "tags": [
              "id2-0-0",
              "outputarea_id2"
            ]
          }
        },
        {
          "output_type": "display_data",
          "data": {
            "application/javascript": [
              "window[\"1befe296-7f5f-11eb-bd7d-0242ac1c0002\"] = document.querySelector(\"#id2-0-0\");\n",
              "//# sourceURL=js_43d3e72c11"
            ],
            "text/plain": [
              "<IPython.core.display.Javascript object>"
            ]
          },
          "metadata": {
            "tags": [
              "id2-0-0",
              "outputarea_id2"
            ]
          }
        },
        {
          "output_type": "display_data",
          "data": {
            "application/javascript": [
              "window[\"1bf07878-7f5f-11eb-bd7d-0242ac1c0002\"] = google.colab.output.setActiveOutputArea(window[\"1befe296-7f5f-11eb-bd7d-0242ac1c0002\"]);\n",
              "//# sourceURL=js_eb81f0972f"
            ],
            "text/plain": [
              "<IPython.core.display.Javascript object>"
            ]
          },
          "metadata": {
            "tags": [
              "id2-0-0",
              "outputarea_id2"
            ]
          }
        },
        {
          "output_type": "display_data",
          "data": {
            "application/javascript": [
              "window[\"1c05c28c-7f5f-11eb-bd7d-0242ac1c0002\"] = google.colab.output.setActiveOutputArea(window[\"1bef9a70-7f5f-11eb-bd7d-0242ac1c0002\"]);\n",
              "//# sourceURL=js_1a842099dd"
            ],
            "text/plain": [
              "<IPython.core.display.Javascript object>"
            ]
          },
          "metadata": {
            "tags": [
              "id2-0-0",
              "outputarea_id2"
            ]
          }
        },
        {
          "output_type": "display_data",
          "data": {
            "application/javascript": [
              "window[\"1c9ff67c-7f5f-11eb-bd7d-0242ac1c0002\"] = google.colab.output.getActiveOutputArea();\n",
              "//# sourceURL=js_8f46d3bdca"
            ],
            "text/plain": [
              "<IPython.core.display.Javascript object>"
            ]
          },
          "metadata": {
            "tags": [
              "id2-0-0",
              "outputarea_id2"
            ]
          }
        },
        {
          "output_type": "display_data",
          "data": {
            "application/javascript": [
              "window[\"1ca033b2-7f5f-11eb-bd7d-0242ac1c0002\"] = document.querySelector(\"#id2-0-0\");\n",
              "//# sourceURL=js_c7a05facbc"
            ],
            "text/plain": [
              "<IPython.core.display.Javascript object>"
            ]
          },
          "metadata": {
            "tags": [
              "id2-0-0",
              "outputarea_id2"
            ]
          }
        },
        {
          "output_type": "display_data",
          "data": {
            "application/javascript": [
              "window[\"1ca0ba9e-7f5f-11eb-bd7d-0242ac1c0002\"] = google.colab.output.setActiveOutputArea(window[\"1ca033b2-7f5f-11eb-bd7d-0242ac1c0002\"]);\n",
              "//# sourceURL=js_38369a5e61"
            ],
            "text/plain": [
              "<IPython.core.display.Javascript object>"
            ]
          },
          "metadata": {
            "tags": [
              "id2-0-0",
              "outputarea_id2"
            ]
          }
        },
        {
          "output_type": "display_data",
          "data": {
            "application/javascript": [
              "window[\"1cb851b8-7f5f-11eb-bd7d-0242ac1c0002\"] = google.colab.output.setActiveOutputArea(window[\"1c9ff67c-7f5f-11eb-bd7d-0242ac1c0002\"]);\n",
              "//# sourceURL=js_fc3aa6865f"
            ],
            "text/plain": [
              "<IPython.core.display.Javascript object>"
            ]
          },
          "metadata": {
            "tags": [
              "id2-0-0",
              "outputarea_id2"
            ]
          }
        },
        {
          "output_type": "display_data",
          "data": {
            "application/javascript": [
              "window[\"1d528616-7f5f-11eb-bd7d-0242ac1c0002\"] = google.colab.output.getActiveOutputArea();\n",
              "//# sourceURL=js_13ea4d227b"
            ],
            "text/plain": [
              "<IPython.core.display.Javascript object>"
            ]
          },
          "metadata": {
            "tags": [
              "id2-0-0",
              "outputarea_id2"
            ]
          }
        },
        {
          "output_type": "display_data",
          "data": {
            "application/javascript": [
              "window[\"1d52d792-7f5f-11eb-bd7d-0242ac1c0002\"] = document.querySelector(\"#id2-0-0\");\n",
              "//# sourceURL=js_824a999705"
            ],
            "text/plain": [
              "<IPython.core.display.Javascript object>"
            ]
          },
          "metadata": {
            "tags": [
              "id2-0-0",
              "outputarea_id2"
            ]
          }
        },
        {
          "output_type": "display_data",
          "data": {
            "application/javascript": [
              "window[\"1d5325da-7f5f-11eb-bd7d-0242ac1c0002\"] = google.colab.output.setActiveOutputArea(window[\"1d52d792-7f5f-11eb-bd7d-0242ac1c0002\"]);\n",
              "//# sourceURL=js_1964804dd8"
            ],
            "text/plain": [
              "<IPython.core.display.Javascript object>"
            ]
          },
          "metadata": {
            "tags": [
              "id2-0-0",
              "outputarea_id2"
            ]
          }
        },
        {
          "output_type": "display_data",
          "data": {
            "application/javascript": [
              "window[\"1d690896-7f5f-11eb-bd7d-0242ac1c0002\"] = google.colab.output.setActiveOutputArea(window[\"1d528616-7f5f-11eb-bd7d-0242ac1c0002\"]);\n",
              "//# sourceURL=js_314ddd02b6"
            ],
            "text/plain": [
              "<IPython.core.display.Javascript object>"
            ]
          },
          "metadata": {
            "tags": [
              "id2-0-0",
              "outputarea_id2"
            ]
          }
        },
        {
          "output_type": "display_data",
          "data": {
            "application/javascript": [
              "window[\"1e03e4ce-7f5f-11eb-bd7d-0242ac1c0002\"] = google.colab.output.getActiveOutputArea();\n",
              "//# sourceURL=js_580ef1edaf"
            ],
            "text/plain": [
              "<IPython.core.display.Javascript object>"
            ]
          },
          "metadata": {
            "tags": [
              "id2-0-0",
              "outputarea_id2"
            ]
          }
        },
        {
          "output_type": "display_data",
          "data": {
            "application/javascript": [
              "window[\"1e041d90-7f5f-11eb-bd7d-0242ac1c0002\"] = document.querySelector(\"#id2-0-0\");\n",
              "//# sourceURL=js_58fc6f585f"
            ],
            "text/plain": [
              "<IPython.core.display.Javascript object>"
            ]
          },
          "metadata": {
            "tags": [
              "id2-0-0",
              "outputarea_id2"
            ]
          }
        },
        {
          "output_type": "display_data",
          "data": {
            "application/javascript": [
              "window[\"1e04527e-7f5f-11eb-bd7d-0242ac1c0002\"] = google.colab.output.setActiveOutputArea(window[\"1e041d90-7f5f-11eb-bd7d-0242ac1c0002\"]);\n",
              "//# sourceURL=js_712472eca6"
            ],
            "text/plain": [
              "<IPython.core.display.Javascript object>"
            ]
          },
          "metadata": {
            "tags": [
              "id2-0-0",
              "outputarea_id2"
            ]
          }
        },
        {
          "output_type": "display_data",
          "data": {
            "image/png": "[encoded data removed]",
            "text/plain": [
              "<Figure size 432x288 with 1 Axes>"
            ]
          },
          "metadata": {
            "tags": [
              "id2-0-0",
              "outputarea_id2",
              "user_output"
            ],
            "needs_background": "light"
          }
        },
        {
          "output_type": "display_data",
          "data": {
            "application/javascript": [
              "window[\"1e1b8408-7f5f-11eb-bd7d-0242ac1c0002\"] = google.colab.output.setActiveOutputArea(window[\"1e03e4ce-7f5f-11eb-bd7d-0242ac1c0002\"]);\n",
              "//# sourceURL=js_e2d5b0137b"
            ],
            "text/plain": [
              "<IPython.core.display.Javascript object>"
            ]
          },
          "metadata": {
            "tags": [
              "id2-0-0",
              "outputarea_id2"
            ]
          }
        }
      ]
    },
    {
      "cell_type": "code",
      "metadata": {
        "colab": {
          "base_uri": "https://localhost:8080/",
          "height": 282
        },
        "id": "JAgqnoM6V1mb",
        "outputId": "e6a64dd0-9b1b-4c39-94ba-16e13b469993"
      },
      "source": [
        "# setting up environment and agent\r\n",
        "action = 1\r\n",
        "observation, reward, done, info = env.step(action)\r\n",
        "env.render()\r\n",
        "print('Reward:', reward)"
      ],
      "execution_count": 292,
      "outputs": [
        {
          "output_type": "stream",
          "text": [
            "Reward: -2\n"
          ],
          "name": "stdout"
        },
        {
          "output_type": "display_data",
          "data": {
            "image/png": "[encoded data removed]",
            "text/plain": [
              "<Figure size 432x288 with 1 Axes>"
            ]
          },
          "metadata": {
            "tags": [],
            "needs_background": "light"
          }
        }
      ]
    },
    {
      "cell_type": "markdown",
      "metadata": {
        "id": "xFDXE3ALVo80"
      },
      "source": [
        "## Random Agent"
      ]
    },
    {
      "cell_type": "code",
      "metadata": {
        "id": "h9ht4xYq35iW"
      },
      "source": [
        "class RandomAgent:\r\n",
        "    def __init__(self, env):\r\n",
        "        self.env = env\r\n",
        "        self.observation_space = env.observation_space\r\n",
        "        self.action_space = env.action_space\r\n",
        "        \r\n",
        "    def step(self, observation):\r\n",
        "        return np.random.choice(self.action_space.n)"
      ],
      "execution_count": 12,
      "outputs": []
    },
    {
      "cell_type": "markdown",
      "metadata": {
        "id": "zeZ7rQXvWIme"
      },
      "source": [
        "## Running a Markov Decision Process\r\n"
      ]
    },
    {
      "cell_type": "code",
      "metadata": {
        "colab": {
          "base_uri": "https://localhost:8080/",
          "height": 268
        },
        "id": "y_cgAQi53_iH",
        "outputId": "448b89af-d436-4285-a5cb-1276dd70e614"
      },
      "source": [
        "# setting up environment and agent\r\n",
        "env = GridEnvironment()\r\n",
        "agent = RandomAgent(env)\r\n",
        "\r\n",
        "obs = env.reset()\r\n",
        "done = False\r\n",
        "\r\n",
        "# setting up animation\r\n",
        "output_grid = widgets.Grid(1, 1)\r\n",
        "with output_grid.output_to(0, 0):\r\n",
        "  env.render()\r\n",
        "\r\n",
        "# MDP Loop\r\n",
        "while not done:\r\n",
        "  action = agent.step(obs)\r\n",
        "  obs, reward, done, info = env.step(action)\r\n",
        "  with output_grid.output_to(0, 0):\r\n",
        "    output_grid.clear_cell()\r\n",
        "    env.render()\r\n",
        "  time.sleep(0.5)"
      ],
      "execution_count": 13,
      "outputs": [
        {
          "output_type": "display_data",
          "data": {
            "text/html": [
              "<style>\n",
              "       table#id4, #id4 > tbody > tr > th, #id4 > tbody > tr > td {\n",
              "         border: 1px solid lightgray;\n",
              "         border-collapse:collapse;\n",
              "         \n",
              "        }</style>"
            ],
            "text/plain": [
              "<IPython.core.display.HTML object>"
            ]
          },
          "metadata": {
            "tags": [
              "outputarea_id4"
            ]
          }
        },
        {
          "output_type": "display_data",
          "data": {
            "text/html": [
              "<table id=id4><tr><td id=id4-0-0></td></tr></table>"
            ],
            "text/plain": [
              "<IPython.core.display.HTML object>"
            ]
          },
          "metadata": {
            "tags": [
              "outputarea_id4"
            ]
          }
        },
        {
          "output_type": "display_data",
          "data": {
            "application/javascript": [
              "window[\"95d40268-7f5f-11eb-bd7d-0242ac1c0002\"] = google.colab.output.getActiveOutputArea();\n",
              "//# sourceURL=js_bd7b54a0ac"
            ],
            "text/plain": [
              "<IPython.core.display.Javascript object>"
            ]
          },
          "metadata": {
            "tags": [
              "id4-0-0",
              "outputarea_id4"
            ]
          }
        },
        {
          "output_type": "display_data",
          "data": {
            "application/javascript": [
              "window[\"95d447d2-7f5f-11eb-bd7d-0242ac1c0002\"] = document.querySelector(\"#id4-0-0\");\n",
              "//# sourceURL=js_73e4d8025c"
            ],
            "text/plain": [
              "<IPython.core.display.Javascript object>"
            ]
          },
          "metadata": {
            "tags": [
              "id4-0-0",
              "outputarea_id4"
            ]
          }
        },
        {
          "output_type": "display_data",
          "data": {
            "application/javascript": [
              "window[\"95d48bf2-7f5f-11eb-bd7d-0242ac1c0002\"] = google.colab.output.setActiveOutputArea(window[\"95d447d2-7f5f-11eb-bd7d-0242ac1c0002\"]);\n",
              "//# sourceURL=js_2d8bdad283"
            ],
            "text/plain": [
              "<IPython.core.display.Javascript object>"
            ]
          },
          "metadata": {
            "tags": [
              "id4-0-0",
              "outputarea_id4"
            ]
          }
        },
        {
          "output_type": "display_data",
          "data": {
            "application/javascript": [
              "window[\"95eabefe-7f5f-11eb-bd7d-0242ac1c0002\"] = google.colab.output.setActiveOutputArea(window[\"95d40268-7f5f-11eb-bd7d-0242ac1c0002\"]);\n",
              "//# sourceURL=js_59b2518834"
            ],
            "text/plain": [
              "<IPython.core.display.Javascript object>"
            ]
          },
          "metadata": {
            "tags": [
              "id4-0-0",
              "outputarea_id4"
            ]
          }
        },
        {
          "output_type": "display_data",
          "data": {
            "application/javascript": [
              "window[\"95ec332e-7f5f-11eb-bd7d-0242ac1c0002\"] = google.colab.output.getActiveOutputArea();\n",
              "//# sourceURL=js_e9fb16392d"
            ],
            "text/plain": [
              "<IPython.core.display.Javascript object>"
            ]
          },
          "metadata": {
            "tags": [
              "id4-0-0",
              "outputarea_id4"
            ]
          }
        },
        {
          "output_type": "display_data",
          "data": {
            "application/javascript": [
              "window[\"95ec7c58-7f5f-11eb-bd7d-0242ac1c0002\"] = document.querySelector(\"#id4-0-0\");\n",
              "//# sourceURL=js_84422190b5"
            ],
            "text/plain": [
              "<IPython.core.display.Javascript object>"
            ]
          },
          "metadata": {
            "tags": [
              "id4-0-0",
              "outputarea_id4"
            ]
          }
        },
        {
          "output_type": "display_data",
          "data": {
            "application/javascript": [
              "window[\"95ecbbe6-7f5f-11eb-bd7d-0242ac1c0002\"] = google.colab.output.setActiveOutputArea(window[\"95ec7c58-7f5f-11eb-bd7d-0242ac1c0002\"]);\n",
              "//# sourceURL=js_a266c4e2fd"
            ],
            "text/plain": [
              "<IPython.core.display.Javascript object>"
            ]
          },
          "metadata": {
            "tags": [
              "id4-0-0",
              "outputarea_id4"
            ]
          }
        },
        {
          "output_type": "display_data",
          "data": {
            "application/javascript": [
              "window[\"9603b922-7f5f-11eb-bd7d-0242ac1c0002\"] = google.colab.output.setActiveOutputArea(window[\"95ec332e-7f5f-11eb-bd7d-0242ac1c0002\"]);\n",
              "//# sourceURL=js_c7034a0c40"
            ],
            "text/plain": [
              "<IPython.core.display.Javascript object>"
            ]
          },
          "metadata": {
            "tags": [
              "id4-0-0",
              "outputarea_id4"
            ]
          }
        },
        {
          "output_type": "display_data",
          "data": {
            "application/javascript": [
              "window[\"96517c52-7f5f-11eb-bd7d-0242ac1c0002\"] = google.colab.output.getActiveOutputArea();\n",
              "//# sourceURL=js_889c119c97"
            ],
            "text/plain": [
              "<IPython.core.display.Javascript object>"
            ]
          },
          "metadata": {
            "tags": [
              "id4-0-0",
              "outputarea_id4"
            ]
          }
        },
        {
          "output_type": "display_data",
          "data": {
            "application/javascript": [
              "window[\"9651d12a-7f5f-11eb-bd7d-0242ac1c0002\"] = document.querySelector(\"#id4-0-0\");\n",
              "//# sourceURL=js_99d997c2d0"
            ],
            "text/plain": [
              "<IPython.core.display.Javascript object>"
            ]
          },
          "metadata": {
            "tags": [
              "id4-0-0",
              "outputarea_id4"
            ]
          }
        },
        {
          "output_type": "display_data",
          "data": {
            "application/javascript": [
              "window[\"9652140a-7f5f-11eb-bd7d-0242ac1c0002\"] = google.colab.output.setActiveOutputArea(window[\"9651d12a-7f5f-11eb-bd7d-0242ac1c0002\"]);\n",
              "//# sourceURL=js_614c94f8a8"
            ],
            "text/plain": [
              "<IPython.core.display.Javascript object>"
            ]
          },
          "metadata": {
            "tags": [
              "id4-0-0",
              "outputarea_id4"
            ]
          }
        },
        {
          "output_type": "display_data",
          "data": {
            "application/javascript": [
              "window[\"9667f716-7f5f-11eb-bd7d-0242ac1c0002\"] = google.colab.output.setActiveOutputArea(window[\"96517c52-7f5f-11eb-bd7d-0242ac1c0002\"]);\n",
              "//# sourceURL=js_1d7ab691bb"
            ],
            "text/plain": [
              "<IPython.core.display.Javascript object>"
            ]
          },
          "metadata": {
            "tags": [
              "id4-0-0",
              "outputarea_id4"
            ]
          }
        },
        {
          "output_type": "display_data",
          "data": {
            "application/javascript": [
              "window[\"96b59610-7f5f-11eb-bd7d-0242ac1c0002\"] = google.colab.output.getActiveOutputArea();\n",
              "//# sourceURL=js_d7da91cc5e"
            ],
            "text/plain": [
              "<IPython.core.display.Javascript object>"
            ]
          },
          "metadata": {
            "tags": [
              "id4-0-0",
              "outputarea_id4"
            ]
          }
        },
        {
          "output_type": "display_data",
          "data": {
            "application/javascript": [
              "window[\"96b5c888-7f5f-11eb-bd7d-0242ac1c0002\"] = document.querySelector(\"#id4-0-0\");\n",
              "//# sourceURL=js_894adda41c"
            ],
            "text/plain": [
              "<IPython.core.display.Javascript object>"
            ]
          },
          "metadata": {
            "tags": [
              "id4-0-0",
              "outputarea_id4"
            ]
          }
        },
        {
          "output_type": "display_data",
          "data": {
            "application/javascript": [
              "window[\"96b5f6c8-7f5f-11eb-bd7d-0242ac1c0002\"] = google.colab.output.setActiveOutputArea(window[\"96b5c888-7f5f-11eb-bd7d-0242ac1c0002\"]);\n",
              "//# sourceURL=js_d68cb90733"
            ],
            "text/plain": [
              "<IPython.core.display.Javascript object>"
            ]
          },
          "metadata": {
            "tags": [
              "id4-0-0",
              "outputarea_id4"
            ]
          }
        },
        {
          "output_type": "display_data",
          "data": {
            "application/javascript": [
              "window[\"96cdddd8-7f5f-11eb-bd7d-0242ac1c0002\"] = google.colab.output.setActiveOutputArea(window[\"96b59610-7f5f-11eb-bd7d-0242ac1c0002\"]);\n",
              "//# sourceURL=js_3d50bd17ae"
            ],
            "text/plain": [
              "<IPython.core.display.Javascript object>"
            ]
          },
          "metadata": {
            "tags": [
              "id4-0-0",
              "outputarea_id4"
            ]
          }
        },
        {
          "output_type": "display_data",
          "data": {
            "application/javascript": [
              "window[\"971cdadc-7f5f-11eb-bd7d-0242ac1c0002\"] = google.colab.output.getActiveOutputArea();\n",
              "//# sourceURL=js_0a7ae5cef2"
            ],
            "text/plain": [
              "<IPython.core.display.Javascript object>"
            ]
          },
          "metadata": {
            "tags": [
              "id4-0-0",
              "outputarea_id4"
            ]
          }
        },
        {
          "output_type": "display_data",
          "data": {
            "application/javascript": [
              "window[\"971d1948-7f5f-11eb-bd7d-0242ac1c0002\"] = document.querySelector(\"#id4-0-0\");\n",
              "//# sourceURL=js_868187b64c"
            ],
            "text/plain": [
              "<IPython.core.display.Javascript object>"
            ]
          },
          "metadata": {
            "tags": [
              "id4-0-0",
              "outputarea_id4"
            ]
          }
        },
        {
          "output_type": "display_data",
          "data": {
            "application/javascript": [
              "window[\"971d5048-7f5f-11eb-bd7d-0242ac1c0002\"] = google.colab.output.setActiveOutputArea(window[\"971d1948-7f5f-11eb-bd7d-0242ac1c0002\"]);\n",
              "//# sourceURL=js_53ebf28fb0"
            ],
            "text/plain": [
              "<IPython.core.display.Javascript object>"
            ]
          },
          "metadata": {
            "tags": [
              "id4-0-0",
              "outputarea_id4"
            ]
          }
        },
        {
          "output_type": "display_data",
          "data": {
            "application/javascript": [
              "window[\"9736cbae-7f5f-11eb-bd7d-0242ac1c0002\"] = google.colab.output.setActiveOutputArea(window[\"971cdadc-7f5f-11eb-bd7d-0242ac1c0002\"]);\n",
              "//# sourceURL=js_428338f02b"
            ],
            "text/plain": [
              "<IPython.core.display.Javascript object>"
            ]
          },
          "metadata": {
            "tags": [
              "id4-0-0",
              "outputarea_id4"
            ]
          }
        },
        {
          "output_type": "display_data",
          "data": {
            "application/javascript": [
              "window[\"9784c282-7f5f-11eb-bd7d-0242ac1c0002\"] = google.colab.output.getActiveOutputArea();\n",
              "//# sourceURL=js_5f03d69714"
            ],
            "text/plain": [
              "<IPython.core.display.Javascript object>"
            ]
          },
          "metadata": {
            "tags": [
              "id4-0-0",
              "outputarea_id4"
            ]
          }
        },
        {
          "output_type": "display_data",
          "data": {
            "application/javascript": [
              "window[\"97853be0-7f5f-11eb-bd7d-0242ac1c0002\"] = document.querySelector(\"#id4-0-0\");\n",
              "//# sourceURL=js_b900198066"
            ],
            "text/plain": [
              "<IPython.core.display.Javascript object>"
            ]
          },
          "metadata": {
            "tags": [
              "id4-0-0",
              "outputarea_id4"
            ]
          }
        },
        {
          "output_type": "display_data",
          "data": {
            "application/javascript": [
              "window[\"97857f42-7f5f-11eb-bd7d-0242ac1c0002\"] = google.colab.output.setActiveOutputArea(window[\"97853be0-7f5f-11eb-bd7d-0242ac1c0002\"]);\n",
              "//# sourceURL=js_6b030fa079"
            ],
            "text/plain": [
              "<IPython.core.display.Javascript object>"
            ]
          },
          "metadata": {
            "tags": [
              "id4-0-0",
              "outputarea_id4"
            ]
          }
        },
        {
          "output_type": "display_data",
          "data": {
            "application/javascript": [
              "window[\"979e36fe-7f5f-11eb-bd7d-0242ac1c0002\"] = google.colab.output.setActiveOutputArea(window[\"9784c282-7f5f-11eb-bd7d-0242ac1c0002\"]);\n",
              "//# sourceURL=js_f6601dbe9f"
            ],
            "text/plain": [
              "<IPython.core.display.Javascript object>"
            ]
          },
          "metadata": {
            "tags": [
              "id4-0-0",
              "outputarea_id4"
            ]
          }
        },
        {
          "output_type": "display_data",
          "data": {
            "application/javascript": [
              "window[\"97ec1338-7f5f-11eb-bd7d-0242ac1c0002\"] = google.colab.output.getActiveOutputArea();\n",
              "//# sourceURL=js_c024a975f3"
            ],
            "text/plain": [
              "<IPython.core.display.Javascript object>"
            ]
          },
          "metadata": {
            "tags": [
              "id4-0-0",
              "outputarea_id4"
            ]
          }
        },
        {
          "output_type": "display_data",
          "data": {
            "application/javascript": [
              "window[\"97ec5082-7f5f-11eb-bd7d-0242ac1c0002\"] = document.querySelector(\"#id4-0-0\");\n",
              "//# sourceURL=js_61079fa44b"
            ],
            "text/plain": [
              "<IPython.core.display.Javascript object>"
            ]
          },
          "metadata": {
            "tags": [
              "id4-0-0",
              "outputarea_id4"
            ]
          }
        },
        {
          "output_type": "display_data",
          "data": {
            "application/javascript": [
              "window[\"97ecaffa-7f5f-11eb-bd7d-0242ac1c0002\"] = google.colab.output.setActiveOutputArea(window[\"97ec5082-7f5f-11eb-bd7d-0242ac1c0002\"]);\n",
              "//# sourceURL=js_6746cb5c61"
            ],
            "text/plain": [
              "<IPython.core.display.Javascript object>"
            ]
          },
          "metadata": {
            "tags": [
              "id4-0-0",
              "outputarea_id4"
            ]
          }
        },
        {
          "output_type": "display_data",
          "data": {
            "application/javascript": [
              "window[\"980fbd56-7f5f-11eb-bd7d-0242ac1c0002\"] = google.colab.output.setActiveOutputArea(window[\"97ec1338-7f5f-11eb-bd7d-0242ac1c0002\"]);\n",
              "//# sourceURL=js_a773b4db2e"
            ],
            "text/plain": [
              "<IPython.core.display.Javascript object>"
            ]
          },
          "metadata": {
            "tags": [
              "id4-0-0",
              "outputarea_id4"
            ]
          }
        },
        {
          "output_type": "display_data",
          "data": {
            "application/javascript": [
              "window[\"985d7bea-7f5f-11eb-bd7d-0242ac1c0002\"] = google.colab.output.getActiveOutputArea();\n",
              "//# sourceURL=js_849ad59404"
            ],
            "text/plain": [
              "<IPython.core.display.Javascript object>"
            ]
          },
          "metadata": {
            "tags": [
              "id4-0-0",
              "outputarea_id4"
            ]
          }
        },
        {
          "output_type": "display_data",
          "data": {
            "application/javascript": [
              "window[\"985dccf8-7f5f-11eb-bd7d-0242ac1c0002\"] = document.querySelector(\"#id4-0-0\");\n",
              "//# sourceURL=js_edc6963efa"
            ],
            "text/plain": [
              "<IPython.core.display.Javascript object>"
            ]
          },
          "metadata": {
            "tags": [
              "id4-0-0",
              "outputarea_id4"
            ]
          }
        },
        {
          "output_type": "display_data",
          "data": {
            "application/javascript": [
              "window[\"985e359e-7f5f-11eb-bd7d-0242ac1c0002\"] = google.colab.output.setActiveOutputArea(window[\"985dccf8-7f5f-11eb-bd7d-0242ac1c0002\"]);\n",
              "//# sourceURL=js_494d435b01"
            ],
            "text/plain": [
              "<IPython.core.display.Javascript object>"
            ]
          },
          "metadata": {
            "tags": [
              "id4-0-0",
              "outputarea_id4"
            ]
          }
        },
        {
          "output_type": "display_data",
          "data": {
            "application/javascript": [
              "window[\"9875b566-7f5f-11eb-bd7d-0242ac1c0002\"] = google.colab.output.setActiveOutputArea(window[\"985d7bea-7f5f-11eb-bd7d-0242ac1c0002\"]);\n",
              "//# sourceURL=js_a70b93efbe"
            ],
            "text/plain": [
              "<IPython.core.display.Javascript object>"
            ]
          },
          "metadata": {
            "tags": [
              "id4-0-0",
              "outputarea_id4"
            ]
          }
        },
        {
          "output_type": "display_data",
          "data": {
            "application/javascript": [
              "window[\"98c45ffe-7f5f-11eb-bd7d-0242ac1c0002\"] = google.colab.output.getActiveOutputArea();\n",
              "//# sourceURL=js_291eb1c3c3"
            ],
            "text/plain": [
              "<IPython.core.display.Javascript object>"
            ]
          },
          "metadata": {
            "tags": [
              "id4-0-0",
              "outputarea_id4"
            ]
          }
        },
        {
          "output_type": "display_data",
          "data": {
            "application/javascript": [
              "window[\"98c51c6e-7f5f-11eb-bd7d-0242ac1c0002\"] = document.querySelector(\"#id4-0-0\");\n",
              "//# sourceURL=js_a08f8985f5"
            ],
            "text/plain": [
              "<IPython.core.display.Javascript object>"
            ]
          },
          "metadata": {
            "tags": [
              "id4-0-0",
              "outputarea_id4"
            ]
          }
        },
        {
          "output_type": "display_data",
          "data": {
            "application/javascript": [
              "window[\"98c5b520-7f5f-11eb-bd7d-0242ac1c0002\"] = google.colab.output.setActiveOutputArea(window[\"98c51c6e-7f5f-11eb-bd7d-0242ac1c0002\"]);\n",
              "//# sourceURL=js_dddd900128"
            ],
            "text/plain": [
              "<IPython.core.display.Javascript object>"
            ]
          },
          "metadata": {
            "tags": [
              "id4-0-0",
              "outputarea_id4"
            ]
          }
        },
        {
          "output_type": "display_data",
          "data": {
            "application/javascript": [
              "window[\"98de8172-7f5f-11eb-bd7d-0242ac1c0002\"] = google.colab.output.setActiveOutputArea(window[\"98c45ffe-7f5f-11eb-bd7d-0242ac1c0002\"]);\n",
              "//# sourceURL=js_9625d236c1"
            ],
            "text/plain": [
              "<IPython.core.display.Javascript object>"
            ]
          },
          "metadata": {
            "tags": [
              "id4-0-0",
              "outputarea_id4"
            ]
          }
        },
        {
          "output_type": "display_data",
          "data": {
            "application/javascript": [
              "window[\"992c6c20-7f5f-11eb-bd7d-0242ac1c0002\"] = google.colab.output.getActiveOutputArea();\n",
              "//# sourceURL=js_8959e85300"
            ],
            "text/plain": [
              "<IPython.core.display.Javascript object>"
            ]
          },
          "metadata": {
            "tags": [
              "id4-0-0",
              "outputarea_id4"
            ]
          }
        },
        {
          "output_type": "display_data",
          "data": {
            "application/javascript": [
              "window[\"992cb5ae-7f5f-11eb-bd7d-0242ac1c0002\"] = document.querySelector(\"#id4-0-0\");\n",
              "//# sourceURL=js_110e30207b"
            ],
            "text/plain": [
              "<IPython.core.display.Javascript object>"
            ]
          },
          "metadata": {
            "tags": [
              "id4-0-0",
              "outputarea_id4"
            ]
          }
        },
        {
          "output_type": "display_data",
          "data": {
            "application/javascript": [
              "window[\"992cfbcc-7f5f-11eb-bd7d-0242ac1c0002\"] = google.colab.output.setActiveOutputArea(window[\"992cb5ae-7f5f-11eb-bd7d-0242ac1c0002\"]);\n",
              "//# sourceURL=js_e88ba9758b"
            ],
            "text/plain": [
              "<IPython.core.display.Javascript object>"
            ]
          },
          "metadata": {
            "tags": [
              "id4-0-0",
              "outputarea_id4"
            ]
          }
        },
        {
          "output_type": "display_data",
          "data": {
            "application/javascript": [
              "window[\"9944a6a0-7f5f-11eb-bd7d-0242ac1c0002\"] = google.colab.output.setActiveOutputArea(window[\"992c6c20-7f5f-11eb-bd7d-0242ac1c0002\"]);\n",
              "//# sourceURL=js_41728a7527"
            ],
            "text/plain": [
              "<IPython.core.display.Javascript object>"
            ]
          },
          "metadata": {
            "tags": [
              "id4-0-0",
              "outputarea_id4"
            ]
          }
        },
        {
          "output_type": "display_data",
          "data": {
            "application/javascript": [
              "window[\"99926af2-7f5f-11eb-bd7d-0242ac1c0002\"] = google.colab.output.getActiveOutputArea();\n",
              "//# sourceURL=js_888949818b"
            ],
            "text/plain": [
              "<IPython.core.display.Javascript object>"
            ]
          },
          "metadata": {
            "tags": [
              "id4-0-0",
              "outputarea_id4"
            ]
          }
        },
        {
          "output_type": "display_data",
          "data": {
            "application/javascript": [
              "window[\"9992c164-7f5f-11eb-bd7d-0242ac1c0002\"] = document.querySelector(\"#id4-0-0\");\n",
              "//# sourceURL=js_25e9ef4735"
            ],
            "text/plain": [
              "<IPython.core.display.Javascript object>"
            ]
          },
          "metadata": {
            "tags": [
              "id4-0-0",
              "outputarea_id4"
            ]
          }
        },
        {
          "output_type": "display_data",
          "data": {
            "application/javascript": [
              "window[\"999311dc-7f5f-11eb-bd7d-0242ac1c0002\"] = google.colab.output.setActiveOutputArea(window[\"9992c164-7f5f-11eb-bd7d-0242ac1c0002\"]);\n",
              "//# sourceURL=js_d6d5b451be"
            ],
            "text/plain": [
              "<IPython.core.display.Javascript object>"
            ]
          },
          "metadata": {
            "tags": [
              "id4-0-0",
              "outputarea_id4"
            ]
          }
        },
        {
          "output_type": "display_data",
          "data": {
            "application/javascript": [
              "window[\"99a9df7a-7f5f-11eb-bd7d-0242ac1c0002\"] = google.colab.output.setActiveOutputArea(window[\"99926af2-7f5f-11eb-bd7d-0242ac1c0002\"]);\n",
              "//# sourceURL=js_4e2f038af8"
            ],
            "text/plain": [
              "<IPython.core.display.Javascript object>"
            ]
          },
          "metadata": {
            "tags": [
              "id4-0-0",
              "outputarea_id4"
            ]
          }
        },
        {
          "output_type": "display_data",
          "data": {
            "application/javascript": [
              "window[\"99f79a4e-7f5f-11eb-bd7d-0242ac1c0002\"] = google.colab.output.getActiveOutputArea();\n",
              "//# sourceURL=js_16272d283c"
            ],
            "text/plain": [
              "<IPython.core.display.Javascript object>"
            ]
          },
          "metadata": {
            "tags": [
              "id4-0-0",
              "outputarea_id4"
            ]
          }
        },
        {
          "output_type": "display_data",
          "data": {
            "application/javascript": [
              "window[\"99f7e378-7f5f-11eb-bd7d-0242ac1c0002\"] = document.querySelector(\"#id4-0-0\");\n",
              "//# sourceURL=js_b53aa58a78"
            ],
            "text/plain": [
              "<IPython.core.display.Javascript object>"
            ]
          },
          "metadata": {
            "tags": [
              "id4-0-0",
              "outputarea_id4"
            ]
          }
        },
        {
          "output_type": "display_data",
          "data": {
            "application/javascript": [
              "window[\"99f82d38-7f5f-11eb-bd7d-0242ac1c0002\"] = google.colab.output.setActiveOutputArea(window[\"99f7e378-7f5f-11eb-bd7d-0242ac1c0002\"]);\n",
              "//# sourceURL=js_0c0d18236b"
            ],
            "text/plain": [
              "<IPython.core.display.Javascript object>"
            ]
          },
          "metadata": {
            "tags": [
              "id4-0-0",
              "outputarea_id4"
            ]
          }
        },
        {
          "output_type": "display_data",
          "data": {
            "application/javascript": [
              "window[\"9a110808-7f5f-11eb-bd7d-0242ac1c0002\"] = google.colab.output.setActiveOutputArea(window[\"99f79a4e-7f5f-11eb-bd7d-0242ac1c0002\"]);\n",
              "//# sourceURL=js_91866f9ed9"
            ],
            "text/plain": [
              "<IPython.core.display.Javascript object>"
            ]
          },
          "metadata": {
            "tags": [
              "id4-0-0",
              "outputarea_id4"
            ]
          }
        },
        {
          "output_type": "display_data",
          "data": {
            "application/javascript": [
              "window[\"9a5ea0a4-7f5f-11eb-bd7d-0242ac1c0002\"] = google.colab.output.getActiveOutputArea();\n",
              "//# sourceURL=js_a5b4b02e36"
            ],
            "text/plain": [
              "<IPython.core.display.Javascript object>"
            ]
          },
          "metadata": {
            "tags": [
              "id4-0-0",
              "outputarea_id4"
            ]
          }
        },
        {
          "output_type": "display_data",
          "data": {
            "application/javascript": [
              "window[\"9a5ee74e-7f5f-11eb-bd7d-0242ac1c0002\"] = document.querySelector(\"#id4-0-0\");\n",
              "//# sourceURL=js_33b9215c06"
            ],
            "text/plain": [
              "<IPython.core.display.Javascript object>"
            ]
          },
          "metadata": {
            "tags": [
              "id4-0-0",
              "outputarea_id4"
            ]
          }
        },
        {
          "output_type": "display_data",
          "data": {
            "application/javascript": [
              "window[\"9a5f2c90-7f5f-11eb-bd7d-0242ac1c0002\"] = google.colab.output.setActiveOutputArea(window[\"9a5ee74e-7f5f-11eb-bd7d-0242ac1c0002\"]);\n",
              "//# sourceURL=js_8f71bc1cec"
            ],
            "text/plain": [
              "<IPython.core.display.Javascript object>"
            ]
          },
          "metadata": {
            "tags": [
              "id4-0-0",
              "outputarea_id4"
            ]
          }
        },
        {
          "output_type": "display_data",
          "data": {
            "application/javascript": [
              "window[\"9a77c05c-7f5f-11eb-bd7d-0242ac1c0002\"] = google.colab.output.setActiveOutputArea(window[\"9a5ea0a4-7f5f-11eb-bd7d-0242ac1c0002\"]);\n",
              "//# sourceURL=js_e7e0ab2fc9"
            ],
            "text/plain": [
              "<IPython.core.display.Javascript object>"
            ]
          },
          "metadata": {
            "tags": [
              "id4-0-0",
              "outputarea_id4"
            ]
          }
        },
        {
          "output_type": "display_data",
          "data": {
            "application/javascript": [
              "window[\"9ac55f56-7f5f-11eb-bd7d-0242ac1c0002\"] = google.colab.output.getActiveOutputArea();\n",
              "//# sourceURL=js_f174e3810a"
            ],
            "text/plain": [
              "<IPython.core.display.Javascript object>"
            ]
          },
          "metadata": {
            "tags": [
              "id4-0-0",
              "outputarea_id4"
            ]
          }
        },
        {
          "output_type": "display_data",
          "data": {
            "application/javascript": [
              "window[\"9ac5aad8-7f5f-11eb-bd7d-0242ac1c0002\"] = document.querySelector(\"#id4-0-0\");\n",
              "//# sourceURL=js_adf2464c2b"
            ],
            "text/plain": [
              "<IPython.core.display.Javascript object>"
            ]
          },
          "metadata": {
            "tags": [
              "id4-0-0",
              "outputarea_id4"
            ]
          }
        },
        {
          "output_type": "display_data",
          "data": {
            "application/javascript": [
              "window[\"9ac5fbdc-7f5f-11eb-bd7d-0242ac1c0002\"] = google.colab.output.setActiveOutputArea(window[\"9ac5aad8-7f5f-11eb-bd7d-0242ac1c0002\"]);\n",
              "//# sourceURL=js_e06587f470"
            ],
            "text/plain": [
              "<IPython.core.display.Javascript object>"
            ]
          },
          "metadata": {
            "tags": [
              "id4-0-0",
              "outputarea_id4"
            ]
          }
        },
        {
          "output_type": "display_data",
          "data": {
            "application/javascript": [
              "window[\"9adbde20-7f5f-11eb-bd7d-0242ac1c0002\"] = google.colab.output.setActiveOutputArea(window[\"9ac55f56-7f5f-11eb-bd7d-0242ac1c0002\"]);\n",
              "//# sourceURL=js_5d561f31ec"
            ],
            "text/plain": [
              "<IPython.core.display.Javascript object>"
            ]
          },
          "metadata": {
            "tags": [
              "id4-0-0",
              "outputarea_id4"
            ]
          }
        },
        {
          "output_type": "display_data",
          "data": {
            "application/javascript": [
              "window[\"9b299066-7f5f-11eb-bd7d-0242ac1c0002\"] = google.colab.output.getActiveOutputArea();\n",
              "//# sourceURL=js_e416d2b04c"
            ],
            "text/plain": [
              "<IPython.core.display.Javascript object>"
            ]
          },
          "metadata": {
            "tags": [
              "id4-0-0",
              "outputarea_id4"
            ]
          }
        },
        {
          "output_type": "display_data",
          "data": {
            "application/javascript": [
              "window[\"9b29d74c-7f5f-11eb-bd7d-0242ac1c0002\"] = document.querySelector(\"#id4-0-0\");\n",
              "//# sourceURL=js_35216b9dc4"
            ],
            "text/plain": [
              "<IPython.core.display.Javascript object>"
            ]
          },
          "metadata": {
            "tags": [
              "id4-0-0",
              "outputarea_id4"
            ]
          }
        },
        {
          "output_type": "display_data",
          "data": {
            "application/javascript": [
              "window[\"9b2a1ae0-7f5f-11eb-bd7d-0242ac1c0002\"] = google.colab.output.setActiveOutputArea(window[\"9b29d74c-7f5f-11eb-bd7d-0242ac1c0002\"]);\n",
              "//# sourceURL=js_f0406b735a"
            ],
            "text/plain": [
              "<IPython.core.display.Javascript object>"
            ]
          },
          "metadata": {
            "tags": [
              "id4-0-0",
              "outputarea_id4"
            ]
          }
        },
        {
          "output_type": "display_data",
          "data": {
            "application/javascript": [
              "window[\"9b4006e8-7f5f-11eb-bd7d-0242ac1c0002\"] = google.colab.output.setActiveOutputArea(window[\"9b299066-7f5f-11eb-bd7d-0242ac1c0002\"]);\n",
              "//# sourceURL=js_99b2f19cea"
            ],
            "text/plain": [
              "<IPython.core.display.Javascript object>"
            ]
          },
          "metadata": {
            "tags": [
              "id4-0-0",
              "outputarea_id4"
            ]
          }
        },
        {
          "output_type": "display_data",
          "data": {
            "application/javascript": [
              "window[\"9b8dcbbc-7f5f-11eb-bd7d-0242ac1c0002\"] = google.colab.output.getActiveOutputArea();\n",
              "//# sourceURL=js_2f871d57b4"
            ],
            "text/plain": [
              "<IPython.core.display.Javascript object>"
            ]
          },
          "metadata": {
            "tags": [
              "id4-0-0",
              "outputarea_id4"
            ]
          }
        },
        {
          "output_type": "display_data",
          "data": {
            "application/javascript": [
              "window[\"9b8e1a90-7f5f-11eb-bd7d-0242ac1c0002\"] = document.querySelector(\"#id4-0-0\");\n",
              "//# sourceURL=js_e03e628c92"
            ],
            "text/plain": [
              "<IPython.core.display.Javascript object>"
            ]
          },
          "metadata": {
            "tags": [
              "id4-0-0",
              "outputarea_id4"
            ]
          }
        },
        {
          "output_type": "display_data",
          "data": {
            "application/javascript": [
              "window[\"9b8e6f2c-7f5f-11eb-bd7d-0242ac1c0002\"] = google.colab.output.setActiveOutputArea(window[\"9b8e1a90-7f5f-11eb-bd7d-0242ac1c0002\"]);\n",
              "//# sourceURL=js_37e9eed5d2"
            ],
            "text/plain": [
              "<IPython.core.display.Javascript object>"
            ]
          },
          "metadata": {
            "tags": [
              "id4-0-0",
              "outputarea_id4"
            ]
          }
        },
        {
          "output_type": "display_data",
          "data": {
            "application/javascript": [
              "window[\"9ba59d5a-7f5f-11eb-bd7d-0242ac1c0002\"] = google.colab.output.setActiveOutputArea(window[\"9b8dcbbc-7f5f-11eb-bd7d-0242ac1c0002\"]);\n",
              "//# sourceURL=js_a4f3498bc8"
            ],
            "text/plain": [
              "<IPython.core.display.Javascript object>"
            ]
          },
          "metadata": {
            "tags": [
              "id4-0-0",
              "outputarea_id4"
            ]
          }
        },
        {
          "output_type": "display_data",
          "data": {
            "application/javascript": [
              "window[\"9bf3462c-7f5f-11eb-bd7d-0242ac1c0002\"] = google.colab.output.getActiveOutputArea();\n",
              "//# sourceURL=js_aca4e0edb9"
            ],
            "text/plain": [
              "<IPython.core.display.Javascript object>"
            ]
          },
          "metadata": {
            "tags": [
              "id4-0-0",
              "outputarea_id4"
            ]
          }
        },
        {
          "output_type": "display_data",
          "data": {
            "application/javascript": [
              "window[\"9bf3919a-7f5f-11eb-bd7d-0242ac1c0002\"] = document.querySelector(\"#id4-0-0\");\n",
              "//# sourceURL=js_dc3f3d0b9f"
            ],
            "text/plain": [
              "<IPython.core.display.Javascript object>"
            ]
          },
          "metadata": {
            "tags": [
              "id4-0-0",
              "outputarea_id4"
            ]
          }
        },
        {
          "output_type": "display_data",
          "data": {
            "application/javascript": [
              "window[\"9bf3d6c8-7f5f-11eb-bd7d-0242ac1c0002\"] = google.colab.output.setActiveOutputArea(window[\"9bf3919a-7f5f-11eb-bd7d-0242ac1c0002\"]);\n",
              "//# sourceURL=js_95ee668bf7"
            ],
            "text/plain": [
              "<IPython.core.display.Javascript object>"
            ]
          },
          "metadata": {
            "tags": [
              "id4-0-0",
              "outputarea_id4"
            ]
          }
        },
        {
          "output_type": "display_data",
          "data": {
            "application/javascript": [
              "window[\"9c0a4afc-7f5f-11eb-bd7d-0242ac1c0002\"] = google.colab.output.setActiveOutputArea(window[\"9bf3462c-7f5f-11eb-bd7d-0242ac1c0002\"]);\n",
              "//# sourceURL=js_a0195f1290"
            ],
            "text/plain": [
              "<IPython.core.display.Javascript object>"
            ]
          },
          "metadata": {
            "tags": [
              "id4-0-0",
              "outputarea_id4"
            ]
          }
        },
        {
          "output_type": "display_data",
          "data": {
            "application/javascript": [
              "window[\"9c57e0b4-7f5f-11eb-bd7d-0242ac1c0002\"] = google.colab.output.getActiveOutputArea();\n",
              "//# sourceURL=js_c5a8f8f543"
            ],
            "text/plain": [
              "<IPython.core.display.Javascript object>"
            ]
          },
          "metadata": {
            "tags": [
              "id4-0-0",
              "outputarea_id4"
            ]
          }
        },
        {
          "output_type": "display_data",
          "data": {
            "application/javascript": [
              "window[\"9c58257e-7f5f-11eb-bd7d-0242ac1c0002\"] = document.querySelector(\"#id4-0-0\");\n",
              "//# sourceURL=js_7ae31ece38"
            ],
            "text/plain": [
              "<IPython.core.display.Javascript object>"
            ]
          },
          "metadata": {
            "tags": [
              "id4-0-0",
              "outputarea_id4"
            ]
          }
        },
        {
          "output_type": "display_data",
          "data": {
            "application/javascript": [
              "window[\"9c587952-7f5f-11eb-bd7d-0242ac1c0002\"] = google.colab.output.setActiveOutputArea(window[\"9c58257e-7f5f-11eb-bd7d-0242ac1c0002\"]);\n",
              "//# sourceURL=js_4ecb0c5a40"
            ],
            "text/plain": [
              "<IPython.core.display.Javascript object>"
            ]
          },
          "metadata": {
            "tags": [
              "id4-0-0",
              "outputarea_id4"
            ]
          }
        },
        {
          "output_type": "display_data",
          "data": {
            "application/javascript": [
              "window[\"9c6f0262-7f5f-11eb-bd7d-0242ac1c0002\"] = google.colab.output.setActiveOutputArea(window[\"9c57e0b4-7f5f-11eb-bd7d-0242ac1c0002\"]);\n",
              "//# sourceURL=js_fcf17a3f54"
            ],
            "text/plain": [
              "<IPython.core.display.Javascript object>"
            ]
          },
          "metadata": {
            "tags": [
              "id4-0-0",
              "outputarea_id4"
            ]
          }
        },
        {
          "output_type": "display_data",
          "data": {
            "application/javascript": [
              "window[\"9cbcb084-7f5f-11eb-bd7d-0242ac1c0002\"] = google.colab.output.getActiveOutputArea();\n",
              "//# sourceURL=js_2c752481dd"
            ],
            "text/plain": [
              "<IPython.core.display.Javascript object>"
            ]
          },
          "metadata": {
            "tags": [
              "id4-0-0",
              "outputarea_id4"
            ]
          }
        },
        {
          "output_type": "display_data",
          "data": {
            "application/javascript": [
              "window[\"9cbcefea-7f5f-11eb-bd7d-0242ac1c0002\"] = document.querySelector(\"#id4-0-0\");\n",
              "//# sourceURL=js_32ee471022"
            ],
            "text/plain": [
              "<IPython.core.display.Javascript object>"
            ]
          },
          "metadata": {
            "tags": [
              "id4-0-0",
              "outputarea_id4"
            ]
          }
        },
        {
          "output_type": "display_data",
          "data": {
            "application/javascript": [
              "window[\"9cbd60b0-7f5f-11eb-bd7d-0242ac1c0002\"] = google.colab.output.setActiveOutputArea(window[\"9cbcefea-7f5f-11eb-bd7d-0242ac1c0002\"]);\n",
              "//# sourceURL=js_29e80eaf3a"
            ],
            "text/plain": [
              "<IPython.core.display.Javascript object>"
            ]
          },
          "metadata": {
            "tags": [
              "id4-0-0",
              "outputarea_id4"
            ]
          }
        },
        {
          "output_type": "display_data",
          "data": {
            "application/javascript": [
              "window[\"9cded29a-7f5f-11eb-bd7d-0242ac1c0002\"] = google.colab.output.setActiveOutputArea(window[\"9cbcb084-7f5f-11eb-bd7d-0242ac1c0002\"]);\n",
              "//# sourceURL=js_a29e0ab2a7"
            ],
            "text/plain": [
              "<IPython.core.display.Javascript object>"
            ]
          },
          "metadata": {
            "tags": [
              "id4-0-0",
              "outputarea_id4"
            ]
          }
        },
        {
          "output_type": "display_data",
          "data": {
            "application/javascript": [
              "window[\"9d2d3f7a-7f5f-11eb-bd7d-0242ac1c0002\"] = google.colab.output.getActiveOutputArea();\n",
              "//# sourceURL=js_cf67d76fb8"
            ],
            "text/plain": [
              "<IPython.core.display.Javascript object>"
            ]
          },
          "metadata": {
            "tags": [
              "id4-0-0",
              "outputarea_id4"
            ]
          }
        },
        {
          "output_type": "display_data",
          "data": {
            "application/javascript": [
              "window[\"9d2d8bba-7f5f-11eb-bd7d-0242ac1c0002\"] = document.querySelector(\"#id4-0-0\");\n",
              "//# sourceURL=js_630dd332ef"
            ],
            "text/plain": [
              "<IPython.core.display.Javascript object>"
            ]
          },
          "metadata": {
            "tags": [
              "id4-0-0",
              "outputarea_id4"
            ]
          }
        },
        {
          "output_type": "display_data",
          "data": {
            "application/javascript": [
              "window[\"9d2de178-7f5f-11eb-bd7d-0242ac1c0002\"] = google.colab.output.setActiveOutputArea(window[\"9d2d8bba-7f5f-11eb-bd7d-0242ac1c0002\"]);\n",
              "//# sourceURL=js_d90c5b1971"
            ],
            "text/plain": [
              "<IPython.core.display.Javascript object>"
            ]
          },
          "metadata": {
            "tags": [
              "id4-0-0",
              "outputarea_id4"
            ]
          }
        },
        {
          "output_type": "display_data",
          "data": {
            "application/javascript": [
              "window[\"9d484a22-7f5f-11eb-bd7d-0242ac1c0002\"] = google.colab.output.setActiveOutputArea(window[\"9d2d3f7a-7f5f-11eb-bd7d-0242ac1c0002\"]);\n",
              "//# sourceURL=js_5145cefc8c"
            ],
            "text/plain": [
              "<IPython.core.display.Javascript object>"
            ]
          },
          "metadata": {
            "tags": [
              "id4-0-0",
              "outputarea_id4"
            ]
          }
        },
        {
          "output_type": "display_data",
          "data": {
            "application/javascript": [
              "window[\"9d96f582-7f5f-11eb-bd7d-0242ac1c0002\"] = google.colab.output.getActiveOutputArea();\n",
              "//# sourceURL=js_2bcbece1e2"
            ],
            "text/plain": [
              "<IPython.core.display.Javascript object>"
            ]
          },
          "metadata": {
            "tags": [
              "id4-0-0",
              "outputarea_id4"
            ]
          }
        },
        {
          "output_type": "display_data",
          "data": {
            "application/javascript": [
              "window[\"9d9770fc-7f5f-11eb-bd7d-0242ac1c0002\"] = document.querySelector(\"#id4-0-0\");\n",
              "//# sourceURL=js_f1c0aaef70"
            ],
            "text/plain": [
              "<IPython.core.display.Javascript object>"
            ]
          },
          "metadata": {
            "tags": [
              "id4-0-0",
              "outputarea_id4"
            ]
          }
        },
        {
          "output_type": "display_data",
          "data": {
            "application/javascript": [
              "window[\"9d98ef9a-7f5f-11eb-bd7d-0242ac1c0002\"] = google.colab.output.setActiveOutputArea(window[\"9d9770fc-7f5f-11eb-bd7d-0242ac1c0002\"]);\n",
              "//# sourceURL=js_0f4dc68a57"
            ],
            "text/plain": [
              "<IPython.core.display.Javascript object>"
            ]
          },
          "metadata": {
            "tags": [
              "id4-0-0",
              "outputarea_id4"
            ]
          }
        },
        {
          "output_type": "display_data",
          "data": {
            "application/javascript": [
              "window[\"9db0791c-7f5f-11eb-bd7d-0242ac1c0002\"] = google.colab.output.setActiveOutputArea(window[\"9d96f582-7f5f-11eb-bd7d-0242ac1c0002\"]);\n",
              "//# sourceURL=js_9a7f69cc12"
            ],
            "text/plain": [
              "<IPython.core.display.Javascript object>"
            ]
          },
          "metadata": {
            "tags": [
              "id4-0-0",
              "outputarea_id4"
            ]
          }
        },
        {
          "output_type": "display_data",
          "data": {
            "application/javascript": [
              "window[\"9dfe3184-7f5f-11eb-bd7d-0242ac1c0002\"] = google.colab.output.getActiveOutputArea();\n",
              "//# sourceURL=js_cc72e4ab7f"
            ],
            "text/plain": [
              "<IPython.core.display.Javascript object>"
            ]
          },
          "metadata": {
            "tags": [
              "id4-0-0",
              "outputarea_id4"
            ]
          }
        },
        {
          "output_type": "display_data",
          "data": {
            "application/javascript": [
              "window[\"9dfe8aee-7f5f-11eb-bd7d-0242ac1c0002\"] = document.querySelector(\"#id4-0-0\");\n",
              "//# sourceURL=js_a0181833cf"
            ],
            "text/plain": [
              "<IPython.core.display.Javascript object>"
            ]
          },
          "metadata": {
            "tags": [
              "id4-0-0",
              "outputarea_id4"
            ]
          }
        },
        {
          "output_type": "display_data",
          "data": {
            "application/javascript": [
              "window[\"9dfecb1c-7f5f-11eb-bd7d-0242ac1c0002\"] = google.colab.output.setActiveOutputArea(window[\"9dfe8aee-7f5f-11eb-bd7d-0242ac1c0002\"]);\n",
              "//# sourceURL=js_6c3f9776c3"
            ],
            "text/plain": [
              "<IPython.core.display.Javascript object>"
            ]
          },
          "metadata": {
            "tags": [
              "id4-0-0",
              "outputarea_id4"
            ]
          }
        },
        {
          "output_type": "display_data",
          "data": {
            "application/javascript": [
              "window[\"9e17806c-7f5f-11eb-bd7d-0242ac1c0002\"] = google.colab.output.setActiveOutputArea(window[\"9dfe3184-7f5f-11eb-bd7d-0242ac1c0002\"]);\n",
              "//# sourceURL=js_ff55d00505"
            ],
            "text/plain": [
              "<IPython.core.display.Javascript object>"
            ]
          },
          "metadata": {
            "tags": [
              "id4-0-0",
              "outputarea_id4"
            ]
          }
        },
        {
          "output_type": "display_data",
          "data": {
            "application/javascript": [
              "window[\"9e650b66-7f5f-11eb-bd7d-0242ac1c0002\"] = google.colab.output.getActiveOutputArea();\n",
              "//# sourceURL=js_aae17fee1e"
            ],
            "text/plain": [
              "<IPython.core.display.Javascript object>"
            ]
          },
          "metadata": {
            "tags": [
              "id4-0-0",
              "outputarea_id4"
            ]
          }
        },
        {
          "output_type": "display_data",
          "data": {
            "application/javascript": [
              "window[\"9e653f3c-7f5f-11eb-bd7d-0242ac1c0002\"] = document.querySelector(\"#id4-0-0\");\n",
              "//# sourceURL=js_78492f0207"
            ],
            "text/plain": [
              "<IPython.core.display.Javascript object>"
            ]
          },
          "metadata": {
            "tags": [
              "id4-0-0",
              "outputarea_id4"
            ]
          }
        },
        {
          "output_type": "display_data",
          "data": {
            "application/javascript": [
              "window[\"9e656d04-7f5f-11eb-bd7d-0242ac1c0002\"] = google.colab.output.setActiveOutputArea(window[\"9e653f3c-7f5f-11eb-bd7d-0242ac1c0002\"]);\n",
              "//# sourceURL=js_a11e9bbd08"
            ],
            "text/plain": [
              "<IPython.core.display.Javascript object>"
            ]
          },
          "metadata": {
            "tags": [
              "id4-0-0",
              "outputarea_id4"
            ]
          }
        },
        {
          "output_type": "display_data",
          "data": {
            "application/javascript": [
              "window[\"9e7df4d2-7f5f-11eb-bd7d-0242ac1c0002\"] = google.colab.output.setActiveOutputArea(window[\"9e650b66-7f5f-11eb-bd7d-0242ac1c0002\"]);\n",
              "//# sourceURL=js_3fa846ae34"
            ],
            "text/plain": [
              "<IPython.core.display.Javascript object>"
            ]
          },
          "metadata": {
            "tags": [
              "id4-0-0",
              "outputarea_id4"
            ]
          }
        },
        {
          "output_type": "display_data",
          "data": {
            "application/javascript": [
              "window[\"9ecb9f2a-7f5f-11eb-bd7d-0242ac1c0002\"] = google.colab.output.getActiveOutputArea();\n",
              "//# sourceURL=js_ded445df43"
            ],
            "text/plain": [
              "<IPython.core.display.Javascript object>"
            ]
          },
          "metadata": {
            "tags": [
              "id4-0-0",
              "outputarea_id4"
            ]
          }
        },
        {
          "output_type": "display_data",
          "data": {
            "application/javascript": [
              "window[\"9ecc8b42-7f5f-11eb-bd7d-0242ac1c0002\"] = document.querySelector(\"#id4-0-0\");\n",
              "//# sourceURL=js_18255b10dc"
            ],
            "text/plain": [
              "<IPython.core.display.Javascript object>"
            ]
          },
          "metadata": {
            "tags": [
              "id4-0-0",
              "outputarea_id4"
            ]
          }
        },
        {
          "output_type": "display_data",
          "data": {
            "application/javascript": [
              "window[\"9eccf442-7f5f-11eb-bd7d-0242ac1c0002\"] = google.colab.output.setActiveOutputArea(window[\"9ecc8b42-7f5f-11eb-bd7d-0242ac1c0002\"]);\n",
              "//# sourceURL=js_9d7afd04cd"
            ],
            "text/plain": [
              "<IPython.core.display.Javascript object>"
            ]
          },
          "metadata": {
            "tags": [
              "id4-0-0",
              "outputarea_id4"
            ]
          }
        },
        {
          "output_type": "display_data",
          "data": {
            "application/javascript": [
              "window[\"9ee2718c-7f5f-11eb-bd7d-0242ac1c0002\"] = google.colab.output.setActiveOutputArea(window[\"9ecb9f2a-7f5f-11eb-bd7d-0242ac1c0002\"]);\n",
              "//# sourceURL=js_b456d3b1b9"
            ],
            "text/plain": [
              "<IPython.core.display.Javascript object>"
            ]
          },
          "metadata": {
            "tags": [
              "id4-0-0",
              "outputarea_id4"
            ]
          }
        },
        {
          "output_type": "display_data",
          "data": {
            "application/javascript": [
              "window[\"9f30065e-7f5f-11eb-bd7d-0242ac1c0002\"] = google.colab.output.getActiveOutputArea();\n",
              "//# sourceURL=js_75dc42b5ff"
            ],
            "text/plain": [
              "<IPython.core.display.Javascript object>"
            ]
          },
          "metadata": {
            "tags": [
              "id4-0-0",
              "outputarea_id4"
            ]
          }
        },
        {
          "output_type": "display_data",
          "data": {
            "application/javascript": [
              "window[\"9f3065c2-7f5f-11eb-bd7d-0242ac1c0002\"] = document.querySelector(\"#id4-0-0\");\n",
              "//# sourceURL=js_85eb733505"
            ],
            "text/plain": [
              "<IPython.core.display.Javascript object>"
            ]
          },
          "metadata": {
            "tags": [
              "id4-0-0",
              "outputarea_id4"
            ]
          }
        },
        {
          "output_type": "display_data",
          "data": {
            "application/javascript": [
              "window[\"9f30a9a6-7f5f-11eb-bd7d-0242ac1c0002\"] = google.colab.output.setActiveOutputArea(window[\"9f3065c2-7f5f-11eb-bd7d-0242ac1c0002\"]);\n",
              "//# sourceURL=js_e12a281b71"
            ],
            "text/plain": [
              "<IPython.core.display.Javascript object>"
            ]
          },
          "metadata": {
            "tags": [
              "id4-0-0",
              "outputarea_id4"
            ]
          }
        },
        {
          "output_type": "display_data",
          "data": {
            "application/javascript": [
              "window[\"9f47c6d6-7f5f-11eb-bd7d-0242ac1c0002\"] = google.colab.output.setActiveOutputArea(window[\"9f30065e-7f5f-11eb-bd7d-0242ac1c0002\"]);\n",
              "//# sourceURL=js_9f7490a040"
            ],
            "text/plain": [
              "<IPython.core.display.Javascript object>"
            ]
          },
          "metadata": {
            "tags": [
              "id4-0-0",
              "outputarea_id4"
            ]
          }
        },
        {
          "output_type": "display_data",
          "data": {
            "application/javascript": [
              "window[\"9f96358c-7f5f-11eb-bd7d-0242ac1c0002\"] = google.colab.output.getActiveOutputArea();\n",
              "//# sourceURL=js_36b38e9781"
            ],
            "text/plain": [
              "<IPython.core.display.Javascript object>"
            ]
          },
          "metadata": {
            "tags": [
              "id4-0-0",
              "outputarea_id4"
            ]
          }
        },
        {
          "output_type": "display_data",
          "data": {
            "application/javascript": [
              "window[\"9f968730-7f5f-11eb-bd7d-0242ac1c0002\"] = document.querySelector(\"#id4-0-0\");\n",
              "//# sourceURL=js_f69cfd7019"
            ],
            "text/plain": [
              "<IPython.core.display.Javascript object>"
            ]
          },
          "metadata": {
            "tags": [
              "id4-0-0",
              "outputarea_id4"
            ]
          }
        },
        {
          "output_type": "display_data",
          "data": {
            "application/javascript": [
              "window[\"9f96cb00-7f5f-11eb-bd7d-0242ac1c0002\"] = google.colab.output.setActiveOutputArea(window[\"9f968730-7f5f-11eb-bd7d-0242ac1c0002\"]);\n",
              "//# sourceURL=js_5f9498c2a2"
            ],
            "text/plain": [
              "<IPython.core.display.Javascript object>"
            ]
          },
          "metadata": {
            "tags": [
              "id4-0-0",
              "outputarea_id4"
            ]
          }
        },
        {
          "output_type": "display_data",
          "data": {
            "application/javascript": [
              "window[\"9faf30f0-7f5f-11eb-bd7d-0242ac1c0002\"] = google.colab.output.setActiveOutputArea(window[\"9f96358c-7f5f-11eb-bd7d-0242ac1c0002\"]);\n",
              "//# sourceURL=js_3f73c4a226"
            ],
            "text/plain": [
              "<IPython.core.display.Javascript object>"
            ]
          },
          "metadata": {
            "tags": [
              "id4-0-0",
              "outputarea_id4"
            ]
          }
        },
        {
          "output_type": "display_data",
          "data": {
            "application/javascript": [
              "window[\"9ffcdd1e-7f5f-11eb-bd7d-0242ac1c0002\"] = google.colab.output.getActiveOutputArea();\n",
              "//# sourceURL=js_ee512448a5"
            ],
            "text/plain": [
              "<IPython.core.display.Javascript object>"
            ]
          },
          "metadata": {
            "tags": [
              "id4-0-0",
              "outputarea_id4"
            ]
          }
        },
        {
          "output_type": "display_data",
          "data": {
            "application/javascript": [
              "window[\"9ffd127a-7f5f-11eb-bd7d-0242ac1c0002\"] = document.querySelector(\"#id4-0-0\");\n",
              "//# sourceURL=js_7c11092022"
            ],
            "text/plain": [
              "<IPython.core.display.Javascript object>"
            ]
          },
          "metadata": {
            "tags": [
              "id4-0-0",
              "outputarea_id4"
            ]
          }
        },
        {
          "output_type": "display_data",
          "data": {
            "application/javascript": [
              "window[\"9ffd4178-7f5f-11eb-bd7d-0242ac1c0002\"] = google.colab.output.setActiveOutputArea(window[\"9ffd127a-7f5f-11eb-bd7d-0242ac1c0002\"]);\n",
              "//# sourceURL=js_f64d4e00d5"
            ],
            "text/plain": [
              "<IPython.core.display.Javascript object>"
            ]
          },
          "metadata": {
            "tags": [
              "id4-0-0",
              "outputarea_id4"
            ]
          }
        },
        {
          "output_type": "display_data",
          "data": {
            "application/javascript": [
              "window[\"a016501e-7f5f-11eb-bd7d-0242ac1c0002\"] = google.colab.output.setActiveOutputArea(window[\"9ffcdd1e-7f5f-11eb-bd7d-0242ac1c0002\"]);\n",
              "//# sourceURL=js_902c08eff0"
            ],
            "text/plain": [
              "<IPython.core.display.Javascript object>"
            ]
          },
          "metadata": {
            "tags": [
              "id4-0-0",
              "outputarea_id4"
            ]
          }
        },
        {
          "output_type": "display_data",
          "data": {
            "application/javascript": [
              "window[\"a0650b32-7f5f-11eb-bd7d-0242ac1c0002\"] = google.colab.output.getActiveOutputArea();\n",
              "//# sourceURL=js_bbab457140"
            ],
            "text/plain": [
              "<IPython.core.display.Javascript object>"
            ]
          },
          "metadata": {
            "tags": [
              "id4-0-0",
              "outputarea_id4"
            ]
          }
        },
        {
          "output_type": "display_data",
          "data": {
            "application/javascript": [
              "window[\"a0658134-7f5f-11eb-bd7d-0242ac1c0002\"] = document.querySelector(\"#id4-0-0\");\n",
              "//# sourceURL=js_82fa58d060"
            ],
            "text/plain": [
              "<IPython.core.display.Javascript object>"
            ]
          },
          "metadata": {
            "tags": [
              "id4-0-0",
              "outputarea_id4"
            ]
          }
        },
        {
          "output_type": "display_data",
          "data": {
            "application/javascript": [
              "window[\"a066e97a-7f5f-11eb-bd7d-0242ac1c0002\"] = google.colab.output.setActiveOutputArea(window[\"a0658134-7f5f-11eb-bd7d-0242ac1c0002\"]);\n",
              "//# sourceURL=js_cfef9bf222"
            ],
            "text/plain": [
              "<IPython.core.display.Javascript object>"
            ]
          },
          "metadata": {
            "tags": [
              "id4-0-0",
              "outputarea_id4"
            ]
          }
        },
        {
          "output_type": "display_data",
          "data": {
            "application/javascript": [
              "window[\"a0801cba-7f5f-11eb-bd7d-0242ac1c0002\"] = google.colab.output.setActiveOutputArea(window[\"a0650b32-7f5f-11eb-bd7d-0242ac1c0002\"]);\n",
              "//# sourceURL=js_8be8521feb"
            ],
            "text/plain": [
              "<IPython.core.display.Javascript object>"
            ]
          },
          "metadata": {
            "tags": [
              "id4-0-0",
              "outputarea_id4"
            ]
          }
        },
        {
          "output_type": "display_data",
          "data": {
            "application/javascript": [
              "window[\"a0cdf35e-7f5f-11eb-bd7d-0242ac1c0002\"] = google.colab.output.getActiveOutputArea();\n",
              "//# sourceURL=js_87244379b1"
            ],
            "text/plain": [
              "<IPython.core.display.Javascript object>"
            ]
          },
          "metadata": {
            "tags": [
              "id4-0-0",
              "outputarea_id4"
            ]
          }
        },
        {
          "output_type": "display_data",
          "data": {
            "application/javascript": [
              "window[\"a0ce502e-7f5f-11eb-bd7d-0242ac1c0002\"] = document.querySelector(\"#id4-0-0\");\n",
              "//# sourceURL=js_ccb50fc9c5"
            ],
            "text/plain": [
              "<IPython.core.display.Javascript object>"
            ]
          },
          "metadata": {
            "tags": [
              "id4-0-0",
              "outputarea_id4"
            ]
          }
        },
        {
          "output_type": "display_data",
          "data": {
            "application/javascript": [
              "window[\"a0ce9e6c-7f5f-11eb-bd7d-0242ac1c0002\"] = google.colab.output.setActiveOutputArea(window[\"a0ce502e-7f5f-11eb-bd7d-0242ac1c0002\"]);\n",
              "//# sourceURL=js_bbd0ff9e84"
            ],
            "text/plain": [
              "<IPython.core.display.Javascript object>"
            ]
          },
          "metadata": {
            "tags": [
              "id4-0-0",
              "outputarea_id4"
            ]
          }
        },
        {
          "output_type": "display_data",
          "data": {
            "application/javascript": [
              "window[\"a0e5ed56-7f5f-11eb-bd7d-0242ac1c0002\"] = google.colab.output.setActiveOutputArea(window[\"a0cdf35e-7f5f-11eb-bd7d-0242ac1c0002\"]);\n",
              "//# sourceURL=js_78fab05cc1"
            ],
            "text/plain": [
              "<IPython.core.display.Javascript object>"
            ]
          },
          "metadata": {
            "tags": [
              "id4-0-0",
              "outputarea_id4"
            ]
          }
        },
        {
          "output_type": "display_data",
          "data": {
            "application/javascript": [
              "window[\"a133e7c2-7f5f-11eb-bd7d-0242ac1c0002\"] = google.colab.output.getActiveOutputArea();\n",
              "//# sourceURL=js_a789e0f084"
            ],
            "text/plain": [
              "<IPython.core.display.Javascript object>"
            ]
          },
          "metadata": {
            "tags": [
              "id4-0-0",
              "outputarea_id4"
            ]
          }
        },
        {
          "output_type": "display_data",
          "data": {
            "application/javascript": [
              "window[\"a1343f2e-7f5f-11eb-bd7d-0242ac1c0002\"] = document.querySelector(\"#id4-0-0\");\n",
              "//# sourceURL=js_07f7f7c99f"
            ],
            "text/plain": [
              "<IPython.core.display.Javascript object>"
            ]
          },
          "metadata": {
            "tags": [
              "id4-0-0",
              "outputarea_id4"
            ]
          }
        },
        {
          "output_type": "display_data",
          "data": {
            "application/javascript": [
              "window[\"a1353d34-7f5f-11eb-bd7d-0242ac1c0002\"] = google.colab.output.setActiveOutputArea(window[\"a1343f2e-7f5f-11eb-bd7d-0242ac1c0002\"]);\n",
              "//# sourceURL=js_d9579bf629"
            ],
            "text/plain": [
              "<IPython.core.display.Javascript object>"
            ]
          },
          "metadata": {
            "tags": [
              "id4-0-0",
              "outputarea_id4"
            ]
          }
        },
        {
          "output_type": "display_data",
          "data": {
            "application/javascript": [
              "window[\"a14bcb8a-7f5f-11eb-bd7d-0242ac1c0002\"] = google.colab.output.setActiveOutputArea(window[\"a133e7c2-7f5f-11eb-bd7d-0242ac1c0002\"]);\n",
              "//# sourceURL=js_beee851178"
            ],
            "text/plain": [
              "<IPython.core.display.Javascript object>"
            ]
          },
          "metadata": {
            "tags": [
              "id4-0-0",
              "outputarea_id4"
            ]
          }
        },
        {
          "output_type": "display_data",
          "data": {
            "application/javascript": [
              "window[\"a199c902-7f5f-11eb-bd7d-0242ac1c0002\"] = google.colab.output.getActiveOutputArea();\n",
              "//# sourceURL=js_5da1eab09e"
            ],
            "text/plain": [
              "<IPython.core.display.Javascript object>"
            ]
          },
          "metadata": {
            "tags": [
              "id4-0-0",
              "outputarea_id4"
            ]
          }
        },
        {
          "output_type": "display_data",
          "data": {
            "application/javascript": [
              "window[\"a19a0ebc-7f5f-11eb-bd7d-0242ac1c0002\"] = document.querySelector(\"#id4-0-0\");\n",
              "//# sourceURL=js_ee37316ebb"
            ],
            "text/plain": [
              "<IPython.core.display.Javascript object>"
            ]
          },
          "metadata": {
            "tags": [
              "id4-0-0",
              "outputarea_id4"
            ]
          }
        },
        {
          "output_type": "display_data",
          "data": {
            "application/javascript": [
              "window[\"a19a62d6-7f5f-11eb-bd7d-0242ac1c0002\"] = google.colab.output.setActiveOutputArea(window[\"a19a0ebc-7f5f-11eb-bd7d-0242ac1c0002\"]);\n",
              "//# sourceURL=js_0af1c9e3a3"
            ],
            "text/plain": [
              "<IPython.core.display.Javascript object>"
            ]
          },
          "metadata": {
            "tags": [
              "id4-0-0",
              "outputarea_id4"
            ]
          }
        },
        {
          "output_type": "display_data",
          "data": {
            "application/javascript": [
              "window[\"a1bc0d00-7f5f-11eb-bd7d-0242ac1c0002\"] = google.colab.output.setActiveOutputArea(window[\"a199c902-7f5f-11eb-bd7d-0242ac1c0002\"]);\n",
              "//# sourceURL=js_f88c83476d"
            ],
            "text/plain": [
              "<IPython.core.display.Javascript object>"
            ]
          },
          "metadata": {
            "tags": [
              "id4-0-0",
              "outputarea_id4"
            ]
          }
        },
        {
          "output_type": "display_data",
          "data": {
            "application/javascript": [
              "window[\"a209c2f2-7f5f-11eb-bd7d-0242ac1c0002\"] = google.colab.output.getActiveOutputArea();\n",
              "//# sourceURL=js_a934273fab"
            ],
            "text/plain": [
              "<IPython.core.display.Javascript object>"
            ]
          },
          "metadata": {
            "tags": [
              "id4-0-0",
              "outputarea_id4"
            ]
          }
        },
        {
          "output_type": "display_data",
          "data": {
            "application/javascript": [
              "window[\"a20a16ee-7f5f-11eb-bd7d-0242ac1c0002\"] = document.querySelector(\"#id4-0-0\");\n",
              "//# sourceURL=js_72df59cbe0"
            ],
            "text/plain": [
              "<IPython.core.display.Javascript object>"
            ]
          },
          "metadata": {
            "tags": [
              "id4-0-0",
              "outputarea_id4"
            ]
          }
        },
        {
          "output_type": "display_data",
          "data": {
            "application/javascript": [
              "window[\"a20a79a4-7f5f-11eb-bd7d-0242ac1c0002\"] = google.colab.output.setActiveOutputArea(window[\"a20a16ee-7f5f-11eb-bd7d-0242ac1c0002\"]);\n",
              "//# sourceURL=js_6746510222"
            ],
            "text/plain": [
              "<IPython.core.display.Javascript object>"
            ]
          },
          "metadata": {
            "tags": [
              "id4-0-0",
              "outputarea_id4"
            ]
          }
        },
        {
          "output_type": "display_data",
          "data": {
            "application/javascript": [
              "window[\"a22188c4-7f5f-11eb-bd7d-0242ac1c0002\"] = google.colab.output.setActiveOutputArea(window[\"a209c2f2-7f5f-11eb-bd7d-0242ac1c0002\"]);\n",
              "//# sourceURL=js_d4fbbd9dfe"
            ],
            "text/plain": [
              "<IPython.core.display.Javascript object>"
            ]
          },
          "metadata": {
            "tags": [
              "id4-0-0",
              "outputarea_id4"
            ]
          }
        },
        {
          "output_type": "display_data",
          "data": {
            "application/javascript": [
              "window[\"a26f53ec-7f5f-11eb-bd7d-0242ac1c0002\"] = google.colab.output.getActiveOutputArea();\n",
              "//# sourceURL=js_c7837adf23"
            ],
            "text/plain": [
              "<IPython.core.display.Javascript object>"
            ]
          },
          "metadata": {
            "tags": [
              "id4-0-0",
              "outputarea_id4"
            ]
          }
        },
        {
          "output_type": "display_data",
          "data": {
            "application/javascript": [
              "window[\"a26f9c80-7f5f-11eb-bd7d-0242ac1c0002\"] = document.querySelector(\"#id4-0-0\");\n",
              "//# sourceURL=js_92f11120f5"
            ],
            "text/plain": [
              "<IPython.core.display.Javascript object>"
            ]
          },
          "metadata": {
            "tags": [
              "id4-0-0",
              "outputarea_id4"
            ]
          }
        },
        {
          "output_type": "display_data",
          "data": {
            "application/javascript": [
              "window[\"a2708e92-7f5f-11eb-bd7d-0242ac1c0002\"] = google.colab.output.setActiveOutputArea(window[\"a26f9c80-7f5f-11eb-bd7d-0242ac1c0002\"]);\n",
              "//# sourceURL=js_2d83a5a789"
            ],
            "text/plain": [
              "<IPython.core.display.Javascript object>"
            ]
          },
          "metadata": {
            "tags": [
              "id4-0-0",
              "outputarea_id4"
            ]
          }
        },
        {
          "output_type": "display_data",
          "data": {
            "application/javascript": [
              "window[\"a2881120-7f5f-11eb-bd7d-0242ac1c0002\"] = google.colab.output.setActiveOutputArea(window[\"a26f53ec-7f5f-11eb-bd7d-0242ac1c0002\"]);\n",
              "//# sourceURL=js_b3e70c39b6"
            ],
            "text/plain": [
              "<IPython.core.display.Javascript object>"
            ]
          },
          "metadata": {
            "tags": [
              "id4-0-0",
              "outputarea_id4"
            ]
          }
        },
        {
          "output_type": "display_data",
          "data": {
            "application/javascript": [
              "window[\"a2d61abe-7f5f-11eb-bd7d-0242ac1c0002\"] = google.colab.output.getActiveOutputArea();\n",
              "//# sourceURL=js_f5eb7c1d42"
            ],
            "text/plain": [
              "<IPython.core.display.Javascript object>"
            ]
          },
          "metadata": {
            "tags": [
              "id4-0-0",
              "outputarea_id4"
            ]
          }
        },
        {
          "output_type": "display_data",
          "data": {
            "application/javascript": [
              "window[\"a2d66d98-7f5f-11eb-bd7d-0242ac1c0002\"] = document.querySelector(\"#id4-0-0\");\n",
              "//# sourceURL=js_23339966ef"
            ],
            "text/plain": [
              "<IPython.core.display.Javascript object>"
            ]
          },
          "metadata": {
            "tags": [
              "id4-0-0",
              "outputarea_id4"
            ]
          }
        },
        {
          "output_type": "display_data",
          "data": {
            "application/javascript": [
              "window[\"a2d6c7a2-7f5f-11eb-bd7d-0242ac1c0002\"] = google.colab.output.setActiveOutputArea(window[\"a2d66d98-7f5f-11eb-bd7d-0242ac1c0002\"]);\n",
              "//# sourceURL=js_e72d627a39"
            ],
            "text/plain": [
              "<IPython.core.display.Javascript object>"
            ]
          },
          "metadata": {
            "tags": [
              "id4-0-0",
              "outputarea_id4"
            ]
          }
        },
        {
          "output_type": "display_data",
          "data": {
            "application/javascript": [
              "window[\"a2efeb92-7f5f-11eb-bd7d-0242ac1c0002\"] = google.colab.output.setActiveOutputArea(window[\"a2d61abe-7f5f-11eb-bd7d-0242ac1c0002\"]);\n",
              "//# sourceURL=js_a484c06dd4"
            ],
            "text/plain": [
              "<IPython.core.display.Javascript object>"
            ]
          },
          "metadata": {
            "tags": [
              "id4-0-0",
              "outputarea_id4"
            ]
          }
        },
        {
          "output_type": "display_data",
          "data": {
            "application/javascript": [
              "window[\"a33db8c2-7f5f-11eb-bd7d-0242ac1c0002\"] = google.colab.output.getActiveOutputArea();\n",
              "//# sourceURL=js_c9c42c1341"
            ],
            "text/plain": [
              "<IPython.core.display.Javascript object>"
            ]
          },
          "metadata": {
            "tags": [
              "id4-0-0",
              "outputarea_id4"
            ]
          }
        },
        {
          "output_type": "display_data",
          "data": {
            "application/javascript": [
              "window[\"a33e235c-7f5f-11eb-bd7d-0242ac1c0002\"] = document.querySelector(\"#id4-0-0\");\n",
              "//# sourceURL=js_0c68b1732d"
            ],
            "text/plain": [
              "<IPython.core.display.Javascript object>"
            ]
          },
          "metadata": {
            "tags": [
              "id4-0-0",
              "outputarea_id4"
            ]
          }
        },
        {
          "output_type": "display_data",
          "data": {
            "application/javascript": [
              "window[\"a33e7514-7f5f-11eb-bd7d-0242ac1c0002\"] = google.colab.output.setActiveOutputArea(window[\"a33e235c-7f5f-11eb-bd7d-0242ac1c0002\"]);\n",
              "//# sourceURL=js_aa664a8c47"
            ],
            "text/plain": [
              "<IPython.core.display.Javascript object>"
            ]
          },
          "metadata": {
            "tags": [
              "id4-0-0",
              "outputarea_id4"
            ]
          }
        },
        {
          "output_type": "display_data",
          "data": {
            "application/javascript": [
              "window[\"a355c9ee-7f5f-11eb-bd7d-0242ac1c0002\"] = google.colab.output.setActiveOutputArea(window[\"a33db8c2-7f5f-11eb-bd7d-0242ac1c0002\"]);\n",
              "//# sourceURL=js_4b940769c0"
            ],
            "text/plain": [
              "<IPython.core.display.Javascript object>"
            ]
          },
          "metadata": {
            "tags": [
              "id4-0-0",
              "outputarea_id4"
            ]
          }
        },
        {
          "output_type": "display_data",
          "data": {
            "application/javascript": [
              "window[\"a3a3a114-7f5f-11eb-bd7d-0242ac1c0002\"] = google.colab.output.getActiveOutputArea();\n",
              "//# sourceURL=js_82a657f550"
            ],
            "text/plain": [
              "<IPython.core.display.Javascript object>"
            ]
          },
          "metadata": {
            "tags": [
              "id4-0-0",
              "outputarea_id4"
            ]
          }
        },
        {
          "output_type": "display_data",
          "data": {
            "application/javascript": [
              "window[\"a3a3ed4a-7f5f-11eb-bd7d-0242ac1c0002\"] = document.querySelector(\"#id4-0-0\");\n",
              "//# sourceURL=js_421d084d01"
            ],
            "text/plain": [
              "<IPython.core.display.Javascript object>"
            ]
          },
          "metadata": {
            "tags": [
              "id4-0-0",
              "outputarea_id4"
            ]
          }
        },
        {
          "output_type": "display_data",
          "data": {
            "application/javascript": [
              "window[\"a3a44ca4-7f5f-11eb-bd7d-0242ac1c0002\"] = google.colab.output.setActiveOutputArea(window[\"a3a3ed4a-7f5f-11eb-bd7d-0242ac1c0002\"]);\n",
              "//# sourceURL=js_68f60d60d9"
            ],
            "text/plain": [
              "<IPython.core.display.Javascript object>"
            ]
          },
          "metadata": {
            "tags": [
              "id4-0-0",
              "outputarea_id4"
            ]
          }
        },
        {
          "output_type": "display_data",
          "data": {
            "application/javascript": [
              "window[\"a3bc9c5a-7f5f-11eb-bd7d-0242ac1c0002\"] = google.colab.output.setActiveOutputArea(window[\"a3a3a114-7f5f-11eb-bd7d-0242ac1c0002\"]);\n",
              "//# sourceURL=js_8958fd59c9"
            ],
            "text/plain": [
              "<IPython.core.display.Javascript object>"
            ]
          },
          "metadata": {
            "tags": [
              "id4-0-0",
              "outputarea_id4"
            ]
          }
        },
        {
          "output_type": "display_data",
          "data": {
            "application/javascript": [
              "window[\"a40a369a-7f5f-11eb-bd7d-0242ac1c0002\"] = google.colab.output.getActiveOutputArea();\n",
              "//# sourceURL=js_8741bb8c00"
            ],
            "text/plain": [
              "<IPython.core.display.Javascript object>"
            ]
          },
          "metadata": {
            "tags": [
              "id4-0-0",
              "outputarea_id4"
            ]
          }
        },
        {
          "output_type": "display_data",
          "data": {
            "application/javascript": [
              "window[\"a40a9202-7f5f-11eb-bd7d-0242ac1c0002\"] = document.querySelector(\"#id4-0-0\");\n",
              "//# sourceURL=js_0a43db5edb"
            ],
            "text/plain": [
              "<IPython.core.display.Javascript object>"
            ]
          },
          "metadata": {
            "tags": [
              "id4-0-0",
              "outputarea_id4"
            ]
          }
        },
        {
          "output_type": "display_data",
          "data": {
            "application/javascript": [
              "window[\"a40b4b70-7f5f-11eb-bd7d-0242ac1c0002\"] = google.colab.output.setActiveOutputArea(window[\"a40a9202-7f5f-11eb-bd7d-0242ac1c0002\"]);\n",
              "//# sourceURL=js_4750f87eab"
            ],
            "text/plain": [
              "<IPython.core.display.Javascript object>"
            ]
          },
          "metadata": {
            "tags": [
              "id4-0-0",
              "outputarea_id4"
            ]
          }
        },
        {
          "output_type": "display_data",
          "data": {
            "application/javascript": [
              "window[\"a425d634-7f5f-11eb-bd7d-0242ac1c0002\"] = google.colab.output.setActiveOutputArea(window[\"a40a369a-7f5f-11eb-bd7d-0242ac1c0002\"]);\n",
              "//# sourceURL=js_84fcbc798e"
            ],
            "text/plain": [
              "<IPython.core.display.Javascript object>"
            ]
          },
          "metadata": {
            "tags": [
              "id4-0-0",
              "outputarea_id4"
            ]
          }
        },
        {
          "output_type": "display_data",
          "data": {
            "application/javascript": [
              "window[\"a474b5a6-7f5f-11eb-bd7d-0242ac1c0002\"] = google.colab.output.getActiveOutputArea();\n",
              "//# sourceURL=js_dcf0ad08fe"
            ],
            "text/plain": [
              "<IPython.core.display.Javascript object>"
            ]
          },
          "metadata": {
            "tags": [
              "id4-0-0",
              "outputarea_id4"
            ]
          }
        },
        {
          "output_type": "display_data",
          "data": {
            "application/javascript": [
              "window[\"a474fd54-7f5f-11eb-bd7d-0242ac1c0002\"] = document.querySelector(\"#id4-0-0\");\n",
              "//# sourceURL=js_470b1cd382"
            ],
            "text/plain": [
              "<IPython.core.display.Javascript object>"
            ]
          },
          "metadata": {
            "tags": [
              "id4-0-0",
              "outputarea_id4"
            ]
          }
        },
        {
          "output_type": "display_data",
          "data": {
            "application/javascript": [
              "window[\"a4753f80-7f5f-11eb-bd7d-0242ac1c0002\"] = google.colab.output.setActiveOutputArea(window[\"a474fd54-7f5f-11eb-bd7d-0242ac1c0002\"]);\n",
              "//# sourceURL=js_dfa47673a3"
            ],
            "text/plain": [
              "<IPython.core.display.Javascript object>"
            ]
          },
          "metadata": {
            "tags": [
              "id4-0-0",
              "outputarea_id4"
            ]
          }
        },
        {
          "output_type": "display_data",
          "data": {
            "application/javascript": [
              "window[\"a48e501a-7f5f-11eb-bd7d-0242ac1c0002\"] = google.colab.output.setActiveOutputArea(window[\"a474b5a6-7f5f-11eb-bd7d-0242ac1c0002\"]);\n",
              "//# sourceURL=js_13f8c1e5e3"
            ],
            "text/plain": [
              "<IPython.core.display.Javascript object>"
            ]
          },
          "metadata": {
            "tags": [
              "id4-0-0",
              "outputarea_id4"
            ]
          }
        },
        {
          "output_type": "display_data",
          "data": {
            "application/javascript": [
              "window[\"a4dbe74e-7f5f-11eb-bd7d-0242ac1c0002\"] = google.colab.output.getActiveOutputArea();\n",
              "//# sourceURL=js_4333bb1c51"
            ],
            "text/plain": [
              "<IPython.core.display.Javascript object>"
            ]
          },
          "metadata": {
            "tags": [
              "id4-0-0",
              "outputarea_id4"
            ]
          }
        },
        {
          "output_type": "display_data",
          "data": {
            "application/javascript": [
              "window[\"a4dc3028-7f5f-11eb-bd7d-0242ac1c0002\"] = document.querySelector(\"#id4-0-0\");\n",
              "//# sourceURL=js_a91a47886d"
            ],
            "text/plain": [
              "<IPython.core.display.Javascript object>"
            ]
          },
          "metadata": {
            "tags": [
              "id4-0-0",
              "outputarea_id4"
            ]
          }
        },
        {
          "output_type": "display_data",
          "data": {
            "application/javascript": [
              "window[\"a4dc83fc-7f5f-11eb-bd7d-0242ac1c0002\"] = google.colab.output.setActiveOutputArea(window[\"a4dc3028-7f5f-11eb-bd7d-0242ac1c0002\"]);\n",
              "//# sourceURL=js_1b273acedc"
            ],
            "text/plain": [
              "<IPython.core.display.Javascript object>"
            ]
          },
          "metadata": {
            "tags": [
              "id4-0-0",
              "outputarea_id4"
            ]
          }
        },
        {
          "output_type": "display_data",
          "data": {
            "application/javascript": [
              "window[\"a4f6b3d0-7f5f-11eb-bd7d-0242ac1c0002\"] = google.colab.output.setActiveOutputArea(window[\"a4dbe74e-7f5f-11eb-bd7d-0242ac1c0002\"]);\n",
              "//# sourceURL=js_5634c05271"
            ],
            "text/plain": [
              "<IPython.core.display.Javascript object>"
            ]
          },
          "metadata": {
            "tags": [
              "id4-0-0",
              "outputarea_id4"
            ]
          }
        },
        {
          "output_type": "display_data",
          "data": {
            "application/javascript": [
              "window[\"a5447746-7f5f-11eb-bd7d-0242ac1c0002\"] = google.colab.output.getActiveOutputArea();\n",
              "//# sourceURL=js_3e5e57a303"
            ],
            "text/plain": [
              "<IPython.core.display.Javascript object>"
            ]
          },
          "metadata": {
            "tags": [
              "id4-0-0",
              "outputarea_id4"
            ]
          }
        },
        {
          "output_type": "display_data",
          "data": {
            "application/javascript": [
              "window[\"a544bf08-7f5f-11eb-bd7d-0242ac1c0002\"] = document.querySelector(\"#id4-0-0\");\n",
              "//# sourceURL=js_5e51e0ba12"
            ],
            "text/plain": [
              "<IPython.core.display.Javascript object>"
            ]
          },
          "metadata": {
            "tags": [
              "id4-0-0",
              "outputarea_id4"
            ]
          }
        },
        {
          "output_type": "display_data",
          "data": {
            "application/javascript": [
              "window[\"a54502b0-7f5f-11eb-bd7d-0242ac1c0002\"] = google.colab.output.setActiveOutputArea(window[\"a544bf08-7f5f-11eb-bd7d-0242ac1c0002\"]);\n",
              "//# sourceURL=js_2e488f0e14"
            ],
            "text/plain": [
              "<IPython.core.display.Javascript object>"
            ]
          },
          "metadata": {
            "tags": [
              "id4-0-0",
              "outputarea_id4"
            ]
          }
        },
        {
          "output_type": "display_data",
          "data": {
            "application/javascript": [
              "window[\"a55db95e-7f5f-11eb-bd7d-0242ac1c0002\"] = google.colab.output.setActiveOutputArea(window[\"a5447746-7f5f-11eb-bd7d-0242ac1c0002\"]);\n",
              "//# sourceURL=js_16c6488471"
            ],
            "text/plain": [
              "<IPython.core.display.Javascript object>"
            ]
          },
          "metadata": {
            "tags": [
              "id4-0-0",
              "outputarea_id4"
            ]
          }
        },
        {
          "output_type": "display_data",
          "data": {
            "application/javascript": [
              "window[\"a5ab5f38-7f5f-11eb-bd7d-0242ac1c0002\"] = google.colab.output.getActiveOutputArea();\n",
              "//# sourceURL=js_492dfd5237"
            ],
            "text/plain": [
              "<IPython.core.display.Javascript object>"
            ]
          },
          "metadata": {
            "tags": [
              "id4-0-0",
              "outputarea_id4"
            ]
          }
        },
        {
          "output_type": "display_data",
          "data": {
            "application/javascript": [
              "window[\"a5ab9502-7f5f-11eb-bd7d-0242ac1c0002\"] = document.querySelector(\"#id4-0-0\");\n",
              "//# sourceURL=js_14527272f2"
            ],
            "text/plain": [
              "<IPython.core.display.Javascript object>"
            ]
          },
          "metadata": {
            "tags": [
              "id4-0-0",
              "outputarea_id4"
            ]
          }
        },
        {
          "output_type": "display_data",
          "data": {
            "application/javascript": [
              "window[\"a5abc6ee-7f5f-11eb-bd7d-0242ac1c0002\"] = google.colab.output.setActiveOutputArea(window[\"a5ab9502-7f5f-11eb-bd7d-0242ac1c0002\"]);\n",
              "//# sourceURL=js_d8db4d2e7d"
            ],
            "text/plain": [
              "<IPython.core.display.Javascript object>"
            ]
          },
          "metadata": {
            "tags": [
              "id4-0-0",
              "outputarea_id4"
            ]
          }
        },
        {
          "output_type": "display_data",
          "data": {
            "application/javascript": [
              "window[\"a5c4c1d0-7f5f-11eb-bd7d-0242ac1c0002\"] = google.colab.output.setActiveOutputArea(window[\"a5ab5f38-7f5f-11eb-bd7d-0242ac1c0002\"]);\n",
              "//# sourceURL=js_e252e503a0"
            ],
            "text/plain": [
              "<IPython.core.display.Javascript object>"
            ]
          },
          "metadata": {
            "tags": [
              "id4-0-0",
              "outputarea_id4"
            ]
          }
        },
        {
          "output_type": "display_data",
          "data": {
            "application/javascript": [
              "window[\"a6126d0e-7f5f-11eb-bd7d-0242ac1c0002\"] = google.colab.output.getActiveOutputArea();\n",
              "//# sourceURL=js_d85107ef2e"
            ],
            "text/plain": [
              "<IPython.core.display.Javascript object>"
            ]
          },
          "metadata": {
            "tags": [
              "id4-0-0",
              "outputarea_id4"
            ]
          }
        },
        {
          "output_type": "display_data",
          "data": {
            "application/javascript": [
              "window[\"a612b39a-7f5f-11eb-bd7d-0242ac1c0002\"] = document.querySelector(\"#id4-0-0\");\n",
              "//# sourceURL=js_b989789780"
            ],
            "text/plain": [
              "<IPython.core.display.Javascript object>"
            ]
          },
          "metadata": {
            "tags": [
              "id4-0-0",
              "outputarea_id4"
            ]
          }
        },
        {
          "output_type": "display_data",
          "data": {
            "application/javascript": [
              "window[\"a612f47c-7f5f-11eb-bd7d-0242ac1c0002\"] = google.colab.output.setActiveOutputArea(window[\"a612b39a-7f5f-11eb-bd7d-0242ac1c0002\"]);\n",
              "//# sourceURL=js_beef4454e9"
            ],
            "text/plain": [
              "<IPython.core.display.Javascript object>"
            ]
          },
          "metadata": {
            "tags": [
              "id4-0-0",
              "outputarea_id4"
            ]
          }
        },
        {
          "output_type": "display_data",
          "data": {
            "application/javascript": [
              "window[\"a62be1a8-7f5f-11eb-bd7d-0242ac1c0002\"] = google.colab.output.setActiveOutputArea(window[\"a6126d0e-7f5f-11eb-bd7d-0242ac1c0002\"]);\n",
              "//# sourceURL=js_9c37c935cb"
            ],
            "text/plain": [
              "<IPython.core.display.Javascript object>"
            ]
          },
          "metadata": {
            "tags": [
              "id4-0-0",
              "outputarea_id4"
            ]
          }
        },
        {
          "output_type": "display_data",
          "data": {
            "application/javascript": [
              "window[\"a6796c34-7f5f-11eb-bd7d-0242ac1c0002\"] = google.colab.output.getActiveOutputArea();\n",
              "//# sourceURL=js_9fe6ffae62"
            ],
            "text/plain": [
              "<IPython.core.display.Javascript object>"
            ]
          },
          "metadata": {
            "tags": [
              "id4-0-0",
              "outputarea_id4"
            ]
          }
        },
        {
          "output_type": "display_data",
          "data": {
            "application/javascript": [
              "window[\"a679a208-7f5f-11eb-bd7d-0242ac1c0002\"] = document.querySelector(\"#id4-0-0\");\n",
              "//# sourceURL=js_ce4391d92b"
            ],
            "text/plain": [
              "<IPython.core.display.Javascript object>"
            ]
          },
          "metadata": {
            "tags": [
              "id4-0-0",
              "outputarea_id4"
            ]
          }
        },
        {
          "output_type": "display_data",
          "data": {
            "application/javascript": [
              "window[\"a679e4c0-7f5f-11eb-bd7d-0242ac1c0002\"] = google.colab.output.setActiveOutputArea(window[\"a679a208-7f5f-11eb-bd7d-0242ac1c0002\"]);\n",
              "//# sourceURL=js_3d09990d92"
            ],
            "text/plain": [
              "<IPython.core.display.Javascript object>"
            ]
          },
          "metadata": {
            "tags": [
              "id4-0-0",
              "outputarea_id4"
            ]
          }
        },
        {
          "output_type": "display_data",
          "data": {
            "application/javascript": [
              "window[\"a69d79ee-7f5f-11eb-bd7d-0242ac1c0002\"] = google.colab.output.setActiveOutputArea(window[\"a6796c34-7f5f-11eb-bd7d-0242ac1c0002\"]);\n",
              "//# sourceURL=js_fb0f960398"
            ],
            "text/plain": [
              "<IPython.core.display.Javascript object>"
            ]
          },
          "metadata": {
            "tags": [
              "id4-0-0",
              "outputarea_id4"
            ]
          }
        },
        {
          "output_type": "display_data",
          "data": {
            "application/javascript": [
              "window[\"a6eb0e5c-7f5f-11eb-bd7d-0242ac1c0002\"] = google.colab.output.getActiveOutputArea();\n",
              "//# sourceURL=js_a18b9785f8"
            ],
            "text/plain": [
              "<IPython.core.display.Javascript object>"
            ]
          },
          "metadata": {
            "tags": [
              "id4-0-0",
              "outputarea_id4"
            ]
          }
        },
        {
          "output_type": "display_data",
          "data": {
            "application/javascript": [
              "window[\"a6eb7298-7f5f-11eb-bd7d-0242ac1c0002\"] = document.querySelector(\"#id4-0-0\");\n",
              "//# sourceURL=js_e9f84d3b7d"
            ],
            "text/plain": [
              "<IPython.core.display.Javascript object>"
            ]
          },
          "metadata": {
            "tags": [
              "id4-0-0",
              "outputarea_id4"
            ]
          }
        },
        {
          "output_type": "display_data",
          "data": {
            "application/javascript": [
              "window[\"a6ebd2c4-7f5f-11eb-bd7d-0242ac1c0002\"] = google.colab.output.setActiveOutputArea(window[\"a6eb7298-7f5f-11eb-bd7d-0242ac1c0002\"]);\n",
              "//# sourceURL=js_d1fdab6391"
            ],
            "text/plain": [
              "<IPython.core.display.Javascript object>"
            ]
          },
          "metadata": {
            "tags": [
              "id4-0-0",
              "outputarea_id4"
            ]
          }
        },
        {
          "output_type": "display_data",
          "data": {
            "application/javascript": [
              "window[\"a7034116-7f5f-11eb-bd7d-0242ac1c0002\"] = google.colab.output.setActiveOutputArea(window[\"a6eb0e5c-7f5f-11eb-bd7d-0242ac1c0002\"]);\n",
              "//# sourceURL=js_fcf07bb5f4"
            ],
            "text/plain": [
              "<IPython.core.display.Javascript object>"
            ]
          },
          "metadata": {
            "tags": [
              "id4-0-0",
              "outputarea_id4"
            ]
          }
        },
        {
          "output_type": "display_data",
          "data": {
            "application/javascript": [
              "window[\"a75102f2-7f5f-11eb-bd7d-0242ac1c0002\"] = google.colab.output.getActiveOutputArea();\n",
              "//# sourceURL=js_6b417c0479"
            ],
            "text/plain": [
              "<IPython.core.display.Javascript object>"
            ]
          },
          "metadata": {
            "tags": [
              "id4-0-0",
              "outputarea_id4"
            ]
          }
        },
        {
          "output_type": "display_data",
          "data": {
            "application/javascript": [
              "window[\"a7515c3e-7f5f-11eb-bd7d-0242ac1c0002\"] = document.querySelector(\"#id4-0-0\");\n",
              "//# sourceURL=js_7f37ae8988"
            ],
            "text/plain": [
              "<IPython.core.display.Javascript object>"
            ]
          },
          "metadata": {
            "tags": [
              "id4-0-0",
              "outputarea_id4"
            ]
          }
        },
        {
          "output_type": "display_data",
          "data": {
            "application/javascript": [
              "window[\"a751b8aa-7f5f-11eb-bd7d-0242ac1c0002\"] = google.colab.output.setActiveOutputArea(window[\"a7515c3e-7f5f-11eb-bd7d-0242ac1c0002\"]);\n",
              "//# sourceURL=js_4647bb8b08"
            ],
            "text/plain": [
              "<IPython.core.display.Javascript object>"
            ]
          },
          "metadata": {
            "tags": [
              "id4-0-0",
              "outputarea_id4"
            ]
          }
        },
        {
          "output_type": "display_data",
          "data": {
            "application/javascript": [
              "window[\"a76ae33e-7f5f-11eb-bd7d-0242ac1c0002\"] = google.colab.output.setActiveOutputArea(window[\"a75102f2-7f5f-11eb-bd7d-0242ac1c0002\"]);\n",
              "//# sourceURL=js_0cbb6f284a"
            ],
            "text/plain": [
              "<IPython.core.display.Javascript object>"
            ]
          },
          "metadata": {
            "tags": [
              "id4-0-0",
              "outputarea_id4"
            ]
          }
        },
        {
          "output_type": "display_data",
          "data": {
            "application/javascript": [
              "window[\"a7b90460-7f5f-11eb-bd7d-0242ac1c0002\"] = google.colab.output.getActiveOutputArea();\n",
              "//# sourceURL=js_51be622909"
            ],
            "text/plain": [
              "<IPython.core.display.Javascript object>"
            ]
          },
          "metadata": {
            "tags": [
              "id4-0-0",
              "outputarea_id4"
            ]
          }
        },
        {
          "output_type": "display_data",
          "data": {
            "application/javascript": [
              "window[\"a7b96b6c-7f5f-11eb-bd7d-0242ac1c0002\"] = document.querySelector(\"#id4-0-0\");\n",
              "//# sourceURL=js_0649edd7a5"
            ],
            "text/plain": [
              "<IPython.core.display.Javascript object>"
            ]
          },
          "metadata": {
            "tags": [
              "id4-0-0",
              "outputarea_id4"
            ]
          }
        },
        {
          "output_type": "display_data",
          "data": {
            "application/javascript": [
              "window[\"a7b9c0bc-7f5f-11eb-bd7d-0242ac1c0002\"] = google.colab.output.setActiveOutputArea(window[\"a7b96b6c-7f5f-11eb-bd7d-0242ac1c0002\"]);\n",
              "//# sourceURL=js_0c27c79750"
            ],
            "text/plain": [
              "<IPython.core.display.Javascript object>"
            ]
          },
          "metadata": {
            "tags": [
              "id4-0-0",
              "outputarea_id4"
            ]
          }
        },
        {
          "output_type": "display_data",
          "data": {
            "application/javascript": [
              "window[\"a7d3d9ac-7f5f-11eb-bd7d-0242ac1c0002\"] = google.colab.output.setActiveOutputArea(window[\"a7b90460-7f5f-11eb-bd7d-0242ac1c0002\"]);\n",
              "//# sourceURL=js_272d6adcde"
            ],
            "text/plain": [
              "<IPython.core.display.Javascript object>"
            ]
          },
          "metadata": {
            "tags": [
              "id4-0-0",
              "outputarea_id4"
            ]
          }
        },
        {
          "output_type": "display_data",
          "data": {
            "application/javascript": [
              "window[\"a822195a-7f5f-11eb-bd7d-0242ac1c0002\"] = google.colab.output.getActiveOutputArea();\n",
              "//# sourceURL=js_494b690cc3"
            ],
            "text/plain": [
              "<IPython.core.display.Javascript object>"
            ]
          },
          "metadata": {
            "tags": [
              "id4-0-0",
              "outputarea_id4"
            ]
          }
        },
        {
          "output_type": "display_data",
          "data": {
            "application/javascript": [
              "window[\"a82261f8-7f5f-11eb-bd7d-0242ac1c0002\"] = document.querySelector(\"#id4-0-0\");\n",
              "//# sourceURL=js_44ecb3d9b7"
            ],
            "text/plain": [
              "<IPython.core.display.Javascript object>"
            ]
          },
          "metadata": {
            "tags": [
              "id4-0-0",
              "outputarea_id4"
            ]
          }
        },
        {
          "output_type": "display_data",
          "data": {
            "application/javascript": [
              "window[\"a822abb8-7f5f-11eb-bd7d-0242ac1c0002\"] = google.colab.output.setActiveOutputArea(window[\"a82261f8-7f5f-11eb-bd7d-0242ac1c0002\"]);\n",
              "//# sourceURL=js_cb9f32ca6f"
            ],
            "text/plain": [
              "<IPython.core.display.Javascript object>"
            ]
          },
          "metadata": {
            "tags": [
              "id4-0-0",
              "outputarea_id4"
            ]
          }
        },
        {
          "output_type": "display_data",
          "data": {
            "application/javascript": [
              "window[\"a83b6dba-7f5f-11eb-bd7d-0242ac1c0002\"] = google.colab.output.setActiveOutputArea(window[\"a822195a-7f5f-11eb-bd7d-0242ac1c0002\"]);\n",
              "//# sourceURL=js_377ebef881"
            ],
            "text/plain": [
              "<IPython.core.display.Javascript object>"
            ]
          },
          "metadata": {
            "tags": [
              "id4-0-0",
              "outputarea_id4"
            ]
          }
        },
        {
          "output_type": "display_data",
          "data": {
            "application/javascript": [
              "window[\"a889b790-7f5f-11eb-bd7d-0242ac1c0002\"] = google.colab.output.getActiveOutputArea();\n",
              "//# sourceURL=js_dcf8b2c219"
            ],
            "text/plain": [
              "<IPython.core.display.Javascript object>"
            ]
          },
          "metadata": {
            "tags": [
              "id4-0-0",
              "outputarea_id4"
            ]
          }
        },
        {
          "output_type": "display_data",
          "data": {
            "application/javascript": [
              "window[\"a88a0790-7f5f-11eb-bd7d-0242ac1c0002\"] = document.querySelector(\"#id4-0-0\");\n",
              "//# sourceURL=js_36c4aa2cfc"
            ],
            "text/plain": [
              "<IPython.core.display.Javascript object>"
            ]
          },
          "metadata": {
            "tags": [
              "id4-0-0",
              "outputarea_id4"
            ]
          }
        },
        {
          "output_type": "display_data",
          "data": {
            "application/javascript": [
              "window[\"a88a4f98-7f5f-11eb-bd7d-0242ac1c0002\"] = google.colab.output.setActiveOutputArea(window[\"a88a0790-7f5f-11eb-bd7d-0242ac1c0002\"]);\n",
              "//# sourceURL=js_77d8a361fc"
            ],
            "text/plain": [
              "<IPython.core.display.Javascript object>"
            ]
          },
          "metadata": {
            "tags": [
              "id4-0-0",
              "outputarea_id4"
            ]
          }
        },
        {
          "output_type": "display_data",
          "data": {
            "application/javascript": [
              "window[\"a8a41932-7f5f-11eb-bd7d-0242ac1c0002\"] = google.colab.output.setActiveOutputArea(window[\"a889b790-7f5f-11eb-bd7d-0242ac1c0002\"]);\n",
              "//# sourceURL=js_cbd465da9f"
            ],
            "text/plain": [
              "<IPython.core.display.Javascript object>"
            ]
          },
          "metadata": {
            "tags": [
              "id4-0-0",
              "outputarea_id4"
            ]
          }
        },
        {
          "output_type": "display_data",
          "data": {
            "application/javascript": [
              "window[\"a8f328ba-7f5f-11eb-bd7d-0242ac1c0002\"] = google.colab.output.getActiveOutputArea();\n",
              "//# sourceURL=js_2518cd00e1"
            ],
            "text/plain": [
              "<IPython.core.display.Javascript object>"
            ]
          },
          "metadata": {
            "tags": [
              "id4-0-0",
              "outputarea_id4"
            ]
          }
        },
        {
          "output_type": "display_data",
          "data": {
            "application/javascript": [
              "window[\"a8f4b36a-7f5f-11eb-bd7d-0242ac1c0002\"] = document.querySelector(\"#id4-0-0\");\n",
              "//# sourceURL=js_61928661fc"
            ],
            "text/plain": [
              "<IPython.core.display.Javascript object>"
            ]
          },
          "metadata": {
            "tags": [
              "id4-0-0",
              "outputarea_id4"
            ]
          }
        },
        {
          "output_type": "display_data",
          "data": {
            "application/javascript": [
              "window[\"a8f5066c-7f5f-11eb-bd7d-0242ac1c0002\"] = google.colab.output.setActiveOutputArea(window[\"a8f4b36a-7f5f-11eb-bd7d-0242ac1c0002\"]);\n",
              "//# sourceURL=js_105f567a49"
            ],
            "text/plain": [
              "<IPython.core.display.Javascript object>"
            ]
          },
          "metadata": {
            "tags": [
              "id4-0-0",
              "outputarea_id4"
            ]
          }
        },
        {
          "output_type": "display_data",
          "data": {
            "application/javascript": [
              "window[\"a90d19a0-7f5f-11eb-bd7d-0242ac1c0002\"] = google.colab.output.setActiveOutputArea(window[\"a8f328ba-7f5f-11eb-bd7d-0242ac1c0002\"]);\n",
              "//# sourceURL=js_f5d12b9e2f"
            ],
            "text/plain": [
              "<IPython.core.display.Javascript object>"
            ]
          },
          "metadata": {
            "tags": [
              "id4-0-0",
              "outputarea_id4"
            ]
          }
        },
        {
          "output_type": "display_data",
          "data": {
            "application/javascript": [
              "window[\"a95ae50e-7f5f-11eb-bd7d-0242ac1c0002\"] = google.colab.output.getActiveOutputArea();\n",
              "//# sourceURL=js_b3c739343a"
            ],
            "text/plain": [
              "<IPython.core.display.Javascript object>"
            ]
          },
          "metadata": {
            "tags": [
              "id4-0-0",
              "outputarea_id4"
            ]
          }
        },
        {
          "output_type": "display_data",
          "data": {
            "application/javascript": [
              "window[\"a95b32d4-7f5f-11eb-bd7d-0242ac1c0002\"] = document.querySelector(\"#id4-0-0\");\n",
              "//# sourceURL=js_6850a68c16"
            ],
            "text/plain": [
              "<IPython.core.display.Javascript object>"
            ]
          },
          "metadata": {
            "tags": [
              "id4-0-0",
              "outputarea_id4"
            ]
          }
        },
        {
          "output_type": "display_data",
          "data": {
            "application/javascript": [
              "window[\"a95b7d0c-7f5f-11eb-bd7d-0242ac1c0002\"] = google.colab.output.setActiveOutputArea(window[\"a95b32d4-7f5f-11eb-bd7d-0242ac1c0002\"]);\n",
              "//# sourceURL=js_9c82881cfd"
            ],
            "text/plain": [
              "<IPython.core.display.Javascript object>"
            ]
          },
          "metadata": {
            "tags": [
              "id4-0-0",
              "outputarea_id4"
            ]
          }
        },
        {
          "output_type": "display_data",
          "data": {
            "application/javascript": [
              "window[\"a973cbaa-7f5f-11eb-bd7d-0242ac1c0002\"] = google.colab.output.setActiveOutputArea(window[\"a95ae50e-7f5f-11eb-bd7d-0242ac1c0002\"]);\n",
              "//# sourceURL=js_3c4f21d325"
            ],
            "text/plain": [
              "<IPython.core.display.Javascript object>"
            ]
          },
          "metadata": {
            "tags": [
              "id4-0-0",
              "outputarea_id4"
            ]
          }
        },
        {
          "output_type": "display_data",
          "data": {
            "application/javascript": [
              "window[\"a9c1896c-7f5f-11eb-bd7d-0242ac1c0002\"] = google.colab.output.getActiveOutputArea();\n",
              "//# sourceURL=js_76b3d9d428"
            ],
            "text/plain": [
              "<IPython.core.display.Javascript object>"
            ]
          },
          "metadata": {
            "tags": [
              "id4-0-0",
              "outputarea_id4"
            ]
          }
        },
        {
          "output_type": "display_data",
          "data": {
            "application/javascript": [
              "window[\"a9c1d7fa-7f5f-11eb-bd7d-0242ac1c0002\"] = document.querySelector(\"#id4-0-0\");\n",
              "//# sourceURL=js_93e4d422d8"
            ],
            "text/plain": [
              "<IPython.core.display.Javascript object>"
            ]
          },
          "metadata": {
            "tags": [
              "id4-0-0",
              "outputarea_id4"
            ]
          }
        },
        {
          "output_type": "display_data",
          "data": {
            "application/javascript": [
              "window[\"a9c22d7c-7f5f-11eb-bd7d-0242ac1c0002\"] = google.colab.output.setActiveOutputArea(window[\"a9c1d7fa-7f5f-11eb-bd7d-0242ac1c0002\"]);\n",
              "//# sourceURL=js_bbf9aa1d36"
            ],
            "text/plain": [
              "<IPython.core.display.Javascript object>"
            ]
          },
          "metadata": {
            "tags": [
              "id4-0-0",
              "outputarea_id4"
            ]
          }
        },
        {
          "output_type": "display_data",
          "data": {
            "image/png": "[encoded data removed]",
            "text/plain": [
              "<Figure size 432x288 with 1 Axes>"
            ]
          },
          "metadata": {
            "tags": [
              "id4-0-0",
              "outputarea_id4",
              "user_output"
            ],
            "needs_background": "light"
          }
        },
        {
          "output_type": "display_data",
          "data": {
            "application/javascript": [
              "window[\"a9dae61e-7f5f-11eb-bd7d-0242ac1c0002\"] = google.colab.output.setActiveOutputArea(window[\"a9c1896c-7f5f-11eb-bd7d-0242ac1c0002\"]);\n",
              "//# sourceURL=js_fb456524e8"
            ],
            "text/plain": [
              "<IPython.core.display.Javascript object>"
            ]
          },
          "metadata": {
            "tags": [
              "id4-0-0",
              "outputarea_id4"
            ]
          }
        }
      ]
    },
    {
      "cell_type": "markdown",
      "metadata": {
        "id": "F5uaOibidnWg"
      },
      "source": [
        "## Q Learning"
      ]
    },
    {
      "cell_type": "code",
      "metadata": {
        "colab": {
          "base_uri": "https://localhost:8080/",
          "height": 477
        },
        "id": "qEftTKqkXZHq",
        "outputId": "9d7d8bf4-ca04-424a-d6b3-0901c4fd9fff"
      },
      "source": [
        "q_LearningTable = np.zeros((25, 4))  \r\n",
        "alpha = 0.1\r\n",
        "gamma = 0.8\r\n",
        "\r\n",
        "for i in range(1, 1000):\r\n",
        "    state = env.reset()\r\n",
        "\r\n",
        "    reward = 0\r\n",
        "    done = False\r\n",
        "    \r\n",
        "    while not done:\r\n",
        "        action = np.argmax(q_LearningTable[state]) # Exploit learned values\r\n",
        "\r\n",
        "        obs, reward, done, info = env.step(action)\r\n",
        "        \r\n",
        "        q_old = q_LearningTable[state, action]\r\n",
        "        updatedMax = np.max(q_LearningTable[obs])\r\n",
        "        \r\n",
        "        q_new = q_old + alpha * (reward + (gamma * updatedMax)-q_old)\r\n",
        "        q_LearningTable[state, action] = q_new \r\n",
        "\r\n",
        "        with output_grid.output_to(0, 0):\r\n",
        "          output_grid.clear_cell()\r\n",
        "          env.render()\r\n",
        "        time.sleep(0.5)       "
      ],
      "execution_count": 19,
      "outputs": [
        {
          "output_type": "display_data",
          "data": {
            "application/javascript": [
              "window[\"ebdabc38-7f5f-11eb-bd7d-0242ac1c0002\"] = google.colab.output.getActiveOutputArea();\n",
              "//# sourceURL=js_036fad9c34"
            ],
            "text/plain": [
              "<IPython.core.display.Javascript object>"
            ]
          },
          "metadata": {
            "tags": [
              "id4-0-0",
              "outputarea_id4"
            ]
          }
        },
        {
          "output_type": "display_data",
          "data": {
            "application/javascript": [
              "window[\"ebdb694e-7f5f-11eb-bd7d-0242ac1c0002\"] = document.querySelector(\"#id4-0-0\");\n",
              "//# sourceURL=js_2b9dce37d9"
            ],
            "text/plain": [
              "<IPython.core.display.Javascript object>"
            ]
          },
          "metadata": {
            "tags": [
              "id4-0-0",
              "outputarea_id4"
            ]
          }
        },
        {
          "output_type": "display_data",
          "data": {
            "application/javascript": [
              "window[\"ebdc5084-7f5f-11eb-bd7d-0242ac1c0002\"] = google.colab.output.setActiveOutputArea(window[\"ebdb694e-7f5f-11eb-bd7d-0242ac1c0002\"]);\n",
              "//# sourceURL=js_f137c15a31"
            ],
            "text/plain": [
              "<IPython.core.display.Javascript object>"
            ]
          },
          "metadata": {
            "tags": [
              "id4-0-0",
              "outputarea_id4"
            ]
          }
        },
        {
          "output_type": "display_data",
          "data": {
            "application/javascript": [
              "window[\"ebf38d4e-7f5f-11eb-bd7d-0242ac1c0002\"] = google.colab.output.setActiveOutputArea(window[\"ebdabc38-7f5f-11eb-bd7d-0242ac1c0002\"]);\n",
              "//# sourceURL=js_b454b056d9"
            ],
            "text/plain": [
              "<IPython.core.display.Javascript object>"
            ]
          },
          "metadata": {
            "tags": [
              "id4-0-0",
              "outputarea_id4"
            ]
          }
        },
        {
          "output_type": "display_data",
          "data": {
            "application/javascript": [
              "window[\"ec41c55e-7f5f-11eb-bd7d-0242ac1c0002\"] = google.colab.output.getActiveOutputArea();\n",
              "//# sourceURL=js_abb3e120a3"
            ],
            "text/plain": [
              "<IPython.core.display.Javascript object>"
            ]
          },
          "metadata": {
            "tags": [
              "id4-0-0",
              "outputarea_id4"
            ]
          }
        },
        {
          "output_type": "display_data",
          "data": {
            "application/javascript": [
              "window[\"ec420ece-7f5f-11eb-bd7d-0242ac1c0002\"] = document.querySelector(\"#id4-0-0\");\n",
              "//# sourceURL=js_01d43a375c"
            ],
            "text/plain": [
              "<IPython.core.display.Javascript object>"
            ]
          },
          "metadata": {
            "tags": [
              "id4-0-0",
              "outputarea_id4"
            ]
          }
        },
        {
          "output_type": "display_data",
          "data": {
            "application/javascript": [
              "window[\"ec425e10-7f5f-11eb-bd7d-0242ac1c0002\"] = google.colab.output.setActiveOutputArea(window[\"ec420ece-7f5f-11eb-bd7d-0242ac1c0002\"]);\n",
              "//# sourceURL=js_5a46a96532"
            ],
            "text/plain": [
              "<IPython.core.display.Javascript object>"
            ]
          },
          "metadata": {
            "tags": [
              "id4-0-0",
              "outputarea_id4"
            ]
          }
        },
        {
          "output_type": "display_data",
          "data": {
            "application/javascript": [
              "window[\"ec5907b4-7f5f-11eb-bd7d-0242ac1c0002\"] = google.colab.output.setActiveOutputArea(window[\"ec41c55e-7f5f-11eb-bd7d-0242ac1c0002\"]);\n",
              "//# sourceURL=js_ffbd2cb3c8"
            ],
            "text/plain": [
              "<IPython.core.display.Javascript object>"
            ]
          },
          "metadata": {
            "tags": [
              "id4-0-0",
              "outputarea_id4"
            ]
          }
        },
        {
          "output_type": "display_data",
          "data": {
            "application/javascript": [
              "window[\"eca6cd82-7f5f-11eb-bd7d-0242ac1c0002\"] = google.colab.output.getActiveOutputArea();\n",
              "//# sourceURL=js_5d4de51e62"
            ],
            "text/plain": [
              "<IPython.core.display.Javascript object>"
            ]
          },
          "metadata": {
            "tags": [
              "id4-0-0",
              "outputarea_id4"
            ]
          }
        },
        {
          "output_type": "display_data",
          "data": {
            "application/javascript": [
              "window[\"eca732ae-7f5f-11eb-bd7d-0242ac1c0002\"] = document.querySelector(\"#id4-0-0\");\n",
              "//# sourceURL=js_6c4cfaa2c1"
            ],
            "text/plain": [
              "<IPython.core.display.Javascript object>"
            ]
          },
          "metadata": {
            "tags": [
              "id4-0-0",
              "outputarea_id4"
            ]
          }
        },
        {
          "output_type": "display_data",
          "data": {
            "application/javascript": [
              "window[\"eca7ae46-7f5f-11eb-bd7d-0242ac1c0002\"] = google.colab.output.setActiveOutputArea(window[\"eca732ae-7f5f-11eb-bd7d-0242ac1c0002\"]);\n",
              "//# sourceURL=js_4250e005fc"
            ],
            "text/plain": [
              "<IPython.core.display.Javascript object>"
            ]
          },
          "metadata": {
            "tags": [
              "id4-0-0",
              "outputarea_id4"
            ]
          }
        },
        {
          "output_type": "display_data",
          "data": {
            "application/javascript": [
              "window[\"ecbca152-7f5f-11eb-bd7d-0242ac1c0002\"] = google.colab.output.setActiveOutputArea(window[\"eca6cd82-7f5f-11eb-bd7d-0242ac1c0002\"]);\n",
              "//# sourceURL=js_b4c6b31ab4"
            ],
            "text/plain": [
              "<IPython.core.display.Javascript object>"
            ]
          },
          "metadata": {
            "tags": [
              "id4-0-0",
              "outputarea_id4"
            ]
          }
        },
        {
          "output_type": "display_data",
          "data": {
            "application/javascript": [
              "window[\"ed0a4d6c-7f5f-11eb-bd7d-0242ac1c0002\"] = google.colab.output.getActiveOutputArea();\n",
              "//# sourceURL=js_9597dd5050"
            ],
            "text/plain": [
              "<IPython.core.display.Javascript object>"
            ]
          },
          "metadata": {
            "tags": [
              "id4-0-0",
              "outputarea_id4"
            ]
          }
        },
        {
          "output_type": "display_data",
          "data": {
            "application/javascript": [
              "window[\"ed0ac44a-7f5f-11eb-bd7d-0242ac1c0002\"] = document.querySelector(\"#id4-0-0\");\n",
              "//# sourceURL=js_f12cad5fce"
            ],
            "text/plain": [
              "<IPython.core.display.Javascript object>"
            ]
          },
          "metadata": {
            "tags": [
              "id4-0-0",
              "outputarea_id4"
            ]
          }
        },
        {
          "output_type": "display_data",
          "data": {
            "application/javascript": [
              "window[\"ed0b12d8-7f5f-11eb-bd7d-0242ac1c0002\"] = google.colab.output.setActiveOutputArea(window[\"ed0ac44a-7f5f-11eb-bd7d-0242ac1c0002\"]);\n",
              "//# sourceURL=js_77faba0d2e"
            ],
            "text/plain": [
              "<IPython.core.display.Javascript object>"
            ]
          },
          "metadata": {
            "tags": [
              "id4-0-0",
              "outputarea_id4"
            ]
          }
        },
        {
          "output_type": "display_data",
          "data": {
            "application/javascript": [
              "window[\"ed207e98-7f5f-11eb-bd7d-0242ac1c0002\"] = google.colab.output.setActiveOutputArea(window[\"ed0a4d6c-7f5f-11eb-bd7d-0242ac1c0002\"]);\n",
              "//# sourceURL=js_9dc6d9939b"
            ],
            "text/plain": [
              "<IPython.core.display.Javascript object>"
            ]
          },
          "metadata": {
            "tags": [
              "id4-0-0",
              "outputarea_id4"
            ]
          }
        },
        {
          "output_type": "display_data",
          "data": {
            "application/javascript": [
              "window[\"ed6e4010-7f5f-11eb-bd7d-0242ac1c0002\"] = google.colab.output.getActiveOutputArea();\n",
              "//# sourceURL=js_88ca0bd88f"
            ],
            "text/plain": [
              "<IPython.core.display.Javascript object>"
            ]
          },
          "metadata": {
            "tags": [
              "id4-0-0",
              "outputarea_id4"
            ]
          }
        },
        {
          "output_type": "display_data",
          "data": {
            "application/javascript": [
              "window[\"ed6ea294-7f5f-11eb-bd7d-0242ac1c0002\"] = document.querySelector(\"#id4-0-0\");\n",
              "//# sourceURL=js_df0f19968a"
            ],
            "text/plain": [
              "<IPython.core.display.Javascript object>"
            ]
          },
          "metadata": {
            "tags": [
              "id4-0-0",
              "outputarea_id4"
            ]
          }
        },
        {
          "output_type": "display_data",
          "data": {
            "application/javascript": [
              "window[\"ed6efac8-7f5f-11eb-bd7d-0242ac1c0002\"] = google.colab.output.setActiveOutputArea(window[\"ed6ea294-7f5f-11eb-bd7d-0242ac1c0002\"]);\n",
              "//# sourceURL=js_c623b5efef"
            ],
            "text/plain": [
              "<IPython.core.display.Javascript object>"
            ]
          },
          "metadata": {
            "tags": [
              "id4-0-0",
              "outputarea_id4"
            ]
          }
        },
        {
          "output_type": "display_data",
          "data": {
            "application/javascript": [
              "window[\"ed86e35e-7f5f-11eb-bd7d-0242ac1c0002\"] = google.colab.output.setActiveOutputArea(window[\"ed6e4010-7f5f-11eb-bd7d-0242ac1c0002\"]);\n",
              "//# sourceURL=js_2f7575bc2a"
            ],
            "text/plain": [
              "<IPython.core.display.Javascript object>"
            ]
          },
          "metadata": {
            "tags": [
              "id4-0-0",
              "outputarea_id4"
            ]
          }
        },
        {
          "output_type": "display_data",
          "data": {
            "application/javascript": [
              "window[\"edd4a5da-7f5f-11eb-bd7d-0242ac1c0002\"] = google.colab.output.getActiveOutputArea();\n",
              "//# sourceURL=js_dea8dfff0e"
            ],
            "text/plain": [
              "<IPython.core.display.Javascript object>"
            ]
          },
          "metadata": {
            "tags": [
              "id4-0-0",
              "outputarea_id4"
            ]
          }
        },
        {
          "output_type": "display_data",
          "data": {
            "application/javascript": [
              "window[\"edd50db8-7f5f-11eb-bd7d-0242ac1c0002\"] = document.querySelector(\"#id4-0-0\");\n",
              "//# sourceURL=js_74e86f872f"
            ],
            "text/plain": [
              "<IPython.core.display.Javascript object>"
            ]
          },
          "metadata": {
            "tags": [
              "id4-0-0",
              "outputarea_id4"
            ]
          }
        },
        {
          "output_type": "display_data",
          "data": {
            "application/javascript": [
              "window[\"edd582f2-7f5f-11eb-bd7d-0242ac1c0002\"] = google.colab.output.setActiveOutputArea(window[\"edd50db8-7f5f-11eb-bd7d-0242ac1c0002\"]);\n",
              "//# sourceURL=js_8532d32fcb"
            ],
            "text/plain": [
              "<IPython.core.display.Javascript object>"
            ]
          },
          "metadata": {
            "tags": [
              "id4-0-0",
              "outputarea_id4"
            ]
          }
        },
        {
          "output_type": "display_data",
          "data": {
            "application/javascript": [
              "window[\"edec3c90-7f5f-11eb-bd7d-0242ac1c0002\"] = google.colab.output.setActiveOutputArea(window[\"edd4a5da-7f5f-11eb-bd7d-0242ac1c0002\"]);\n",
              "//# sourceURL=js_3ad7f6e762"
            ],
            "text/plain": [
              "<IPython.core.display.Javascript object>"
            ]
          },
          "metadata": {
            "tags": [
              "id4-0-0",
              "outputarea_id4"
            ]
          }
        },
        {
          "output_type": "display_data",
          "data": {
            "application/javascript": [
              "window[\"ee3a39d6-7f5f-11eb-bd7d-0242ac1c0002\"] = google.colab.output.getActiveOutputArea();\n",
              "//# sourceURL=js_97d76ecf4c"
            ],
            "text/plain": [
              "<IPython.core.display.Javascript object>"
            ]
          },
          "metadata": {
            "tags": [
              "id4-0-0",
              "outputarea_id4"
            ]
          }
        },
        {
          "output_type": "display_data",
          "data": {
            "application/javascript": [
              "window[\"ee3a8b48-7f5f-11eb-bd7d-0242ac1c0002\"] = document.querySelector(\"#id4-0-0\");\n",
              "//# sourceURL=js_7abd36a89c"
            ],
            "text/plain": [
              "<IPython.core.display.Javascript object>"
            ]
          },
          "metadata": {
            "tags": [
              "id4-0-0",
              "outputarea_id4"
            ]
          }
        },
        {
          "output_type": "display_data",
          "data": {
            "application/javascript": [
              "window[\"ee3b08a2-7f5f-11eb-bd7d-0242ac1c0002\"] = google.colab.output.setActiveOutputArea(window[\"ee3a8b48-7f5f-11eb-bd7d-0242ac1c0002\"]);\n",
              "//# sourceURL=js_33b47d6272"
            ],
            "text/plain": [
              "<IPython.core.display.Javascript object>"
            ]
          },
          "metadata": {
            "tags": [
              "id4-0-0",
              "outputarea_id4"
            ]
          }
        },
        {
          "output_type": "display_data",
          "data": {
            "image/png": "[encoded data removed]",
            "text/plain": [
              "<Figure size 432x288 with 1 Axes>"
            ]
          },
          "metadata": {
            "tags": [
              "id4-0-0",
              "outputarea_id4",
              "user_output"
            ],
            "needs_background": "light"
          }
        },
        {
          "output_type": "display_data",
          "data": {
            "application/javascript": [
              "window[\"ee511af2-7f5f-11eb-bd7d-0242ac1c0002\"] = google.colab.output.setActiveOutputArea(window[\"ee3a39d6-7f5f-11eb-bd7d-0242ac1c0002\"]);\n",
              "//# sourceURL=js_37974d73c6"
            ],
            "text/plain": [
              "<IPython.core.display.Javascript object>"
            ]
          },
          "metadata": {
            "tags": [
              "id4-0-0",
              "outputarea_id4"
            ]
          }
        },
        {
          "output_type": "error",
          "ename": "IndexError",
          "evalue": "ignored",
          "traceback": [
            "\u001b[0;31m---------------------------------------------------------------------------\u001b[0m",
            "\u001b[0;31mIndexError\u001b[0m                                Traceback (most recent call last)",
            "\u001b[0;32m<ipython-input-19-59b75a912d2b>\u001b[0m in \u001b[0;36m<module>\u001b[0;34m()\u001b[0m\n\u001b[1;32m     14\u001b[0m         \u001b[0mobs\u001b[0m\u001b[0;34m,\u001b[0m \u001b[0mreward\u001b[0m\u001b[0;34m,\u001b[0m \u001b[0mdone\u001b[0m\u001b[0;34m,\u001b[0m \u001b[0minfo\u001b[0m \u001b[0;34m=\u001b[0m \u001b[0menv\u001b[0m\u001b[0;34m.\u001b[0m\u001b[0mstep\u001b[0m\u001b[0;34m(\u001b[0m\u001b[0maction\u001b[0m\u001b[0;34m)\u001b[0m\u001b[0;34m\u001b[0m\u001b[0;34m\u001b[0m\u001b[0m\n\u001b[1;32m     15\u001b[0m \u001b[0;34m\u001b[0m\u001b[0m\n\u001b[0;32m---> 16\u001b[0;31m         \u001b[0mq_old\u001b[0m \u001b[0;34m=\u001b[0m \u001b[0mq_LearningTable\u001b[0m\u001b[0;34m[\u001b[0m\u001b[0mstate\u001b[0m\u001b[0;34m,\u001b[0m \u001b[0maction\u001b[0m\u001b[0;34m]\u001b[0m\u001b[0;34m\u001b[0m\u001b[0;34m\u001b[0m\u001b[0m\n\u001b[0m\u001b[1;32m     17\u001b[0m         \u001b[0mupdatedMax\u001b[0m \u001b[0;34m=\u001b[0m \u001b[0mnp\u001b[0m\u001b[0;34m.\u001b[0m\u001b[0mmax\u001b[0m\u001b[0;34m(\u001b[0m\u001b[0mq_LearningTable\u001b[0m\u001b[0;34m[\u001b[0m\u001b[0mobs\u001b[0m\u001b[0;34m]\u001b[0m\u001b[0;34m)\u001b[0m\u001b[0;34m\u001b[0m\u001b[0;34m\u001b[0m\u001b[0m\n\u001b[1;32m     18\u001b[0m \u001b[0;34m\u001b[0m\u001b[0m\n",
            "\u001b[0;31mIndexError\u001b[0m: index 5 is out of bounds for axis 1 with size 4"
          ]
        }
      ]
    },
    {
      "cell_type": "markdown",
      "metadata": {
        "id": "UuTQg8gS7ssZ"
      },
      "source": [
        "## Temporal Difference (TD)"
      ]
    },
    {
      "cell_type": "code",
      "metadata": {
        "id": "u_KSRiY47oHH"
      },
      "source": [
        "v_table = np.zeros((25, 4))  \r\n",
        "alpha = 0.1\r\n",
        "gamma = 0.8\r\n",
        "\r\n",
        "for i in range(1, 1000):\r\n",
        "    state = env.reset()\r\n",
        "\r\n",
        "    reward = 0\r\n",
        "    done = False\r\n",
        "    \r\n",
        "    while not done:\r\n",
        "        action = np.argmax(v_table[state]) # Exploit learned values\r\n",
        "\r\n",
        "        v_current = v_table[state, action]\r\n",
        "        obs, reward, done, info = env.step(action)\r\n",
        "        v_next =v_table[obs]\r\n",
        "        \r\n",
        "        v_current = v_current + alpha * (reward + (gamma * v_next)-v_current)\r\n",
        "        v_table[state, action] = v_current \r\n",
        "\r\n",
        "        with output_grid.output_to(0, 0):\r\n",
        "          output_grid.clear_cell()\r\n",
        "          env.render()\r\n",
        "        time.sleep(0.5)      "
      ],
      "execution_count": null,
      "outputs": []
    }
  ]
}