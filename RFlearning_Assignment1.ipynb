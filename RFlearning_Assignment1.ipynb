{
  "nbformat": 4,
  "nbformat_minor": 0,
  "metadata": {
    "colab": {
      "name": "RFlearning_Assignment1.ipynb",
      "provenance": [],
      "authorship_tag": "ABX9TyPwiO5Hq+cErhz7hx9H1uhQ",
      "include_colab_link": true
    },
    "kernelspec": {
      "name": "python3",
      "display_name": "Python 3"
    }
  },
  "cells": [
    {
      "cell_type": "markdown",
      "metadata": {
        "id": "view-in-github",
        "colab_type": "text"
      },
      "source": [
        "<a href=\"https://colab.research.google.com/github/parthrjpt/EAS546_Projects/blob/main/RFlearning_Assignment1.ipynb\" target=\"_parent\"><img src=\"https://colab.research.google.com/assets/colab-badge.svg\" alt=\"Open In Colab\"/></a>"
      ]
    },
    {
      "cell_type": "code",
      "metadata": {
        "id": "GKbDuhwswxao",
        "colab": {
          "base_uri": "https://localhost:8080/"
        },
        "outputId": "f2ca2448-90a7-4f63-f7b0-31777d7794e0"
      },
      "source": [
        "!pip install gym"
      ],
      "execution_count": null,
      "outputs": [
        {
          "output_type": "stream",
          "text": [
            "Requirement already satisfied: gym in /usr/local/lib/python3.6/dist-packages (0.17.3)\n",
            "Requirement already satisfied: cloudpickle<1.7.0,>=1.2.0 in /usr/local/lib/python3.6/dist-packages (from gym) (1.3.0)\n",
            "Requirement already satisfied: numpy>=1.10.4 in /usr/local/lib/python3.6/dist-packages (from gym) (1.19.5)\n",
            "Requirement already satisfied: pyglet<=1.5.0,>=1.4.0 in /usr/local/lib/python3.6/dist-packages (from gym) (1.5.0)\n",
            "Requirement already satisfied: scipy in /usr/local/lib/python3.6/dist-packages (from gym) (1.4.1)\n",
            "Requirement already satisfied: future in /usr/local/lib/python3.6/dist-packages (from pyglet<=1.5.0,>=1.4.0->gym) (0.16.0)\n"
          ],
          "name": "stdout"
        }
      ]
    },
    {
      "cell_type": "code",
      "metadata": {
        "id": "7Mp-A-v4wNGf"
      },
      "source": [
        "import numpy as np\r\n",
        "import matplotlib.pyplot as plt\r\n",
        "import gym\r\n",
        "from gym import spaces"
      ],
      "execution_count": null,
      "outputs": []
    },
    {
      "cell_type": "markdown",
      "metadata": {
        "id": "mALR4E027dk1"
      },
      "source": [
        "### RL Environment"
      ]
    },
    {
      "cell_type": "code",
      "metadata": {
        "colab": {
          "base_uri": "https://localhost:8080/"
        },
        "id": "njYaUnaIwU1k",
        "outputId": "f74fac5f-759c-4dcf-eb46-05fd8438442f"
      },
      "source": [
        "grid = np.zeros((5,4))\r\n",
        "\r\n",
        "pos1 = [0, 0] #start\r\n",
        "pos2 = [4,3] #finish\r\n",
        "\r\n",
        "#non-permitted blocks\r\n",
        "pos3 = [2, 0]\r\n",
        "pos4 = [3, 0]\r\n",
        "pos5 = [1,2]\r\n",
        "pos6 = [3,2]\r\n",
        "\r\n",
        "pos7 = [4,0] #key\r\n",
        "pos8 = [4,2] #diamond\r\n",
        "pos9 = [2,2] #fire\r\n",
        "\r\n",
        "grid[tuple(pos1)] = 1\r\n",
        "grid[tuple(pos2)] = 0.5\r\n",
        "\r\n",
        "grid[tuple(pos7)]= 0.2\r\n",
        "grid[tuple(pos8)]= 0.4\r\n",
        "grid[tuple(pos9)]= 0.8\r\n",
        "\r\n",
        "grid[tuple(pos3)] = 0.3\r\n",
        "grid[tuple(pos4)] = 0.3\r\n",
        "grid[tuple(pos5)] = 0.3\r\n",
        "grid[tuple(pos6)] = 0.3\r\n",
        "\r\n",
        "print(grid)"
      ],
      "execution_count": null,
      "outputs": [
        {
          "output_type": "stream",
          "text": [
            "[[1.  0.  0.  0. ]\n",
            " [0.  0.  0.3 0. ]\n",
            " [0.3 0.  0.8 0. ]\n",
            " [0.3 0.  0.3 0. ]\n",
            " [0.2 0.  0.4 0.5]]\n"
          ],
          "name": "stdout"
        }
      ]
    },
    {
      "cell_type": "code",
      "metadata": {
        "colab": {
          "base_uri": "https://localhost:8080/",
          "height": 281
        },
        "id": "OiRuopUAweyS",
        "outputId": "6775c088-cbba-421d-ff43-2d5d39da4421"
      },
      "source": [
        "plt.imshow(grid)"
      ],
      "execution_count": null,
      "outputs": [
        {
          "output_type": "execute_result",
          "data": {
            "text/plain": [
              "<matplotlib.image.AxesImage at 0x7f0ddf3b6a58>"
            ]
          },
          "metadata": {
            "tags": []
          },
          "execution_count": 7
        },
        {
          "output_type": "display_data",
          "data": {
            "image/png": "[encoded data removed]",
            "text/plain": [
              "<Figure size 432x288 with 1 Axes>"
            ]
          },
          "metadata": {
            "tags": [],
            "needs_background": "light"
          }
        }
      ]
    },
    {
      "cell_type": "markdown",
      "metadata": {
        "id": "jb5DO6mT7qCU"
      },
      "source": [
        "## Environment Initialization and definition"
      ]
    },
    {
      "cell_type": "code",
      "metadata": {
        "id": "xRJpY7jX3tyT"
      },
      "source": [
        "class GridEnvironment(gym.Env):\r\n",
        "    metadata = { 'render.modes': [] }\r\n",
        "    \r\n",
        "    def __init__(self):\r\n",
        "        self.observation_space = spaces.Discrete(9)\r\n",
        "        self.action_space = spaces.Discrete(4)\r\n",
        "        self.max_timesteps = 5\r\n",
        "        \r\n",
        "    def reset(self):\r\n",
        "        self.timestep = 0\r\n",
        "        self.agent_pos = [0, 0]\r\n",
        "        self.goal_pos = [4, 3]\r\n",
        "        self.blocked_pos =[[2,0],[3,0],[1,2],[3,2]]\r\n",
        "        self.key_pos = [4,0]\r\n",
        "        self.reward_pos = [4,2]\r\n",
        "        self.penalty_pos = [2,2]\r\n",
        "        self.state = np.zeros((5,4))\r\n",
        "        self.state[tuple(self.agent_pos)] = 1\r\n",
        "        self.state[tuple(self.goal_pos)] = 0.5\r\n",
        "        \r\n",
        "        self.state[tuple(self.key_pos)]= 0.2\r\n",
        "        self.state[tuple(self.reward_pos)]= 0.4\r\n",
        "        self.state[tuple(self.penalty_pos)]= 0.8\r\n",
        "\r\n",
        "        self.state[tuple(self.blocked_pos[0])] = 0.3\r\n",
        "        self.state[tuple(self.blocked_pos[1])] = 0.3\r\n",
        "        self.state[tuple(self.blocked_pos[2])] = 0.3\r\n",
        "        self.state[tuple(self.blocked_pos[3])] = 0.3\r\n",
        "\r\n",
        "        observation = self.agent_pos\r\n",
        "        return observation\r\n",
        "    \r\n",
        "    def step(self, action):\r\n",
        "        if action == 0:\r\n",
        "          self.agent_pos[0] += 1\r\n",
        "        if action == 1:\r\n",
        "          self.agent_pos[0] -= 1\r\n",
        "        if action == 2:\r\n",
        "          self.agent_pos[1] += 1\r\n",
        "        if action == 3:\r\n",
        "          self.agent_pos[1] -= 1\r\n",
        "          \r\n",
        "        self.agent_pos = np.clip(self.agent_pos, 0, 2)\r\n",
        "        self.state = np.zeros((5,4))\r\n",
        "        self.state[tuple(self.agent_pos)] = 1\r\n",
        "        self.state[tuple(self.goal_pos)] = 0.5\r\n",
        "        \r\n",
        "        self.state[tuple(self.key_pos)]= 0.2\r\n",
        "        self.state[tuple(self.reward_pos)]= 0.4\r\n",
        "        self.state[tuple(self.penalty_pos)]= 0.8\r\n",
        "\r\n",
        "        self.state[tuple(self.blocked_pos[0])] = 0.3\r\n",
        "        self.state[tuple(self.blocked_pos[1])] = 0.3\r\n",
        "        self.state[tuple(self.blocked_pos[2])] = 0.3\r\n",
        "        self.state[tuple(self.blocked_pos[3])] = 0.3\r\n",
        "        \r\n",
        "        observation = self.agent_pos\r\n",
        "        \r\n",
        "        reward = 0\r\n",
        "        if (self.agent_pos == self.goal_pos).all():\r\n",
        "          reward = 10\r\n",
        "        if (self.agent_pos == self.reward_pos).all():\r\n",
        "          reward = 3\r\n",
        "        if (self.agent_pos == self.penalty_pos).all():\r\n",
        "          reward = -3\r\n",
        "        if (self.agent_pos == self.key_pos).all():\r\n",
        "          reward = 1\r\n",
        "          #has_key= 1\r\n",
        "          \r\n",
        "\r\n",
        "        self.timestep += 1\r\n",
        "        done = True if (self.timestep >= self.max_timesteps) or (self.agent_pos == self.goal_pos).all() else False\r\n",
        "        info = {}\r\n",
        "        \r\n",
        "        return observation, reward, done, info\r\n",
        "        \r\n",
        "    def render(self):\r\n",
        "        plt.imshow(self.state)"
      ],
      "execution_count": null,
      "outputs": []
    },
    {
      "cell_type": "markdown",
      "metadata": {
        "id": "ROUA6Z-WVkaZ"
      },
      "source": [
        "## Testing the Environment"
      ]
    },
    {
      "cell_type": "code",
      "metadata": {
        "colab": {
          "base_uri": "https://localhost:8080/",
          "height": 265
        },
        "id": "gqARItt73yPk",
        "outputId": "60f95304-810f-42b0-a054-726687f62aca"
      },
      "source": [
        "env = GridEnvironment()\r\n",
        "obs = env.reset()\r\n",
        "env.render()"
      ],
      "execution_count": null,
      "outputs": [
        {
          "output_type": "display_data",
          "data": {
            "image/png": "[encoded data removed]",
            "text/plain": [
              "<Figure size 432x288 with 1 Axes>"
            ]
          },
          "metadata": {
            "tags": [],
            "needs_background": "light"
          }
        }
      ]
    },
    {
      "cell_type": "code",
      "metadata": {
        "colab": {
          "base_uri": "https://localhost:8080/",
          "height": 268
        },
        "id": "WP7aiQdv31vI",
        "outputId": "587de31d-ce14-4625-8999-ee8cef77c95e"
      },
      "source": [
        "from google.colab import widgets\r\n",
        "import time\r\n",
        "\r\n",
        "output_grid = widgets.Grid(1, 1)\r\n",
        "for _ in range(5):\r\n",
        "  grid = np.zeros((5, 4))\r\n",
        "  grid[np.random.randint(5), np.random.randint(4)] = 1\r\n",
        "  with output_grid.output_to(0, 0):\r\n",
        "    output_grid.clear_cell()\r\n",
        "    plt.imshow(grid)\r\n",
        "  time.sleep(1)"
      ],
      "execution_count": null,
      "outputs": [
        {
          "output_type": "display_data",
          "data": {
            "text/html": [
              "<style>\n",
              "       table#id26, #id26 > tbody > tr > th, #id26 > tbody > tr > td {\n",
              "         border: 1px solid lightgray;\n",
              "         border-collapse:collapse;\n",
              "         \n",
              "        }</style>"
            ],
            "text/plain": [
              "<IPython.core.display.HTML object>"
            ]
          },
          "metadata": {
            "tags": [
              "outputarea_id26"
            ]
          }
        },
        {
          "output_type": "display_data",
          "data": {
            "text/html": [
              "<table id=id26><tr><td id=id26-0-0></td></tr></table>"
            ],
            "text/plain": [
              "<IPython.core.display.HTML object>"
            ]
          },
          "metadata": {
            "tags": [
              "outputarea_id26"
            ]
          }
        },
        {
          "output_type": "display_data",
          "data": {
            "application/javascript": [
              "window[\"f9ecc8cc-72f6-11eb-9f85-0242ac1c0002\"] = google.colab.output.getActiveOutputArea();\n",
              "//# sourceURL=js_6a18ddf93e"
            ],
            "text/plain": [
              "<IPython.core.display.Javascript object>"
            ]
          },
          "metadata": {
            "tags": [
              "id26-0-0",
              "outputarea_id26"
            ]
          }
        },
        {
          "output_type": "display_data",
          "data": {
            "application/javascript": [
              "window[\"f9ed0724-72f6-11eb-9f85-0242ac1c0002\"] = document.querySelector(\"#id26-0-0\");\n",
              "//# sourceURL=js_3d5ba9bb11"
            ],
            "text/plain": [
              "<IPython.core.display.Javascript object>"
            ]
          },
          "metadata": {
            "tags": [
              "id26-0-0",
              "outputarea_id26"
            ]
          }
        },
        {
          "output_type": "display_data",
          "data": {
            "application/javascript": [
              "window[\"f9ed5706-72f6-11eb-9f85-0242ac1c0002\"] = google.colab.output.setActiveOutputArea(window[\"f9ed0724-72f6-11eb-9f85-0242ac1c0002\"]);\n",
              "//# sourceURL=js_fa449b14cd"
            ],
            "text/plain": [
              "<IPython.core.display.Javascript object>"
            ]
          },
          "metadata": {
            "tags": [
              "id26-0-0",
              "outputarea_id26"
            ]
          }
        },
        {
          "output_type": "display_data",
          "data": {
            "application/javascript": [
              "window[\"fa1406ee-72f6-11eb-9f85-0242ac1c0002\"] = google.colab.output.setActiveOutputArea(window[\"f9ecc8cc-72f6-11eb-9f85-0242ac1c0002\"]);\n",
              "//# sourceURL=js_67eaaee850"
            ],
            "text/plain": [
              "<IPython.core.display.Javascript object>"
            ]
          },
          "metadata": {
            "tags": [
              "id26-0-0",
              "outputarea_id26"
            ]
          }
        },
        {
          "output_type": "display_data",
          "data": {
            "application/javascript": [
              "window[\"fab0213c-72f6-11eb-9f85-0242ac1c0002\"] = google.colab.output.getActiveOutputArea();\n",
              "//# sourceURL=js_458dbc5b8e"
            ],
            "text/plain": [
              "<IPython.core.display.Javascript object>"
            ]
          },
          "metadata": {
            "tags": [
              "id26-0-0",
              "outputarea_id26"
            ]
          }
        },
        {
          "output_type": "display_data",
          "data": {
            "application/javascript": [
              "window[\"fab0cf06-72f6-11eb-9f85-0242ac1c0002\"] = document.querySelector(\"#id26-0-0\");\n",
              "//# sourceURL=js_93ff70d9c1"
            ],
            "text/plain": [
              "<IPython.core.display.Javascript object>"
            ]
          },
          "metadata": {
            "tags": [
              "id26-0-0",
              "outputarea_id26"
            ]
          }
        },
        {
          "output_type": "display_data",
          "data": {
            "application/javascript": [
              "window[\"fab1569c-72f6-11eb-9f85-0242ac1c0002\"] = google.colab.output.setActiveOutputArea(window[\"fab0cf06-72f6-11eb-9f85-0242ac1c0002\"]);\n",
              "//# sourceURL=js_617d36d9f1"
            ],
            "text/plain": [
              "<IPython.core.display.Javascript object>"
            ]
          },
          "metadata": {
            "tags": [
              "id26-0-0",
              "outputarea_id26"
            ]
          }
        },
        {
          "output_type": "display_data",
          "data": {
            "application/javascript": [
              "window[\"facc97ea-72f6-11eb-9f85-0242ac1c0002\"] = google.colab.output.setActiveOutputArea(window[\"fab0213c-72f6-11eb-9f85-0242ac1c0002\"]);\n",
              "//# sourceURL=js_2d7227ddb6"
            ],
            "text/plain": [
              "<IPython.core.display.Javascript object>"
            ]
          },
          "metadata": {
            "tags": [
              "id26-0-0",
              "outputarea_id26"
            ]
          }
        },
        {
          "output_type": "display_data",
          "data": {
            "application/javascript": [
              "window[\"fb68d8ee-72f6-11eb-9f85-0242ac1c0002\"] = google.colab.output.getActiveOutputArea();\n",
              "//# sourceURL=js_8dffd73c96"
            ],
            "text/plain": [
              "<IPython.core.display.Javascript object>"
            ]
          },
          "metadata": {
            "tags": [
              "id26-0-0",
              "outputarea_id26"
            ]
          }
        },
        {
          "output_type": "display_data",
          "data": {
            "application/javascript": [
              "window[\"fb69af4e-72f6-11eb-9f85-0242ac1c0002\"] = document.querySelector(\"#id26-0-0\");\n",
              "//# sourceURL=js_3c4811a042"
            ],
            "text/plain": [
              "<IPython.core.display.Javascript object>"
            ]
          },
          "metadata": {
            "tags": [
              "id26-0-0",
              "outputarea_id26"
            ]
          }
        },
        {
          "output_type": "display_data",
          "data": {
            "application/javascript": [
              "window[\"fb6a6dda-72f6-11eb-9f85-0242ac1c0002\"] = google.colab.output.setActiveOutputArea(window[\"fb69af4e-72f6-11eb-9f85-0242ac1c0002\"]);\n",
              "//# sourceURL=js_b2d650a0b0"
            ],
            "text/plain": [
              "<IPython.core.display.Javascript object>"
            ]
          },
          "metadata": {
            "tags": [
              "id26-0-0",
              "outputarea_id26"
            ]
          }
        },
        {
          "output_type": "display_data",
          "data": {
            "application/javascript": [
              "window[\"fb86802e-72f6-11eb-9f85-0242ac1c0002\"] = google.colab.output.setActiveOutputArea(window[\"fb68d8ee-72f6-11eb-9f85-0242ac1c0002\"]);\n",
              "//# sourceURL=js_f5a83348bf"
            ],
            "text/plain": [
              "<IPython.core.display.Javascript object>"
            ]
          },
          "metadata": {
            "tags": [
              "id26-0-0",
              "outputarea_id26"
            ]
          }
        },
        {
          "output_type": "display_data",
          "data": {
            "application/javascript": [
              "window[\"fc2110ee-72f6-11eb-9f85-0242ac1c0002\"] = google.colab.output.getActiveOutputArea();\n",
              "//# sourceURL=js_e3c12156c8"
            ],
            "text/plain": [
              "<IPython.core.display.Javascript object>"
            ]
          },
          "metadata": {
            "tags": [
              "id26-0-0",
              "outputarea_id26"
            ]
          }
        },
        {
          "output_type": "display_data",
          "data": {
            "application/javascript": [
              "window[\"fc21f252-72f6-11eb-9f85-0242ac1c0002\"] = document.querySelector(\"#id26-0-0\");\n",
              "//# sourceURL=js_b132aa5adc"
            ],
            "text/plain": [
              "<IPython.core.display.Javascript object>"
            ]
          },
          "metadata": {
            "tags": [
              "id26-0-0",
              "outputarea_id26"
            ]
          }
        },
        {
          "output_type": "display_data",
          "data": {
            "application/javascript": [
              "window[\"fc22b28c-72f6-11eb-9f85-0242ac1c0002\"] = google.colab.output.setActiveOutputArea(window[\"fc21f252-72f6-11eb-9f85-0242ac1c0002\"]);\n",
              "//# sourceURL=js_996bf5bffd"
            ],
            "text/plain": [
              "<IPython.core.display.Javascript object>"
            ]
          },
          "metadata": {
            "tags": [
              "id26-0-0",
              "outputarea_id26"
            ]
          }
        },
        {
          "output_type": "display_data",
          "data": {
            "application/javascript": [
              "window[\"fc3e93a8-72f6-11eb-9f85-0242ac1c0002\"] = google.colab.output.setActiveOutputArea(window[\"fc2110ee-72f6-11eb-9f85-0242ac1c0002\"]);\n",
              "//# sourceURL=js_dd5247d328"
            ],
            "text/plain": [
              "<IPython.core.display.Javascript object>"
            ]
          },
          "metadata": {
            "tags": [
              "id26-0-0",
              "outputarea_id26"
            ]
          }
        },
        {
          "output_type": "display_data",
          "data": {
            "application/javascript": [
              "window[\"fcd9ba2c-72f6-11eb-9f85-0242ac1c0002\"] = google.colab.output.getActiveOutputArea();\n",
              "//# sourceURL=js_cd2208b8ee"
            ],
            "text/plain": [
              "<IPython.core.display.Javascript object>"
            ]
          },
          "metadata": {
            "tags": [
              "id26-0-0",
              "outputarea_id26"
            ]
          }
        },
        {
          "output_type": "display_data",
          "data": {
            "application/javascript": [
              "window[\"fcdadca4-72f6-11eb-9f85-0242ac1c0002\"] = document.querySelector(\"#id26-0-0\");\n",
              "//# sourceURL=js_12b7092a0e"
            ],
            "text/plain": [
              "<IPython.core.display.Javascript object>"
            ]
          },
          "metadata": {
            "tags": [
              "id26-0-0",
              "outputarea_id26"
            ]
          }
        },
        {
          "output_type": "display_data",
          "data": {
            "application/javascript": [
              "window[\"fcdb524c-72f6-11eb-9f85-0242ac1c0002\"] = google.colab.output.setActiveOutputArea(window[\"fcdadca4-72f6-11eb-9f85-0242ac1c0002\"]);\n",
              "//# sourceURL=js_4cda4b82fd"
            ],
            "text/plain": [
              "<IPython.core.display.Javascript object>"
            ]
          },
          "metadata": {
            "tags": [
              "id26-0-0",
              "outputarea_id26"
            ]
          }
        },
        {
          "output_type": "display_data",
          "data": {
            "image/png": "[encoded data removed]",
            "text/plain": [
              "<Figure size 432x288 with 1 Axes>"
            ]
          },
          "metadata": {
            "tags": [
              "id26-0-0",
              "outputarea_id26",
              "user_output"
            ],
            "needs_background": "light"
          }
        },
        {
          "output_type": "display_data",
          "data": {
            "application/javascript": [
              "window[\"fcf825f2-72f6-11eb-9f85-0242ac1c0002\"] = google.colab.output.setActiveOutputArea(window[\"fcd9ba2c-72f6-11eb-9f85-0242ac1c0002\"]);\n",
              "//# sourceURL=js_dd4961504f"
            ],
            "text/plain": [
              "<IPython.core.display.Javascript object>"
            ]
          },
          "metadata": {
            "tags": [
              "id26-0-0",
              "outputarea_id26"
            ]
          }
        }
      ]
    },
    {
      "cell_type": "code",
      "metadata": {
        "colab": {
          "base_uri": "https://localhost:8080/",
          "height": 281
        },
        "id": "JAgqnoM6V1mb",
        "outputId": "9e0a8037-cab2-410f-e61b-f4957b7e5861"
      },
      "source": [
        "# setting up environment and agent\r\n",
        "action = 0\r\n",
        "observation, reward, done, info = env.step(action)\r\n",
        "env.render()\r\n",
        "print('Reward:', reward)"
      ],
      "execution_count": null,
      "outputs": [
        {
          "output_type": "stream",
          "text": [
            "Reward: 0\n"
          ],
          "name": "stdout"
        },
        {
          "output_type": "display_data",
          "data": {
            "image/png": "[encoded data removed]",
            "text/plain": [
              "<Figure size 432x288 with 1 Axes>"
            ]
          },
          "metadata": {
            "tags": [],
            "needs_background": "light"
          }
        }
      ]
    },
    {
      "cell_type": "markdown",
      "metadata": {
        "id": "xFDXE3ALVo80"
      },
      "source": [
        "## Random Agent"
      ]
    },
    {
      "cell_type": "code",
      "metadata": {
        "id": "h9ht4xYq35iW"
      },
      "source": [
        "class RandomAgent:\r\n",
        "    def __init__(self, env):\r\n",
        "        self.env = env\r\n",
        "        self.observation_space = env.observation_space\r\n",
        "        self.action_space = env.action_space\r\n",
        "        \r\n",
        "    def step(self, observation):\r\n",
        "        return np.random.choice(self.action_space.n)"
      ],
      "execution_count": null,
      "outputs": []
    },
    {
      "cell_type": "markdown",
      "metadata": {
        "id": "zeZ7rQXvWIme"
      },
      "source": [
        "## Running a Markov Decision Process\r\n"
      ]
    },
    {
      "cell_type": "code",
      "metadata": {
        "colab": {
          "base_uri": "https://localhost:8080/",
          "height": 268
        },
        "id": "y_cgAQi53_iH",
        "outputId": "b59a8c6b-0676-47b8-8e2b-c4500befce39"
      },
      "source": [
        "# setting up environment and agent\r\n",
        "env = GridEnvironment()\r\n",
        "agent = RandomAgent(env)\r\n",
        "\r\n",
        "obs = env.reset()\r\n",
        "done = False\r\n",
        "\r\n",
        "# setting up animation\r\n",
        "output_grid = widgets.Grid(1, 1)\r\n",
        "with output_grid.output_to(0, 0):\r\n",
        "  env.render()\r\n",
        "\r\n",
        "# MDP Loop\r\n",
        "while not done:\r\n",
        "  action = agent.step(obs)\r\n",
        "  obs, reward, done, info = env.step(action)\r\n",
        "  with output_grid.output_to(0, 0):\r\n",
        "    output_grid.clear_cell()\r\n",
        "    env.render()\r\n",
        "  time.sleep(1)"
      ],
      "execution_count": null,
      "outputs": [
        {
          "output_type": "display_data",
          "data": {
            "text/html": [
              "<style>\n",
              "       table#id36, #id36 > tbody > tr > th, #id36 > tbody > tr > td {\n",
              "         border: 1px solid lightgray;\n",
              "         border-collapse:collapse;\n",
              "         \n",
              "        }</style>"
            ],
            "text/plain": [
              "<IPython.core.display.HTML object>"
            ]
          },
          "metadata": {
            "tags": [
              "outputarea_id36"
            ]
          }
        },
        {
          "output_type": "display_data",
          "data": {
            "text/html": [
              "<table id=id36><tr><td id=id36-0-0></td></tr></table>"
            ],
            "text/plain": [
              "<IPython.core.display.HTML object>"
            ]
          },
          "metadata": {
            "tags": [
              "outputarea_id36"
            ]
          }
        },
        {
          "output_type": "display_data",
          "data": {
            "application/javascript": [
              "window[\"1d43fc64-72f7-11eb-9f85-0242ac1c0002\"] = google.colab.output.getActiveOutputArea();\n",
              "//# sourceURL=js_c79b2cb347"
            ],
            "text/plain": [
              "<IPython.core.display.Javascript object>"
            ]
          },
          "metadata": {
            "tags": [
              "id36-0-0",
              "outputarea_id36"
            ]
          }
        },
        {
          "output_type": "display_data",
          "data": {
            "application/javascript": [
              "window[\"1d4474d2-72f7-11eb-9f85-0242ac1c0002\"] = document.querySelector(\"#id36-0-0\");\n",
              "//# sourceURL=js_23b8aad1e5"
            ],
            "text/plain": [
              "<IPython.core.display.Javascript object>"
            ]
          },
          "metadata": {
            "tags": [
              "id36-0-0",
              "outputarea_id36"
            ]
          }
        },
        {
          "output_type": "display_data",
          "data": {
            "application/javascript": [
              "window[\"1d454a4c-72f7-11eb-9f85-0242ac1c0002\"] = google.colab.output.setActiveOutputArea(window[\"1d4474d2-72f7-11eb-9f85-0242ac1c0002\"]);\n",
              "//# sourceURL=js_7a5408e470"
            ],
            "text/plain": [
              "<IPython.core.display.Javascript object>"
            ]
          },
          "metadata": {
            "tags": [
              "id36-0-0",
              "outputarea_id36"
            ]
          }
        },
        {
          "output_type": "display_data",
          "data": {
            "application/javascript": [
              "window[\"1d601f7a-72f7-11eb-9f85-0242ac1c0002\"] = google.colab.output.setActiveOutputArea(window[\"1d43fc64-72f7-11eb-9f85-0242ac1c0002\"]);\n",
              "//# sourceURL=js_d9238ae5b6"
            ],
            "text/plain": [
              "<IPython.core.display.Javascript object>"
            ]
          },
          "metadata": {
            "tags": [
              "id36-0-0",
              "outputarea_id36"
            ]
          }
        },
        {
          "output_type": "display_data",
          "data": {
            "application/javascript": [
              "window[\"1d628f58-72f7-11eb-9f85-0242ac1c0002\"] = google.colab.output.getActiveOutputArea();\n",
              "//# sourceURL=js_5e5e32ba93"
            ],
            "text/plain": [
              "<IPython.core.display.Javascript object>"
            ]
          },
          "metadata": {
            "tags": [
              "id36-0-0",
              "outputarea_id36"
            ]
          }
        },
        {
          "output_type": "display_data",
          "data": {
            "application/javascript": [
              "window[\"1d62f1aa-72f7-11eb-9f85-0242ac1c0002\"] = document.querySelector(\"#id36-0-0\");\n",
              "//# sourceURL=js_78d6983aeb"
            ],
            "text/plain": [
              "<IPython.core.display.Javascript object>"
            ]
          },
          "metadata": {
            "tags": [
              "id36-0-0",
              "outputarea_id36"
            ]
          }
        },
        {
          "output_type": "display_data",
          "data": {
            "application/javascript": [
              "window[\"1d633b2e-72f7-11eb-9f85-0242ac1c0002\"] = google.colab.output.setActiveOutputArea(window[\"1d62f1aa-72f7-11eb-9f85-0242ac1c0002\"]);\n",
              "//# sourceURL=js_26720f0f1b"
            ],
            "text/plain": [
              "<IPython.core.display.Javascript object>"
            ]
          },
          "metadata": {
            "tags": [
              "id36-0-0",
              "outputarea_id36"
            ]
          }
        },
        {
          "output_type": "display_data",
          "data": {
            "application/javascript": [
              "window[\"1d7f9b02-72f7-11eb-9f85-0242ac1c0002\"] = google.colab.output.setActiveOutputArea(window[\"1d628f58-72f7-11eb-9f85-0242ac1c0002\"]);\n",
              "//# sourceURL=js_749814ee69"
            ],
            "text/plain": [
              "<IPython.core.display.Javascript object>"
            ]
          },
          "metadata": {
            "tags": [
              "id36-0-0",
              "outputarea_id36"
            ]
          }
        },
        {
          "output_type": "display_data",
          "data": {
            "application/javascript": [
              "window[\"1e1b6046-72f7-11eb-9f85-0242ac1c0002\"] = google.colab.output.getActiveOutputArea();\n",
              "//# sourceURL=js_8f80ed0dd3"
            ],
            "text/plain": [
              "<IPython.core.display.Javascript object>"
            ]
          },
          "metadata": {
            "tags": [
              "id36-0-0",
              "outputarea_id36"
            ]
          }
        },
        {
          "output_type": "display_data",
          "data": {
            "application/javascript": [
              "window[\"1e1c2c9c-72f7-11eb-9f85-0242ac1c0002\"] = document.querySelector(\"#id36-0-0\");\n",
              "//# sourceURL=js_01c6561e32"
            ],
            "text/plain": [
              "<IPython.core.display.Javascript object>"
            ]
          },
          "metadata": {
            "tags": [
              "id36-0-0",
              "outputarea_id36"
            ]
          }
        },
        {
          "output_type": "display_data",
          "data": {
            "application/javascript": [
              "window[\"1e1ce5ba-72f7-11eb-9f85-0242ac1c0002\"] = google.colab.output.setActiveOutputArea(window[\"1e1c2c9c-72f7-11eb-9f85-0242ac1c0002\"]);\n",
              "//# sourceURL=js_3e95c38dcd"
            ],
            "text/plain": [
              "<IPython.core.display.Javascript object>"
            ]
          },
          "metadata": {
            "tags": [
              "id36-0-0",
              "outputarea_id36"
            ]
          }
        },
        {
          "output_type": "display_data",
          "data": {
            "application/javascript": [
              "window[\"1e39d904-72f7-11eb-9f85-0242ac1c0002\"] = google.colab.output.setActiveOutputArea(window[\"1e1b6046-72f7-11eb-9f85-0242ac1c0002\"]);\n",
              "//# sourceURL=js_cd4ed3585b"
            ],
            "text/plain": [
              "<IPython.core.display.Javascript object>"
            ]
          },
          "metadata": {
            "tags": [
              "id36-0-0",
              "outputarea_id36"
            ]
          }
        },
        {
          "output_type": "display_data",
          "data": {
            "application/javascript": [
              "window[\"1ed66508-72f7-11eb-9f85-0242ac1c0002\"] = google.colab.output.getActiveOutputArea();\n",
              "//# sourceURL=js_d731a4fc4e"
            ],
            "text/plain": [
              "<IPython.core.display.Javascript object>"
            ]
          },
          "metadata": {
            "tags": [
              "id36-0-0",
              "outputarea_id36"
            ]
          }
        },
        {
          "output_type": "display_data",
          "data": {
            "application/javascript": [
              "window[\"1ed72966-72f7-11eb-9f85-0242ac1c0002\"] = document.querySelector(\"#id36-0-0\");\n",
              "//# sourceURL=js_e2f21ad60b"
            ],
            "text/plain": [
              "<IPython.core.display.Javascript object>"
            ]
          },
          "metadata": {
            "tags": [
              "id36-0-0",
              "outputarea_id36"
            ]
          }
        },
        {
          "output_type": "display_data",
          "data": {
            "application/javascript": [
              "window[\"1ed7d9ba-72f7-11eb-9f85-0242ac1c0002\"] = google.colab.output.setActiveOutputArea(window[\"1ed72966-72f7-11eb-9f85-0242ac1c0002\"]);\n",
              "//# sourceURL=js_3cb6451b46"
            ],
            "text/plain": [
              "<IPython.core.display.Javascript object>"
            ]
          },
          "metadata": {
            "tags": [
              "id36-0-0",
              "outputarea_id36"
            ]
          }
        },
        {
          "output_type": "display_data",
          "data": {
            "application/javascript": [
              "window[\"1ef4c3e0-72f7-11eb-9f85-0242ac1c0002\"] = google.colab.output.setActiveOutputArea(window[\"1ed66508-72f7-11eb-9f85-0242ac1c0002\"]);\n",
              "//# sourceURL=js_a1d7b41be4"
            ],
            "text/plain": [
              "<IPython.core.display.Javascript object>"
            ]
          },
          "metadata": {
            "tags": [
              "id36-0-0",
              "outputarea_id36"
            ]
          }
        },
        {
          "output_type": "display_data",
          "data": {
            "application/javascript": [
              "window[\"1f913d1a-72f7-11eb-9f85-0242ac1c0002\"] = google.colab.output.getActiveOutputArea();\n",
              "//# sourceURL=js_a0bf05fc68"
            ],
            "text/plain": [
              "<IPython.core.display.Javascript object>"
            ]
          },
          "metadata": {
            "tags": [
              "id36-0-0",
              "outputarea_id36"
            ]
          }
        },
        {
          "output_type": "display_data",
          "data": {
            "application/javascript": [
              "window[\"1f91f55c-72f7-11eb-9f85-0242ac1c0002\"] = document.querySelector(\"#id36-0-0\");\n",
              "//# sourceURL=js_83faa9b189"
            ],
            "text/plain": [
              "<IPython.core.display.Javascript object>"
            ]
          },
          "metadata": {
            "tags": [
              "id36-0-0",
              "outputarea_id36"
            ]
          }
        },
        {
          "output_type": "display_data",
          "data": {
            "application/javascript": [
              "window[\"1f92aa56-72f7-11eb-9f85-0242ac1c0002\"] = google.colab.output.setActiveOutputArea(window[\"1f91f55c-72f7-11eb-9f85-0242ac1c0002\"]);\n",
              "//# sourceURL=js_4a6762dfe5"
            ],
            "text/plain": [
              "<IPython.core.display.Javascript object>"
            ]
          },
          "metadata": {
            "tags": [
              "id36-0-0",
              "outputarea_id36"
            ]
          }
        },
        {
          "output_type": "display_data",
          "data": {
            "application/javascript": [
              "window[\"1fae67c8-72f7-11eb-9f85-0242ac1c0002\"] = google.colab.output.setActiveOutputArea(window[\"1f913d1a-72f7-11eb-9f85-0242ac1c0002\"]);\n",
              "//# sourceURL=js_273e6ed08f"
            ],
            "text/plain": [
              "<IPython.core.display.Javascript object>"
            ]
          },
          "metadata": {
            "tags": [
              "id36-0-0",
              "outputarea_id36"
            ]
          }
        },
        {
          "output_type": "display_data",
          "data": {
            "application/javascript": [
              "window[\"20490bac-72f7-11eb-9f85-0242ac1c0002\"] = google.colab.output.getActiveOutputArea();\n",
              "//# sourceURL=js_de625cf000"
            ],
            "text/plain": [
              "<IPython.core.display.Javascript object>"
            ]
          },
          "metadata": {
            "tags": [
              "id36-0-0",
              "outputarea_id36"
            ]
          }
        },
        {
          "output_type": "display_data",
          "data": {
            "application/javascript": [
              "window[\"2049e37e-72f7-11eb-9f85-0242ac1c0002\"] = document.querySelector(\"#id36-0-0\");\n",
              "//# sourceURL=js_27e609b5bd"
            ],
            "text/plain": [
              "<IPython.core.display.Javascript object>"
            ]
          },
          "metadata": {
            "tags": [
              "id36-0-0",
              "outputarea_id36"
            ]
          }
        },
        {
          "output_type": "display_data",
          "data": {
            "application/javascript": [
              "window[\"204adc02-72f7-11eb-9f85-0242ac1c0002\"] = google.colab.output.setActiveOutputArea(window[\"2049e37e-72f7-11eb-9f85-0242ac1c0002\"]);\n",
              "//# sourceURL=js_5a07cb5f5f"
            ],
            "text/plain": [
              "<IPython.core.display.Javascript object>"
            ]
          },
          "metadata": {
            "tags": [
              "id36-0-0",
              "outputarea_id36"
            ]
          }
        },
        {
          "output_type": "display_data",
          "data": {
            "image/png": "[encoded data removed]",
            "text/plain": [
              "<Figure size 432x288 with 1 Axes>"
            ]
          },
          "metadata": {
            "tags": [
              "id36-0-0",
              "outputarea_id36",
              "user_output"
            ],
            "needs_background": "light"
          }
        },
        {
          "output_type": "display_data",
          "data": {
            "application/javascript": [
              "window[\"206562f2-72f7-11eb-9f85-0242ac1c0002\"] = google.colab.output.setActiveOutputArea(window[\"20490bac-72f7-11eb-9f85-0242ac1c0002\"]);\n",
              "//# sourceURL=js_71f8c5b771"
            ],
            "text/plain": [
              "<IPython.core.display.Javascript object>"
            ]
          },
          "metadata": {
            "tags": [
              "id36-0-0",
              "outputarea_id36"
            ]
          }
        }
      ]
    }
  ]
}