{
  "nbformat": 4,
  "nbformat_minor": 0,
  "metadata": {
    "colab": {
      "name": "RFlearning_Assignment1.ipynb",
      "provenance": [],
      "collapsed_sections": [],
      "authorship_tag": "ABX9TyOIfRfNdPL7r2LkxxgynaSX",
      "include_colab_link": true
    },
    "kernelspec": {
      "name": "python3",
      "display_name": "Python 3"
    }
  },
  "cells": [
    {
      "cell_type": "markdown",
      "metadata": {
        "id": "view-in-github",
        "colab_type": "text"
      },
      "source": [
        "<a href=\"https://colab.research.google.com/github/parthrjpt/EAS546_Projects/blob/DEV/RFlearning_Assignment1.ipynb\" target=\"_parent\"><img src=\"https://colab.research.google.com/assets/colab-badge.svg\" alt=\"Open In Colab\"/></a>"
      ]
    },
    {
      "cell_type": "code",
      "metadata": {
        "id": "GKbDuhwswxao",
        "colab": {
          "base_uri": "https://localhost:8080/"
        },
        "outputId": "990b694a-df86-493f-a5ff-328eeab2cc46"
      },
      "source": [
        "!pip install gym"
      ],
      "execution_count": 1,
      "outputs": [
        {
          "output_type": "stream",
          "text": [
            "Requirement already satisfied: gym in /usr/local/lib/python3.7/dist-packages (0.17.3)\n",
            "Requirement already satisfied: cloudpickle<1.7.0,>=1.2.0 in /usr/local/lib/python3.7/dist-packages (from gym) (1.3.0)\n",
            "Requirement already satisfied: numpy>=1.10.4 in /usr/local/lib/python3.7/dist-packages (from gym) (1.19.5)\n",
            "Requirement already satisfied: pyglet<=1.5.0,>=1.4.0 in /usr/local/lib/python3.7/dist-packages (from gym) (1.5.0)\n",
            "Requirement already satisfied: scipy in /usr/local/lib/python3.7/dist-packages (from gym) (1.4.1)\n",
            "Requirement already satisfied: future in /usr/local/lib/python3.7/dist-packages (from pyglet<=1.5.0,>=1.4.0->gym) (0.16.0)\n"
          ],
          "name": "stdout"
        }
      ]
    },
    {
      "cell_type": "code",
      "metadata": {
        "id": "7Mp-A-v4wNGf"
      },
      "source": [
        "import numpy as np\r\n",
        "import matplotlib.pyplot as plt\r\n",
        "import gym\r\n",
        "from gym import spaces\r\n",
        "\r\n",
        "from matplotlib.patches import Circle\r\n",
        "from matplotlib.offsetbox import (TextArea, DrawingArea, OffsetImage,\r\n",
        "                                  AnnotationBbox)\r\n"
      ],
      "execution_count": 2,
      "outputs": []
    },
    {
      "cell_type": "markdown",
      "metadata": {
        "id": "mALR4E027dk1"
      },
      "source": [
        "### RL Environment"
      ]
    },
    {
      "cell_type": "code",
      "metadata": {
        "colab": {
          "base_uri": "https://localhost:8080/"
        },
        "id": "njYaUnaIwU1k",
        "outputId": "3f1951de-a03d-4a6d-cb83-98114ec0e230"
      },
      "source": [
        "grid = np.zeros((5,5))\r\n",
        "\r\n",
        "pos1 = [0, 0] #start\r\n",
        "pos2 = [4,4] #finish\r\n",
        "\r\n",
        "#non-permitted blocks\r\n",
        "pos3 = [2, 0]\r\n",
        "pos4 = [3, 0]\r\n",
        "pos5 = [1,2]\r\n",
        "pos6 = [3,2]\r\n",
        "\r\n",
        "pos7 = [4,0] #key \r\n",
        "pos8 = [4,2] #diamond with locked door \r\n",
        "pos9 = [2,2] #fire with locked door\r\n",
        "\r\n",
        "pos10 =[0,2] #locked door no reward\r\n",
        "\r\n",
        "grid[tuple(pos1)] = 1\r\n",
        "grid[tuple(pos2)] = 0.5\r\n",
        "\r\n",
        "grid[tuple(pos7)]= 0.2\r\n",
        "grid[tuple(pos8)]= 0.4\r\n",
        "grid[tuple(pos9)]= 0.8\r\n",
        "grid[tuple(pos10)]= 0.1\r\n",
        "\r\n",
        "grid[tuple(pos3)] = 0.3\r\n",
        "grid[tuple(pos4)] = 0.3\r\n",
        "grid[tuple(pos5)] = 0.3\r\n",
        "grid[tuple(pos6)] = 0.3\r\n",
        "\r\n",
        "print(grid)"
      ],
      "execution_count": 3,
      "outputs": [
        {
          "output_type": "stream",
          "text": [
            "[[1.  0.  0.1 0.  0. ]\n",
            " [0.  0.  0.3 0.  0. ]\n",
            " [0.3 0.  0.8 0.  0. ]\n",
            " [0.3 0.  0.3 0.  0. ]\n",
            " [0.2 0.  0.4 0.  0.5]]\n"
          ],
          "name": "stdout"
        }
      ]
    },
    {
      "cell_type": "code",
      "metadata": {
        "colab": {
          "base_uri": "https://localhost:8080/",
          "height": 282
        },
        "id": "OiRuopUAweyS",
        "outputId": "19c9ac6a-4c0c-41f6-c87c-b6cddc210716"
      },
      "source": [
        "plt.imshow(grid)"
      ],
      "execution_count": 4,
      "outputs": [
        {
          "output_type": "execute_result",
          "data": {
            "text/plain": [
              "<matplotlib.image.AxesImage at 0x7fad2f22c950>"
            ]
          },
          "metadata": {
            "tags": []
          },
          "execution_count": 4
        },
        {
          "output_type": "display_data",
          "data": {
            "image/png": "[encoded data removed]",
            "text/plain": [
              "<Figure size 432x288 with 1 Axes>"
            ]
          },
          "metadata": {
            "tags": [],
            "needs_background": "light"
          }
        }
      ]
    },
    {
      "cell_type": "markdown",
      "metadata": {
        "id": "jb5DO6mT7qCU"
      },
      "source": [
        "## Environment Initialization and definition"
      ]
    },
    {
      "cell_type": "code",
      "metadata": {
        "id": "xRJpY7jX3tyT"
      },
      "source": [
        "class GridEnvironment(gym.Env):\r\n",
        "    metadata = { 'render.modes': [] }\r\n",
        "    \r\n",
        "    def __init__(self):\r\n",
        "        self.observation_space = spaces.Discrete(25)\r\n",
        "        self.action_space = spaces.Discrete(4)\r\n",
        "        self.max_timesteps = 100\r\n",
        "        \r\n",
        "    def reset(self):\r\n",
        "        self.timestep = 0\r\n",
        "        self.agent_pos = [0, 0]\r\n",
        "        self.agent_haskey=0\r\n",
        "        self.goal_pos = [4, 4]\r\n",
        "        #self.blocked_pos =[[2,0],[3,0],[1,2],[3,2]]\r\n",
        "        self.simple_door=[0,2]\r\n",
        "        self.key_pos = [4,0]\r\n",
        "        self.reward_pos = [4,2]\r\n",
        "        self.penalty_pos = [2,2]\r\n",
        "        self.state = np.zeros((5,5))\r\n",
        "        self.state[tuple(self.agent_pos)] = 1\r\n",
        "        self.state[tuple(self.goal_pos)] = 0.5\r\n",
        "        \r\n",
        "        self.state[tuple(self.key_pos)]= 0.2\r\n",
        "        self.state[tuple(self.reward_pos)]= 0.4\r\n",
        "        self.state[tuple(self.penalty_pos)]= 0.8\r\n",
        "        self.state[tuple(self.simple_door)]=0.1\r\n",
        "        #self.state[tuple(self.blocked_pos[0])] = 0.3\r\n",
        "        #self.state[tuple(self.blocked_pos[1])] = 0.3\r\n",
        "        #self.state[tuple(self.blocked_pos[2])] = 0.3\r\n",
        "        #self.state[tuple(self.blocked_pos[3])] = 0.3\r\n",
        "\r\n",
        "        observation = self.agent_pos\r\n",
        "        return observation\r\n",
        "    \r\n",
        "    def step(self, action):\r\n",
        "        prev_pos=self.agent_pos\r\n",
        "        if action == 0:\r\n",
        "          self.agent_pos[0] += 1\r\n",
        "        if action == 1:\r\n",
        "          self.agent_pos[0] -= 1\r\n",
        "        if action == 2:\r\n",
        "          self.agent_pos[1] += 1\r\n",
        "        if action == 3:\r\n",
        "          self.agent_pos[1] -= 1\r\n",
        "\r\n",
        "\r\n",
        "          \r\n",
        "        self.agent_pos = np.clip(self.agent_pos, 0, 4)\r\n",
        "        self.state = np.zeros((5,5))\r\n",
        "        self.state[tuple(self.agent_pos)] = 1\r\n",
        "        self.state[tuple(self.goal_pos)] = 0.5\r\n",
        "        self.state[tuple(self.simple_door)]= 0.1\r\n",
        "        self.state[tuple(self.key_pos)]= 0.2\r\n",
        "        self.state[tuple(self.reward_pos)]= 0.4\r\n",
        "        self.state[tuple(self.penalty_pos)]= 0.8\r\n",
        "\r\n",
        "        #self.state[tuple(self.blocked_pos[0])] = 0.3\r\n",
        "        #self.state[tuple(self.blocked_pos[1])] = 0.3\r\n",
        "        #self.state[tuple(self.blocked_pos[2])] = 0.3\r\n",
        "        #self.state[tuple(self.blocked_pos[3])] = 0.3\r\n",
        "        \r\n",
        "        observation = self.agent_pos\r\n",
        "        \r\n",
        "        reward = 0\r\n",
        "        if (self.agent_pos == self.goal_pos).all():\r\n",
        "          reward = 10\r\n",
        "        if (self.agent_pos == self.reward_pos).all() and (self.agent_haskey==1):\r\n",
        "          reward = 3\r\n",
        "        else:\r\n",
        "          self.agent_pos=prev_pos\r\n",
        "          reward = -2\r\n",
        "        if ((self.agent_pos == self.penalty_pos) and (self.agent_haskey==1)):\r\n",
        "          reward = -3\r\n",
        "        else:\r\n",
        "          self.agent_pos=prev_pos\r\n",
        "          reward = -2\r\n",
        "        if ((self.agent_pos == self.key_pos) and (self.agent_haskey==0)):\r\n",
        "          reward = 1\r\n",
        "          self.agent_haskey= 1\r\n",
        "        if ((self.agent_pos == self.simple_door) and (self.agent_haskey==0)):\r\n",
        "          self.agent_pos=prev_pos\r\n",
        "          reward = -2            \r\n",
        "          \r\n",
        "        self.timestep += 1\r\n",
        "        done = True if (self.timestep >= self.max_timesteps) or (self.agent_pos == self.goal_pos) else False\r\n",
        "        info = {}\r\n",
        "        \r\n",
        "        return observation, reward, done, info\r\n",
        "\r\n",
        "    # def render(self):\r\n",
        "    #   fig ,ax = plt.subplots(figsize=(10,10))\r\n",
        "    #   ax.set_xlim(0,4)\r\n",
        "    #   ax.set_ylim(0,5)\r\n",
        "    #   agentImg='https://static.thenounproject.com/png/2674535-200.png'\r\n",
        "    #   agent = AnnotationBbox(OffsetImage(plt.imread(agentImg),zoom=0.36),\r\n",
        "    #                 self.agent_pos,[0.5,0.5],frameon=False)\r\n",
        "    #   ax.add_artist(agent)\r\n",
        "\r\n",
        "    #   block=[]\r\n",
        "    #   i=0\r\n",
        "    #   #blockedImg='https://upload.wikimedia.org/wikipedia/commons/3/39/BLACK.PNG'\r\n",
        "    #   while i <len(self.blocked_pos):\r\n",
        "    #     block.append(AnnotationBbox(TextArea('Wall')),\r\n",
        "    #                  self.blocked_pos[i] ,[0.5,0.5],frameon=False)\r\n",
        "    #     ax.add_artist(block[i])\r\n",
        "    #     i+=1\r\n",
        "    #   plt.xticks([0,1,2,3])\r\n",
        "    #   plt.yticks([0,1,2,3,4])\r\n",
        "    #   plt.grid()\r\n",
        "    #   plt.show()\r\n",
        "    def render(self):\r\n",
        "        plt.imshow(self.state)"
      ],
      "execution_count": 4,
      "outputs": []
    },
    {
      "cell_type": "markdown",
      "metadata": {
        "id": "8yWwYfBnCgpc"
      },
      "source": [
        ""
      ]
    },
    {
      "cell_type": "markdown",
      "metadata": {
        "id": "ROUA6Z-WVkaZ"
      },
      "source": [
        "## Testing the Environment"
      ]
    },
    {
      "cell_type": "code",
      "metadata": {
        "id": "jpwAvK4Px-cG"
      },
      "source": [
        ""
      ],
      "execution_count": 30,
      "outputs": []
    },
    {
      "cell_type": "code",
      "metadata": {
        "colab": {
          "base_uri": "https://localhost:8080/",
          "height": 265
        },
        "id": "gqARItt73yPk",
        "outputId": "b92432e0-bbba-42d6-a942-c775451a00fe"
      },
      "source": [
        "env = GridEnvironment()\r\n",
        "obs = env.reset()\r\n",
        "env.render()"
      ],
      "execution_count": 18,
      "outputs": [
        {
          "output_type": "display_data",
          "data": {
            "image/png": "[encoded data removed]",
            "text/plain": [
              "<Figure size 432x288 with 1 Axes>"
            ]
          },
          "metadata": {
            "tags": [],
            "needs_background": "light"
          }
        }
      ]
    },
    {
      "cell_type": "code",
      "metadata": {
        "colab": {
          "base_uri": "https://localhost:8080/",
          "height": 268
        },
        "id": "WP7aiQdv31vI",
        "outputId": "314d1083-4207-4914-bdb6-f8e3f9a8a7e1"
      },
      "source": [
        "from google.colab import widgets\r\n",
        "import time\r\n",
        "\r\n",
        "output_grid = widgets.Grid(1, 1)\r\n",
        "for _ in range(5):\r\n",
        "  grid = np.zeros((5, 5))\r\n",
        "  grid[np.random.randint(5), np.random.randint(5)] = 1\r\n",
        "  with output_grid.output_to(0, 0):\r\n",
        "    output_grid.clear_cell()\r\n",
        "    plt.imshow(grid)\r\n",
        "  time.sleep(1)"
      ],
      "execution_count": 31,
      "outputs": [
        {
          "output_type": "display_data",
          "data": {
            "text/html": [
              "<style>\n",
              "       table#id14, #id14 > tbody > tr > th, #id14 > tbody > tr > td {\n",
              "         border: 1px solid lightgray;\n",
              "         border-collapse:collapse;\n",
              "         \n",
              "        }</style>"
            ],
            "text/plain": [
              "<IPython.core.display.HTML object>"
            ]
          },
          "metadata": {
            "tags": [
              "outputarea_id14"
            ]
          }
        },
        {
          "output_type": "display_data",
          "data": {
            "text/html": [
              "<table id=id14><tr><td id=id14-0-0></td></tr></table>"
            ],
            "text/plain": [
              "<IPython.core.display.HTML object>"
            ]
          },
          "metadata": {
            "tags": [
              "outputarea_id14"
            ]
          }
        },
        {
          "output_type": "display_data",
          "data": {
            "application/javascript": [
              "window[\"4536b746-7f9c-11eb-8850-0242ac1c0002\"] = google.colab.output.getActiveOutputArea();\n",
              "//# sourceURL=js_b3309f8e24"
            ],
            "text/plain": [
              "<IPython.core.display.Javascript object>"
            ]
          },
          "metadata": {
            "tags": [
              "id14-0-0",
              "outputarea_id14"
            ]
          }
        },
        {
          "output_type": "display_data",
          "data": {
            "application/javascript": [
              "window[\"4536fbe8-7f9c-11eb-8850-0242ac1c0002\"] = document.querySelector(\"#id14-0-0\");\n",
              "//# sourceURL=js_d4980075b5"
            ],
            "text/plain": [
              "<IPython.core.display.Javascript object>"
            ]
          },
          "metadata": {
            "tags": [
              "id14-0-0",
              "outputarea_id14"
            ]
          }
        },
        {
          "output_type": "display_data",
          "data": {
            "application/javascript": [
              "window[\"45375ade-7f9c-11eb-8850-0242ac1c0002\"] = google.colab.output.setActiveOutputArea(window[\"4536fbe8-7f9c-11eb-8850-0242ac1c0002\"]);\n",
              "//# sourceURL=js_9db97b93a8"
            ],
            "text/plain": [
              "<IPython.core.display.Javascript object>"
            ]
          },
          "metadata": {
            "tags": [
              "id14-0-0",
              "outputarea_id14"
            ]
          }
        },
        {
          "output_type": "display_data",
          "data": {
            "application/javascript": [
              "window[\"454e5f18-7f9c-11eb-8850-0242ac1c0002\"] = google.colab.output.setActiveOutputArea(window[\"4536b746-7f9c-11eb-8850-0242ac1c0002\"]);\n",
              "//# sourceURL=js_18139619cf"
            ],
            "text/plain": [
              "<IPython.core.display.Javascript object>"
            ]
          },
          "metadata": {
            "tags": [
              "id14-0-0",
              "outputarea_id14"
            ]
          }
        },
        {
          "output_type": "display_data",
          "data": {
            "application/javascript": [
              "window[\"45e8a532-7f9c-11eb-8850-0242ac1c0002\"] = google.colab.output.getActiveOutputArea();\n",
              "//# sourceURL=js_58ce67ee2f"
            ],
            "text/plain": [
              "<IPython.core.display.Javascript object>"
            ]
          },
          "metadata": {
            "tags": [
              "id14-0-0",
              "outputarea_id14"
            ]
          }
        },
        {
          "output_type": "display_data",
          "data": {
            "application/javascript": [
              "window[\"45e8e9b6-7f9c-11eb-8850-0242ac1c0002\"] = document.querySelector(\"#id14-0-0\");\n",
              "//# sourceURL=js_d495e40af2"
            ],
            "text/plain": [
              "<IPython.core.display.Javascript object>"
            ]
          },
          "metadata": {
            "tags": [
              "id14-0-0",
              "outputarea_id14"
            ]
          }
        },
        {
          "output_type": "display_data",
          "data": {
            "application/javascript": [
              "window[\"45e92bce-7f9c-11eb-8850-0242ac1c0002\"] = google.colab.output.setActiveOutputArea(window[\"45e8e9b6-7f9c-11eb-8850-0242ac1c0002\"]);\n",
              "//# sourceURL=js_0331171ae2"
            ],
            "text/plain": [
              "<IPython.core.display.Javascript object>"
            ]
          },
          "metadata": {
            "tags": [
              "id14-0-0",
              "outputarea_id14"
            ]
          }
        },
        {
          "output_type": "display_data",
          "data": {
            "application/javascript": [
              "window[\"4603922a-7f9c-11eb-8850-0242ac1c0002\"] = google.colab.output.setActiveOutputArea(window[\"45e8a532-7f9c-11eb-8850-0242ac1c0002\"]);\n",
              "//# sourceURL=js_5c6a1b2af4"
            ],
            "text/plain": [
              "<IPython.core.display.Javascript object>"
            ]
          },
          "metadata": {
            "tags": [
              "id14-0-0",
              "outputarea_id14"
            ]
          }
        },
        {
          "output_type": "display_data",
          "data": {
            "application/javascript": [
              "window[\"469da4f0-7f9c-11eb-8850-0242ac1c0002\"] = google.colab.output.getActiveOutputArea();\n",
              "//# sourceURL=js_10ef469e60"
            ],
            "text/plain": [
              "<IPython.core.display.Javascript object>"
            ]
          },
          "metadata": {
            "tags": [
              "id14-0-0",
              "outputarea_id14"
            ]
          }
        },
        {
          "output_type": "display_data",
          "data": {
            "application/javascript": [
              "window[\"469e0922-7f9c-11eb-8850-0242ac1c0002\"] = document.querySelector(\"#id14-0-0\");\n",
              "//# sourceURL=js_2611f7f568"
            ],
            "text/plain": [
              "<IPython.core.display.Javascript object>"
            ]
          },
          "metadata": {
            "tags": [
              "id14-0-0",
              "outputarea_id14"
            ]
          }
        },
        {
          "output_type": "display_data",
          "data": {
            "application/javascript": [
              "window[\"469e6304-7f9c-11eb-8850-0242ac1c0002\"] = google.colab.output.setActiveOutputArea(window[\"469e0922-7f9c-11eb-8850-0242ac1c0002\"]);\n",
              "//# sourceURL=js_c2222d09cd"
            ],
            "text/plain": [
              "<IPython.core.display.Javascript object>"
            ]
          },
          "metadata": {
            "tags": [
              "id14-0-0",
              "outputarea_id14"
            ]
          }
        },
        {
          "output_type": "display_data",
          "data": {
            "application/javascript": [
              "window[\"46b592ea-7f9c-11eb-8850-0242ac1c0002\"] = google.colab.output.setActiveOutputArea(window[\"469da4f0-7f9c-11eb-8850-0242ac1c0002\"]);\n",
              "//# sourceURL=js_bf22e88837"
            ],
            "text/plain": [
              "<IPython.core.display.Javascript object>"
            ]
          },
          "metadata": {
            "tags": [
              "id14-0-0",
              "outputarea_id14"
            ]
          }
        },
        {
          "output_type": "display_data",
          "data": {
            "application/javascript": [
              "window[\"474fbad2-7f9c-11eb-8850-0242ac1c0002\"] = google.colab.output.getActiveOutputArea();\n",
              "//# sourceURL=js_111c1476c8"
            ],
            "text/plain": [
              "<IPython.core.display.Javascript object>"
            ]
          },
          "metadata": {
            "tags": [
              "id14-0-0",
              "outputarea_id14"
            ]
          }
        },
        {
          "output_type": "display_data",
          "data": {
            "application/javascript": [
              "window[\"474ffc04-7f9c-11eb-8850-0242ac1c0002\"] = document.querySelector(\"#id14-0-0\");\n",
              "//# sourceURL=js_d3deed4edb"
            ],
            "text/plain": [
              "<IPython.core.display.Javascript object>"
            ]
          },
          "metadata": {
            "tags": [
              "id14-0-0",
              "outputarea_id14"
            ]
          }
        },
        {
          "output_type": "display_data",
          "data": {
            "application/javascript": [
              "window[\"47503610-7f9c-11eb-8850-0242ac1c0002\"] = google.colab.output.setActiveOutputArea(window[\"474ffc04-7f9c-11eb-8850-0242ac1c0002\"]);\n",
              "//# sourceURL=js_b02ddc21b2"
            ],
            "text/plain": [
              "<IPython.core.display.Javascript object>"
            ]
          },
          "metadata": {
            "tags": [
              "id14-0-0",
              "outputarea_id14"
            ]
          }
        },
        {
          "output_type": "display_data",
          "data": {
            "application/javascript": [
              "window[\"476756f6-7f9c-11eb-8850-0242ac1c0002\"] = google.colab.output.setActiveOutputArea(window[\"474fbad2-7f9c-11eb-8850-0242ac1c0002\"]);\n",
              "//# sourceURL=js_793bdb2bbe"
            ],
            "text/plain": [
              "<IPython.core.display.Javascript object>"
            ]
          },
          "metadata": {
            "tags": [
              "id14-0-0",
              "outputarea_id14"
            ]
          }
        },
        {
          "output_type": "display_data",
          "data": {
            "application/javascript": [
              "window[\"48017da8-7f9c-11eb-8850-0242ac1c0002\"] = google.colab.output.getActiveOutputArea();\n",
              "//# sourceURL=js_d0d227065e"
            ],
            "text/plain": [
              "<IPython.core.display.Javascript object>"
            ]
          },
          "metadata": {
            "tags": [
              "id14-0-0",
              "outputarea_id14"
            ]
          }
        },
        {
          "output_type": "display_data",
          "data": {
            "application/javascript": [
              "window[\"48025f84-7f9c-11eb-8850-0242ac1c0002\"] = document.querySelector(\"#id14-0-0\");\n",
              "//# sourceURL=js_66a40933a1"
            ],
            "text/plain": [
              "<IPython.core.display.Javascript object>"
            ]
          },
          "metadata": {
            "tags": [
              "id14-0-0",
              "outputarea_id14"
            ]
          }
        },
        {
          "output_type": "display_data",
          "data": {
            "application/javascript": [
              "window[\"4802a4e4-7f9c-11eb-8850-0242ac1c0002\"] = google.colab.output.setActiveOutputArea(window[\"48025f84-7f9c-11eb-8850-0242ac1c0002\"]);\n",
              "//# sourceURL=js_0def192de0"
            ],
            "text/plain": [
              "<IPython.core.display.Javascript object>"
            ]
          },
          "metadata": {
            "tags": [
              "id14-0-0",
              "outputarea_id14"
            ]
          }
        },
        {
          "output_type": "display_data",
          "data": {
            "image/png": "[encoded data removed]",
            "text/plain": [
              "<Figure size 432x288 with 1 Axes>"
            ]
          },
          "metadata": {
            "tags": [
              "id14-0-0",
              "outputarea_id14",
              "user_output"
            ],
            "needs_background": "light"
          }
        },
        {
          "output_type": "display_data",
          "data": {
            "application/javascript": [
              "window[\"4819ea6e-7f9c-11eb-8850-0242ac1c0002\"] = google.colab.output.setActiveOutputArea(window[\"48017da8-7f9c-11eb-8850-0242ac1c0002\"]);\n",
              "//# sourceURL=js_be8b7dc57c"
            ],
            "text/plain": [
              "<IPython.core.display.Javascript object>"
            ]
          },
          "metadata": {
            "tags": [
              "id14-0-0",
              "outputarea_id14"
            ]
          }
        }
      ]
    },
    {
      "cell_type": "code",
      "metadata": {
        "colab": {
          "base_uri": "https://localhost:8080/",
          "height": 282
        },
        "id": "JAgqnoM6V1mb",
        "outputId": "681ae848-a976-4003-d077-48df44540d7b"
      },
      "source": [
        "# setting up environment and agent\r\n",
        "action = 0\r\n",
        "observation, reward, done, info = env.step(action)\r\n",
        "env.render()\r\n",
        "print('Reward:', reward)"
      ],
      "execution_count": 93,
      "outputs": [
        {
          "output_type": "stream",
          "text": [
            "Reward: -2\n"
          ],
          "name": "stdout"
        },
        {
          "output_type": "display_data",
          "data": {
            "image/png": "[encoded data removed]",
            "text/plain": [
              "<Figure size 432x288 with 1 Axes>"
            ]
          },
          "metadata": {
            "tags": [],
            "needs_background": "light"
          }
        }
      ]
    },
    {
      "cell_type": "markdown",
      "metadata": {
        "id": "xFDXE3ALVo80"
      },
      "source": [
        "## Random Agent"
      ]
    },
    {
      "cell_type": "code",
      "metadata": {
        "id": "h9ht4xYq35iW"
      },
      "source": [
        "class RandomAgent:\r\n",
        "    def __init__(self, env):\r\n",
        "        self.env = env\r\n",
        "        self.observation_space = env.observation_space\r\n",
        "        self.action_space = env.action_space\r\n",
        "        print(self.action_space.n)\r\n",
        "\r\n",
        "    def step(self, observation):\r\n",
        "        return np.random.choice(self.action_space.n)"
      ],
      "execution_count": 39,
      "outputs": []
    },
    {
      "cell_type": "markdown",
      "metadata": {
        "id": "zeZ7rQXvWIme"
      },
      "source": [
        "## Running a Markov Decision Process\r\n"
      ]
    },
    {
      "cell_type": "code",
      "metadata": {
        "colab": {
          "base_uri": "https://localhost:8080/",
          "height": 285
        },
        "id": "y_cgAQi53_iH",
        "outputId": "9189c276-fa19-40fc-a8e9-c19f0ef0f3d3"
      },
      "source": [
        "# setting up environment and agent\r\n",
        "env = GridEnvironment()\r\n",
        "agent = RandomAgent(env)\r\n",
        "\r\n",
        "obs = env.reset()\r\n",
        "done = False\r\n",
        "\r\n",
        "# setting up animation\r\n",
        "output_grid = widgets.Grid(1, 1)\r\n",
        "with output_grid.output_to(0, 0):\r\n",
        "  env.render()\r\n",
        "\r\n",
        "# MDP Loop\r\n",
        "while not done:\r\n",
        "  action = agent.step(obs)\r\n",
        "  obs, reward, done, info = env.step(action)\r\n",
        "  with output_grid.output_to(0, 0):\r\n",
        "    output_grid.clear_cell()\r\n",
        "    env.render()\r\n",
        "  time.sleep(0.5)"
      ],
      "execution_count": 40,
      "outputs": [
        {
          "output_type": "stream",
          "text": [
            "4\n"
          ],
          "name": "stdout"
        },
        {
          "output_type": "display_data",
          "data": {
            "text/html": [
              "<style>\n",
              "       table#id20, #id20 > tbody > tr > th, #id20 > tbody > tr > td {\n",
              "         border: 1px solid lightgray;\n",
              "         border-collapse:collapse;\n",
              "         \n",
              "        }</style>"
            ],
            "text/plain": [
              "<IPython.core.display.HTML object>"
            ]
          },
          "metadata": {
            "tags": [
              "outputarea_id20"
            ]
          }
        },
        {
          "output_type": "display_data",
          "data": {
            "text/html": [
              "<table id=id20><tr><td id=id20-0-0></td></tr></table>"
            ],
            "text/plain": [
              "<IPython.core.display.HTML object>"
            ]
          },
          "metadata": {
            "tags": [
              "outputarea_id20"
            ]
          }
        },
        {
          "output_type": "display_data",
          "data": {
            "application/javascript": [
              "window[\"1d88d82c-7f9d-11eb-8850-0242ac1c0002\"] = google.colab.output.getActiveOutputArea();\n",
              "//# sourceURL=js_16f0461e22"
            ],
            "text/plain": [
              "<IPython.core.display.Javascript object>"
            ]
          },
          "metadata": {
            "tags": [
              "id20-0-0",
              "outputarea_id20"
            ]
          }
        },
        {
          "output_type": "display_data",
          "data": {
            "application/javascript": [
              "window[\"1d895df6-7f9d-11eb-8850-0242ac1c0002\"] = document.querySelector(\"#id20-0-0\");\n",
              "//# sourceURL=js_35a304d286"
            ],
            "text/plain": [
              "<IPython.core.display.Javascript object>"
            ]
          },
          "metadata": {
            "tags": [
              "id20-0-0",
              "outputarea_id20"
            ]
          }
        },
        {
          "output_type": "display_data",
          "data": {
            "application/javascript": [
              "window[\"1d899ee2-7f9d-11eb-8850-0242ac1c0002\"] = google.colab.output.setActiveOutputArea(window[\"1d895df6-7f9d-11eb-8850-0242ac1c0002\"]);\n",
              "//# sourceURL=js_9066524804"
            ],
            "text/plain": [
              "<IPython.core.display.Javascript object>"
            ]
          },
          "metadata": {
            "tags": [
              "id20-0-0",
              "outputarea_id20"
            ]
          }
        },
        {
          "output_type": "display_data",
          "data": {
            "application/javascript": [
              "window[\"1da11a2c-7f9d-11eb-8850-0242ac1c0002\"] = google.colab.output.setActiveOutputArea(window[\"1d88d82c-7f9d-11eb-8850-0242ac1c0002\"]);\n",
              "//# sourceURL=js_8613c64b40"
            ],
            "text/plain": [
              "<IPython.core.display.Javascript object>"
            ]
          },
          "metadata": {
            "tags": [
              "id20-0-0",
              "outputarea_id20"
            ]
          }
        },
        {
          "output_type": "display_data",
          "data": {
            "application/javascript": [
              "window[\"1da2a4dc-7f9d-11eb-8850-0242ac1c0002\"] = google.colab.output.getActiveOutputArea();\n",
              "//# sourceURL=js_925b6c171c"
            ],
            "text/plain": [
              "<IPython.core.display.Javascript object>"
            ]
          },
          "metadata": {
            "tags": [
              "id20-0-0",
              "outputarea_id20"
            ]
          }
        },
        {
          "output_type": "display_data",
          "data": {
            "application/javascript": [
              "window[\"1da2e8b6-7f9d-11eb-8850-0242ac1c0002\"] = document.querySelector(\"#id20-0-0\");\n",
              "//# sourceURL=js_783aed30bb"
            ],
            "text/plain": [
              "<IPython.core.display.Javascript object>"
            ]
          },
          "metadata": {
            "tags": [
              "id20-0-0",
              "outputarea_id20"
            ]
          }
        },
        {
          "output_type": "display_data",
          "data": {
            "application/javascript": [
              "window[\"1da32ce0-7f9d-11eb-8850-0242ac1c0002\"] = google.colab.output.setActiveOutputArea(window[\"1da2e8b6-7f9d-11eb-8850-0242ac1c0002\"]);\n",
              "//# sourceURL=js_91dcea5438"
            ],
            "text/plain": [
              "<IPython.core.display.Javascript object>"
            ]
          },
          "metadata": {
            "tags": [
              "id20-0-0",
              "outputarea_id20"
            ]
          }
        },
        {
          "output_type": "display_data",
          "data": {
            "application/javascript": [
              "window[\"1dbad76e-7f9d-11eb-8850-0242ac1c0002\"] = google.colab.output.setActiveOutputArea(window[\"1da2a4dc-7f9d-11eb-8850-0242ac1c0002\"]);\n",
              "//# sourceURL=js_a3759dd4bb"
            ],
            "text/plain": [
              "<IPython.core.display.Javascript object>"
            ]
          },
          "metadata": {
            "tags": [
              "id20-0-0",
              "outputarea_id20"
            ]
          }
        },
        {
          "output_type": "display_data",
          "data": {
            "application/javascript": [
              "window[\"1e086d26-7f9d-11eb-8850-0242ac1c0002\"] = google.colab.output.getActiveOutputArea();\n",
              "//# sourceURL=js_5ee32be926"
            ],
            "text/plain": [
              "<IPython.core.display.Javascript object>"
            ]
          },
          "metadata": {
            "tags": [
              "id20-0-0",
              "outputarea_id20"
            ]
          }
        },
        {
          "output_type": "display_data",
          "data": {
            "application/javascript": [
              "window[\"1e08aef8-7f9d-11eb-8850-0242ac1c0002\"] = document.querySelector(\"#id20-0-0\");\n",
              "//# sourceURL=js_e1f9b1d527"
            ],
            "text/plain": [
              "<IPython.core.display.Javascript object>"
            ]
          },
          "metadata": {
            "tags": [
              "id20-0-0",
              "outputarea_id20"
            ]
          }
        },
        {
          "output_type": "display_data",
          "data": {
            "application/javascript": [
              "window[\"1e08f5fc-7f9d-11eb-8850-0242ac1c0002\"] = google.colab.output.setActiveOutputArea(window[\"1e08aef8-7f9d-11eb-8850-0242ac1c0002\"]);\n",
              "//# sourceURL=js_ed3649462e"
            ],
            "text/plain": [
              "<IPython.core.display.Javascript object>"
            ]
          },
          "metadata": {
            "tags": [
              "id20-0-0",
              "outputarea_id20"
            ]
          }
        },
        {
          "output_type": "display_data",
          "data": {
            "application/javascript": [
              "window[\"1e1f7c8c-7f9d-11eb-8850-0242ac1c0002\"] = google.colab.output.setActiveOutputArea(window[\"1e086d26-7f9d-11eb-8850-0242ac1c0002\"]);\n",
              "//# sourceURL=js_4b2c2cea8e"
            ],
            "text/plain": [
              "<IPython.core.display.Javascript object>"
            ]
          },
          "metadata": {
            "tags": [
              "id20-0-0",
              "outputarea_id20"
            ]
          }
        },
        {
          "output_type": "display_data",
          "data": {
            "application/javascript": [
              "window[\"1e6d1ed8-7f9d-11eb-8850-0242ac1c0002\"] = google.colab.output.getActiveOutputArea();\n",
              "//# sourceURL=js_32fb041862"
            ],
            "text/plain": [
              "<IPython.core.display.Javascript object>"
            ]
          },
          "metadata": {
            "tags": [
              "id20-0-0",
              "outputarea_id20"
            ]
          }
        },
        {
          "output_type": "display_data",
          "data": {
            "application/javascript": [
              "window[\"1e6d6834-7f9d-11eb-8850-0242ac1c0002\"] = document.querySelector(\"#id20-0-0\");\n",
              "//# sourceURL=js_038f35b37b"
            ],
            "text/plain": [
              "<IPython.core.display.Javascript object>"
            ]
          },
          "metadata": {
            "tags": [
              "id20-0-0",
              "outputarea_id20"
            ]
          }
        },
        {
          "output_type": "display_data",
          "data": {
            "application/javascript": [
              "window[\"1e6db5b4-7f9d-11eb-8850-0242ac1c0002\"] = google.colab.output.setActiveOutputArea(window[\"1e6d6834-7f9d-11eb-8850-0242ac1c0002\"]);\n",
              "//# sourceURL=js_545c89b059"
            ],
            "text/plain": [
              "<IPython.core.display.Javascript object>"
            ]
          },
          "metadata": {
            "tags": [
              "id20-0-0",
              "outputarea_id20"
            ]
          }
        },
        {
          "output_type": "display_data",
          "data": {
            "application/javascript": [
              "window[\"1e84d5b4-7f9d-11eb-8850-0242ac1c0002\"] = google.colab.output.setActiveOutputArea(window[\"1e6d1ed8-7f9d-11eb-8850-0242ac1c0002\"]);\n",
              "//# sourceURL=js_a5ee96e247"
            ],
            "text/plain": [
              "<IPython.core.display.Javascript object>"
            ]
          },
          "metadata": {
            "tags": [
              "id20-0-0",
              "outputarea_id20"
            ]
          }
        },
        {
          "output_type": "display_data",
          "data": {
            "application/javascript": [
              "window[\"1ed2b91e-7f9d-11eb-8850-0242ac1c0002\"] = google.colab.output.getActiveOutputArea();\n",
              "//# sourceURL=js_eef3200af0"
            ],
            "text/plain": [
              "<IPython.core.display.Javascript object>"
            ]
          },
          "metadata": {
            "tags": [
              "id20-0-0",
              "outputarea_id20"
            ]
          }
        },
        {
          "output_type": "display_data",
          "data": {
            "application/javascript": [
              "window[\"1ed2f6fe-7f9d-11eb-8850-0242ac1c0002\"] = document.querySelector(\"#id20-0-0\");\n",
              "//# sourceURL=js_5bd6072075"
            ],
            "text/plain": [
              "<IPython.core.display.Javascript object>"
            ]
          },
          "metadata": {
            "tags": [
              "id20-0-0",
              "outputarea_id20"
            ]
          }
        },
        {
          "output_type": "display_data",
          "data": {
            "application/javascript": [
              "window[\"1ed332d6-7f9d-11eb-8850-0242ac1c0002\"] = google.colab.output.setActiveOutputArea(window[\"1ed2f6fe-7f9d-11eb-8850-0242ac1c0002\"]);\n",
              "//# sourceURL=js_17ed2ac65e"
            ],
            "text/plain": [
              "<IPython.core.display.Javascript object>"
            ]
          },
          "metadata": {
            "tags": [
              "id20-0-0",
              "outputarea_id20"
            ]
          }
        },
        {
          "output_type": "display_data",
          "data": {
            "application/javascript": [
              "window[\"1eee14ac-7f9d-11eb-8850-0242ac1c0002\"] = google.colab.output.setActiveOutputArea(window[\"1ed2b91e-7f9d-11eb-8850-0242ac1c0002\"]);\n",
              "//# sourceURL=js_ea5b211ab5"
            ],
            "text/plain": [
              "<IPython.core.display.Javascript object>"
            ]
          },
          "metadata": {
            "tags": [
              "id20-0-0",
              "outputarea_id20"
            ]
          }
        },
        {
          "output_type": "display_data",
          "data": {
            "application/javascript": [
              "window[\"1f3bd610-7f9d-11eb-8850-0242ac1c0002\"] = google.colab.output.getActiveOutputArea();\n",
              "//# sourceURL=js_4ca4c84cbf"
            ],
            "text/plain": [
              "<IPython.core.display.Javascript object>"
            ]
          },
          "metadata": {
            "tags": [
              "id20-0-0",
              "outputarea_id20"
            ]
          }
        },
        {
          "output_type": "display_data",
          "data": {
            "application/javascript": [
              "window[\"1f3c1170-7f9d-11eb-8850-0242ac1c0002\"] = document.querySelector(\"#id20-0-0\");\n",
              "//# sourceURL=js_d3af871ba4"
            ],
            "text/plain": [
              "<IPython.core.display.Javascript object>"
            ]
          },
          "metadata": {
            "tags": [
              "id20-0-0",
              "outputarea_id20"
            ]
          }
        },
        {
          "output_type": "display_data",
          "data": {
            "application/javascript": [
              "window[\"1f3ccc5a-7f9d-11eb-8850-0242ac1c0002\"] = google.colab.output.setActiveOutputArea(window[\"1f3c1170-7f9d-11eb-8850-0242ac1c0002\"]);\n",
              "//# sourceURL=js_54bd954231"
            ],
            "text/plain": [
              "<IPython.core.display.Javascript object>"
            ]
          },
          "metadata": {
            "tags": [
              "id20-0-0",
              "outputarea_id20"
            ]
          }
        },
        {
          "output_type": "display_data",
          "data": {
            "application/javascript": [
              "window[\"1f61c762-7f9d-11eb-8850-0242ac1c0002\"] = google.colab.output.setActiveOutputArea(window[\"1f3bd610-7f9d-11eb-8850-0242ac1c0002\"]);\n",
              "//# sourceURL=js_8711b2364f"
            ],
            "text/plain": [
              "<IPython.core.display.Javascript object>"
            ]
          },
          "metadata": {
            "tags": [
              "id20-0-0",
              "outputarea_id20"
            ]
          }
        },
        {
          "output_type": "display_data",
          "data": {
            "application/javascript": [
              "window[\"1fb04d92-7f9d-11eb-8850-0242ac1c0002\"] = google.colab.output.getActiveOutputArea();\n",
              "//# sourceURL=js_ece714c00a"
            ],
            "text/plain": [
              "<IPython.core.display.Javascript object>"
            ]
          },
          "metadata": {
            "tags": [
              "id20-0-0",
              "outputarea_id20"
            ]
          }
        },
        {
          "output_type": "display_data",
          "data": {
            "application/javascript": [
              "window[\"1fb0d988-7f9d-11eb-8850-0242ac1c0002\"] = document.querySelector(\"#id20-0-0\");\n",
              "//# sourceURL=js_5f0c623e78"
            ],
            "text/plain": [
              "<IPython.core.display.Javascript object>"
            ]
          },
          "metadata": {
            "tags": [
              "id20-0-0",
              "outputarea_id20"
            ]
          }
        },
        {
          "output_type": "display_data",
          "data": {
            "application/javascript": [
              "window[\"1fb1b7c2-7f9d-11eb-8850-0242ac1c0002\"] = google.colab.output.setActiveOutputArea(window[\"1fb0d988-7f9d-11eb-8850-0242ac1c0002\"]);\n",
              "//# sourceURL=js_0d1a998fc7"
            ],
            "text/plain": [
              "<IPython.core.display.Javascript object>"
            ]
          },
          "metadata": {
            "tags": [
              "id20-0-0",
              "outputarea_id20"
            ]
          }
        },
        {
          "output_type": "display_data",
          "data": {
            "application/javascript": [
              "window[\"1fc94cfc-7f9d-11eb-8850-0242ac1c0002\"] = google.colab.output.setActiveOutputArea(window[\"1fb04d92-7f9d-11eb-8850-0242ac1c0002\"]);\n",
              "//# sourceURL=js_2b0ff0af04"
            ],
            "text/plain": [
              "<IPython.core.display.Javascript object>"
            ]
          },
          "metadata": {
            "tags": [
              "id20-0-0",
              "outputarea_id20"
            ]
          }
        },
        {
          "output_type": "display_data",
          "data": {
            "application/javascript": [
              "window[\"20191926-7f9d-11eb-8850-0242ac1c0002\"] = google.colab.output.getActiveOutputArea();\n",
              "//# sourceURL=js_3631bb7cba"
            ],
            "text/plain": [
              "<IPython.core.display.Javascript object>"
            ]
          },
          "metadata": {
            "tags": [
              "id20-0-0",
              "outputarea_id20"
            ]
          }
        },
        {
          "output_type": "display_data",
          "data": {
            "application/javascript": [
              "window[\"20199fd6-7f9d-11eb-8850-0242ac1c0002\"] = document.querySelector(\"#id20-0-0\");\n",
              "//# sourceURL=js_15755d8699"
            ],
            "text/plain": [
              "<IPython.core.display.Javascript object>"
            ]
          },
          "metadata": {
            "tags": [
              "id20-0-0",
              "outputarea_id20"
            ]
          }
        },
        {
          "output_type": "display_data",
          "data": {
            "application/javascript": [
              "window[\"201a980a-7f9d-11eb-8850-0242ac1c0002\"] = google.colab.output.setActiveOutputArea(window[\"20199fd6-7f9d-11eb-8850-0242ac1c0002\"]);\n",
              "//# sourceURL=js_d8f35cc7cf"
            ],
            "text/plain": [
              "<IPython.core.display.Javascript object>"
            ]
          },
          "metadata": {
            "tags": [
              "id20-0-0",
              "outputarea_id20"
            ]
          }
        },
        {
          "output_type": "display_data",
          "data": {
            "application/javascript": [
              "window[\"2031e9f6-7f9d-11eb-8850-0242ac1c0002\"] = google.colab.output.setActiveOutputArea(window[\"20191926-7f9d-11eb-8850-0242ac1c0002\"]);\n",
              "//# sourceURL=js_a9ef9aa42e"
            ],
            "text/plain": [
              "<IPython.core.display.Javascript object>"
            ]
          },
          "metadata": {
            "tags": [
              "id20-0-0",
              "outputarea_id20"
            ]
          }
        },
        {
          "output_type": "display_data",
          "data": {
            "application/javascript": [
              "window[\"207fb2c6-7f9d-11eb-8850-0242ac1c0002\"] = google.colab.output.getActiveOutputArea();\n",
              "//# sourceURL=js_c2d3177fa2"
            ],
            "text/plain": [
              "<IPython.core.display.Javascript object>"
            ]
          },
          "metadata": {
            "tags": [
              "id20-0-0",
              "outputarea_id20"
            ]
          }
        },
        {
          "output_type": "display_data",
          "data": {
            "application/javascript": [
              "window[\"2080038e-7f9d-11eb-8850-0242ac1c0002\"] = document.querySelector(\"#id20-0-0\");\n",
              "//# sourceURL=js_87a79341c4"
            ],
            "text/plain": [
              "<IPython.core.display.Javascript object>"
            ]
          },
          "metadata": {
            "tags": [
              "id20-0-0",
              "outputarea_id20"
            ]
          }
        },
        {
          "output_type": "display_data",
          "data": {
            "application/javascript": [
              "window[\"20804d6c-7f9d-11eb-8850-0242ac1c0002\"] = google.colab.output.setActiveOutputArea(window[\"2080038e-7f9d-11eb-8850-0242ac1c0002\"]);\n",
              "//# sourceURL=js_b31baa7a97"
            ],
            "text/plain": [
              "<IPython.core.display.Javascript object>"
            ]
          },
          "metadata": {
            "tags": [
              "id20-0-0",
              "outputarea_id20"
            ]
          }
        },
        {
          "output_type": "display_data",
          "data": {
            "application/javascript": [
              "window[\"20971a38-7f9d-11eb-8850-0242ac1c0002\"] = google.colab.output.setActiveOutputArea(window[\"207fb2c6-7f9d-11eb-8850-0242ac1c0002\"]);\n",
              "//# sourceURL=js_89700d5a4d"
            ],
            "text/plain": [
              "<IPython.core.display.Javascript object>"
            ]
          },
          "metadata": {
            "tags": [
              "id20-0-0",
              "outputarea_id20"
            ]
          }
        },
        {
          "output_type": "display_data",
          "data": {
            "application/javascript": [
              "window[\"20e4d4e4-7f9d-11eb-8850-0242ac1c0002\"] = google.colab.output.getActiveOutputArea();\n",
              "//# sourceURL=js_6537b90063"
            ],
            "text/plain": [
              "<IPython.core.display.Javascript object>"
            ]
          },
          "metadata": {
            "tags": [
              "id20-0-0",
              "outputarea_id20"
            ]
          }
        },
        {
          "output_type": "display_data",
          "data": {
            "application/javascript": [
              "window[\"20e57336-7f9d-11eb-8850-0242ac1c0002\"] = document.querySelector(\"#id20-0-0\");\n",
              "//# sourceURL=js_81be4ca972"
            ],
            "text/plain": [
              "<IPython.core.display.Javascript object>"
            ]
          },
          "metadata": {
            "tags": [
              "id20-0-0",
              "outputarea_id20"
            ]
          }
        },
        {
          "output_type": "display_data",
          "data": {
            "application/javascript": [
              "window[\"20e5caa2-7f9d-11eb-8850-0242ac1c0002\"] = google.colab.output.setActiveOutputArea(window[\"20e57336-7f9d-11eb-8850-0242ac1c0002\"]);\n",
              "//# sourceURL=js_961697319b"
            ],
            "text/plain": [
              "<IPython.core.display.Javascript object>"
            ]
          },
          "metadata": {
            "tags": [
              "id20-0-0",
              "outputarea_id20"
            ]
          }
        },
        {
          "output_type": "display_data",
          "data": {
            "application/javascript": [
              "window[\"20fccefa-7f9d-11eb-8850-0242ac1c0002\"] = google.colab.output.setActiveOutputArea(window[\"20e4d4e4-7f9d-11eb-8850-0242ac1c0002\"]);\n",
              "//# sourceURL=js_8db5acf98f"
            ],
            "text/plain": [
              "<IPython.core.display.Javascript object>"
            ]
          },
          "metadata": {
            "tags": [
              "id20-0-0",
              "outputarea_id20"
            ]
          }
        },
        {
          "output_type": "display_data",
          "data": {
            "application/javascript": [
              "window[\"214a7e16-7f9d-11eb-8850-0242ac1c0002\"] = google.colab.output.getActiveOutputArea();\n",
              "//# sourceURL=js_5777c982a1"
            ],
            "text/plain": [
              "<IPython.core.display.Javascript object>"
            ]
          },
          "metadata": {
            "tags": [
              "id20-0-0",
              "outputarea_id20"
            ]
          }
        },
        {
          "output_type": "display_data",
          "data": {
            "application/javascript": [
              "window[\"214ad3fc-7f9d-11eb-8850-0242ac1c0002\"] = document.querySelector(\"#id20-0-0\");\n",
              "//# sourceURL=js_b464bdb5d5"
            ],
            "text/plain": [
              "<IPython.core.display.Javascript object>"
            ]
          },
          "metadata": {
            "tags": [
              "id20-0-0",
              "outputarea_id20"
            ]
          }
        },
        {
          "output_type": "display_data",
          "data": {
            "application/javascript": [
              "window[\"214b1628-7f9d-11eb-8850-0242ac1c0002\"] = google.colab.output.setActiveOutputArea(window[\"214ad3fc-7f9d-11eb-8850-0242ac1c0002\"]);\n",
              "//# sourceURL=js_2413477816"
            ],
            "text/plain": [
              "<IPython.core.display.Javascript object>"
            ]
          },
          "metadata": {
            "tags": [
              "id20-0-0",
              "outputarea_id20"
            ]
          }
        },
        {
          "output_type": "display_data",
          "data": {
            "application/javascript": [
              "window[\"2163689a-7f9d-11eb-8850-0242ac1c0002\"] = google.colab.output.setActiveOutputArea(window[\"214a7e16-7f9d-11eb-8850-0242ac1c0002\"]);\n",
              "//# sourceURL=js_acd2e3f471"
            ],
            "text/plain": [
              "<IPython.core.display.Javascript object>"
            ]
          },
          "metadata": {
            "tags": [
              "id20-0-0",
              "outputarea_id20"
            ]
          }
        },
        {
          "output_type": "display_data",
          "data": {
            "application/javascript": [
              "window[\"21b119f0-7f9d-11eb-8850-0242ac1c0002\"] = google.colab.output.getActiveOutputArea();\n",
              "//# sourceURL=js_5ebfc056d7"
            ],
            "text/plain": [
              "<IPython.core.display.Javascript object>"
            ]
          },
          "metadata": {
            "tags": [
              "id20-0-0",
              "outputarea_id20"
            ]
          }
        },
        {
          "output_type": "display_data",
          "data": {
            "application/javascript": [
              "window[\"21b1bd1a-7f9d-11eb-8850-0242ac1c0002\"] = document.querySelector(\"#id20-0-0\");\n",
              "//# sourceURL=js_e7bf3cb99a"
            ],
            "text/plain": [
              "<IPython.core.display.Javascript object>"
            ]
          },
          "metadata": {
            "tags": [
              "id20-0-0",
              "outputarea_id20"
            ]
          }
        },
        {
          "output_type": "display_data",
          "data": {
            "application/javascript": [
              "window[\"21b25f68-7f9d-11eb-8850-0242ac1c0002\"] = google.colab.output.setActiveOutputArea(window[\"21b1bd1a-7f9d-11eb-8850-0242ac1c0002\"]);\n",
              "//# sourceURL=js_8178ec1efe"
            ],
            "text/plain": [
              "<IPython.core.display.Javascript object>"
            ]
          },
          "metadata": {
            "tags": [
              "id20-0-0",
              "outputarea_id20"
            ]
          }
        },
        {
          "output_type": "display_data",
          "data": {
            "application/javascript": [
              "window[\"21c8bcfe-7f9d-11eb-8850-0242ac1c0002\"] = google.colab.output.setActiveOutputArea(window[\"21b119f0-7f9d-11eb-8850-0242ac1c0002\"]);\n",
              "//# sourceURL=js_9aff3dce42"
            ],
            "text/plain": [
              "<IPython.core.display.Javascript object>"
            ]
          },
          "metadata": {
            "tags": [
              "id20-0-0",
              "outputarea_id20"
            ]
          }
        },
        {
          "output_type": "display_data",
          "data": {
            "application/javascript": [
              "window[\"22166ec2-7f9d-11eb-8850-0242ac1c0002\"] = google.colab.output.getActiveOutputArea();\n",
              "//# sourceURL=js_42b4f5d8ba"
            ],
            "text/plain": [
              "<IPython.core.display.Javascript object>"
            ]
          },
          "metadata": {
            "tags": [
              "id20-0-0",
              "outputarea_id20"
            ]
          }
        },
        {
          "output_type": "display_data",
          "data": {
            "application/javascript": [
              "window[\"2216a1da-7f9d-11eb-8850-0242ac1c0002\"] = document.querySelector(\"#id20-0-0\");\n",
              "//# sourceURL=js_4748a1ca64"
            ],
            "text/plain": [
              "<IPython.core.display.Javascript object>"
            ]
          },
          "metadata": {
            "tags": [
              "id20-0-0",
              "outputarea_id20"
            ]
          }
        },
        {
          "output_type": "display_data",
          "data": {
            "application/javascript": [
              "window[\"2216cf0c-7f9d-11eb-8850-0242ac1c0002\"] = google.colab.output.setActiveOutputArea(window[\"2216a1da-7f9d-11eb-8850-0242ac1c0002\"]);\n",
              "//# sourceURL=js_0da854ed0e"
            ],
            "text/plain": [
              "<IPython.core.display.Javascript object>"
            ]
          },
          "metadata": {
            "tags": [
              "id20-0-0",
              "outputarea_id20"
            ]
          }
        },
        {
          "output_type": "display_data",
          "data": {
            "application/javascript": [
              "window[\"223034a6-7f9d-11eb-8850-0242ac1c0002\"] = google.colab.output.setActiveOutputArea(window[\"22166ec2-7f9d-11eb-8850-0242ac1c0002\"]);\n",
              "//# sourceURL=js_43ca03cc0e"
            ],
            "text/plain": [
              "<IPython.core.display.Javascript object>"
            ]
          },
          "metadata": {
            "tags": [
              "id20-0-0",
              "outputarea_id20"
            ]
          }
        },
        {
          "output_type": "display_data",
          "data": {
            "application/javascript": [
              "window[\"227e6ac2-7f9d-11eb-8850-0242ac1c0002\"] = google.colab.output.getActiveOutputArea();\n",
              "//# sourceURL=js_ff4ea50016"
            ],
            "text/plain": [
              "<IPython.core.display.Javascript object>"
            ]
          },
          "metadata": {
            "tags": [
              "id20-0-0",
              "outputarea_id20"
            ]
          }
        },
        {
          "output_type": "display_data",
          "data": {
            "application/javascript": [
              "window[\"227ef258-7f9d-11eb-8850-0242ac1c0002\"] = document.querySelector(\"#id20-0-0\");\n",
              "//# sourceURL=js_23ff53e501"
            ],
            "text/plain": [
              "<IPython.core.display.Javascript object>"
            ]
          },
          "metadata": {
            "tags": [
              "id20-0-0",
              "outputarea_id20"
            ]
          }
        },
        {
          "output_type": "display_data",
          "data": {
            "application/javascript": [
              "window[\"227fd3e4-7f9d-11eb-8850-0242ac1c0002\"] = google.colab.output.setActiveOutputArea(window[\"227ef258-7f9d-11eb-8850-0242ac1c0002\"]);\n",
              "//# sourceURL=js_f93d44d3fc"
            ],
            "text/plain": [
              "<IPython.core.display.Javascript object>"
            ]
          },
          "metadata": {
            "tags": [
              "id20-0-0",
              "outputarea_id20"
            ]
          }
        },
        {
          "output_type": "display_data",
          "data": {
            "application/javascript": [
              "window[\"2297ca58-7f9d-11eb-8850-0242ac1c0002\"] = google.colab.output.setActiveOutputArea(window[\"227e6ac2-7f9d-11eb-8850-0242ac1c0002\"]);\n",
              "//# sourceURL=js_918046b415"
            ],
            "text/plain": [
              "<IPython.core.display.Javascript object>"
            ]
          },
          "metadata": {
            "tags": [
              "id20-0-0",
              "outputarea_id20"
            ]
          }
        },
        {
          "output_type": "display_data",
          "data": {
            "application/javascript": [
              "window[\"22e67a40-7f9d-11eb-8850-0242ac1c0002\"] = google.colab.output.getActiveOutputArea();\n",
              "//# sourceURL=js_1e26a4bc6f"
            ],
            "text/plain": [
              "<IPython.core.display.Javascript object>"
            ]
          },
          "metadata": {
            "tags": [
              "id20-0-0",
              "outputarea_id20"
            ]
          }
        },
        {
          "output_type": "display_data",
          "data": {
            "application/javascript": [
              "window[\"22e70456-7f9d-11eb-8850-0242ac1c0002\"] = document.querySelector(\"#id20-0-0\");\n",
              "//# sourceURL=js_4770942b2d"
            ],
            "text/plain": [
              "<IPython.core.display.Javascript object>"
            ]
          },
          "metadata": {
            "tags": [
              "id20-0-0",
              "outputarea_id20"
            ]
          }
        },
        {
          "output_type": "display_data",
          "data": {
            "application/javascript": [
              "window[\"22e79cd6-7f9d-11eb-8850-0242ac1c0002\"] = google.colab.output.setActiveOutputArea(window[\"22e70456-7f9d-11eb-8850-0242ac1c0002\"]);\n",
              "//# sourceURL=js_129e9f349e"
            ],
            "text/plain": [
              "<IPython.core.display.Javascript object>"
            ]
          },
          "metadata": {
            "tags": [
              "id20-0-0",
              "outputarea_id20"
            ]
          }
        },
        {
          "output_type": "display_data",
          "data": {
            "application/javascript": [
              "window[\"22ff0cd6-7f9d-11eb-8850-0242ac1c0002\"] = google.colab.output.setActiveOutputArea(window[\"22e67a40-7f9d-11eb-8850-0242ac1c0002\"]);\n",
              "//# sourceURL=js_5a9090ff52"
            ],
            "text/plain": [
              "<IPython.core.display.Javascript object>"
            ]
          },
          "metadata": {
            "tags": [
              "id20-0-0",
              "outputarea_id20"
            ]
          }
        },
        {
          "output_type": "display_data",
          "data": {
            "application/javascript": [
              "window[\"234d2470-7f9d-11eb-8850-0242ac1c0002\"] = google.colab.output.getActiveOutputArea();\n",
              "//# sourceURL=js_c139e8fcc5"
            ],
            "text/plain": [
              "<IPython.core.display.Javascript object>"
            ]
          },
          "metadata": {
            "tags": [
              "id20-0-0",
              "outputarea_id20"
            ]
          }
        },
        {
          "output_type": "display_data",
          "data": {
            "application/javascript": [
              "window[\"234e45f8-7f9d-11eb-8850-0242ac1c0002\"] = document.querySelector(\"#id20-0-0\");\n",
              "//# sourceURL=js_4fafa7f78a"
            ],
            "text/plain": [
              "<IPython.core.display.Javascript object>"
            ]
          },
          "metadata": {
            "tags": [
              "id20-0-0",
              "outputarea_id20"
            ]
          }
        },
        {
          "output_type": "display_data",
          "data": {
            "application/javascript": [
              "window[\"234f1140-7f9d-11eb-8850-0242ac1c0002\"] = google.colab.output.setActiveOutputArea(window[\"234e45f8-7f9d-11eb-8850-0242ac1c0002\"]);\n",
              "//# sourceURL=js_8be56dd8ef"
            ],
            "text/plain": [
              "<IPython.core.display.Javascript object>"
            ]
          },
          "metadata": {
            "tags": [
              "id20-0-0",
              "outputarea_id20"
            ]
          }
        },
        {
          "output_type": "display_data",
          "data": {
            "application/javascript": [
              "window[\"2364a0fa-7f9d-11eb-8850-0242ac1c0002\"] = google.colab.output.setActiveOutputArea(window[\"234d2470-7f9d-11eb-8850-0242ac1c0002\"]);\n",
              "//# sourceURL=js_916cd65f4b"
            ],
            "text/plain": [
              "<IPython.core.display.Javascript object>"
            ]
          },
          "metadata": {
            "tags": [
              "id20-0-0",
              "outputarea_id20"
            ]
          }
        },
        {
          "output_type": "display_data",
          "data": {
            "application/javascript": [
              "window[\"23b347a0-7f9d-11eb-8850-0242ac1c0002\"] = google.colab.output.getActiveOutputArea();\n",
              "//# sourceURL=js_ab5cdc1fea"
            ],
            "text/plain": [
              "<IPython.core.display.Javascript object>"
            ]
          },
          "metadata": {
            "tags": [
              "id20-0-0",
              "outputarea_id20"
            ]
          }
        },
        {
          "output_type": "display_data",
          "data": {
            "application/javascript": [
              "window[\"23b3ae34-7f9d-11eb-8850-0242ac1c0002\"] = document.querySelector(\"#id20-0-0\");\n",
              "//# sourceURL=js_6e68e37a77"
            ],
            "text/plain": [
              "<IPython.core.display.Javascript object>"
            ]
          },
          "metadata": {
            "tags": [
              "id20-0-0",
              "outputarea_id20"
            ]
          }
        },
        {
          "output_type": "display_data",
          "data": {
            "application/javascript": [
              "window[\"23b46900-7f9d-11eb-8850-0242ac1c0002\"] = google.colab.output.setActiveOutputArea(window[\"23b3ae34-7f9d-11eb-8850-0242ac1c0002\"]);\n",
              "//# sourceURL=js_4bbc34baa1"
            ],
            "text/plain": [
              "<IPython.core.display.Javascript object>"
            ]
          },
          "metadata": {
            "tags": [
              "id20-0-0",
              "outputarea_id20"
            ]
          }
        },
        {
          "output_type": "display_data",
          "data": {
            "application/javascript": [
              "window[\"23cd7d8c-7f9d-11eb-8850-0242ac1c0002\"] = google.colab.output.setActiveOutputArea(window[\"23b347a0-7f9d-11eb-8850-0242ac1c0002\"]);\n",
              "//# sourceURL=js_12223072f3"
            ],
            "text/plain": [
              "<IPython.core.display.Javascript object>"
            ]
          },
          "metadata": {
            "tags": [
              "id20-0-0",
              "outputarea_id20"
            ]
          }
        },
        {
          "output_type": "display_data",
          "data": {
            "application/javascript": [
              "window[\"241ccfd6-7f9d-11eb-8850-0242ac1c0002\"] = google.colab.output.getActiveOutputArea();\n",
              "//# sourceURL=js_f29e97f573"
            ],
            "text/plain": [
              "<IPython.core.display.Javascript object>"
            ]
          },
          "metadata": {
            "tags": [
              "id20-0-0",
              "outputarea_id20"
            ]
          }
        },
        {
          "output_type": "display_data",
          "data": {
            "application/javascript": [
              "window[\"241d8836-7f9d-11eb-8850-0242ac1c0002\"] = document.querySelector(\"#id20-0-0\");\n",
              "//# sourceURL=js_ab7e04cf4a"
            ],
            "text/plain": [
              "<IPython.core.display.Javascript object>"
            ]
          },
          "metadata": {
            "tags": [
              "id20-0-0",
              "outputarea_id20"
            ]
          }
        },
        {
          "output_type": "display_data",
          "data": {
            "application/javascript": [
              "window[\"241e1288-7f9d-11eb-8850-0242ac1c0002\"] = google.colab.output.setActiveOutputArea(window[\"241d8836-7f9d-11eb-8850-0242ac1c0002\"]);\n",
              "//# sourceURL=js_4b4c9708b7"
            ],
            "text/plain": [
              "<IPython.core.display.Javascript object>"
            ]
          },
          "metadata": {
            "tags": [
              "id20-0-0",
              "outputarea_id20"
            ]
          }
        },
        {
          "output_type": "display_data",
          "data": {
            "application/javascript": [
              "window[\"2434947c-7f9d-11eb-8850-0242ac1c0002\"] = google.colab.output.setActiveOutputArea(window[\"241ccfd6-7f9d-11eb-8850-0242ac1c0002\"]);\n",
              "//# sourceURL=js_2a4227c6bf"
            ],
            "text/plain": [
              "<IPython.core.display.Javascript object>"
            ]
          },
          "metadata": {
            "tags": [
              "id20-0-0",
              "outputarea_id20"
            ]
          }
        },
        {
          "output_type": "display_data",
          "data": {
            "application/javascript": [
              "window[\"24822d86-7f9d-11eb-8850-0242ac1c0002\"] = google.colab.output.getActiveOutputArea();\n",
              "//# sourceURL=js_5c4c5349d8"
            ],
            "text/plain": [
              "<IPython.core.display.Javascript object>"
            ]
          },
          "metadata": {
            "tags": [
              "id20-0-0",
              "outputarea_id20"
            ]
          }
        },
        {
          "output_type": "display_data",
          "data": {
            "application/javascript": [
              "window[\"2482b5da-7f9d-11eb-8850-0242ac1c0002\"] = document.querySelector(\"#id20-0-0\");\n",
              "//# sourceURL=js_2092b0f0f0"
            ],
            "text/plain": [
              "<IPython.core.display.Javascript object>"
            ]
          },
          "metadata": {
            "tags": [
              "id20-0-0",
              "outputarea_id20"
            ]
          }
        },
        {
          "output_type": "display_data",
          "data": {
            "application/javascript": [
              "window[\"24832650-7f9d-11eb-8850-0242ac1c0002\"] = google.colab.output.setActiveOutputArea(window[\"2482b5da-7f9d-11eb-8850-0242ac1c0002\"]);\n",
              "//# sourceURL=js_00d3a7bd9c"
            ],
            "text/plain": [
              "<IPython.core.display.Javascript object>"
            ]
          },
          "metadata": {
            "tags": [
              "id20-0-0",
              "outputarea_id20"
            ]
          }
        },
        {
          "output_type": "display_data",
          "data": {
            "application/javascript": [
              "window[\"249abbf8-7f9d-11eb-8850-0242ac1c0002\"] = google.colab.output.setActiveOutputArea(window[\"24822d86-7f9d-11eb-8850-0242ac1c0002\"]);\n",
              "//# sourceURL=js_0125be70fb"
            ],
            "text/plain": [
              "<IPython.core.display.Javascript object>"
            ]
          },
          "metadata": {
            "tags": [
              "id20-0-0",
              "outputarea_id20"
            ]
          }
        },
        {
          "output_type": "display_data",
          "data": {
            "application/javascript": [
              "window[\"24e85fca-7f9d-11eb-8850-0242ac1c0002\"] = google.colab.output.getActiveOutputArea();\n",
              "//# sourceURL=js_05a302cefd"
            ],
            "text/plain": [
              "<IPython.core.display.Javascript object>"
            ]
          },
          "metadata": {
            "tags": [
              "id20-0-0",
              "outputarea_id20"
            ]
          }
        },
        {
          "output_type": "display_data",
          "data": {
            "application/javascript": [
              "window[\"24e8afe8-7f9d-11eb-8850-0242ac1c0002\"] = document.querySelector(\"#id20-0-0\");\n",
              "//# sourceURL=js_bc2e3d4d75"
            ],
            "text/plain": [
              "<IPython.core.display.Javascript object>"
            ]
          },
          "metadata": {
            "tags": [
              "id20-0-0",
              "outputarea_id20"
            ]
          }
        },
        {
          "output_type": "display_data",
          "data": {
            "application/javascript": [
              "window[\"24e9092a-7f9d-11eb-8850-0242ac1c0002\"] = google.colab.output.setActiveOutputArea(window[\"24e8afe8-7f9d-11eb-8850-0242ac1c0002\"]);\n",
              "//# sourceURL=js_48d6238042"
            ],
            "text/plain": [
              "<IPython.core.display.Javascript object>"
            ]
          },
          "metadata": {
            "tags": [
              "id20-0-0",
              "outputarea_id20"
            ]
          }
        },
        {
          "output_type": "display_data",
          "data": {
            "application/javascript": [
              "window[\"2500e252-7f9d-11eb-8850-0242ac1c0002\"] = google.colab.output.setActiveOutputArea(window[\"24e85fca-7f9d-11eb-8850-0242ac1c0002\"]);\n",
              "//# sourceURL=js_ab27e7b4cc"
            ],
            "text/plain": [
              "<IPython.core.display.Javascript object>"
            ]
          },
          "metadata": {
            "tags": [
              "id20-0-0",
              "outputarea_id20"
            ]
          }
        },
        {
          "output_type": "display_data",
          "data": {
            "application/javascript": [
              "window[\"254f1e72-7f9d-11eb-8850-0242ac1c0002\"] = google.colab.output.getActiveOutputArea();\n",
              "//# sourceURL=js_5d2397d94b"
            ],
            "text/plain": [
              "<IPython.core.display.Javascript object>"
            ]
          },
          "metadata": {
            "tags": [
              "id20-0-0",
              "outputarea_id20"
            ]
          }
        },
        {
          "output_type": "display_data",
          "data": {
            "application/javascript": [
              "window[\"254f91cc-7f9d-11eb-8850-0242ac1c0002\"] = document.querySelector(\"#id20-0-0\");\n",
              "//# sourceURL=js_ecf4f2cfcf"
            ],
            "text/plain": [
              "<IPython.core.display.Javascript object>"
            ]
          },
          "metadata": {
            "tags": [
              "id20-0-0",
              "outputarea_id20"
            ]
          }
        },
        {
          "output_type": "display_data",
          "data": {
            "application/javascript": [
              "window[\"25508b22-7f9d-11eb-8850-0242ac1c0002\"] = google.colab.output.setActiveOutputArea(window[\"254f91cc-7f9d-11eb-8850-0242ac1c0002\"]);\n",
              "//# sourceURL=js_20cb412230"
            ],
            "text/plain": [
              "<IPython.core.display.Javascript object>"
            ]
          },
          "metadata": {
            "tags": [
              "id20-0-0",
              "outputarea_id20"
            ]
          }
        },
        {
          "output_type": "display_data",
          "data": {
            "application/javascript": [
              "window[\"2577e01e-7f9d-11eb-8850-0242ac1c0002\"] = google.colab.output.setActiveOutputArea(window[\"254f1e72-7f9d-11eb-8850-0242ac1c0002\"]);\n",
              "//# sourceURL=js_b56bd56c47"
            ],
            "text/plain": [
              "<IPython.core.display.Javascript object>"
            ]
          },
          "metadata": {
            "tags": [
              "id20-0-0",
              "outputarea_id20"
            ]
          }
        },
        {
          "output_type": "display_data",
          "data": {
            "application/javascript": [
              "window[\"25c59872-7f9d-11eb-8850-0242ac1c0002\"] = google.colab.output.getActiveOutputArea();\n",
              "//# sourceURL=js_db5d260c15"
            ],
            "text/plain": [
              "<IPython.core.display.Javascript object>"
            ]
          },
          "metadata": {
            "tags": [
              "id20-0-0",
              "outputarea_id20"
            ]
          }
        },
        {
          "output_type": "display_data",
          "data": {
            "application/javascript": [
              "window[\"25c5d6d4-7f9d-11eb-8850-0242ac1c0002\"] = document.querySelector(\"#id20-0-0\");\n",
              "//# sourceURL=js_d19f762bff"
            ],
            "text/plain": [
              "<IPython.core.display.Javascript object>"
            ]
          },
          "metadata": {
            "tags": [
              "id20-0-0",
              "outputarea_id20"
            ]
          }
        },
        {
          "output_type": "display_data",
          "data": {
            "application/javascript": [
              "window[\"25c627ba-7f9d-11eb-8850-0242ac1c0002\"] = google.colab.output.setActiveOutputArea(window[\"25c5d6d4-7f9d-11eb-8850-0242ac1c0002\"]);\n",
              "//# sourceURL=js_0eed2f5927"
            ],
            "text/plain": [
              "<IPython.core.display.Javascript object>"
            ]
          },
          "metadata": {
            "tags": [
              "id20-0-0",
              "outputarea_id20"
            ]
          }
        },
        {
          "output_type": "display_data",
          "data": {
            "application/javascript": [
              "window[\"25de5b46-7f9d-11eb-8850-0242ac1c0002\"] = google.colab.output.setActiveOutputArea(window[\"25c59872-7f9d-11eb-8850-0242ac1c0002\"]);\n",
              "//# sourceURL=js_d2cb8f44e1"
            ],
            "text/plain": [
              "<IPython.core.display.Javascript object>"
            ]
          },
          "metadata": {
            "tags": [
              "id20-0-0",
              "outputarea_id20"
            ]
          }
        },
        {
          "output_type": "display_data",
          "data": {
            "application/javascript": [
              "window[\"262d098a-7f9d-11eb-8850-0242ac1c0002\"] = google.colab.output.getActiveOutputArea();\n",
              "//# sourceURL=js_a48e92ddfb"
            ],
            "text/plain": [
              "<IPython.core.display.Javascript object>"
            ]
          },
          "metadata": {
            "tags": [
              "id20-0-0",
              "outputarea_id20"
            ]
          }
        },
        {
          "output_type": "display_data",
          "data": {
            "application/javascript": [
              "window[\"262d72b2-7f9d-11eb-8850-0242ac1c0002\"] = document.querySelector(\"#id20-0-0\");\n",
              "//# sourceURL=js_de2636a03a"
            ],
            "text/plain": [
              "<IPython.core.display.Javascript object>"
            ]
          },
          "metadata": {
            "tags": [
              "id20-0-0",
              "outputarea_id20"
            ]
          }
        },
        {
          "output_type": "display_data",
          "data": {
            "application/javascript": [
              "window[\"262eba8c-7f9d-11eb-8850-0242ac1c0002\"] = google.colab.output.setActiveOutputArea(window[\"262d72b2-7f9d-11eb-8850-0242ac1c0002\"]);\n",
              "//# sourceURL=js_867cad1231"
            ],
            "text/plain": [
              "<IPython.core.display.Javascript object>"
            ]
          },
          "metadata": {
            "tags": [
              "id20-0-0",
              "outputarea_id20"
            ]
          }
        },
        {
          "output_type": "display_data",
          "data": {
            "application/javascript": [
              "window[\"26487940-7f9d-11eb-8850-0242ac1c0002\"] = google.colab.output.setActiveOutputArea(window[\"262d098a-7f9d-11eb-8850-0242ac1c0002\"]);\n",
              "//# sourceURL=js_2d66ae25a1"
            ],
            "text/plain": [
              "<IPython.core.display.Javascript object>"
            ]
          },
          "metadata": {
            "tags": [
              "id20-0-0",
              "outputarea_id20"
            ]
          }
        },
        {
          "output_type": "display_data",
          "data": {
            "application/javascript": [
              "window[\"26968040-7f9d-11eb-8850-0242ac1c0002\"] = google.colab.output.getActiveOutputArea();\n",
              "//# sourceURL=js_3e94e10fdb"
            ],
            "text/plain": [
              "<IPython.core.display.Javascript object>"
            ]
          },
          "metadata": {
            "tags": [
              "id20-0-0",
              "outputarea_id20"
            ]
          }
        },
        {
          "output_type": "display_data",
          "data": {
            "application/javascript": [
              "window[\"2696d4e6-7f9d-11eb-8850-0242ac1c0002\"] = document.querySelector(\"#id20-0-0\");\n",
              "//# sourceURL=js_3c0b09122d"
            ],
            "text/plain": [
              "<IPython.core.display.Javascript object>"
            ]
          },
          "metadata": {
            "tags": [
              "id20-0-0",
              "outputarea_id20"
            ]
          }
        },
        {
          "output_type": "display_data",
          "data": {
            "application/javascript": [
              "window[\"26973fd0-7f9d-11eb-8850-0242ac1c0002\"] = google.colab.output.setActiveOutputArea(window[\"2696d4e6-7f9d-11eb-8850-0242ac1c0002\"]);\n",
              "//# sourceURL=js_d6cadc0aff"
            ],
            "text/plain": [
              "<IPython.core.display.Javascript object>"
            ]
          },
          "metadata": {
            "tags": [
              "id20-0-0",
              "outputarea_id20"
            ]
          }
        },
        {
          "output_type": "display_data",
          "data": {
            "application/javascript": [
              "window[\"26afaa52-7f9d-11eb-8850-0242ac1c0002\"] = google.colab.output.setActiveOutputArea(window[\"26968040-7f9d-11eb-8850-0242ac1c0002\"]);\n",
              "//# sourceURL=js_e62b1d9a88"
            ],
            "text/plain": [
              "<IPython.core.display.Javascript object>"
            ]
          },
          "metadata": {
            "tags": [
              "id20-0-0",
              "outputarea_id20"
            ]
          }
        },
        {
          "output_type": "display_data",
          "data": {
            "application/javascript": [
              "window[\"26fd6d3c-7f9d-11eb-8850-0242ac1c0002\"] = google.colab.output.getActiveOutputArea();\n",
              "//# sourceURL=js_6c6016492a"
            ],
            "text/plain": [
              "<IPython.core.display.Javascript object>"
            ]
          },
          "metadata": {
            "tags": [
              "id20-0-0",
              "outputarea_id20"
            ]
          }
        },
        {
          "output_type": "display_data",
          "data": {
            "application/javascript": [
              "window[\"26fdb4cc-7f9d-11eb-8850-0242ac1c0002\"] = document.querySelector(\"#id20-0-0\");\n",
              "//# sourceURL=js_4bd6ca6e6f"
            ],
            "text/plain": [
              "<IPython.core.display.Javascript object>"
            ]
          },
          "metadata": {
            "tags": [
              "id20-0-0",
              "outputarea_id20"
            ]
          }
        },
        {
          "output_type": "display_data",
          "data": {
            "application/javascript": [
              "window[\"26fdf3ba-7f9d-11eb-8850-0242ac1c0002\"] = google.colab.output.setActiveOutputArea(window[\"26fdb4cc-7f9d-11eb-8850-0242ac1c0002\"]);\n",
              "//# sourceURL=js_ed62ec227d"
            ],
            "text/plain": [
              "<IPython.core.display.Javascript object>"
            ]
          },
          "metadata": {
            "tags": [
              "id20-0-0",
              "outputarea_id20"
            ]
          }
        },
        {
          "output_type": "display_data",
          "data": {
            "application/javascript": [
              "window[\"27159646-7f9d-11eb-8850-0242ac1c0002\"] = google.colab.output.setActiveOutputArea(window[\"26fd6d3c-7f9d-11eb-8850-0242ac1c0002\"]);\n",
              "//# sourceURL=js_f362b8ebcf"
            ],
            "text/plain": [
              "<IPython.core.display.Javascript object>"
            ]
          },
          "metadata": {
            "tags": [
              "id20-0-0",
              "outputarea_id20"
            ]
          }
        },
        {
          "output_type": "display_data",
          "data": {
            "application/javascript": [
              "window[\"27635188-7f9d-11eb-8850-0242ac1c0002\"] = google.colab.output.getActiveOutputArea();\n",
              "//# sourceURL=js_4e9f9a8dd5"
            ],
            "text/plain": [
              "<IPython.core.display.Javascript object>"
            ]
          },
          "metadata": {
            "tags": [
              "id20-0-0",
              "outputarea_id20"
            ]
          }
        },
        {
          "output_type": "display_data",
          "data": {
            "application/javascript": [
              "window[\"2763affc-7f9d-11eb-8850-0242ac1c0002\"] = document.querySelector(\"#id20-0-0\");\n",
              "//# sourceURL=js_b71becb6cb"
            ],
            "text/plain": [
              "<IPython.core.display.Javascript object>"
            ]
          },
          "metadata": {
            "tags": [
              "id20-0-0",
              "outputarea_id20"
            ]
          }
        },
        {
          "output_type": "display_data",
          "data": {
            "application/javascript": [
              "window[\"2763f516-7f9d-11eb-8850-0242ac1c0002\"] = google.colab.output.setActiveOutputArea(window[\"2763affc-7f9d-11eb-8850-0242ac1c0002\"]);\n",
              "//# sourceURL=js_af48cc168b"
            ],
            "text/plain": [
              "<IPython.core.display.Javascript object>"
            ]
          },
          "metadata": {
            "tags": [
              "id20-0-0",
              "outputarea_id20"
            ]
          }
        },
        {
          "output_type": "display_data",
          "data": {
            "application/javascript": [
              "window[\"277ce878-7f9d-11eb-8850-0242ac1c0002\"] = google.colab.output.setActiveOutputArea(window[\"27635188-7f9d-11eb-8850-0242ac1c0002\"]);\n",
              "//# sourceURL=js_0b68596911"
            ],
            "text/plain": [
              "<IPython.core.display.Javascript object>"
            ]
          },
          "metadata": {
            "tags": [
              "id20-0-0",
              "outputarea_id20"
            ]
          }
        },
        {
          "output_type": "display_data",
          "data": {
            "application/javascript": [
              "window[\"27ca903c-7f9d-11eb-8850-0242ac1c0002\"] = google.colab.output.getActiveOutputArea();\n",
              "//# sourceURL=js_00c8941eaa"
            ],
            "text/plain": [
              "<IPython.core.display.Javascript object>"
            ]
          },
          "metadata": {
            "tags": [
              "id20-0-0",
              "outputarea_id20"
            ]
          }
        },
        {
          "output_type": "display_data",
          "data": {
            "application/javascript": [
              "window[\"27caebd6-7f9d-11eb-8850-0242ac1c0002\"] = document.querySelector(\"#id20-0-0\");\n",
              "//# sourceURL=js_5099dbe179"
            ],
            "text/plain": [
              "<IPython.core.display.Javascript object>"
            ]
          },
          "metadata": {
            "tags": [
              "id20-0-0",
              "outputarea_id20"
            ]
          }
        },
        {
          "output_type": "display_data",
          "data": {
            "application/javascript": [
              "window[\"27cb3226-7f9d-11eb-8850-0242ac1c0002\"] = google.colab.output.setActiveOutputArea(window[\"27caebd6-7f9d-11eb-8850-0242ac1c0002\"]);\n",
              "//# sourceURL=js_08051afe69"
            ],
            "text/plain": [
              "<IPython.core.display.Javascript object>"
            ]
          },
          "metadata": {
            "tags": [
              "id20-0-0",
              "outputarea_id20"
            ]
          }
        },
        {
          "output_type": "display_data",
          "data": {
            "application/javascript": [
              "window[\"27e75a96-7f9d-11eb-8850-0242ac1c0002\"] = google.colab.output.setActiveOutputArea(window[\"27ca903c-7f9d-11eb-8850-0242ac1c0002\"]);\n",
              "//# sourceURL=js_5b5fdb6fea"
            ],
            "text/plain": [
              "<IPython.core.display.Javascript object>"
            ]
          },
          "metadata": {
            "tags": [
              "id20-0-0",
              "outputarea_id20"
            ]
          }
        },
        {
          "output_type": "display_data",
          "data": {
            "application/javascript": [
              "window[\"2836324c-7f9d-11eb-8850-0242ac1c0002\"] = google.colab.output.getActiveOutputArea();\n",
              "//# sourceURL=js_d54c7ed50f"
            ],
            "text/plain": [
              "<IPython.core.display.Javascript object>"
            ]
          },
          "metadata": {
            "tags": [
              "id20-0-0",
              "outputarea_id20"
            ]
          }
        },
        {
          "output_type": "display_data",
          "data": {
            "application/javascript": [
              "window[\"28367900-7f9d-11eb-8850-0242ac1c0002\"] = document.querySelector(\"#id20-0-0\");\n",
              "//# sourceURL=js_9a2043bca9"
            ],
            "text/plain": [
              "<IPython.core.display.Javascript object>"
            ]
          },
          "metadata": {
            "tags": [
              "id20-0-0",
              "outputarea_id20"
            ]
          }
        },
        {
          "output_type": "display_data",
          "data": {
            "application/javascript": [
              "window[\"2836bd8e-7f9d-11eb-8850-0242ac1c0002\"] = google.colab.output.setActiveOutputArea(window[\"28367900-7f9d-11eb-8850-0242ac1c0002\"]);\n",
              "//# sourceURL=js_dfb682a2e5"
            ],
            "text/plain": [
              "<IPython.core.display.Javascript object>"
            ]
          },
          "metadata": {
            "tags": [
              "id20-0-0",
              "outputarea_id20"
            ]
          }
        },
        {
          "output_type": "display_data",
          "data": {
            "application/javascript": [
              "window[\"28549322-7f9d-11eb-8850-0242ac1c0002\"] = google.colab.output.setActiveOutputArea(window[\"2836324c-7f9d-11eb-8850-0242ac1c0002\"]);\n",
              "//# sourceURL=js_cb83f7dae0"
            ],
            "text/plain": [
              "<IPython.core.display.Javascript object>"
            ]
          },
          "metadata": {
            "tags": [
              "id20-0-0",
              "outputarea_id20"
            ]
          }
        },
        {
          "output_type": "display_data",
          "data": {
            "application/javascript": [
              "window[\"28a28bea-7f9d-11eb-8850-0242ac1c0002\"] = google.colab.output.getActiveOutputArea();\n",
              "//# sourceURL=js_c21521cb28"
            ],
            "text/plain": [
              "<IPython.core.display.Javascript object>"
            ]
          },
          "metadata": {
            "tags": [
              "id20-0-0",
              "outputarea_id20"
            ]
          }
        },
        {
          "output_type": "display_data",
          "data": {
            "application/javascript": [
              "window[\"28a2ee50-7f9d-11eb-8850-0242ac1c0002\"] = document.querySelector(\"#id20-0-0\");\n",
              "//# sourceURL=js_5d11d87ad3"
            ],
            "text/plain": [
              "<IPython.core.display.Javascript object>"
            ]
          },
          "metadata": {
            "tags": [
              "id20-0-0",
              "outputarea_id20"
            ]
          }
        },
        {
          "output_type": "display_data",
          "data": {
            "application/javascript": [
              "window[\"28a3f8d6-7f9d-11eb-8850-0242ac1c0002\"] = google.colab.output.setActiveOutputArea(window[\"28a2ee50-7f9d-11eb-8850-0242ac1c0002\"]);\n",
              "//# sourceURL=js_1347843eea"
            ],
            "text/plain": [
              "<IPython.core.display.Javascript object>"
            ]
          },
          "metadata": {
            "tags": [
              "id20-0-0",
              "outputarea_id20"
            ]
          }
        },
        {
          "output_type": "display_data",
          "data": {
            "application/javascript": [
              "window[\"28bf3862-7f9d-11eb-8850-0242ac1c0002\"] = google.colab.output.setActiveOutputArea(window[\"28a28bea-7f9d-11eb-8850-0242ac1c0002\"]);\n",
              "//# sourceURL=js_2f833c76d6"
            ],
            "text/plain": [
              "<IPython.core.display.Javascript object>"
            ]
          },
          "metadata": {
            "tags": [
              "id20-0-0",
              "outputarea_id20"
            ]
          }
        },
        {
          "output_type": "display_data",
          "data": {
            "application/javascript": [
              "window[\"290cfce6-7f9d-11eb-8850-0242ac1c0002\"] = google.colab.output.getActiveOutputArea();\n",
              "//# sourceURL=js_7103803bc6"
            ],
            "text/plain": [
              "<IPython.core.display.Javascript object>"
            ]
          },
          "metadata": {
            "tags": [
              "id20-0-0",
              "outputarea_id20"
            ]
          }
        },
        {
          "output_type": "display_data",
          "data": {
            "application/javascript": [
              "window[\"290d554c-7f9d-11eb-8850-0242ac1c0002\"] = document.querySelector(\"#id20-0-0\");\n",
              "//# sourceURL=js_741c393ff9"
            ],
            "text/plain": [
              "<IPython.core.display.Javascript object>"
            ]
          },
          "metadata": {
            "tags": [
              "id20-0-0",
              "outputarea_id20"
            ]
          }
        },
        {
          "output_type": "display_data",
          "data": {
            "application/javascript": [
              "window[\"290dae66-7f9d-11eb-8850-0242ac1c0002\"] = google.colab.output.setActiveOutputArea(window[\"290d554c-7f9d-11eb-8850-0242ac1c0002\"]);\n",
              "//# sourceURL=js_f1827e6a19"
            ],
            "text/plain": [
              "<IPython.core.display.Javascript object>"
            ]
          },
          "metadata": {
            "tags": [
              "id20-0-0",
              "outputarea_id20"
            ]
          }
        },
        {
          "output_type": "display_data",
          "data": {
            "application/javascript": [
              "window[\"292a87de-7f9d-11eb-8850-0242ac1c0002\"] = google.colab.output.setActiveOutputArea(window[\"290cfce6-7f9d-11eb-8850-0242ac1c0002\"]);\n",
              "//# sourceURL=js_13c5bdedbd"
            ],
            "text/plain": [
              "<IPython.core.display.Javascript object>"
            ]
          },
          "metadata": {
            "tags": [
              "id20-0-0",
              "outputarea_id20"
            ]
          }
        },
        {
          "output_type": "display_data",
          "data": {
            "application/javascript": [
              "window[\"297879c6-7f9d-11eb-8850-0242ac1c0002\"] = google.colab.output.getActiveOutputArea();\n",
              "//# sourceURL=js_3744b091b1"
            ],
            "text/plain": [
              "<IPython.core.display.Javascript object>"
            ]
          },
          "metadata": {
            "tags": [
              "id20-0-0",
              "outputarea_id20"
            ]
          }
        },
        {
          "output_type": "display_data",
          "data": {
            "application/javascript": [
              "window[\"2978e0b4-7f9d-11eb-8850-0242ac1c0002\"] = document.querySelector(\"#id20-0-0\");\n",
              "//# sourceURL=js_a3de54733d"
            ],
            "text/plain": [
              "<IPython.core.display.Javascript object>"
            ]
          },
          "metadata": {
            "tags": [
              "id20-0-0",
              "outputarea_id20"
            ]
          }
        },
        {
          "output_type": "display_data",
          "data": {
            "application/javascript": [
              "window[\"29792b5a-7f9d-11eb-8850-0242ac1c0002\"] = google.colab.output.setActiveOutputArea(window[\"2978e0b4-7f9d-11eb-8850-0242ac1c0002\"]);\n",
              "//# sourceURL=js_fcdb75c946"
            ],
            "text/plain": [
              "<IPython.core.display.Javascript object>"
            ]
          },
          "metadata": {
            "tags": [
              "id20-0-0",
              "outputarea_id20"
            ]
          }
        },
        {
          "output_type": "display_data",
          "data": {
            "application/javascript": [
              "window[\"29945dda-7f9d-11eb-8850-0242ac1c0002\"] = google.colab.output.setActiveOutputArea(window[\"297879c6-7f9d-11eb-8850-0242ac1c0002\"]);\n",
              "//# sourceURL=js_ba53851230"
            ],
            "text/plain": [
              "<IPython.core.display.Javascript object>"
            ]
          },
          "metadata": {
            "tags": [
              "id20-0-0",
              "outputarea_id20"
            ]
          }
        },
        {
          "output_type": "display_data",
          "data": {
            "application/javascript": [
              "window[\"29e23370-7f9d-11eb-8850-0242ac1c0002\"] = google.colab.output.getActiveOutputArea();\n",
              "//# sourceURL=js_0a90840e71"
            ],
            "text/plain": [
              "<IPython.core.display.Javascript object>"
            ]
          },
          "metadata": {
            "tags": [
              "id20-0-0",
              "outputarea_id20"
            ]
          }
        },
        {
          "output_type": "display_data",
          "data": {
            "application/javascript": [
              "window[\"29e290e0-7f9d-11eb-8850-0242ac1c0002\"] = document.querySelector(\"#id20-0-0\");\n",
              "//# sourceURL=js_04284f114c"
            ],
            "text/plain": [
              "<IPython.core.display.Javascript object>"
            ]
          },
          "metadata": {
            "tags": [
              "id20-0-0",
              "outputarea_id20"
            ]
          }
        },
        {
          "output_type": "display_data",
          "data": {
            "application/javascript": [
              "window[\"29e2d7da-7f9d-11eb-8850-0242ac1c0002\"] = google.colab.output.setActiveOutputArea(window[\"29e290e0-7f9d-11eb-8850-0242ac1c0002\"]);\n",
              "//# sourceURL=js_8087781782"
            ],
            "text/plain": [
              "<IPython.core.display.Javascript object>"
            ]
          },
          "metadata": {
            "tags": [
              "id20-0-0",
              "outputarea_id20"
            ]
          }
        },
        {
          "output_type": "display_data",
          "data": {
            "application/javascript": [
              "window[\"29fe42f4-7f9d-11eb-8850-0242ac1c0002\"] = google.colab.output.setActiveOutputArea(window[\"29e23370-7f9d-11eb-8850-0242ac1c0002\"]);\n",
              "//# sourceURL=js_6f5cdd06ca"
            ],
            "text/plain": [
              "<IPython.core.display.Javascript object>"
            ]
          },
          "metadata": {
            "tags": [
              "id20-0-0",
              "outputarea_id20"
            ]
          }
        },
        {
          "output_type": "display_data",
          "data": {
            "application/javascript": [
              "window[\"2a4c8996-7f9d-11eb-8850-0242ac1c0002\"] = google.colab.output.getActiveOutputArea();\n",
              "//# sourceURL=js_417148f8f7"
            ],
            "text/plain": [
              "<IPython.core.display.Javascript object>"
            ]
          },
          "metadata": {
            "tags": [
              "id20-0-0",
              "outputarea_id20"
            ]
          }
        },
        {
          "output_type": "display_data",
          "data": {
            "application/javascript": [
              "window[\"2a4cd716-7f9d-11eb-8850-0242ac1c0002\"] = document.querySelector(\"#id20-0-0\");\n",
              "//# sourceURL=js_f5361cd61d"
            ],
            "text/plain": [
              "<IPython.core.display.Javascript object>"
            ]
          },
          "metadata": {
            "tags": [
              "id20-0-0",
              "outputarea_id20"
            ]
          }
        },
        {
          "output_type": "display_data",
          "data": {
            "application/javascript": [
              "window[\"2a4d1b9a-7f9d-11eb-8850-0242ac1c0002\"] = google.colab.output.setActiveOutputArea(window[\"2a4cd716-7f9d-11eb-8850-0242ac1c0002\"]);\n",
              "//# sourceURL=js_8d026d5469"
            ],
            "text/plain": [
              "<IPython.core.display.Javascript object>"
            ]
          },
          "metadata": {
            "tags": [
              "id20-0-0",
              "outputarea_id20"
            ]
          }
        },
        {
          "output_type": "display_data",
          "data": {
            "application/javascript": [
              "window[\"2a6780a2-7f9d-11eb-8850-0242ac1c0002\"] = google.colab.output.setActiveOutputArea(window[\"2a4c8996-7f9d-11eb-8850-0242ac1c0002\"]);\n",
              "//# sourceURL=js_2d2d9155e1"
            ],
            "text/plain": [
              "<IPython.core.display.Javascript object>"
            ]
          },
          "metadata": {
            "tags": [
              "id20-0-0",
              "outputarea_id20"
            ]
          }
        },
        {
          "output_type": "display_data",
          "data": {
            "application/javascript": [
              "window[\"2ab52b36-7f9d-11eb-8850-0242ac1c0002\"] = google.colab.output.getActiveOutputArea();\n",
              "//# sourceURL=js_580cf27738"
            ],
            "text/plain": [
              "<IPython.core.display.Javascript object>"
            ]
          },
          "metadata": {
            "tags": [
              "id20-0-0",
              "outputarea_id20"
            ]
          }
        },
        {
          "output_type": "display_data",
          "data": {
            "application/javascript": [
              "window[\"2ab57c4e-7f9d-11eb-8850-0242ac1c0002\"] = document.querySelector(\"#id20-0-0\");\n",
              "//# sourceURL=js_c80486b781"
            ],
            "text/plain": [
              "<IPython.core.display.Javascript object>"
            ]
          },
          "metadata": {
            "tags": [
              "id20-0-0",
              "outputarea_id20"
            ]
          }
        },
        {
          "output_type": "display_data",
          "data": {
            "application/javascript": [
              "window[\"2ab5e4b8-7f9d-11eb-8850-0242ac1c0002\"] = google.colab.output.setActiveOutputArea(window[\"2ab57c4e-7f9d-11eb-8850-0242ac1c0002\"]);\n",
              "//# sourceURL=js_4da2fc3423"
            ],
            "text/plain": [
              "<IPython.core.display.Javascript object>"
            ]
          },
          "metadata": {
            "tags": [
              "id20-0-0",
              "outputarea_id20"
            ]
          }
        },
        {
          "output_type": "display_data",
          "data": {
            "application/javascript": [
              "window[\"2ad18a92-7f9d-11eb-8850-0242ac1c0002\"] = google.colab.output.setActiveOutputArea(window[\"2ab52b36-7f9d-11eb-8850-0242ac1c0002\"]);\n",
              "//# sourceURL=js_2caa4705ba"
            ],
            "text/plain": [
              "<IPython.core.display.Javascript object>"
            ]
          },
          "metadata": {
            "tags": [
              "id20-0-0",
              "outputarea_id20"
            ]
          }
        },
        {
          "output_type": "display_data",
          "data": {
            "application/javascript": [
              "window[\"2b1fa22c-7f9d-11eb-8850-0242ac1c0002\"] = google.colab.output.getActiveOutputArea();\n",
              "//# sourceURL=js_7a708b0880"
            ],
            "text/plain": [
              "<IPython.core.display.Javascript object>"
            ]
          },
          "metadata": {
            "tags": [
              "id20-0-0",
              "outputarea_id20"
            ]
          }
        },
        {
          "output_type": "display_data",
          "data": {
            "application/javascript": [
              "window[\"2b1fef8e-7f9d-11eb-8850-0242ac1c0002\"] = document.querySelector(\"#id20-0-0\");\n",
              "//# sourceURL=js_9ec0cd6fe9"
            ],
            "text/plain": [
              "<IPython.core.display.Javascript object>"
            ]
          },
          "metadata": {
            "tags": [
              "id20-0-0",
              "outputarea_id20"
            ]
          }
        },
        {
          "output_type": "display_data",
          "data": {
            "application/javascript": [
              "window[\"2b2049e8-7f9d-11eb-8850-0242ac1c0002\"] = google.colab.output.setActiveOutputArea(window[\"2b1fef8e-7f9d-11eb-8850-0242ac1c0002\"]);\n",
              "//# sourceURL=js_614326fb59"
            ],
            "text/plain": [
              "<IPython.core.display.Javascript object>"
            ]
          },
          "metadata": {
            "tags": [
              "id20-0-0",
              "outputarea_id20"
            ]
          }
        },
        {
          "output_type": "display_data",
          "data": {
            "application/javascript": [
              "window[\"2b3b7060-7f9d-11eb-8850-0242ac1c0002\"] = google.colab.output.setActiveOutputArea(window[\"2b1fa22c-7f9d-11eb-8850-0242ac1c0002\"]);\n",
              "//# sourceURL=js_a0c1f5a988"
            ],
            "text/plain": [
              "<IPython.core.display.Javascript object>"
            ]
          },
          "metadata": {
            "tags": [
              "id20-0-0",
              "outputarea_id20"
            ]
          }
        },
        {
          "output_type": "display_data",
          "data": {
            "application/javascript": [
              "window[\"2b8acfca-7f9d-11eb-8850-0242ac1c0002\"] = google.colab.output.getActiveOutputArea();\n",
              "//# sourceURL=js_0868c59c6d"
            ],
            "text/plain": [
              "<IPython.core.display.Javascript object>"
            ]
          },
          "metadata": {
            "tags": [
              "id20-0-0",
              "outputarea_id20"
            ]
          }
        },
        {
          "output_type": "display_data",
          "data": {
            "application/javascript": [
              "window[\"2b8b2394-7f9d-11eb-8850-0242ac1c0002\"] = document.querySelector(\"#id20-0-0\");\n",
              "//# sourceURL=js_a0e6c9d00f"
            ],
            "text/plain": [
              "<IPython.core.display.Javascript object>"
            ]
          },
          "metadata": {
            "tags": [
              "id20-0-0",
              "outputarea_id20"
            ]
          }
        },
        {
          "output_type": "display_data",
          "data": {
            "application/javascript": [
              "window[\"2b8b7bb4-7f9d-11eb-8850-0242ac1c0002\"] = google.colab.output.setActiveOutputArea(window[\"2b8b2394-7f9d-11eb-8850-0242ac1c0002\"]);\n",
              "//# sourceURL=js_798fc88c1d"
            ],
            "text/plain": [
              "<IPython.core.display.Javascript object>"
            ]
          },
          "metadata": {
            "tags": [
              "id20-0-0",
              "outputarea_id20"
            ]
          }
        },
        {
          "output_type": "display_data",
          "data": {
            "application/javascript": [
              "window[\"2bb2eb40-7f9d-11eb-8850-0242ac1c0002\"] = google.colab.output.setActiveOutputArea(window[\"2b8acfca-7f9d-11eb-8850-0242ac1c0002\"]);\n",
              "//# sourceURL=js_560b0bab23"
            ],
            "text/plain": [
              "<IPython.core.display.Javascript object>"
            ]
          },
          "metadata": {
            "tags": [
              "id20-0-0",
              "outputarea_id20"
            ]
          }
        },
        {
          "output_type": "display_data",
          "data": {
            "application/javascript": [
              "window[\"2c00dfc6-7f9d-11eb-8850-0242ac1c0002\"] = google.colab.output.getActiveOutputArea();\n",
              "//# sourceURL=js_76e9c70fc1"
            ],
            "text/plain": [
              "<IPython.core.display.Javascript object>"
            ]
          },
          "metadata": {
            "tags": [
              "id20-0-0",
              "outputarea_id20"
            ]
          }
        },
        {
          "output_type": "display_data",
          "data": {
            "application/javascript": [
              "window[\"2c011a22-7f9d-11eb-8850-0242ac1c0002\"] = document.querySelector(\"#id20-0-0\");\n",
              "//# sourceURL=js_09d1b334f8"
            ],
            "text/plain": [
              "<IPython.core.display.Javascript object>"
            ]
          },
          "metadata": {
            "tags": [
              "id20-0-0",
              "outputarea_id20"
            ]
          }
        },
        {
          "output_type": "display_data",
          "data": {
            "application/javascript": [
              "window[\"2c01551e-7f9d-11eb-8850-0242ac1c0002\"] = google.colab.output.setActiveOutputArea(window[\"2c011a22-7f9d-11eb-8850-0242ac1c0002\"]);\n",
              "//# sourceURL=js_a8cacfaa2f"
            ],
            "text/plain": [
              "<IPython.core.display.Javascript object>"
            ]
          },
          "metadata": {
            "tags": [
              "id20-0-0",
              "outputarea_id20"
            ]
          }
        },
        {
          "output_type": "display_data",
          "data": {
            "application/javascript": [
              "window[\"2c1b8290-7f9d-11eb-8850-0242ac1c0002\"] = google.colab.output.setActiveOutputArea(window[\"2c00dfc6-7f9d-11eb-8850-0242ac1c0002\"]);\n",
              "//# sourceURL=js_e287e69fa4"
            ],
            "text/plain": [
              "<IPython.core.display.Javascript object>"
            ]
          },
          "metadata": {
            "tags": [
              "id20-0-0",
              "outputarea_id20"
            ]
          }
        },
        {
          "output_type": "display_data",
          "data": {
            "application/javascript": [
              "window[\"2c696758-7f9d-11eb-8850-0242ac1c0002\"] = google.colab.output.getActiveOutputArea();\n",
              "//# sourceURL=js_2133c7fba0"
            ],
            "text/plain": [
              "<IPython.core.display.Javascript object>"
            ]
          },
          "metadata": {
            "tags": [
              "id20-0-0",
              "outputarea_id20"
            ]
          }
        },
        {
          "output_type": "display_data",
          "data": {
            "application/javascript": [
              "window[\"2c69a268-7f9d-11eb-8850-0242ac1c0002\"] = document.querySelector(\"#id20-0-0\");\n",
              "//# sourceURL=js_e5c5c596d2"
            ],
            "text/plain": [
              "<IPython.core.display.Javascript object>"
            ]
          },
          "metadata": {
            "tags": [
              "id20-0-0",
              "outputarea_id20"
            ]
          }
        },
        {
          "output_type": "display_data",
          "data": {
            "application/javascript": [
              "window[\"2c69fa9c-7f9d-11eb-8850-0242ac1c0002\"] = google.colab.output.setActiveOutputArea(window[\"2c69a268-7f9d-11eb-8850-0242ac1c0002\"]);\n",
              "//# sourceURL=js_e04f50d93a"
            ],
            "text/plain": [
              "<IPython.core.display.Javascript object>"
            ]
          },
          "metadata": {
            "tags": [
              "id20-0-0",
              "outputarea_id20"
            ]
          }
        },
        {
          "output_type": "display_data",
          "data": {
            "application/javascript": [
              "window[\"2c82740a-7f9d-11eb-8850-0242ac1c0002\"] = google.colab.output.setActiveOutputArea(window[\"2c696758-7f9d-11eb-8850-0242ac1c0002\"]);\n",
              "//# sourceURL=js_de1d8be27e"
            ],
            "text/plain": [
              "<IPython.core.display.Javascript object>"
            ]
          },
          "metadata": {
            "tags": [
              "id20-0-0",
              "outputarea_id20"
            ]
          }
        },
        {
          "output_type": "display_data",
          "data": {
            "application/javascript": [
              "window[\"2cd03db6-7f9d-11eb-8850-0242ac1c0002\"] = google.colab.output.getActiveOutputArea();\n",
              "//# sourceURL=js_fc27536c33"
            ],
            "text/plain": [
              "<IPython.core.display.Javascript object>"
            ]
          },
          "metadata": {
            "tags": [
              "id20-0-0",
              "outputarea_id20"
            ]
          }
        },
        {
          "output_type": "display_data",
          "data": {
            "application/javascript": [
              "window[\"2cd0883e-7f9d-11eb-8850-0242ac1c0002\"] = document.querySelector(\"#id20-0-0\");\n",
              "//# sourceURL=js_acf3611c13"
            ],
            "text/plain": [
              "<IPython.core.display.Javascript object>"
            ]
          },
          "metadata": {
            "tags": [
              "id20-0-0",
              "outputarea_id20"
            ]
          }
        },
        {
          "output_type": "display_data",
          "data": {
            "application/javascript": [
              "window[\"2cd0dc58-7f9d-11eb-8850-0242ac1c0002\"] = google.colab.output.setActiveOutputArea(window[\"2cd0883e-7f9d-11eb-8850-0242ac1c0002\"]);\n",
              "//# sourceURL=js_a3e571ebf8"
            ],
            "text/plain": [
              "<IPython.core.display.Javascript object>"
            ]
          },
          "metadata": {
            "tags": [
              "id20-0-0",
              "outputarea_id20"
            ]
          }
        },
        {
          "output_type": "display_data",
          "data": {
            "application/javascript": [
              "window[\"2ce93f46-7f9d-11eb-8850-0242ac1c0002\"] = google.colab.output.setActiveOutputArea(window[\"2cd03db6-7f9d-11eb-8850-0242ac1c0002\"]);\n",
              "//# sourceURL=js_1b0930c56b"
            ],
            "text/plain": [
              "<IPython.core.display.Javascript object>"
            ]
          },
          "metadata": {
            "tags": [
              "id20-0-0",
              "outputarea_id20"
            ]
          }
        },
        {
          "output_type": "display_data",
          "data": {
            "application/javascript": [
              "window[\"2d370e38-7f9d-11eb-8850-0242ac1c0002\"] = google.colab.output.getActiveOutputArea();\n",
              "//# sourceURL=js_66c9decf37"
            ],
            "text/plain": [
              "<IPython.core.display.Javascript object>"
            ]
          },
          "metadata": {
            "tags": [
              "id20-0-0",
              "outputarea_id20"
            ]
          }
        },
        {
          "output_type": "display_data",
          "data": {
            "application/javascript": [
              "window[\"2d3763a6-7f9d-11eb-8850-0242ac1c0002\"] = document.querySelector(\"#id20-0-0\");\n",
              "//# sourceURL=js_e1b1d05320"
            ],
            "text/plain": [
              "<IPython.core.display.Javascript object>"
            ]
          },
          "metadata": {
            "tags": [
              "id20-0-0",
              "outputarea_id20"
            ]
          }
        },
        {
          "output_type": "display_data",
          "data": {
            "application/javascript": [
              "window[\"2d37ad20-7f9d-11eb-8850-0242ac1c0002\"] = google.colab.output.setActiveOutputArea(window[\"2d3763a6-7f9d-11eb-8850-0242ac1c0002\"]);\n",
              "//# sourceURL=js_90835331b5"
            ],
            "text/plain": [
              "<IPython.core.display.Javascript object>"
            ]
          },
          "metadata": {
            "tags": [
              "id20-0-0",
              "outputarea_id20"
            ]
          }
        },
        {
          "output_type": "display_data",
          "data": {
            "application/javascript": [
              "window[\"2d514a32-7f9d-11eb-8850-0242ac1c0002\"] = google.colab.output.setActiveOutputArea(window[\"2d370e38-7f9d-11eb-8850-0242ac1c0002\"]);\n",
              "//# sourceURL=js_63ccda9a6c"
            ],
            "text/plain": [
              "<IPython.core.display.Javascript object>"
            ]
          },
          "metadata": {
            "tags": [
              "id20-0-0",
              "outputarea_id20"
            ]
          }
        },
        {
          "output_type": "display_data",
          "data": {
            "application/javascript": [
              "window[\"2d9ed77a-7f9d-11eb-8850-0242ac1c0002\"] = google.colab.output.getActiveOutputArea();\n",
              "//# sourceURL=js_010b338560"
            ],
            "text/plain": [
              "<IPython.core.display.Javascript object>"
            ]
          },
          "metadata": {
            "tags": [
              "id20-0-0",
              "outputarea_id20"
            ]
          }
        },
        {
          "output_type": "display_data",
          "data": {
            "application/javascript": [
              "window[\"2d9f0aec-7f9d-11eb-8850-0242ac1c0002\"] = document.querySelector(\"#id20-0-0\");\n",
              "//# sourceURL=js_633e0e0770"
            ],
            "text/plain": [
              "<IPython.core.display.Javascript object>"
            ]
          },
          "metadata": {
            "tags": [
              "id20-0-0",
              "outputarea_id20"
            ]
          }
        },
        {
          "output_type": "display_data",
          "data": {
            "application/javascript": [
              "window[\"2d9f3bca-7f9d-11eb-8850-0242ac1c0002\"] = google.colab.output.setActiveOutputArea(window[\"2d9f0aec-7f9d-11eb-8850-0242ac1c0002\"]);\n",
              "//# sourceURL=js_4f253a6bbe"
            ],
            "text/plain": [
              "<IPython.core.display.Javascript object>"
            ]
          },
          "metadata": {
            "tags": [
              "id20-0-0",
              "outputarea_id20"
            ]
          }
        },
        {
          "output_type": "display_data",
          "data": {
            "application/javascript": [
              "window[\"2db8e76e-7f9d-11eb-8850-0242ac1c0002\"] = google.colab.output.setActiveOutputArea(window[\"2d9ed77a-7f9d-11eb-8850-0242ac1c0002\"]);\n",
              "//# sourceURL=js_b795c7b705"
            ],
            "text/plain": [
              "<IPython.core.display.Javascript object>"
            ]
          },
          "metadata": {
            "tags": [
              "id20-0-0",
              "outputarea_id20"
            ]
          }
        },
        {
          "output_type": "display_data",
          "data": {
            "application/javascript": [
              "window[\"2e069de2-7f9d-11eb-8850-0242ac1c0002\"] = google.colab.output.getActiveOutputArea();\n",
              "//# sourceURL=js_055c710460"
            ],
            "text/plain": [
              "<IPython.core.display.Javascript object>"
            ]
          },
          "metadata": {
            "tags": [
              "id20-0-0",
              "outputarea_id20"
            ]
          }
        },
        {
          "output_type": "display_data",
          "data": {
            "application/javascript": [
              "window[\"2e06e856-7f9d-11eb-8850-0242ac1c0002\"] = document.querySelector(\"#id20-0-0\");\n",
              "//# sourceURL=js_0958783e12"
            ],
            "text/plain": [
              "<IPython.core.display.Javascript object>"
            ]
          },
          "metadata": {
            "tags": [
              "id20-0-0",
              "outputarea_id20"
            ]
          }
        },
        {
          "output_type": "display_data",
          "data": {
            "application/javascript": [
              "window[\"2e0738ce-7f9d-11eb-8850-0242ac1c0002\"] = google.colab.output.setActiveOutputArea(window[\"2e06e856-7f9d-11eb-8850-0242ac1c0002\"]);\n",
              "//# sourceURL=js_4492a43be2"
            ],
            "text/plain": [
              "<IPython.core.display.Javascript object>"
            ]
          },
          "metadata": {
            "tags": [
              "id20-0-0",
              "outputarea_id20"
            ]
          }
        },
        {
          "output_type": "display_data",
          "data": {
            "application/javascript": [
              "window[\"2e1fa04e-7f9d-11eb-8850-0242ac1c0002\"] = google.colab.output.setActiveOutputArea(window[\"2e069de2-7f9d-11eb-8850-0242ac1c0002\"]);\n",
              "//# sourceURL=js_142fe2e3a4"
            ],
            "text/plain": [
              "<IPython.core.display.Javascript object>"
            ]
          },
          "metadata": {
            "tags": [
              "id20-0-0",
              "outputarea_id20"
            ]
          }
        },
        {
          "output_type": "display_data",
          "data": {
            "application/javascript": [
              "window[\"2e6dc972-7f9d-11eb-8850-0242ac1c0002\"] = google.colab.output.getActiveOutputArea();\n",
              "//# sourceURL=js_33b455c2b6"
            ],
            "text/plain": [
              "<IPython.core.display.Javascript object>"
            ]
          },
          "metadata": {
            "tags": [
              "id20-0-0",
              "outputarea_id20"
            ]
          }
        },
        {
          "output_type": "display_data",
          "data": {
            "application/javascript": [
              "window[\"2e6e0b9e-7f9d-11eb-8850-0242ac1c0002\"] = document.querySelector(\"#id20-0-0\");\n",
              "//# sourceURL=js_05e4ae1862"
            ],
            "text/plain": [
              "<IPython.core.display.Javascript object>"
            ]
          },
          "metadata": {
            "tags": [
              "id20-0-0",
              "outputarea_id20"
            ]
          }
        },
        {
          "output_type": "display_data",
          "data": {
            "application/javascript": [
              "window[\"2e6e46d6-7f9d-11eb-8850-0242ac1c0002\"] = google.colab.output.setActiveOutputArea(window[\"2e6e0b9e-7f9d-11eb-8850-0242ac1c0002\"]);\n",
              "//# sourceURL=js_77894ae823"
            ],
            "text/plain": [
              "<IPython.core.display.Javascript object>"
            ]
          },
          "metadata": {
            "tags": [
              "id20-0-0",
              "outputarea_id20"
            ]
          }
        },
        {
          "output_type": "display_data",
          "data": {
            "application/javascript": [
              "window[\"2e885800-7f9d-11eb-8850-0242ac1c0002\"] = google.colab.output.setActiveOutputArea(window[\"2e6dc972-7f9d-11eb-8850-0242ac1c0002\"]);\n",
              "//# sourceURL=js_a952f70c30"
            ],
            "text/plain": [
              "<IPython.core.display.Javascript object>"
            ]
          },
          "metadata": {
            "tags": [
              "id20-0-0",
              "outputarea_id20"
            ]
          }
        },
        {
          "output_type": "display_data",
          "data": {
            "application/javascript": [
              "window[\"2ed63052-7f9d-11eb-8850-0242ac1c0002\"] = google.colab.output.getActiveOutputArea();\n",
              "//# sourceURL=js_9831a61df9"
            ],
            "text/plain": [
              "<IPython.core.display.Javascript object>"
            ]
          },
          "metadata": {
            "tags": [
              "id20-0-0",
              "outputarea_id20"
            ]
          }
        },
        {
          "output_type": "display_data",
          "data": {
            "application/javascript": [
              "window[\"2ed6ed62-7f9d-11eb-8850-0242ac1c0002\"] = document.querySelector(\"#id20-0-0\");\n",
              "//# sourceURL=js_86284201d6"
            ],
            "text/plain": [
              "<IPython.core.display.Javascript object>"
            ]
          },
          "metadata": {
            "tags": [
              "id20-0-0",
              "outputarea_id20"
            ]
          }
        },
        {
          "output_type": "display_data",
          "data": {
            "application/javascript": [
              "window[\"2ed7b918-7f9d-11eb-8850-0242ac1c0002\"] = google.colab.output.setActiveOutputArea(window[\"2ed6ed62-7f9d-11eb-8850-0242ac1c0002\"]);\n",
              "//# sourceURL=js_af34b4c377"
            ],
            "text/plain": [
              "<IPython.core.display.Javascript object>"
            ]
          },
          "metadata": {
            "tags": [
              "id20-0-0",
              "outputarea_id20"
            ]
          }
        },
        {
          "output_type": "display_data",
          "data": {
            "application/javascript": [
              "window[\"2ef091a4-7f9d-11eb-8850-0242ac1c0002\"] = google.colab.output.setActiveOutputArea(window[\"2ed63052-7f9d-11eb-8850-0242ac1c0002\"]);\n",
              "//# sourceURL=js_8a6d6579e2"
            ],
            "text/plain": [
              "<IPython.core.display.Javascript object>"
            ]
          },
          "metadata": {
            "tags": [
              "id20-0-0",
              "outputarea_id20"
            ]
          }
        },
        {
          "output_type": "display_data",
          "data": {
            "application/javascript": [
              "window[\"2f3e2bb2-7f9d-11eb-8850-0242ac1c0002\"] = google.colab.output.getActiveOutputArea();\n",
              "//# sourceURL=js_ccf75d6add"
            ],
            "text/plain": [
              "<IPython.core.display.Javascript object>"
            ]
          },
          "metadata": {
            "tags": [
              "id20-0-0",
              "outputarea_id20"
            ]
          }
        },
        {
          "output_type": "display_data",
          "data": {
            "application/javascript": [
              "window[\"2f3eab1e-7f9d-11eb-8850-0242ac1c0002\"] = document.querySelector(\"#id20-0-0\");\n",
              "//# sourceURL=js_f119f0358a"
            ],
            "text/plain": [
              "<IPython.core.display.Javascript object>"
            ]
          },
          "metadata": {
            "tags": [
              "id20-0-0",
              "outputarea_id20"
            ]
          }
        },
        {
          "output_type": "display_data",
          "data": {
            "application/javascript": [
              "window[\"2f3f21de-7f9d-11eb-8850-0242ac1c0002\"] = google.colab.output.setActiveOutputArea(window[\"2f3eab1e-7f9d-11eb-8850-0242ac1c0002\"]);\n",
              "//# sourceURL=js_50a2a0b852"
            ],
            "text/plain": [
              "<IPython.core.display.Javascript object>"
            ]
          },
          "metadata": {
            "tags": [
              "id20-0-0",
              "outputarea_id20"
            ]
          }
        },
        {
          "output_type": "display_data",
          "data": {
            "application/javascript": [
              "window[\"2f58901a-7f9d-11eb-8850-0242ac1c0002\"] = google.colab.output.setActiveOutputArea(window[\"2f3e2bb2-7f9d-11eb-8850-0242ac1c0002\"]);\n",
              "//# sourceURL=js_4b1e1abab3"
            ],
            "text/plain": [
              "<IPython.core.display.Javascript object>"
            ]
          },
          "metadata": {
            "tags": [
              "id20-0-0",
              "outputarea_id20"
            ]
          }
        },
        {
          "output_type": "display_data",
          "data": {
            "application/javascript": [
              "window[\"2fa7d68e-7f9d-11eb-8850-0242ac1c0002\"] = google.colab.output.getActiveOutputArea();\n",
              "//# sourceURL=js_e236306af9"
            ],
            "text/plain": [
              "<IPython.core.display.Javascript object>"
            ]
          },
          "metadata": {
            "tags": [
              "id20-0-0",
              "outputarea_id20"
            ]
          }
        },
        {
          "output_type": "display_data",
          "data": {
            "application/javascript": [
              "window[\"2fa8380e-7f9d-11eb-8850-0242ac1c0002\"] = document.querySelector(\"#id20-0-0\");\n",
              "//# sourceURL=js_163323e0be"
            ],
            "text/plain": [
              "<IPython.core.display.Javascript object>"
            ]
          },
          "metadata": {
            "tags": [
              "id20-0-0",
              "outputarea_id20"
            ]
          }
        },
        {
          "output_type": "display_data",
          "data": {
            "application/javascript": [
              "window[\"2fa888fe-7f9d-11eb-8850-0242ac1c0002\"] = google.colab.output.setActiveOutputArea(window[\"2fa8380e-7f9d-11eb-8850-0242ac1c0002\"]);\n",
              "//# sourceURL=js_4afce51773"
            ],
            "text/plain": [
              "<IPython.core.display.Javascript object>"
            ]
          },
          "metadata": {
            "tags": [
              "id20-0-0",
              "outputarea_id20"
            ]
          }
        },
        {
          "output_type": "display_data",
          "data": {
            "application/javascript": [
              "window[\"2fc1fa0a-7f9d-11eb-8850-0242ac1c0002\"] = google.colab.output.setActiveOutputArea(window[\"2fa7d68e-7f9d-11eb-8850-0242ac1c0002\"]);\n",
              "//# sourceURL=js_07e759a7bb"
            ],
            "text/plain": [
              "<IPython.core.display.Javascript object>"
            ]
          },
          "metadata": {
            "tags": [
              "id20-0-0",
              "outputarea_id20"
            ]
          }
        },
        {
          "output_type": "display_data",
          "data": {
            "application/javascript": [
              "window[\"300f8e14-7f9d-11eb-8850-0242ac1c0002\"] = google.colab.output.getActiveOutputArea();\n",
              "//# sourceURL=js_be3697bb28"
            ],
            "text/plain": [
              "<IPython.core.display.Javascript object>"
            ]
          },
          "metadata": {
            "tags": [
              "id20-0-0",
              "outputarea_id20"
            ]
          }
        },
        {
          "output_type": "display_data",
          "data": {
            "application/javascript": [
              "window[\"300fc212-7f9d-11eb-8850-0242ac1c0002\"] = document.querySelector(\"#id20-0-0\");\n",
              "//# sourceURL=js_53772607e3"
            ],
            "text/plain": [
              "<IPython.core.display.Javascript object>"
            ]
          },
          "metadata": {
            "tags": [
              "id20-0-0",
              "outputarea_id20"
            ]
          }
        },
        {
          "output_type": "display_data",
          "data": {
            "application/javascript": [
              "window[\"300ff11a-7f9d-11eb-8850-0242ac1c0002\"] = google.colab.output.setActiveOutputArea(window[\"300fc212-7f9d-11eb-8850-0242ac1c0002\"]);\n",
              "//# sourceURL=js_8d7e670656"
            ],
            "text/plain": [
              "<IPython.core.display.Javascript object>"
            ]
          },
          "metadata": {
            "tags": [
              "id20-0-0",
              "outputarea_id20"
            ]
          }
        },
        {
          "output_type": "display_data",
          "data": {
            "application/javascript": [
              "window[\"3028e5d0-7f9d-11eb-8850-0242ac1c0002\"] = google.colab.output.setActiveOutputArea(window[\"300f8e14-7f9d-11eb-8850-0242ac1c0002\"]);\n",
              "//# sourceURL=js_58681d24af"
            ],
            "text/plain": [
              "<IPython.core.display.Javascript object>"
            ]
          },
          "metadata": {
            "tags": [
              "id20-0-0",
              "outputarea_id20"
            ]
          }
        },
        {
          "output_type": "display_data",
          "data": {
            "application/javascript": [
              "window[\"3077aba2-7f9d-11eb-8850-0242ac1c0002\"] = google.colab.output.getActiveOutputArea();\n",
              "//# sourceURL=js_196a1f428b"
            ],
            "text/plain": [
              "<IPython.core.display.Javascript object>"
            ]
          },
          "metadata": {
            "tags": [
              "id20-0-0",
              "outputarea_id20"
            ]
          }
        },
        {
          "output_type": "display_data",
          "data": {
            "application/javascript": [
              "window[\"307805de-7f9d-11eb-8850-0242ac1c0002\"] = document.querySelector(\"#id20-0-0\");\n",
              "//# sourceURL=js_4d232a94d4"
            ],
            "text/plain": [
              "<IPython.core.display.Javascript object>"
            ]
          },
          "metadata": {
            "tags": [
              "id20-0-0",
              "outputarea_id20"
            ]
          }
        },
        {
          "output_type": "display_data",
          "data": {
            "application/javascript": [
              "window[\"30785138-7f9d-11eb-8850-0242ac1c0002\"] = google.colab.output.setActiveOutputArea(window[\"307805de-7f9d-11eb-8850-0242ac1c0002\"]);\n",
              "//# sourceURL=js_2934e49957"
            ],
            "text/plain": [
              "<IPython.core.display.Javascript object>"
            ]
          },
          "metadata": {
            "tags": [
              "id20-0-0",
              "outputarea_id20"
            ]
          }
        },
        {
          "output_type": "display_data",
          "data": {
            "application/javascript": [
              "window[\"30917992-7f9d-11eb-8850-0242ac1c0002\"] = google.colab.output.setActiveOutputArea(window[\"3077aba2-7f9d-11eb-8850-0242ac1c0002\"]);\n",
              "//# sourceURL=js_4a49ac6f68"
            ],
            "text/plain": [
              "<IPython.core.display.Javascript object>"
            ]
          },
          "metadata": {
            "tags": [
              "id20-0-0",
              "outputarea_id20"
            ]
          }
        },
        {
          "output_type": "display_data",
          "data": {
            "application/javascript": [
              "window[\"30df497e-7f9d-11eb-8850-0242ac1c0002\"] = google.colab.output.getActiveOutputArea();\n",
              "//# sourceURL=js_ea95b50554"
            ],
            "text/plain": [
              "<IPython.core.display.Javascript object>"
            ]
          },
          "metadata": {
            "tags": [
              "id20-0-0",
              "outputarea_id20"
            ]
          }
        },
        {
          "output_type": "display_data",
          "data": {
            "application/javascript": [
              "window[\"30dfa7ac-7f9d-11eb-8850-0242ac1c0002\"] = document.querySelector(\"#id20-0-0\");\n",
              "//# sourceURL=js_2662b11792"
            ],
            "text/plain": [
              "<IPython.core.display.Javascript object>"
            ]
          },
          "metadata": {
            "tags": [
              "id20-0-0",
              "outputarea_id20"
            ]
          }
        },
        {
          "output_type": "display_data",
          "data": {
            "application/javascript": [
              "window[\"30e044c8-7f9d-11eb-8850-0242ac1c0002\"] = google.colab.output.setActiveOutputArea(window[\"30dfa7ac-7f9d-11eb-8850-0242ac1c0002\"]);\n",
              "//# sourceURL=js_72c262fdbd"
            ],
            "text/plain": [
              "<IPython.core.display.Javascript object>"
            ]
          },
          "metadata": {
            "tags": [
              "id20-0-0",
              "outputarea_id20"
            ]
          }
        },
        {
          "output_type": "display_data",
          "data": {
            "application/javascript": [
              "window[\"30f97da8-7f9d-11eb-8850-0242ac1c0002\"] = google.colab.output.setActiveOutputArea(window[\"30df497e-7f9d-11eb-8850-0242ac1c0002\"]);\n",
              "//# sourceURL=js_9c11da6728"
            ],
            "text/plain": [
              "<IPython.core.display.Javascript object>"
            ]
          },
          "metadata": {
            "tags": [
              "id20-0-0",
              "outputarea_id20"
            ]
          }
        },
        {
          "output_type": "display_data",
          "data": {
            "application/javascript": [
              "window[\"31485a0e-7f9d-11eb-8850-0242ac1c0002\"] = google.colab.output.getActiveOutputArea();\n",
              "//# sourceURL=js_c2dee45500"
            ],
            "text/plain": [
              "<IPython.core.display.Javascript object>"
            ]
          },
          "metadata": {
            "tags": [
              "id20-0-0",
              "outputarea_id20"
            ]
          }
        },
        {
          "output_type": "display_data",
          "data": {
            "application/javascript": [
              "window[\"3148a496-7f9d-11eb-8850-0242ac1c0002\"] = document.querySelector(\"#id20-0-0\");\n",
              "//# sourceURL=js_ee391c6a55"
            ],
            "text/plain": [
              "<IPython.core.display.Javascript object>"
            ]
          },
          "metadata": {
            "tags": [
              "id20-0-0",
              "outputarea_id20"
            ]
          }
        },
        {
          "output_type": "display_data",
          "data": {
            "application/javascript": [
              "window[\"3148ee2e-7f9d-11eb-8850-0242ac1c0002\"] = google.colab.output.setActiveOutputArea(window[\"3148a496-7f9d-11eb-8850-0242ac1c0002\"]);\n",
              "//# sourceURL=js_a328da252a"
            ],
            "text/plain": [
              "<IPython.core.display.Javascript object>"
            ]
          },
          "metadata": {
            "tags": [
              "id20-0-0",
              "outputarea_id20"
            ]
          }
        },
        {
          "output_type": "display_data",
          "data": {
            "application/javascript": [
              "window[\"3161dd58-7f9d-11eb-8850-0242ac1c0002\"] = google.colab.output.setActiveOutputArea(window[\"31485a0e-7f9d-11eb-8850-0242ac1c0002\"]);\n",
              "//# sourceURL=js_8c21596d7e"
            ],
            "text/plain": [
              "<IPython.core.display.Javascript object>"
            ]
          },
          "metadata": {
            "tags": [
              "id20-0-0",
              "outputarea_id20"
            ]
          }
        },
        {
          "output_type": "display_data",
          "data": {
            "application/javascript": [
              "window[\"31afb1fe-7f9d-11eb-8850-0242ac1c0002\"] = google.colab.output.getActiveOutputArea();\n",
              "//# sourceURL=js_4d3c3970f6"
            ],
            "text/plain": [
              "<IPython.core.display.Javascript object>"
            ]
          },
          "metadata": {
            "tags": [
              "id20-0-0",
              "outputarea_id20"
            ]
          }
        },
        {
          "output_type": "display_data",
          "data": {
            "application/javascript": [
              "window[\"31b01ff4-7f9d-11eb-8850-0242ac1c0002\"] = document.querySelector(\"#id20-0-0\");\n",
              "//# sourceURL=js_3ededc06de"
            ],
            "text/plain": [
              "<IPython.core.display.Javascript object>"
            ]
          },
          "metadata": {
            "tags": [
              "id20-0-0",
              "outputarea_id20"
            ]
          }
        },
        {
          "output_type": "display_data",
          "data": {
            "application/javascript": [
              "window[\"31b07c24-7f9d-11eb-8850-0242ac1c0002\"] = google.colab.output.setActiveOutputArea(window[\"31b01ff4-7f9d-11eb-8850-0242ac1c0002\"]);\n",
              "//# sourceURL=js_bf31bcd1f2"
            ],
            "text/plain": [
              "<IPython.core.display.Javascript object>"
            ]
          },
          "metadata": {
            "tags": [
              "id20-0-0",
              "outputarea_id20"
            ]
          }
        },
        {
          "output_type": "display_data",
          "data": {
            "application/javascript": [
              "window[\"31d7ea98-7f9d-11eb-8850-0242ac1c0002\"] = google.colab.output.setActiveOutputArea(window[\"31afb1fe-7f9d-11eb-8850-0242ac1c0002\"]);\n",
              "//# sourceURL=js_cb984baa49"
            ],
            "text/plain": [
              "<IPython.core.display.Javascript object>"
            ]
          },
          "metadata": {
            "tags": [
              "id20-0-0",
              "outputarea_id20"
            ]
          }
        },
        {
          "output_type": "display_data",
          "data": {
            "application/javascript": [
              "window[\"32259af4-7f9d-11eb-8850-0242ac1c0002\"] = google.colab.output.getActiveOutputArea();\n",
              "//# sourceURL=js_3a7fcbebf0"
            ],
            "text/plain": [
              "<IPython.core.display.Javascript object>"
            ]
          },
          "metadata": {
            "tags": [
              "id20-0-0",
              "outputarea_id20"
            ]
          }
        },
        {
          "output_type": "display_data",
          "data": {
            "application/javascript": [
              "window[\"3225e77a-7f9d-11eb-8850-0242ac1c0002\"] = document.querySelector(\"#id20-0-0\");\n",
              "//# sourceURL=js_b1f2aefb31"
            ],
            "text/plain": [
              "<IPython.core.display.Javascript object>"
            ]
          },
          "metadata": {
            "tags": [
              "id20-0-0",
              "outputarea_id20"
            ]
          }
        },
        {
          "output_type": "display_data",
          "data": {
            "application/javascript": [
              "window[\"32263284-7f9d-11eb-8850-0242ac1c0002\"] = google.colab.output.setActiveOutputArea(window[\"3225e77a-7f9d-11eb-8850-0242ac1c0002\"]);\n",
              "//# sourceURL=js_ee54895437"
            ],
            "text/plain": [
              "<IPython.core.display.Javascript object>"
            ]
          },
          "metadata": {
            "tags": [
              "id20-0-0",
              "outputarea_id20"
            ]
          }
        },
        {
          "output_type": "display_data",
          "data": {
            "application/javascript": [
              "window[\"323fb93e-7f9d-11eb-8850-0242ac1c0002\"] = google.colab.output.setActiveOutputArea(window[\"32259af4-7f9d-11eb-8850-0242ac1c0002\"]);\n",
              "//# sourceURL=js_3c7bca36dd"
            ],
            "text/plain": [
              "<IPython.core.display.Javascript object>"
            ]
          },
          "metadata": {
            "tags": [
              "id20-0-0",
              "outputarea_id20"
            ]
          }
        },
        {
          "output_type": "display_data",
          "data": {
            "application/javascript": [
              "window[\"328e2fb0-7f9d-11eb-8850-0242ac1c0002\"] = google.colab.output.getActiveOutputArea();\n",
              "//# sourceURL=js_cf1ba2c5ec"
            ],
            "text/plain": [
              "<IPython.core.display.Javascript object>"
            ]
          },
          "metadata": {
            "tags": [
              "id20-0-0",
              "outputarea_id20"
            ]
          }
        },
        {
          "output_type": "display_data",
          "data": {
            "application/javascript": [
              "window[\"328e90ae-7f9d-11eb-8850-0242ac1c0002\"] = document.querySelector(\"#id20-0-0\");\n",
              "//# sourceURL=js_a8e58fd81f"
            ],
            "text/plain": [
              "<IPython.core.display.Javascript object>"
            ]
          },
          "metadata": {
            "tags": [
              "id20-0-0",
              "outputarea_id20"
            ]
          }
        },
        {
          "output_type": "display_data",
          "data": {
            "application/javascript": [
              "window[\"328fad18-7f9d-11eb-8850-0242ac1c0002\"] = google.colab.output.setActiveOutputArea(window[\"328e90ae-7f9d-11eb-8850-0242ac1c0002\"]);\n",
              "//# sourceURL=js_6018c579ed"
            ],
            "text/plain": [
              "<IPython.core.display.Javascript object>"
            ]
          },
          "metadata": {
            "tags": [
              "id20-0-0",
              "outputarea_id20"
            ]
          }
        },
        {
          "output_type": "display_data",
          "data": {
            "application/javascript": [
              "window[\"32a925c2-7f9d-11eb-8850-0242ac1c0002\"] = google.colab.output.setActiveOutputArea(window[\"328e2fb0-7f9d-11eb-8850-0242ac1c0002\"]);\n",
              "//# sourceURL=js_c29a43b392"
            ],
            "text/plain": [
              "<IPython.core.display.Javascript object>"
            ]
          },
          "metadata": {
            "tags": [
              "id20-0-0",
              "outputarea_id20"
            ]
          }
        },
        {
          "output_type": "display_data",
          "data": {
            "application/javascript": [
              "window[\"32f8b39e-7f9d-11eb-8850-0242ac1c0002\"] = google.colab.output.getActiveOutputArea();\n",
              "//# sourceURL=js_7d6fa5f378"
            ],
            "text/plain": [
              "<IPython.core.display.Javascript object>"
            ]
          },
          "metadata": {
            "tags": [
              "id20-0-0",
              "outputarea_id20"
            ]
          }
        },
        {
          "output_type": "display_data",
          "data": {
            "application/javascript": [
              "window[\"32f8ff66-7f9d-11eb-8850-0242ac1c0002\"] = document.querySelector(\"#id20-0-0\");\n",
              "//# sourceURL=js_434df44bf9"
            ],
            "text/plain": [
              "<IPython.core.display.Javascript object>"
            ]
          },
          "metadata": {
            "tags": [
              "id20-0-0",
              "outputarea_id20"
            ]
          }
        },
        {
          "output_type": "display_data",
          "data": {
            "application/javascript": [
              "window[\"32f95d62-7f9d-11eb-8850-0242ac1c0002\"] = google.colab.output.setActiveOutputArea(window[\"32f8ff66-7f9d-11eb-8850-0242ac1c0002\"]);\n",
              "//# sourceURL=js_dfddbf5052"
            ],
            "text/plain": [
              "<IPython.core.display.Javascript object>"
            ]
          },
          "metadata": {
            "tags": [
              "id20-0-0",
              "outputarea_id20"
            ]
          }
        },
        {
          "output_type": "display_data",
          "data": {
            "application/javascript": [
              "window[\"33159fd6-7f9d-11eb-8850-0242ac1c0002\"] = google.colab.output.setActiveOutputArea(window[\"32f8b39e-7f9d-11eb-8850-0242ac1c0002\"]);\n",
              "//# sourceURL=js_13b4efbc85"
            ],
            "text/plain": [
              "<IPython.core.display.Javascript object>"
            ]
          },
          "metadata": {
            "tags": [
              "id20-0-0",
              "outputarea_id20"
            ]
          }
        },
        {
          "output_type": "display_data",
          "data": {
            "application/javascript": [
              "window[\"336539ec-7f9d-11eb-8850-0242ac1c0002\"] = google.colab.output.getActiveOutputArea();\n",
              "//# sourceURL=js_703a8f29e5"
            ],
            "text/plain": [
              "<IPython.core.display.Javascript object>"
            ]
          },
          "metadata": {
            "tags": [
              "id20-0-0",
              "outputarea_id20"
            ]
          }
        },
        {
          "output_type": "display_data",
          "data": {
            "application/javascript": [
              "window[\"33657cfe-7f9d-11eb-8850-0242ac1c0002\"] = document.querySelector(\"#id20-0-0\");\n",
              "//# sourceURL=js_13e2447c9f"
            ],
            "text/plain": [
              "<IPython.core.display.Javascript object>"
            ]
          },
          "metadata": {
            "tags": [
              "id20-0-0",
              "outputarea_id20"
            ]
          }
        },
        {
          "output_type": "display_data",
          "data": {
            "application/javascript": [
              "window[\"3365bf52-7f9d-11eb-8850-0242ac1c0002\"] = google.colab.output.setActiveOutputArea(window[\"33657cfe-7f9d-11eb-8850-0242ac1c0002\"]);\n",
              "//# sourceURL=js_5602a30b98"
            ],
            "text/plain": [
              "<IPython.core.display.Javascript object>"
            ]
          },
          "metadata": {
            "tags": [
              "id20-0-0",
              "outputarea_id20"
            ]
          }
        },
        {
          "output_type": "display_data",
          "data": {
            "application/javascript": [
              "window[\"337f0516-7f9d-11eb-8850-0242ac1c0002\"] = google.colab.output.setActiveOutputArea(window[\"336539ec-7f9d-11eb-8850-0242ac1c0002\"]);\n",
              "//# sourceURL=js_5e07f395cf"
            ],
            "text/plain": [
              "<IPython.core.display.Javascript object>"
            ]
          },
          "metadata": {
            "tags": [
              "id20-0-0",
              "outputarea_id20"
            ]
          }
        },
        {
          "output_type": "display_data",
          "data": {
            "application/javascript": [
              "window[\"33cee036-7f9d-11eb-8850-0242ac1c0002\"] = google.colab.output.getActiveOutputArea();\n",
              "//# sourceURL=js_8fd32f1685"
            ],
            "text/plain": [
              "<IPython.core.display.Javascript object>"
            ]
          },
          "metadata": {
            "tags": [
              "id20-0-0",
              "outputarea_id20"
            ]
          }
        },
        {
          "output_type": "display_data",
          "data": {
            "application/javascript": [
              "window[\"33cf58a4-7f9d-11eb-8850-0242ac1c0002\"] = document.querySelector(\"#id20-0-0\");\n",
              "//# sourceURL=js_16323a0ead"
            ],
            "text/plain": [
              "<IPython.core.display.Javascript object>"
            ]
          },
          "metadata": {
            "tags": [
              "id20-0-0",
              "outputarea_id20"
            ]
          }
        },
        {
          "output_type": "display_data",
          "data": {
            "application/javascript": [
              "window[\"33cfcdb6-7f9d-11eb-8850-0242ac1c0002\"] = google.colab.output.setActiveOutputArea(window[\"33cf58a4-7f9d-11eb-8850-0242ac1c0002\"]);\n",
              "//# sourceURL=js_9d3e461c67"
            ],
            "text/plain": [
              "<IPython.core.display.Javascript object>"
            ]
          },
          "metadata": {
            "tags": [
              "id20-0-0",
              "outputarea_id20"
            ]
          }
        },
        {
          "output_type": "display_data",
          "data": {
            "application/javascript": [
              "window[\"33e9d210-7f9d-11eb-8850-0242ac1c0002\"] = google.colab.output.setActiveOutputArea(window[\"33cee036-7f9d-11eb-8850-0242ac1c0002\"]);\n",
              "//# sourceURL=js_2306229dc9"
            ],
            "text/plain": [
              "<IPython.core.display.Javascript object>"
            ]
          },
          "metadata": {
            "tags": [
              "id20-0-0",
              "outputarea_id20"
            ]
          }
        },
        {
          "output_type": "display_data",
          "data": {
            "application/javascript": [
              "window[\"3438b56a-7f9d-11eb-8850-0242ac1c0002\"] = google.colab.output.getActiveOutputArea();\n",
              "//# sourceURL=js_b8a920cad4"
            ],
            "text/plain": [
              "<IPython.core.display.Javascript object>"
            ]
          },
          "metadata": {
            "tags": [
              "id20-0-0",
              "outputarea_id20"
            ]
          }
        },
        {
          "output_type": "display_data",
          "data": {
            "application/javascript": [
              "window[\"3438fa16-7f9d-11eb-8850-0242ac1c0002\"] = document.querySelector(\"#id20-0-0\");\n",
              "//# sourceURL=js_9a4f467a9c"
            ],
            "text/plain": [
              "<IPython.core.display.Javascript object>"
            ]
          },
          "metadata": {
            "tags": [
              "id20-0-0",
              "outputarea_id20"
            ]
          }
        },
        {
          "output_type": "display_data",
          "data": {
            "application/javascript": [
              "window[\"343939ae-7f9d-11eb-8850-0242ac1c0002\"] = google.colab.output.setActiveOutputArea(window[\"3438fa16-7f9d-11eb-8850-0242ac1c0002\"]);\n",
              "//# sourceURL=js_f6fe08aa48"
            ],
            "text/plain": [
              "<IPython.core.display.Javascript object>"
            ]
          },
          "metadata": {
            "tags": [
              "id20-0-0",
              "outputarea_id20"
            ]
          }
        },
        {
          "output_type": "display_data",
          "data": {
            "application/javascript": [
              "window[\"34568fcc-7f9d-11eb-8850-0242ac1c0002\"] = google.colab.output.setActiveOutputArea(window[\"3438b56a-7f9d-11eb-8850-0242ac1c0002\"]);\n",
              "//# sourceURL=js_df4b5f2cd1"
            ],
            "text/plain": [
              "<IPython.core.display.Javascript object>"
            ]
          },
          "metadata": {
            "tags": [
              "id20-0-0",
              "outputarea_id20"
            ]
          }
        },
        {
          "output_type": "display_data",
          "data": {
            "application/javascript": [
              "window[\"34a6d626-7f9d-11eb-8850-0242ac1c0002\"] = google.colab.output.getActiveOutputArea();\n",
              "//# sourceURL=js_2cca0ae1d0"
            ],
            "text/plain": [
              "<IPython.core.display.Javascript object>"
            ]
          },
          "metadata": {
            "tags": [
              "id20-0-0",
              "outputarea_id20"
            ]
          }
        },
        {
          "output_type": "display_data",
          "data": {
            "application/javascript": [
              "window[\"34a73738-7f9d-11eb-8850-0242ac1c0002\"] = document.querySelector(\"#id20-0-0\");\n",
              "//# sourceURL=js_20c2c4b788"
            ],
            "text/plain": [
              "<IPython.core.display.Javascript object>"
            ]
          },
          "metadata": {
            "tags": [
              "id20-0-0",
              "outputarea_id20"
            ]
          }
        },
        {
          "output_type": "display_data",
          "data": {
            "application/javascript": [
              "window[\"34a78af8-7f9d-11eb-8850-0242ac1c0002\"] = google.colab.output.setActiveOutputArea(window[\"34a73738-7f9d-11eb-8850-0242ac1c0002\"]);\n",
              "//# sourceURL=js_0cd1a82ea5"
            ],
            "text/plain": [
              "<IPython.core.display.Javascript object>"
            ]
          },
          "metadata": {
            "tags": [
              "id20-0-0",
              "outputarea_id20"
            ]
          }
        },
        {
          "output_type": "display_data",
          "data": {
            "application/javascript": [
              "window[\"34c1fc3a-7f9d-11eb-8850-0242ac1c0002\"] = google.colab.output.setActiveOutputArea(window[\"34a6d626-7f9d-11eb-8850-0242ac1c0002\"]);\n",
              "//# sourceURL=js_b24cedfbb9"
            ],
            "text/plain": [
              "<IPython.core.display.Javascript object>"
            ]
          },
          "metadata": {
            "tags": [
              "id20-0-0",
              "outputarea_id20"
            ]
          }
        },
        {
          "output_type": "display_data",
          "data": {
            "application/javascript": [
              "window[\"351011d6-7f9d-11eb-8850-0242ac1c0002\"] = google.colab.output.getActiveOutputArea();\n",
              "//# sourceURL=js_1b6c8c59a3"
            ],
            "text/plain": [
              "<IPython.core.display.Javascript object>"
            ]
          },
          "metadata": {
            "tags": [
              "id20-0-0",
              "outputarea_id20"
            ]
          }
        },
        {
          "output_type": "display_data",
          "data": {
            "application/javascript": [
              "window[\"35105ea2-7f9d-11eb-8850-0242ac1c0002\"] = document.querySelector(\"#id20-0-0\");\n",
              "//# sourceURL=js_5ec9693c15"
            ],
            "text/plain": [
              "<IPython.core.display.Javascript object>"
            ]
          },
          "metadata": {
            "tags": [
              "id20-0-0",
              "outputarea_id20"
            ]
          }
        },
        {
          "output_type": "display_data",
          "data": {
            "application/javascript": [
              "window[\"35112044-7f9d-11eb-8850-0242ac1c0002\"] = google.colab.output.setActiveOutputArea(window[\"35105ea2-7f9d-11eb-8850-0242ac1c0002\"]);\n",
              "//# sourceURL=js_9194dfbb81"
            ],
            "text/plain": [
              "<IPython.core.display.Javascript object>"
            ]
          },
          "metadata": {
            "tags": [
              "id20-0-0",
              "outputarea_id20"
            ]
          }
        },
        {
          "output_type": "display_data",
          "data": {
            "application/javascript": [
              "window[\"352ba810-7f9d-11eb-8850-0242ac1c0002\"] = google.colab.output.setActiveOutputArea(window[\"351011d6-7f9d-11eb-8850-0242ac1c0002\"]);\n",
              "//# sourceURL=js_eac45bc70d"
            ],
            "text/plain": [
              "<IPython.core.display.Javascript object>"
            ]
          },
          "metadata": {
            "tags": [
              "id20-0-0",
              "outputarea_id20"
            ]
          }
        },
        {
          "output_type": "display_data",
          "data": {
            "application/javascript": [
              "window[\"35797fea-7f9d-11eb-8850-0242ac1c0002\"] = google.colab.output.getActiveOutputArea();\n",
              "//# sourceURL=js_dcbaf6bd87"
            ],
            "text/plain": [
              "<IPython.core.display.Javascript object>"
            ]
          },
          "metadata": {
            "tags": [
              "id20-0-0",
              "outputarea_id20"
            ]
          }
        },
        {
          "output_type": "display_data",
          "data": {
            "application/javascript": [
              "window[\"3579e9d0-7f9d-11eb-8850-0242ac1c0002\"] = document.querySelector(\"#id20-0-0\");\n",
              "//# sourceURL=js_47ee723717"
            ],
            "text/plain": [
              "<IPython.core.display.Javascript object>"
            ]
          },
          "metadata": {
            "tags": [
              "id20-0-0",
              "outputarea_id20"
            ]
          }
        },
        {
          "output_type": "display_data",
          "data": {
            "application/javascript": [
              "window[\"357af726-7f9d-11eb-8850-0242ac1c0002\"] = google.colab.output.setActiveOutputArea(window[\"3579e9d0-7f9d-11eb-8850-0242ac1c0002\"]);\n",
              "//# sourceURL=js_2197f19022"
            ],
            "text/plain": [
              "<IPython.core.display.Javascript object>"
            ]
          },
          "metadata": {
            "tags": [
              "id20-0-0",
              "outputarea_id20"
            ]
          }
        },
        {
          "output_type": "display_data",
          "data": {
            "application/javascript": [
              "window[\"3596859a-7f9d-11eb-8850-0242ac1c0002\"] = google.colab.output.setActiveOutputArea(window[\"35797fea-7f9d-11eb-8850-0242ac1c0002\"]);\n",
              "//# sourceURL=js_c012382f9a"
            ],
            "text/plain": [
              "<IPython.core.display.Javascript object>"
            ]
          },
          "metadata": {
            "tags": [
              "id20-0-0",
              "outputarea_id20"
            ]
          }
        },
        {
          "output_type": "display_data",
          "data": {
            "application/javascript": [
              "window[\"35e59b3a-7f9d-11eb-8850-0242ac1c0002\"] = google.colab.output.getActiveOutputArea();\n",
              "//# sourceURL=js_c3f88cd3c5"
            ],
            "text/plain": [
              "<IPython.core.display.Javascript object>"
            ]
          },
          "metadata": {
            "tags": [
              "id20-0-0",
              "outputarea_id20"
            ]
          }
        },
        {
          "output_type": "display_data",
          "data": {
            "application/javascript": [
              "window[\"35e6066a-7f9d-11eb-8850-0242ac1c0002\"] = document.querySelector(\"#id20-0-0\");\n",
              "//# sourceURL=js_91958e617f"
            ],
            "text/plain": [
              "<IPython.core.display.Javascript object>"
            ]
          },
          "metadata": {
            "tags": [
              "id20-0-0",
              "outputarea_id20"
            ]
          }
        },
        {
          "output_type": "display_data",
          "data": {
            "application/javascript": [
              "window[\"35e72716-7f9d-11eb-8850-0242ac1c0002\"] = google.colab.output.setActiveOutputArea(window[\"35e6066a-7f9d-11eb-8850-0242ac1c0002\"]);\n",
              "//# sourceURL=js_9b311f0669"
            ],
            "text/plain": [
              "<IPython.core.display.Javascript object>"
            ]
          },
          "metadata": {
            "tags": [
              "id20-0-0",
              "outputarea_id20"
            ]
          }
        },
        {
          "output_type": "display_data",
          "data": {
            "application/javascript": [
              "window[\"36020bb2-7f9d-11eb-8850-0242ac1c0002\"] = google.colab.output.setActiveOutputArea(window[\"35e59b3a-7f9d-11eb-8850-0242ac1c0002\"]);\n",
              "//# sourceURL=js_9914fb2784"
            ],
            "text/plain": [
              "<IPython.core.display.Javascript object>"
            ]
          },
          "metadata": {
            "tags": [
              "id20-0-0",
              "outputarea_id20"
            ]
          }
        },
        {
          "output_type": "display_data",
          "data": {
            "application/javascript": [
              "window[\"364fc4d8-7f9d-11eb-8850-0242ac1c0002\"] = google.colab.output.getActiveOutputArea();\n",
              "//# sourceURL=js_6d52551b62"
            ],
            "text/plain": [
              "<IPython.core.display.Javascript object>"
            ]
          },
          "metadata": {
            "tags": [
              "id20-0-0",
              "outputarea_id20"
            ]
          }
        },
        {
          "output_type": "display_data",
          "data": {
            "application/javascript": [
              "window[\"364ffeda-7f9d-11eb-8850-0242ac1c0002\"] = document.querySelector(\"#id20-0-0\");\n",
              "//# sourceURL=js_90d680f409"
            ],
            "text/plain": [
              "<IPython.core.display.Javascript object>"
            ]
          },
          "metadata": {
            "tags": [
              "id20-0-0",
              "outputarea_id20"
            ]
          }
        },
        {
          "output_type": "display_data",
          "data": {
            "application/javascript": [
              "window[\"36502e64-7f9d-11eb-8850-0242ac1c0002\"] = google.colab.output.setActiveOutputArea(window[\"364ffeda-7f9d-11eb-8850-0242ac1c0002\"]);\n",
              "//# sourceURL=js_16769c5ea9"
            ],
            "text/plain": [
              "<IPython.core.display.Javascript object>"
            ]
          },
          "metadata": {
            "tags": [
              "id20-0-0",
              "outputarea_id20"
            ]
          }
        },
        {
          "output_type": "display_data",
          "data": {
            "application/javascript": [
              "window[\"36685f84-7f9d-11eb-8850-0242ac1c0002\"] = google.colab.output.setActiveOutputArea(window[\"364fc4d8-7f9d-11eb-8850-0242ac1c0002\"]);\n",
              "//# sourceURL=js_791e8995bd"
            ],
            "text/plain": [
              "<IPython.core.display.Javascript object>"
            ]
          },
          "metadata": {
            "tags": [
              "id20-0-0",
              "outputarea_id20"
            ]
          }
        },
        {
          "output_type": "display_data",
          "data": {
            "application/javascript": [
              "window[\"36b68042-7f9d-11eb-8850-0242ac1c0002\"] = google.colab.output.getActiveOutputArea();\n",
              "//# sourceURL=js_fb3b3b1c16"
            ],
            "text/plain": [
              "<IPython.core.display.Javascript object>"
            ]
          },
          "metadata": {
            "tags": [
              "id20-0-0",
              "outputarea_id20"
            ]
          }
        },
        {
          "output_type": "display_data",
          "data": {
            "application/javascript": [
              "window[\"36b6e910-7f9d-11eb-8850-0242ac1c0002\"] = document.querySelector(\"#id20-0-0\");\n",
              "//# sourceURL=js_fc083897bd"
            ],
            "text/plain": [
              "<IPython.core.display.Javascript object>"
            ]
          },
          "metadata": {
            "tags": [
              "id20-0-0",
              "outputarea_id20"
            ]
          }
        },
        {
          "output_type": "display_data",
          "data": {
            "application/javascript": [
              "window[\"36b81b32-7f9d-11eb-8850-0242ac1c0002\"] = google.colab.output.setActiveOutputArea(window[\"36b6e910-7f9d-11eb-8850-0242ac1c0002\"]);\n",
              "//# sourceURL=js_93f9275110"
            ],
            "text/plain": [
              "<IPython.core.display.Javascript object>"
            ]
          },
          "metadata": {
            "tags": [
              "id20-0-0",
              "outputarea_id20"
            ]
          }
        },
        {
          "output_type": "display_data",
          "data": {
            "application/javascript": [
              "window[\"36d26690-7f9d-11eb-8850-0242ac1c0002\"] = google.colab.output.setActiveOutputArea(window[\"36b68042-7f9d-11eb-8850-0242ac1c0002\"]);\n",
              "//# sourceURL=js_200b8fcf55"
            ],
            "text/plain": [
              "<IPython.core.display.Javascript object>"
            ]
          },
          "metadata": {
            "tags": [
              "id20-0-0",
              "outputarea_id20"
            ]
          }
        },
        {
          "output_type": "display_data",
          "data": {
            "application/javascript": [
              "window[\"37213c2a-7f9d-11eb-8850-0242ac1c0002\"] = google.colab.output.getActiveOutputArea();\n",
              "//# sourceURL=js_ac6e4c36ae"
            ],
            "text/plain": [
              "<IPython.core.display.Javascript object>"
            ]
          },
          "metadata": {
            "tags": [
              "id20-0-0",
              "outputarea_id20"
            ]
          }
        },
        {
          "output_type": "display_data",
          "data": {
            "application/javascript": [
              "window[\"372226e4-7f9d-11eb-8850-0242ac1c0002\"] = document.querySelector(\"#id20-0-0\");\n",
              "//# sourceURL=js_3148e4b8a8"
            ],
            "text/plain": [
              "<IPython.core.display.Javascript object>"
            ]
          },
          "metadata": {
            "tags": [
              "id20-0-0",
              "outputarea_id20"
            ]
          }
        },
        {
          "output_type": "display_data",
          "data": {
            "application/javascript": [
              "window[\"3722e764-7f9d-11eb-8850-0242ac1c0002\"] = google.colab.output.setActiveOutputArea(window[\"372226e4-7f9d-11eb-8850-0242ac1c0002\"]);\n",
              "//# sourceURL=js_8de82eb0b4"
            ],
            "text/plain": [
              "<IPython.core.display.Javascript object>"
            ]
          },
          "metadata": {
            "tags": [
              "id20-0-0",
              "outputarea_id20"
            ]
          }
        },
        {
          "output_type": "display_data",
          "data": {
            "application/javascript": [
              "window[\"373f76fe-7f9d-11eb-8850-0242ac1c0002\"] = google.colab.output.setActiveOutputArea(window[\"37213c2a-7f9d-11eb-8850-0242ac1c0002\"]);\n",
              "//# sourceURL=js_fae9bde29e"
            ],
            "text/plain": [
              "<IPython.core.display.Javascript object>"
            ]
          },
          "metadata": {
            "tags": [
              "id20-0-0",
              "outputarea_id20"
            ]
          }
        },
        {
          "output_type": "display_data",
          "data": {
            "application/javascript": [
              "window[\"378e470c-7f9d-11eb-8850-0242ac1c0002\"] = google.colab.output.getActiveOutputArea();\n",
              "//# sourceURL=js_5fdda1883f"
            ],
            "text/plain": [
              "<IPython.core.display.Javascript object>"
            ]
          },
          "metadata": {
            "tags": [
              "id20-0-0",
              "outputarea_id20"
            ]
          }
        },
        {
          "output_type": "display_data",
          "data": {
            "application/javascript": [
              "window[\"378eaac6-7f9d-11eb-8850-0242ac1c0002\"] = document.querySelector(\"#id20-0-0\");\n",
              "//# sourceURL=js_6ede971f0f"
            ],
            "text/plain": [
              "<IPython.core.display.Javascript object>"
            ]
          },
          "metadata": {
            "tags": [
              "id20-0-0",
              "outputarea_id20"
            ]
          }
        },
        {
          "output_type": "display_data",
          "data": {
            "application/javascript": [
              "window[\"378f01ce-7f9d-11eb-8850-0242ac1c0002\"] = google.colab.output.setActiveOutputArea(window[\"378eaac6-7f9d-11eb-8850-0242ac1c0002\"]);\n",
              "//# sourceURL=js_a3ab26ce46"
            ],
            "text/plain": [
              "<IPython.core.display.Javascript object>"
            ]
          },
          "metadata": {
            "tags": [
              "id20-0-0",
              "outputarea_id20"
            ]
          }
        },
        {
          "output_type": "display_data",
          "data": {
            "application/javascript": [
              "window[\"37a8a6e2-7f9d-11eb-8850-0242ac1c0002\"] = google.colab.output.setActiveOutputArea(window[\"378e470c-7f9d-11eb-8850-0242ac1c0002\"]);\n",
              "//# sourceURL=js_f5f1bd4114"
            ],
            "text/plain": [
              "<IPython.core.display.Javascript object>"
            ]
          },
          "metadata": {
            "tags": [
              "id20-0-0",
              "outputarea_id20"
            ]
          }
        },
        {
          "output_type": "display_data",
          "data": {
            "application/javascript": [
              "window[\"37f65bbc-7f9d-11eb-8850-0242ac1c0002\"] = google.colab.output.getActiveOutputArea();\n",
              "//# sourceURL=js_f35dcfec78"
            ],
            "text/plain": [
              "<IPython.core.display.Javascript object>"
            ]
          },
          "metadata": {
            "tags": [
              "id20-0-0",
              "outputarea_id20"
            ]
          }
        },
        {
          "output_type": "display_data",
          "data": {
            "application/javascript": [
              "window[\"37f6906e-7f9d-11eb-8850-0242ac1c0002\"] = document.querySelector(\"#id20-0-0\");\n",
              "//# sourceURL=js_cbbad47af5"
            ],
            "text/plain": [
              "<IPython.core.display.Javascript object>"
            ]
          },
          "metadata": {
            "tags": [
              "id20-0-0",
              "outputarea_id20"
            ]
          }
        },
        {
          "output_type": "display_data",
          "data": {
            "application/javascript": [
              "window[\"37f6da06-7f9d-11eb-8850-0242ac1c0002\"] = google.colab.output.setActiveOutputArea(window[\"37f6906e-7f9d-11eb-8850-0242ac1c0002\"]);\n",
              "//# sourceURL=js_9a865d3c03"
            ],
            "text/plain": [
              "<IPython.core.display.Javascript object>"
            ]
          },
          "metadata": {
            "tags": [
              "id20-0-0",
              "outputarea_id20"
            ]
          }
        },
        {
          "output_type": "display_data",
          "data": {
            "application/javascript": [
              "window[\"381fd960-7f9d-11eb-8850-0242ac1c0002\"] = google.colab.output.setActiveOutputArea(window[\"37f65bbc-7f9d-11eb-8850-0242ac1c0002\"]);\n",
              "//# sourceURL=js_3b9681c736"
            ],
            "text/plain": [
              "<IPython.core.display.Javascript object>"
            ]
          },
          "metadata": {
            "tags": [
              "id20-0-0",
              "outputarea_id20"
            ]
          }
        },
        {
          "output_type": "display_data",
          "data": {
            "application/javascript": [
              "window[\"386dc7a6-7f9d-11eb-8850-0242ac1c0002\"] = google.colab.output.getActiveOutputArea();\n",
              "//# sourceURL=js_6e06989b6d"
            ],
            "text/plain": [
              "<IPython.core.display.Javascript object>"
            ]
          },
          "metadata": {
            "tags": [
              "id20-0-0",
              "outputarea_id20"
            ]
          }
        },
        {
          "output_type": "display_data",
          "data": {
            "application/javascript": [
              "window[\"386e0eb4-7f9d-11eb-8850-0242ac1c0002\"] = document.querySelector(\"#id20-0-0\");\n",
              "//# sourceURL=js_1f0354560d"
            ],
            "text/plain": [
              "<IPython.core.display.Javascript object>"
            ]
          },
          "metadata": {
            "tags": [
              "id20-0-0",
              "outputarea_id20"
            ]
          }
        },
        {
          "output_type": "display_data",
          "data": {
            "application/javascript": [
              "window[\"386e55cc-7f9d-11eb-8850-0242ac1c0002\"] = google.colab.output.setActiveOutputArea(window[\"386e0eb4-7f9d-11eb-8850-0242ac1c0002\"]);\n",
              "//# sourceURL=js_1dfd0f8cea"
            ],
            "text/plain": [
              "<IPython.core.display.Javascript object>"
            ]
          },
          "metadata": {
            "tags": [
              "id20-0-0",
              "outputarea_id20"
            ]
          }
        },
        {
          "output_type": "display_data",
          "data": {
            "application/javascript": [
              "window[\"388784b6-7f9d-11eb-8850-0242ac1c0002\"] = google.colab.output.setActiveOutputArea(window[\"386dc7a6-7f9d-11eb-8850-0242ac1c0002\"]);\n",
              "//# sourceURL=js_4fe63d31ac"
            ],
            "text/plain": [
              "<IPython.core.display.Javascript object>"
            ]
          },
          "metadata": {
            "tags": [
              "id20-0-0",
              "outputarea_id20"
            ]
          }
        },
        {
          "output_type": "display_data",
          "data": {
            "application/javascript": [
              "window[\"38d557ea-7f9d-11eb-8850-0242ac1c0002\"] = google.colab.output.getActiveOutputArea();\n",
              "//# sourceURL=js_e6fb6f9cb3"
            ],
            "text/plain": [
              "<IPython.core.display.Javascript object>"
            ]
          },
          "metadata": {
            "tags": [
              "id20-0-0",
              "outputarea_id20"
            ]
          }
        },
        {
          "output_type": "display_data",
          "data": {
            "application/javascript": [
              "window[\"38d59b88-7f9d-11eb-8850-0242ac1c0002\"] = document.querySelector(\"#id20-0-0\");\n",
              "//# sourceURL=js_497707d677"
            ],
            "text/plain": [
              "<IPython.core.display.Javascript object>"
            ]
          },
          "metadata": {
            "tags": [
              "id20-0-0",
              "outputarea_id20"
            ]
          }
        },
        {
          "output_type": "display_data",
          "data": {
            "application/javascript": [
              "window[\"38d5fdb2-7f9d-11eb-8850-0242ac1c0002\"] = google.colab.output.setActiveOutputArea(window[\"38d59b88-7f9d-11eb-8850-0242ac1c0002\"]);\n",
              "//# sourceURL=js_84730eeea8"
            ],
            "text/plain": [
              "<IPython.core.display.Javascript object>"
            ]
          },
          "metadata": {
            "tags": [
              "id20-0-0",
              "outputarea_id20"
            ]
          }
        },
        {
          "output_type": "display_data",
          "data": {
            "application/javascript": [
              "window[\"38eff85c-7f9d-11eb-8850-0242ac1c0002\"] = google.colab.output.setActiveOutputArea(window[\"38d557ea-7f9d-11eb-8850-0242ac1c0002\"]);\n",
              "//# sourceURL=js_6aeca19bc9"
            ],
            "text/plain": [
              "<IPython.core.display.Javascript object>"
            ]
          },
          "metadata": {
            "tags": [
              "id20-0-0",
              "outputarea_id20"
            ]
          }
        },
        {
          "output_type": "display_data",
          "data": {
            "application/javascript": [
              "window[\"393f86a6-7f9d-11eb-8850-0242ac1c0002\"] = google.colab.output.getActiveOutputArea();\n",
              "//# sourceURL=js_f52d412207"
            ],
            "text/plain": [
              "<IPython.core.display.Javascript object>"
            ]
          },
          "metadata": {
            "tags": [
              "id20-0-0",
              "outputarea_id20"
            ]
          }
        },
        {
          "output_type": "display_data",
          "data": {
            "application/javascript": [
              "window[\"393feea2-7f9d-11eb-8850-0242ac1c0002\"] = document.querySelector(\"#id20-0-0\");\n",
              "//# sourceURL=js_8583fa0123"
            ],
            "text/plain": [
              "<IPython.core.display.Javascript object>"
            ]
          },
          "metadata": {
            "tags": [
              "id20-0-0",
              "outputarea_id20"
            ]
          }
        },
        {
          "output_type": "display_data",
          "data": {
            "application/javascript": [
              "window[\"3940cce6-7f9d-11eb-8850-0242ac1c0002\"] = google.colab.output.setActiveOutputArea(window[\"393feea2-7f9d-11eb-8850-0242ac1c0002\"]);\n",
              "//# sourceURL=js_1abd53077b"
            ],
            "text/plain": [
              "<IPython.core.display.Javascript object>"
            ]
          },
          "metadata": {
            "tags": [
              "id20-0-0",
              "outputarea_id20"
            ]
          }
        },
        {
          "output_type": "display_data",
          "data": {
            "application/javascript": [
              "window[\"395a4946-7f9d-11eb-8850-0242ac1c0002\"] = google.colab.output.setActiveOutputArea(window[\"393f86a6-7f9d-11eb-8850-0242ac1c0002\"]);\n",
              "//# sourceURL=js_6663cf6944"
            ],
            "text/plain": [
              "<IPython.core.display.Javascript object>"
            ]
          },
          "metadata": {
            "tags": [
              "id20-0-0",
              "outputarea_id20"
            ]
          }
        },
        {
          "output_type": "display_data",
          "data": {
            "application/javascript": [
              "window[\"39a9914a-7f9d-11eb-8850-0242ac1c0002\"] = google.colab.output.getActiveOutputArea();\n",
              "//# sourceURL=js_6690e76094"
            ],
            "text/plain": [
              "<IPython.core.display.Javascript object>"
            ]
          },
          "metadata": {
            "tags": [
              "id20-0-0",
              "outputarea_id20"
            ]
          }
        },
        {
          "output_type": "display_data",
          "data": {
            "application/javascript": [
              "window[\"39a9c9bc-7f9d-11eb-8850-0242ac1c0002\"] = document.querySelector(\"#id20-0-0\");\n",
              "//# sourceURL=js_7c3cced153"
            ],
            "text/plain": [
              "<IPython.core.display.Javascript object>"
            ]
          },
          "metadata": {
            "tags": [
              "id20-0-0",
              "outputarea_id20"
            ]
          }
        },
        {
          "output_type": "display_data",
          "data": {
            "application/javascript": [
              "window[\"39aa0d0a-7f9d-11eb-8850-0242ac1c0002\"] = google.colab.output.setActiveOutputArea(window[\"39a9c9bc-7f9d-11eb-8850-0242ac1c0002\"]);\n",
              "//# sourceURL=js_9da3036e3f"
            ],
            "text/plain": [
              "<IPython.core.display.Javascript object>"
            ]
          },
          "metadata": {
            "tags": [
              "id20-0-0",
              "outputarea_id20"
            ]
          }
        },
        {
          "output_type": "display_data",
          "data": {
            "application/javascript": [
              "window[\"39c2f81a-7f9d-11eb-8850-0242ac1c0002\"] = google.colab.output.setActiveOutputArea(window[\"39a9914a-7f9d-11eb-8850-0242ac1c0002\"]);\n",
              "//# sourceURL=js_e8b1b40cf0"
            ],
            "text/plain": [
              "<IPython.core.display.Javascript object>"
            ]
          },
          "metadata": {
            "tags": [
              "id20-0-0",
              "outputarea_id20"
            ]
          }
        },
        {
          "output_type": "display_data",
          "data": {
            "application/javascript": [
              "window[\"3a1090f2-7f9d-11eb-8850-0242ac1c0002\"] = google.colab.output.getActiveOutputArea();\n",
              "//# sourceURL=js_6ad3ebf028"
            ],
            "text/plain": [
              "<IPython.core.display.Javascript object>"
            ]
          },
          "metadata": {
            "tags": [
              "id20-0-0",
              "outputarea_id20"
            ]
          }
        },
        {
          "output_type": "display_data",
          "data": {
            "application/javascript": [
              "window[\"3a10ca22-7f9d-11eb-8850-0242ac1c0002\"] = document.querySelector(\"#id20-0-0\");\n",
              "//# sourceURL=js_293d1edfe6"
            ],
            "text/plain": [
              "<IPython.core.display.Javascript object>"
            ]
          },
          "metadata": {
            "tags": [
              "id20-0-0",
              "outputarea_id20"
            ]
          }
        },
        {
          "output_type": "display_data",
          "data": {
            "application/javascript": [
              "window[\"3a110faa-7f9d-11eb-8850-0242ac1c0002\"] = google.colab.output.setActiveOutputArea(window[\"3a10ca22-7f9d-11eb-8850-0242ac1c0002\"]);\n",
              "//# sourceURL=js_68158aa877"
            ],
            "text/plain": [
              "<IPython.core.display.Javascript object>"
            ]
          },
          "metadata": {
            "tags": [
              "id20-0-0",
              "outputarea_id20"
            ]
          }
        },
        {
          "output_type": "display_data",
          "data": {
            "application/javascript": [
              "window[\"3a2be2b2-7f9d-11eb-8850-0242ac1c0002\"] = google.colab.output.setActiveOutputArea(window[\"3a1090f2-7f9d-11eb-8850-0242ac1c0002\"]);\n",
              "//# sourceURL=js_970e119c7f"
            ],
            "text/plain": [
              "<IPython.core.display.Javascript object>"
            ]
          },
          "metadata": {
            "tags": [
              "id20-0-0",
              "outputarea_id20"
            ]
          }
        },
        {
          "output_type": "display_data",
          "data": {
            "application/javascript": [
              "window[\"3a79881e-7f9d-11eb-8850-0242ac1c0002\"] = google.colab.output.getActiveOutputArea();\n",
              "//# sourceURL=js_15119c5d09"
            ],
            "text/plain": [
              "<IPython.core.display.Javascript object>"
            ]
          },
          "metadata": {
            "tags": [
              "id20-0-0",
              "outputarea_id20"
            ]
          }
        },
        {
          "output_type": "display_data",
          "data": {
            "application/javascript": [
              "window[\"3a79b8f2-7f9d-11eb-8850-0242ac1c0002\"] = document.querySelector(\"#id20-0-0\");\n",
              "//# sourceURL=js_95fa4ec95d"
            ],
            "text/plain": [
              "<IPython.core.display.Javascript object>"
            ]
          },
          "metadata": {
            "tags": [
              "id20-0-0",
              "outputarea_id20"
            ]
          }
        },
        {
          "output_type": "display_data",
          "data": {
            "application/javascript": [
              "window[\"3a79e58e-7f9d-11eb-8850-0242ac1c0002\"] = google.colab.output.setActiveOutputArea(window[\"3a79b8f2-7f9d-11eb-8850-0242ac1c0002\"]);\n",
              "//# sourceURL=js_6681c73a3d"
            ],
            "text/plain": [
              "<IPython.core.display.Javascript object>"
            ]
          },
          "metadata": {
            "tags": [
              "id20-0-0",
              "outputarea_id20"
            ]
          }
        },
        {
          "output_type": "display_data",
          "data": {
            "application/javascript": [
              "window[\"3a95ef72-7f9d-11eb-8850-0242ac1c0002\"] = google.colab.output.setActiveOutputArea(window[\"3a79881e-7f9d-11eb-8850-0242ac1c0002\"]);\n",
              "//# sourceURL=js_47334f3196"
            ],
            "text/plain": [
              "<IPython.core.display.Javascript object>"
            ]
          },
          "metadata": {
            "tags": [
              "id20-0-0",
              "outputarea_id20"
            ]
          }
        },
        {
          "output_type": "display_data",
          "data": {
            "application/javascript": [
              "window[\"3ae43f1a-7f9d-11eb-8850-0242ac1c0002\"] = google.colab.output.getActiveOutputArea();\n",
              "//# sourceURL=js_abf8a8478d"
            ],
            "text/plain": [
              "<IPython.core.display.Javascript object>"
            ]
          },
          "metadata": {
            "tags": [
              "id20-0-0",
              "outputarea_id20"
            ]
          }
        },
        {
          "output_type": "display_data",
          "data": {
            "application/javascript": [
              "window[\"3ae4a450-7f9d-11eb-8850-0242ac1c0002\"] = document.querySelector(\"#id20-0-0\");\n",
              "//# sourceURL=js_637a9f1c56"
            ],
            "text/plain": [
              "<IPython.core.display.Javascript object>"
            ]
          },
          "metadata": {
            "tags": [
              "id20-0-0",
              "outputarea_id20"
            ]
          }
        },
        {
          "output_type": "display_data",
          "data": {
            "application/javascript": [
              "window[\"3ae6bec0-7f9d-11eb-8850-0242ac1c0002\"] = google.colab.output.setActiveOutputArea(window[\"3ae4a450-7f9d-11eb-8850-0242ac1c0002\"]);\n",
              "//# sourceURL=js_96f45da833"
            ],
            "text/plain": [
              "<IPython.core.display.Javascript object>"
            ]
          },
          "metadata": {
            "tags": [
              "id20-0-0",
              "outputarea_id20"
            ]
          }
        },
        {
          "output_type": "display_data",
          "data": {
            "application/javascript": [
              "window[\"3b00754a-7f9d-11eb-8850-0242ac1c0002\"] = google.colab.output.setActiveOutputArea(window[\"3ae43f1a-7f9d-11eb-8850-0242ac1c0002\"]);\n",
              "//# sourceURL=js_d89708c59f"
            ],
            "text/plain": [
              "<IPython.core.display.Javascript object>"
            ]
          },
          "metadata": {
            "tags": [
              "id20-0-0",
              "outputarea_id20"
            ]
          }
        },
        {
          "output_type": "display_data",
          "data": {
            "application/javascript": [
              "window[\"3b4e2402-7f9d-11eb-8850-0242ac1c0002\"] = google.colab.output.getActiveOutputArea();\n",
              "//# sourceURL=js_51651bed87"
            ],
            "text/plain": [
              "<IPython.core.display.Javascript object>"
            ]
          },
          "metadata": {
            "tags": [
              "id20-0-0",
              "outputarea_id20"
            ]
          }
        },
        {
          "output_type": "display_data",
          "data": {
            "application/javascript": [
              "window[\"3b4e73e4-7f9d-11eb-8850-0242ac1c0002\"] = document.querySelector(\"#id20-0-0\");\n",
              "//# sourceURL=js_9a5e2a2f5f"
            ],
            "text/plain": [
              "<IPython.core.display.Javascript object>"
            ]
          },
          "metadata": {
            "tags": [
              "id20-0-0",
              "outputarea_id20"
            ]
          }
        },
        {
          "output_type": "display_data",
          "data": {
            "application/javascript": [
              "window[\"3b4eea72-7f9d-11eb-8850-0242ac1c0002\"] = google.colab.output.setActiveOutputArea(window[\"3b4e73e4-7f9d-11eb-8850-0242ac1c0002\"]);\n",
              "//# sourceURL=js_3a4596ce5d"
            ],
            "text/plain": [
              "<IPython.core.display.Javascript object>"
            ]
          },
          "metadata": {
            "tags": [
              "id20-0-0",
              "outputarea_id20"
            ]
          }
        },
        {
          "output_type": "display_data",
          "data": {
            "application/javascript": [
              "window[\"3b6a2418-7f9d-11eb-8850-0242ac1c0002\"] = google.colab.output.setActiveOutputArea(window[\"3b4e2402-7f9d-11eb-8850-0242ac1c0002\"]);\n",
              "//# sourceURL=js_13da260bfd"
            ],
            "text/plain": [
              "<IPython.core.display.Javascript object>"
            ]
          },
          "metadata": {
            "tags": [
              "id20-0-0",
              "outputarea_id20"
            ]
          }
        },
        {
          "output_type": "display_data",
          "data": {
            "application/javascript": [
              "window[\"3bb7e9fa-7f9d-11eb-8850-0242ac1c0002\"] = google.colab.output.getActiveOutputArea();\n",
              "//# sourceURL=js_050ce4a9af"
            ],
            "text/plain": [
              "<IPython.core.display.Javascript object>"
            ]
          },
          "metadata": {
            "tags": [
              "id20-0-0",
              "outputarea_id20"
            ]
          }
        },
        {
          "output_type": "display_data",
          "data": {
            "application/javascript": [
              "window[\"3bb89878-7f9d-11eb-8850-0242ac1c0002\"] = document.querySelector(\"#id20-0-0\");\n",
              "//# sourceURL=js_bcdb804afe"
            ],
            "text/plain": [
              "<IPython.core.display.Javascript object>"
            ]
          },
          "metadata": {
            "tags": [
              "id20-0-0",
              "outputarea_id20"
            ]
          }
        },
        {
          "output_type": "display_data",
          "data": {
            "application/javascript": [
              "window[\"3bb8f5ac-7f9d-11eb-8850-0242ac1c0002\"] = google.colab.output.setActiveOutputArea(window[\"3bb89878-7f9d-11eb-8850-0242ac1c0002\"]);\n",
              "//# sourceURL=js_8f3e7e03b2"
            ],
            "text/plain": [
              "<IPython.core.display.Javascript object>"
            ]
          },
          "metadata": {
            "tags": [
              "id20-0-0",
              "outputarea_id20"
            ]
          }
        },
        {
          "output_type": "display_data",
          "data": {
            "application/javascript": [
              "window[\"3bd3b536-7f9d-11eb-8850-0242ac1c0002\"] = google.colab.output.setActiveOutputArea(window[\"3bb7e9fa-7f9d-11eb-8850-0242ac1c0002\"]);\n",
              "//# sourceURL=js_65eaccdbbd"
            ],
            "text/plain": [
              "<IPython.core.display.Javascript object>"
            ]
          },
          "metadata": {
            "tags": [
              "id20-0-0",
              "outputarea_id20"
            ]
          }
        },
        {
          "output_type": "display_data",
          "data": {
            "application/javascript": [
              "window[\"3c21534a-7f9d-11eb-8850-0242ac1c0002\"] = google.colab.output.getActiveOutputArea();\n",
              "//# sourceURL=js_2a47cbca65"
            ],
            "text/plain": [
              "<IPython.core.display.Javascript object>"
            ]
          },
          "metadata": {
            "tags": [
              "id20-0-0",
              "outputarea_id20"
            ]
          }
        },
        {
          "output_type": "display_data",
          "data": {
            "application/javascript": [
              "window[\"3c21a188-7f9d-11eb-8850-0242ac1c0002\"] = document.querySelector(\"#id20-0-0\");\n",
              "//# sourceURL=js_c62f3e16e7"
            ],
            "text/plain": [
              "<IPython.core.display.Javascript object>"
            ]
          },
          "metadata": {
            "tags": [
              "id20-0-0",
              "outputarea_id20"
            ]
          }
        },
        {
          "output_type": "display_data",
          "data": {
            "application/javascript": [
              "window[\"3c21fa34-7f9d-11eb-8850-0242ac1c0002\"] = google.colab.output.setActiveOutputArea(window[\"3c21a188-7f9d-11eb-8850-0242ac1c0002\"]);\n",
              "//# sourceURL=js_7bc389bc89"
            ],
            "text/plain": [
              "<IPython.core.display.Javascript object>"
            ]
          },
          "metadata": {
            "tags": [
              "id20-0-0",
              "outputarea_id20"
            ]
          }
        },
        {
          "output_type": "display_data",
          "data": {
            "application/javascript": [
              "window[\"3c3c8020-7f9d-11eb-8850-0242ac1c0002\"] = google.colab.output.setActiveOutputArea(window[\"3c21534a-7f9d-11eb-8850-0242ac1c0002\"]);\n",
              "//# sourceURL=js_45f607c14e"
            ],
            "text/plain": [
              "<IPython.core.display.Javascript object>"
            ]
          },
          "metadata": {
            "tags": [
              "id20-0-0",
              "outputarea_id20"
            ]
          }
        },
        {
          "output_type": "display_data",
          "data": {
            "application/javascript": [
              "window[\"3c8a1b64-7f9d-11eb-8850-0242ac1c0002\"] = google.colab.output.getActiveOutputArea();\n",
              "//# sourceURL=js_085b23683b"
            ],
            "text/plain": [
              "<IPython.core.display.Javascript object>"
            ]
          },
          "metadata": {
            "tags": [
              "id20-0-0",
              "outputarea_id20"
            ]
          }
        },
        {
          "output_type": "display_data",
          "data": {
            "application/javascript": [
              "window[\"3c8a7334-7f9d-11eb-8850-0242ac1c0002\"] = document.querySelector(\"#id20-0-0\");\n",
              "//# sourceURL=js_3bee436e05"
            ],
            "text/plain": [
              "<IPython.core.display.Javascript object>"
            ]
          },
          "metadata": {
            "tags": [
              "id20-0-0",
              "outputarea_id20"
            ]
          }
        },
        {
          "output_type": "display_data",
          "data": {
            "application/javascript": [
              "window[\"3c8ac208-7f9d-11eb-8850-0242ac1c0002\"] = google.colab.output.setActiveOutputArea(window[\"3c8a7334-7f9d-11eb-8850-0242ac1c0002\"]);\n",
              "//# sourceURL=js_4fbad2beb3"
            ],
            "text/plain": [
              "<IPython.core.display.Javascript object>"
            ]
          },
          "metadata": {
            "tags": [
              "id20-0-0",
              "outputarea_id20"
            ]
          }
        },
        {
          "output_type": "display_data",
          "data": {
            "application/javascript": [
              "window[\"3ca8a78c-7f9d-11eb-8850-0242ac1c0002\"] = google.colab.output.setActiveOutputArea(window[\"3c8a1b64-7f9d-11eb-8850-0242ac1c0002\"]);\n",
              "//# sourceURL=js_08a59d5e4f"
            ],
            "text/plain": [
              "<IPython.core.display.Javascript object>"
            ]
          },
          "metadata": {
            "tags": [
              "id20-0-0",
              "outputarea_id20"
            ]
          }
        },
        {
          "output_type": "display_data",
          "data": {
            "application/javascript": [
              "window[\"3cf6ad38-7f9d-11eb-8850-0242ac1c0002\"] = google.colab.output.getActiveOutputArea();\n",
              "//# sourceURL=js_b501039dca"
            ],
            "text/plain": [
              "<IPython.core.display.Javascript object>"
            ]
          },
          "metadata": {
            "tags": [
              "id20-0-0",
              "outputarea_id20"
            ]
          }
        },
        {
          "output_type": "display_data",
          "data": {
            "application/javascript": [
              "window[\"3cf70bca-7f9d-11eb-8850-0242ac1c0002\"] = document.querySelector(\"#id20-0-0\");\n",
              "//# sourceURL=js_788547db77"
            ],
            "text/plain": [
              "<IPython.core.display.Javascript object>"
            ]
          },
          "metadata": {
            "tags": [
              "id20-0-0",
              "outputarea_id20"
            ]
          }
        },
        {
          "output_type": "display_data",
          "data": {
            "application/javascript": [
              "window[\"3cf75ea4-7f9d-11eb-8850-0242ac1c0002\"] = google.colab.output.setActiveOutputArea(window[\"3cf70bca-7f9d-11eb-8850-0242ac1c0002\"]);\n",
              "//# sourceURL=js_1dd274d0cc"
            ],
            "text/plain": [
              "<IPython.core.display.Javascript object>"
            ]
          },
          "metadata": {
            "tags": [
              "id20-0-0",
              "outputarea_id20"
            ]
          }
        },
        {
          "output_type": "display_data",
          "data": {
            "application/javascript": [
              "window[\"3d1122ee-7f9d-11eb-8850-0242ac1c0002\"] = google.colab.output.setActiveOutputArea(window[\"3cf6ad38-7f9d-11eb-8850-0242ac1c0002\"]);\n",
              "//# sourceURL=js_0f4c2d6790"
            ],
            "text/plain": [
              "<IPython.core.display.Javascript object>"
            ]
          },
          "metadata": {
            "tags": [
              "id20-0-0",
              "outputarea_id20"
            ]
          }
        },
        {
          "output_type": "display_data",
          "data": {
            "application/javascript": [
              "window[\"3d5eca62-7f9d-11eb-8850-0242ac1c0002\"] = google.colab.output.getActiveOutputArea();\n",
              "//# sourceURL=js_be838a85ce"
            ],
            "text/plain": [
              "<IPython.core.display.Javascript object>"
            ]
          },
          "metadata": {
            "tags": [
              "id20-0-0",
              "outputarea_id20"
            ]
          }
        },
        {
          "output_type": "display_data",
          "data": {
            "application/javascript": [
              "window[\"3d5f144a-7f9d-11eb-8850-0242ac1c0002\"] = document.querySelector(\"#id20-0-0\");\n",
              "//# sourceURL=js_a9cee1742d"
            ],
            "text/plain": [
              "<IPython.core.display.Javascript object>"
            ]
          },
          "metadata": {
            "tags": [
              "id20-0-0",
              "outputarea_id20"
            ]
          }
        },
        {
          "output_type": "display_data",
          "data": {
            "application/javascript": [
              "window[\"3d5f88a8-7f9d-11eb-8850-0242ac1c0002\"] = google.colab.output.setActiveOutputArea(window[\"3d5f144a-7f9d-11eb-8850-0242ac1c0002\"]);\n",
              "//# sourceURL=js_139370319f"
            ],
            "text/plain": [
              "<IPython.core.display.Javascript object>"
            ]
          },
          "metadata": {
            "tags": [
              "id20-0-0",
              "outputarea_id20"
            ]
          }
        },
        {
          "output_type": "display_data",
          "data": {
            "application/javascript": [
              "window[\"3d7adc5c-7f9d-11eb-8850-0242ac1c0002\"] = google.colab.output.setActiveOutputArea(window[\"3d5eca62-7f9d-11eb-8850-0242ac1c0002\"]);\n",
              "//# sourceURL=js_f7a27e185f"
            ],
            "text/plain": [
              "<IPython.core.display.Javascript object>"
            ]
          },
          "metadata": {
            "tags": [
              "id20-0-0",
              "outputarea_id20"
            ]
          }
        },
        {
          "output_type": "display_data",
          "data": {
            "application/javascript": [
              "window[\"3dc87a02-7f9d-11eb-8850-0242ac1c0002\"] = google.colab.output.getActiveOutputArea();\n",
              "//# sourceURL=js_d68785d9d9"
            ],
            "text/plain": [
              "<IPython.core.display.Javascript object>"
            ]
          },
          "metadata": {
            "tags": [
              "id20-0-0",
              "outputarea_id20"
            ]
          }
        },
        {
          "output_type": "display_data",
          "data": {
            "application/javascript": [
              "window[\"3dc8d222-7f9d-11eb-8850-0242ac1c0002\"] = document.querySelector(\"#id20-0-0\");\n",
              "//# sourceURL=js_53a763ca4a"
            ],
            "text/plain": [
              "<IPython.core.display.Javascript object>"
            ]
          },
          "metadata": {
            "tags": [
              "id20-0-0",
              "outputarea_id20"
            ]
          }
        },
        {
          "output_type": "display_data",
          "data": {
            "application/javascript": [
              "window[\"3dc913b8-7f9d-11eb-8850-0242ac1c0002\"] = google.colab.output.setActiveOutputArea(window[\"3dc8d222-7f9d-11eb-8850-0242ac1c0002\"]);\n",
              "//# sourceURL=js_06ea89e1f7"
            ],
            "text/plain": [
              "<IPython.core.display.Javascript object>"
            ]
          },
          "metadata": {
            "tags": [
              "id20-0-0",
              "outputarea_id20"
            ]
          }
        },
        {
          "output_type": "display_data",
          "data": {
            "application/javascript": [
              "window[\"3de60338-7f9d-11eb-8850-0242ac1c0002\"] = google.colab.output.setActiveOutputArea(window[\"3dc87a02-7f9d-11eb-8850-0242ac1c0002\"]);\n",
              "//# sourceURL=js_0207143fb8"
            ],
            "text/plain": [
              "<IPython.core.display.Javascript object>"
            ]
          },
          "metadata": {
            "tags": [
              "id20-0-0",
              "outputarea_id20"
            ]
          }
        },
        {
          "output_type": "display_data",
          "data": {
            "application/javascript": [
              "window[\"3e34713a-7f9d-11eb-8850-0242ac1c0002\"] = google.colab.output.getActiveOutputArea();\n",
              "//# sourceURL=js_3dd9ae9c75"
            ],
            "text/plain": [
              "<IPython.core.display.Javascript object>"
            ]
          },
          "metadata": {
            "tags": [
              "id20-0-0",
              "outputarea_id20"
            ]
          }
        },
        {
          "output_type": "display_data",
          "data": {
            "application/javascript": [
              "window[\"3e3506f4-7f9d-11eb-8850-0242ac1c0002\"] = document.querySelector(\"#id20-0-0\");\n",
              "//# sourceURL=js_bc6730e3aa"
            ],
            "text/plain": [
              "<IPython.core.display.Javascript object>"
            ]
          },
          "metadata": {
            "tags": [
              "id20-0-0",
              "outputarea_id20"
            ]
          }
        },
        {
          "output_type": "display_data",
          "data": {
            "application/javascript": [
              "window[\"3e357a4e-7f9d-11eb-8850-0242ac1c0002\"] = google.colab.output.setActiveOutputArea(window[\"3e3506f4-7f9d-11eb-8850-0242ac1c0002\"]);\n",
              "//# sourceURL=js_4f696e4405"
            ],
            "text/plain": [
              "<IPython.core.display.Javascript object>"
            ]
          },
          "metadata": {
            "tags": [
              "id20-0-0",
              "outputarea_id20"
            ]
          }
        },
        {
          "output_type": "display_data",
          "data": {
            "application/javascript": [
              "window[\"3e5eec80-7f9d-11eb-8850-0242ac1c0002\"] = google.colab.output.setActiveOutputArea(window[\"3e34713a-7f9d-11eb-8850-0242ac1c0002\"]);\n",
              "//# sourceURL=js_e8a60b38a6"
            ],
            "text/plain": [
              "<IPython.core.display.Javascript object>"
            ]
          },
          "metadata": {
            "tags": [
              "id20-0-0",
              "outputarea_id20"
            ]
          }
        },
        {
          "output_type": "display_data",
          "data": {
            "application/javascript": [
              "window[\"3eb01e7a-7f9d-11eb-8850-0242ac1c0002\"] = google.colab.output.getActiveOutputArea();\n",
              "//# sourceURL=js_9bcbdfe63c"
            ],
            "text/plain": [
              "<IPython.core.display.Javascript object>"
            ]
          },
          "metadata": {
            "tags": [
              "id20-0-0",
              "outputarea_id20"
            ]
          }
        },
        {
          "output_type": "display_data",
          "data": {
            "application/javascript": [
              "window[\"3eb0665a-7f9d-11eb-8850-0242ac1c0002\"] = document.querySelector(\"#id20-0-0\");\n",
              "//# sourceURL=js_f637f55cf2"
            ],
            "text/plain": [
              "<IPython.core.display.Javascript object>"
            ]
          },
          "metadata": {
            "tags": [
              "id20-0-0",
              "outputarea_id20"
            ]
          }
        },
        {
          "output_type": "display_data",
          "data": {
            "application/javascript": [
              "window[\"3eb0f764-7f9d-11eb-8850-0242ac1c0002\"] = google.colab.output.setActiveOutputArea(window[\"3eb0665a-7f9d-11eb-8850-0242ac1c0002\"]);\n",
              "//# sourceURL=js_1aea3e81aa"
            ],
            "text/plain": [
              "<IPython.core.display.Javascript object>"
            ]
          },
          "metadata": {
            "tags": [
              "id20-0-0",
              "outputarea_id20"
            ]
          }
        },
        {
          "output_type": "display_data",
          "data": {
            "application/javascript": [
              "window[\"3ecc6b52-7f9d-11eb-8850-0242ac1c0002\"] = google.colab.output.setActiveOutputArea(window[\"3eb01e7a-7f9d-11eb-8850-0242ac1c0002\"]);\n",
              "//# sourceURL=js_0349a1a841"
            ],
            "text/plain": [
              "<IPython.core.display.Javascript object>"
            ]
          },
          "metadata": {
            "tags": [
              "id20-0-0",
              "outputarea_id20"
            ]
          }
        },
        {
          "output_type": "display_data",
          "data": {
            "application/javascript": [
              "window[\"3f1b6086-7f9d-11eb-8850-0242ac1c0002\"] = google.colab.output.getActiveOutputArea();\n",
              "//# sourceURL=js_8922171c7e"
            ],
            "text/plain": [
              "<IPython.core.display.Javascript object>"
            ]
          },
          "metadata": {
            "tags": [
              "id20-0-0",
              "outputarea_id20"
            ]
          }
        },
        {
          "output_type": "display_data",
          "data": {
            "application/javascript": [
              "window[\"3f1bd552-7f9d-11eb-8850-0242ac1c0002\"] = document.querySelector(\"#id20-0-0\");\n",
              "//# sourceURL=js_b6d6c0f67e"
            ],
            "text/plain": [
              "<IPython.core.display.Javascript object>"
            ]
          },
          "metadata": {
            "tags": [
              "id20-0-0",
              "outputarea_id20"
            ]
          }
        },
        {
          "output_type": "display_data",
          "data": {
            "application/javascript": [
              "window[\"3f1cb51c-7f9d-11eb-8850-0242ac1c0002\"] = google.colab.output.setActiveOutputArea(window[\"3f1bd552-7f9d-11eb-8850-0242ac1c0002\"]);\n",
              "//# sourceURL=js_30d23912d9"
            ],
            "text/plain": [
              "<IPython.core.display.Javascript object>"
            ]
          },
          "metadata": {
            "tags": [
              "id20-0-0",
              "outputarea_id20"
            ]
          }
        },
        {
          "output_type": "display_data",
          "data": {
            "application/javascript": [
              "window[\"3f384818-7f9d-11eb-8850-0242ac1c0002\"] = google.colab.output.setActiveOutputArea(window[\"3f1b6086-7f9d-11eb-8850-0242ac1c0002\"]);\n",
              "//# sourceURL=js_ddb0227855"
            ],
            "text/plain": [
              "<IPython.core.display.Javascript object>"
            ]
          },
          "metadata": {
            "tags": [
              "id20-0-0",
              "outputarea_id20"
            ]
          }
        },
        {
          "output_type": "display_data",
          "data": {
            "application/javascript": [
              "window[\"3f85f7d4-7f9d-11eb-8850-0242ac1c0002\"] = google.colab.output.getActiveOutputArea();\n",
              "//# sourceURL=js_bf3eef894a"
            ],
            "text/plain": [
              "<IPython.core.display.Javascript object>"
            ]
          },
          "metadata": {
            "tags": [
              "id20-0-0",
              "outputarea_id20"
            ]
          }
        },
        {
          "output_type": "display_data",
          "data": {
            "application/javascript": [
              "window[\"3f8636ea-7f9d-11eb-8850-0242ac1c0002\"] = document.querySelector(\"#id20-0-0\");\n",
              "//# sourceURL=js_c45c61bd9f"
            ],
            "text/plain": [
              "<IPython.core.display.Javascript object>"
            ]
          },
          "metadata": {
            "tags": [
              "id20-0-0",
              "outputarea_id20"
            ]
          }
        },
        {
          "output_type": "display_data",
          "data": {
            "application/javascript": [
              "window[\"3f867600-7f9d-11eb-8850-0242ac1c0002\"] = google.colab.output.setActiveOutputArea(window[\"3f8636ea-7f9d-11eb-8850-0242ac1c0002\"]);\n",
              "//# sourceURL=js_3dad6cb6f4"
            ],
            "text/plain": [
              "<IPython.core.display.Javascript object>"
            ]
          },
          "metadata": {
            "tags": [
              "id20-0-0",
              "outputarea_id20"
            ]
          }
        },
        {
          "output_type": "display_data",
          "data": {
            "application/javascript": [
              "window[\"3fa1df26-7f9d-11eb-8850-0242ac1c0002\"] = google.colab.output.setActiveOutputArea(window[\"3f85f7d4-7f9d-11eb-8850-0242ac1c0002\"]);\n",
              "//# sourceURL=js_16acc7ca15"
            ],
            "text/plain": [
              "<IPython.core.display.Javascript object>"
            ]
          },
          "metadata": {
            "tags": [
              "id20-0-0",
              "outputarea_id20"
            ]
          }
        },
        {
          "output_type": "display_data",
          "data": {
            "application/javascript": [
              "window[\"3fef85d2-7f9d-11eb-8850-0242ac1c0002\"] = google.colab.output.getActiveOutputArea();\n",
              "//# sourceURL=js_603ea1e598"
            ],
            "text/plain": [
              "<IPython.core.display.Javascript object>"
            ]
          },
          "metadata": {
            "tags": [
              "id20-0-0",
              "outputarea_id20"
            ]
          }
        },
        {
          "output_type": "display_data",
          "data": {
            "application/javascript": [
              "window[\"3fefce02-7f9d-11eb-8850-0242ac1c0002\"] = document.querySelector(\"#id20-0-0\");\n",
              "//# sourceURL=js_4e8e18defe"
            ],
            "text/plain": [
              "<IPython.core.display.Javascript object>"
            ]
          },
          "metadata": {
            "tags": [
              "id20-0-0",
              "outputarea_id20"
            ]
          }
        },
        {
          "output_type": "display_data",
          "data": {
            "application/javascript": [
              "window[\"3ff00fca-7f9d-11eb-8850-0242ac1c0002\"] = google.colab.output.setActiveOutputArea(window[\"3fefce02-7f9d-11eb-8850-0242ac1c0002\"]);\n",
              "//# sourceURL=js_710796a565"
            ],
            "text/plain": [
              "<IPython.core.display.Javascript object>"
            ]
          },
          "metadata": {
            "tags": [
              "id20-0-0",
              "outputarea_id20"
            ]
          }
        },
        {
          "output_type": "display_data",
          "data": {
            "application/javascript": [
              "window[\"400c0bb2-7f9d-11eb-8850-0242ac1c0002\"] = google.colab.output.setActiveOutputArea(window[\"3fef85d2-7f9d-11eb-8850-0242ac1c0002\"]);\n",
              "//# sourceURL=js_4f3d5c5edb"
            ],
            "text/plain": [
              "<IPython.core.display.Javascript object>"
            ]
          },
          "metadata": {
            "tags": [
              "id20-0-0",
              "outputarea_id20"
            ]
          }
        },
        {
          "output_type": "display_data",
          "data": {
            "application/javascript": [
              "window[\"405c52f2-7f9d-11eb-8850-0242ac1c0002\"] = google.colab.output.getActiveOutputArea();\n",
              "//# sourceURL=js_2c05a5ab75"
            ],
            "text/plain": [
              "<IPython.core.display.Javascript object>"
            ]
          },
          "metadata": {
            "tags": [
              "id20-0-0",
              "outputarea_id20"
            ]
          }
        },
        {
          "output_type": "display_data",
          "data": {
            "application/javascript": [
              "window[\"405c9906-7f9d-11eb-8850-0242ac1c0002\"] = document.querySelector(\"#id20-0-0\");\n",
              "//# sourceURL=js_1150a9a0ba"
            ],
            "text/plain": [
              "<IPython.core.display.Javascript object>"
            ]
          },
          "metadata": {
            "tags": [
              "id20-0-0",
              "outputarea_id20"
            ]
          }
        },
        {
          "output_type": "display_data",
          "data": {
            "application/javascript": [
              "window[\"405cfb30-7f9d-11eb-8850-0242ac1c0002\"] = google.colab.output.setActiveOutputArea(window[\"405c9906-7f9d-11eb-8850-0242ac1c0002\"]);\n",
              "//# sourceURL=js_1c94d8f2f8"
            ],
            "text/plain": [
              "<IPython.core.display.Javascript object>"
            ]
          },
          "metadata": {
            "tags": [
              "id20-0-0",
              "outputarea_id20"
            ]
          }
        },
        {
          "output_type": "display_data",
          "data": {
            "application/javascript": [
              "window[\"407976ac-7f9d-11eb-8850-0242ac1c0002\"] = google.colab.output.setActiveOutputArea(window[\"405c52f2-7f9d-11eb-8850-0242ac1c0002\"]);\n",
              "//# sourceURL=js_09211df5be"
            ],
            "text/plain": [
              "<IPython.core.display.Javascript object>"
            ]
          },
          "metadata": {
            "tags": [
              "id20-0-0",
              "outputarea_id20"
            ]
          }
        },
        {
          "output_type": "display_data",
          "data": {
            "application/javascript": [
              "window[\"40c748f0-7f9d-11eb-8850-0242ac1c0002\"] = google.colab.output.getActiveOutputArea();\n",
              "//# sourceURL=js_0317c2b916"
            ],
            "text/plain": [
              "<IPython.core.display.Javascript object>"
            ]
          },
          "metadata": {
            "tags": [
              "id20-0-0",
              "outputarea_id20"
            ]
          }
        },
        {
          "output_type": "display_data",
          "data": {
            "application/javascript": [
              "window[\"40c797b0-7f9d-11eb-8850-0242ac1c0002\"] = document.querySelector(\"#id20-0-0\");\n",
              "//# sourceURL=js_13f98ab674"
            ],
            "text/plain": [
              "<IPython.core.display.Javascript object>"
            ]
          },
          "metadata": {
            "tags": [
              "id20-0-0",
              "outputarea_id20"
            ]
          }
        },
        {
          "output_type": "display_data",
          "data": {
            "application/javascript": [
              "window[\"40c7ec6a-7f9d-11eb-8850-0242ac1c0002\"] = google.colab.output.setActiveOutputArea(window[\"40c797b0-7f9d-11eb-8850-0242ac1c0002\"]);\n",
              "//# sourceURL=js_5974005dfc"
            ],
            "text/plain": [
              "<IPython.core.display.Javascript object>"
            ]
          },
          "metadata": {
            "tags": [
              "id20-0-0",
              "outputarea_id20"
            ]
          }
        },
        {
          "output_type": "display_data",
          "data": {
            "application/javascript": [
              "window[\"40e485be-7f9d-11eb-8850-0242ac1c0002\"] = google.colab.output.setActiveOutputArea(window[\"40c748f0-7f9d-11eb-8850-0242ac1c0002\"]);\n",
              "//# sourceURL=js_03710b2be9"
            ],
            "text/plain": [
              "<IPython.core.display.Javascript object>"
            ]
          },
          "metadata": {
            "tags": [
              "id20-0-0",
              "outputarea_id20"
            ]
          }
        },
        {
          "output_type": "display_data",
          "data": {
            "application/javascript": [
              "window[\"41322bc0-7f9d-11eb-8850-0242ac1c0002\"] = google.colab.output.getActiveOutputArea();\n",
              "//# sourceURL=js_25cd18bff7"
            ],
            "text/plain": [
              "<IPython.core.display.Javascript object>"
            ]
          },
          "metadata": {
            "tags": [
              "id20-0-0",
              "outputarea_id20"
            ]
          }
        },
        {
          "output_type": "display_data",
          "data": {
            "application/javascript": [
              "window[\"41327044-7f9d-11eb-8850-0242ac1c0002\"] = document.querySelector(\"#id20-0-0\");\n",
              "//# sourceURL=js_65f2c7a9b8"
            ],
            "text/plain": [
              "<IPython.core.display.Javascript object>"
            ]
          },
          "metadata": {
            "tags": [
              "id20-0-0",
              "outputarea_id20"
            ]
          }
        },
        {
          "output_type": "display_data",
          "data": {
            "application/javascript": [
              "window[\"4132bffe-7f9d-11eb-8850-0242ac1c0002\"] = google.colab.output.setActiveOutputArea(window[\"41327044-7f9d-11eb-8850-0242ac1c0002\"]);\n",
              "//# sourceURL=js_6a661d81bb"
            ],
            "text/plain": [
              "<IPython.core.display.Javascript object>"
            ]
          },
          "metadata": {
            "tags": [
              "id20-0-0",
              "outputarea_id20"
            ]
          }
        },
        {
          "output_type": "display_data",
          "data": {
            "application/javascript": [
              "window[\"414db0f2-7f9d-11eb-8850-0242ac1c0002\"] = google.colab.output.setActiveOutputArea(window[\"41322bc0-7f9d-11eb-8850-0242ac1c0002\"]);\n",
              "//# sourceURL=js_3deac63453"
            ],
            "text/plain": [
              "<IPython.core.display.Javascript object>"
            ]
          },
          "metadata": {
            "tags": [
              "id20-0-0",
              "outputarea_id20"
            ]
          }
        },
        {
          "output_type": "display_data",
          "data": {
            "application/javascript": [
              "window[\"419c8970-7f9d-11eb-8850-0242ac1c0002\"] = google.colab.output.getActiveOutputArea();\n",
              "//# sourceURL=js_92efa490d5"
            ],
            "text/plain": [
              "<IPython.core.display.Javascript object>"
            ]
          },
          "metadata": {
            "tags": [
              "id20-0-0",
              "outputarea_id20"
            ]
          }
        },
        {
          "output_type": "display_data",
          "data": {
            "application/javascript": [
              "window[\"419cdb32-7f9d-11eb-8850-0242ac1c0002\"] = document.querySelector(\"#id20-0-0\");\n",
              "//# sourceURL=js_fcf3bb5d2d"
            ],
            "text/plain": [
              "<IPython.core.display.Javascript object>"
            ]
          },
          "metadata": {
            "tags": [
              "id20-0-0",
              "outputarea_id20"
            ]
          }
        },
        {
          "output_type": "display_data",
          "data": {
            "application/javascript": [
              "window[\"419e5070-7f9d-11eb-8850-0242ac1c0002\"] = google.colab.output.setActiveOutputArea(window[\"419cdb32-7f9d-11eb-8850-0242ac1c0002\"]);\n",
              "//# sourceURL=js_c59f76d18d"
            ],
            "text/plain": [
              "<IPython.core.display.Javascript object>"
            ]
          },
          "metadata": {
            "tags": [
              "id20-0-0",
              "outputarea_id20"
            ]
          }
        },
        {
          "output_type": "display_data",
          "data": {
            "application/javascript": [
              "window[\"41b84930-7f9d-11eb-8850-0242ac1c0002\"] = google.colab.output.setActiveOutputArea(window[\"419c8970-7f9d-11eb-8850-0242ac1c0002\"]);\n",
              "//# sourceURL=js_80a52a8dbd"
            ],
            "text/plain": [
              "<IPython.core.display.Javascript object>"
            ]
          },
          "metadata": {
            "tags": [
              "id20-0-0",
              "outputarea_id20"
            ]
          }
        },
        {
          "output_type": "display_data",
          "data": {
            "application/javascript": [
              "window[\"420629ca-7f9d-11eb-8850-0242ac1c0002\"] = google.colab.output.getActiveOutputArea();\n",
              "//# sourceURL=js_f71500f807"
            ],
            "text/plain": [
              "<IPython.core.display.Javascript object>"
            ]
          },
          "metadata": {
            "tags": [
              "id20-0-0",
              "outputarea_id20"
            ]
          }
        },
        {
          "output_type": "display_data",
          "data": {
            "application/javascript": [
              "window[\"42066de0-7f9d-11eb-8850-0242ac1c0002\"] = document.querySelector(\"#id20-0-0\");\n",
              "//# sourceURL=js_14db44a9d8"
            ],
            "text/plain": [
              "<IPython.core.display.Javascript object>"
            ]
          },
          "metadata": {
            "tags": [
              "id20-0-0",
              "outputarea_id20"
            ]
          }
        },
        {
          "output_type": "display_data",
          "data": {
            "application/javascript": [
              "window[\"4206aefe-7f9d-11eb-8850-0242ac1c0002\"] = google.colab.output.setActiveOutputArea(window[\"42066de0-7f9d-11eb-8850-0242ac1c0002\"]);\n",
              "//# sourceURL=js_83b25d8f25"
            ],
            "text/plain": [
              "<IPython.core.display.Javascript object>"
            ]
          },
          "metadata": {
            "tags": [
              "id20-0-0",
              "outputarea_id20"
            ]
          }
        },
        {
          "output_type": "display_data",
          "data": {
            "application/javascript": [
              "window[\"422382d6-7f9d-11eb-8850-0242ac1c0002\"] = google.colab.output.setActiveOutputArea(window[\"420629ca-7f9d-11eb-8850-0242ac1c0002\"]);\n",
              "//# sourceURL=js_d6cd82aca2"
            ],
            "text/plain": [
              "<IPython.core.display.Javascript object>"
            ]
          },
          "metadata": {
            "tags": [
              "id20-0-0",
              "outputarea_id20"
            ]
          }
        },
        {
          "output_type": "display_data",
          "data": {
            "application/javascript": [
              "window[\"42713eae-7f9d-11eb-8850-0242ac1c0002\"] = google.colab.output.getActiveOutputArea();\n",
              "//# sourceURL=js_a806b09863"
            ],
            "text/plain": [
              "<IPython.core.display.Javascript object>"
            ]
          },
          "metadata": {
            "tags": [
              "id20-0-0",
              "outputarea_id20"
            ]
          }
        },
        {
          "output_type": "display_data",
          "data": {
            "application/javascript": [
              "window[\"42718aee-7f9d-11eb-8850-0242ac1c0002\"] = document.querySelector(\"#id20-0-0\");\n",
              "//# sourceURL=js_d5c8be1ecc"
            ],
            "text/plain": [
              "<IPython.core.display.Javascript object>"
            ]
          },
          "metadata": {
            "tags": [
              "id20-0-0",
              "outputarea_id20"
            ]
          }
        },
        {
          "output_type": "display_data",
          "data": {
            "application/javascript": [
              "window[\"42720672-7f9d-11eb-8850-0242ac1c0002\"] = google.colab.output.setActiveOutputArea(window[\"42718aee-7f9d-11eb-8850-0242ac1c0002\"]);\n",
              "//# sourceURL=js_804fd3a4eb"
            ],
            "text/plain": [
              "<IPython.core.display.Javascript object>"
            ]
          },
          "metadata": {
            "tags": [
              "id20-0-0",
              "outputarea_id20"
            ]
          }
        },
        {
          "output_type": "display_data",
          "data": {
            "application/javascript": [
              "window[\"428c9410-7f9d-11eb-8850-0242ac1c0002\"] = google.colab.output.setActiveOutputArea(window[\"42713eae-7f9d-11eb-8850-0242ac1c0002\"]);\n",
              "//# sourceURL=js_2875d9756d"
            ],
            "text/plain": [
              "<IPython.core.display.Javascript object>"
            ]
          },
          "metadata": {
            "tags": [
              "id20-0-0",
              "outputarea_id20"
            ]
          }
        },
        {
          "output_type": "display_data",
          "data": {
            "application/javascript": [
              "window[\"42da261c-7f9d-11eb-8850-0242ac1c0002\"] = google.colab.output.getActiveOutputArea();\n",
              "//# sourceURL=js_c991ff045a"
            ],
            "text/plain": [
              "<IPython.core.display.Javascript object>"
            ]
          },
          "metadata": {
            "tags": [
              "id20-0-0",
              "outputarea_id20"
            ]
          }
        },
        {
          "output_type": "display_data",
          "data": {
            "application/javascript": [
              "window[\"42da6794-7f9d-11eb-8850-0242ac1c0002\"] = document.querySelector(\"#id20-0-0\");\n",
              "//# sourceURL=js_92cdc7d7cb"
            ],
            "text/plain": [
              "<IPython.core.display.Javascript object>"
            ]
          },
          "metadata": {
            "tags": [
              "id20-0-0",
              "outputarea_id20"
            ]
          }
        },
        {
          "output_type": "display_data",
          "data": {
            "application/javascript": [
              "window[\"42dac220-7f9d-11eb-8850-0242ac1c0002\"] = google.colab.output.setActiveOutputArea(window[\"42da6794-7f9d-11eb-8850-0242ac1c0002\"]);\n",
              "//# sourceURL=js_2e767c4f59"
            ],
            "text/plain": [
              "<IPython.core.display.Javascript object>"
            ]
          },
          "metadata": {
            "tags": [
              "id20-0-0",
              "outputarea_id20"
            ]
          }
        },
        {
          "output_type": "display_data",
          "data": {
            "application/javascript": [
              "window[\"42f68c62-7f9d-11eb-8850-0242ac1c0002\"] = google.colab.output.setActiveOutputArea(window[\"42da261c-7f9d-11eb-8850-0242ac1c0002\"]);\n",
              "//# sourceURL=js_b4ec5f746a"
            ],
            "text/plain": [
              "<IPython.core.display.Javascript object>"
            ]
          },
          "metadata": {
            "tags": [
              "id20-0-0",
              "outputarea_id20"
            ]
          }
        },
        {
          "output_type": "display_data",
          "data": {
            "application/javascript": [
              "window[\"4344387c-7f9d-11eb-8850-0242ac1c0002\"] = google.colab.output.getActiveOutputArea();\n",
              "//# sourceURL=js_799e86cb71"
            ],
            "text/plain": [
              "<IPython.core.display.Javascript object>"
            ]
          },
          "metadata": {
            "tags": [
              "id20-0-0",
              "outputarea_id20"
            ]
          }
        },
        {
          "output_type": "display_data",
          "data": {
            "application/javascript": [
              "window[\"4344a58c-7f9d-11eb-8850-0242ac1c0002\"] = document.querySelector(\"#id20-0-0\");\n",
              "//# sourceURL=js_a119564424"
            ],
            "text/plain": [
              "<IPython.core.display.Javascript object>"
            ]
          },
          "metadata": {
            "tags": [
              "id20-0-0",
              "outputarea_id20"
            ]
          }
        },
        {
          "output_type": "display_data",
          "data": {
            "application/javascript": [
              "window[\"4344e48e-7f9d-11eb-8850-0242ac1c0002\"] = google.colab.output.setActiveOutputArea(window[\"4344a58c-7f9d-11eb-8850-0242ac1c0002\"]);\n",
              "//# sourceURL=js_0a3a46d0fb"
            ],
            "text/plain": [
              "<IPython.core.display.Javascript object>"
            ]
          },
          "metadata": {
            "tags": [
              "id20-0-0",
              "outputarea_id20"
            ]
          }
        },
        {
          "output_type": "display_data",
          "data": {
            "application/javascript": [
              "window[\"435fd618-7f9d-11eb-8850-0242ac1c0002\"] = google.colab.output.setActiveOutputArea(window[\"4344387c-7f9d-11eb-8850-0242ac1c0002\"]);\n",
              "//# sourceURL=js_0246b68db7"
            ],
            "text/plain": [
              "<IPython.core.display.Javascript object>"
            ]
          },
          "metadata": {
            "tags": [
              "id20-0-0",
              "outputarea_id20"
            ]
          }
        },
        {
          "output_type": "display_data",
          "data": {
            "application/javascript": [
              "window[\"43ad6bb2-7f9d-11eb-8850-0242ac1c0002\"] = google.colab.output.getActiveOutputArea();\n",
              "//# sourceURL=js_5d4942a41d"
            ],
            "text/plain": [
              "<IPython.core.display.Javascript object>"
            ]
          },
          "metadata": {
            "tags": [
              "id20-0-0",
              "outputarea_id20"
            ]
          }
        },
        {
          "output_type": "display_data",
          "data": {
            "application/javascript": [
              "window[\"43adbb26-7f9d-11eb-8850-0242ac1c0002\"] = document.querySelector(\"#id20-0-0\");\n",
              "//# sourceURL=js_b7e89d0ddb"
            ],
            "text/plain": [
              "<IPython.core.display.Javascript object>"
            ]
          },
          "metadata": {
            "tags": [
              "id20-0-0",
              "outputarea_id20"
            ]
          }
        },
        {
          "output_type": "display_data",
          "data": {
            "application/javascript": [
              "window[\"43ae2dc2-7f9d-11eb-8850-0242ac1c0002\"] = google.colab.output.setActiveOutputArea(window[\"43adbb26-7f9d-11eb-8850-0242ac1c0002\"]);\n",
              "//# sourceURL=js_91862ac63c"
            ],
            "text/plain": [
              "<IPython.core.display.Javascript object>"
            ]
          },
          "metadata": {
            "tags": [
              "id20-0-0",
              "outputarea_id20"
            ]
          }
        },
        {
          "output_type": "display_data",
          "data": {
            "application/javascript": [
              "window[\"43cccbce-7f9d-11eb-8850-0242ac1c0002\"] = google.colab.output.setActiveOutputArea(window[\"43ad6bb2-7f9d-11eb-8850-0242ac1c0002\"]);\n",
              "//# sourceURL=js_efadaf75db"
            ],
            "text/plain": [
              "<IPython.core.display.Javascript object>"
            ]
          },
          "metadata": {
            "tags": [
              "id20-0-0",
              "outputarea_id20"
            ]
          }
        },
        {
          "output_type": "display_data",
          "data": {
            "application/javascript": [
              "window[\"441b9fba-7f9d-11eb-8850-0242ac1c0002\"] = google.colab.output.getActiveOutputArea();\n",
              "//# sourceURL=js_de7aa25c66"
            ],
            "text/plain": [
              "<IPython.core.display.Javascript object>"
            ]
          },
          "metadata": {
            "tags": [
              "id20-0-0",
              "outputarea_id20"
            ]
          }
        },
        {
          "output_type": "display_data",
          "data": {
            "application/javascript": [
              "window[\"441be9de-7f9d-11eb-8850-0242ac1c0002\"] = document.querySelector(\"#id20-0-0\");\n",
              "//# sourceURL=js_f6e5f37617"
            ],
            "text/plain": [
              "<IPython.core.display.Javascript object>"
            ]
          },
          "metadata": {
            "tags": [
              "id20-0-0",
              "outputarea_id20"
            ]
          }
        },
        {
          "output_type": "display_data",
          "data": {
            "application/javascript": [
              "window[\"441c30b0-7f9d-11eb-8850-0242ac1c0002\"] = google.colab.output.setActiveOutputArea(window[\"441be9de-7f9d-11eb-8850-0242ac1c0002\"]);\n",
              "//# sourceURL=js_525bd038ee"
            ],
            "text/plain": [
              "<IPython.core.display.Javascript object>"
            ]
          },
          "metadata": {
            "tags": [
              "id20-0-0",
              "outputarea_id20"
            ]
          }
        },
        {
          "output_type": "display_data",
          "data": {
            "application/javascript": [
              "window[\"44375e3a-7f9d-11eb-8850-0242ac1c0002\"] = google.colab.output.setActiveOutputArea(window[\"441b9fba-7f9d-11eb-8850-0242ac1c0002\"]);\n",
              "//# sourceURL=js_6f0a45a1e1"
            ],
            "text/plain": [
              "<IPython.core.display.Javascript object>"
            ]
          },
          "metadata": {
            "tags": [
              "id20-0-0",
              "outputarea_id20"
            ]
          }
        },
        {
          "output_type": "display_data",
          "data": {
            "application/javascript": [
              "window[\"448500ae-7f9d-11eb-8850-0242ac1c0002\"] = google.colab.output.getActiveOutputArea();\n",
              "//# sourceURL=js_b306c1e513"
            ],
            "text/plain": [
              "<IPython.core.display.Javascript object>"
            ]
          },
          "metadata": {
            "tags": [
              "id20-0-0",
              "outputarea_id20"
            ]
          }
        },
        {
          "output_type": "display_data",
          "data": {
            "application/javascript": [
              "window[\"44854de8-7f9d-11eb-8850-0242ac1c0002\"] = document.querySelector(\"#id20-0-0\");\n",
              "//# sourceURL=js_e0351fe69f"
            ],
            "text/plain": [
              "<IPython.core.display.Javascript object>"
            ]
          },
          "metadata": {
            "tags": [
              "id20-0-0",
              "outputarea_id20"
            ]
          }
        },
        {
          "output_type": "display_data",
          "data": {
            "application/javascript": [
              "window[\"4485b67a-7f9d-11eb-8850-0242ac1c0002\"] = google.colab.output.setActiveOutputArea(window[\"44854de8-7f9d-11eb-8850-0242ac1c0002\"]);\n",
              "//# sourceURL=js_733da15cb0"
            ],
            "text/plain": [
              "<IPython.core.display.Javascript object>"
            ]
          },
          "metadata": {
            "tags": [
              "id20-0-0",
              "outputarea_id20"
            ]
          }
        },
        {
          "output_type": "display_data",
          "data": {
            "application/javascript": [
              "window[\"44afceec-7f9d-11eb-8850-0242ac1c0002\"] = google.colab.output.setActiveOutputArea(window[\"448500ae-7f9d-11eb-8850-0242ac1c0002\"]);\n",
              "//# sourceURL=js_6f612ba15e"
            ],
            "text/plain": [
              "<IPython.core.display.Javascript object>"
            ]
          },
          "metadata": {
            "tags": [
              "id20-0-0",
              "outputarea_id20"
            ]
          }
        },
        {
          "output_type": "display_data",
          "data": {
            "application/javascript": [
              "window[\"44fe9e50-7f9d-11eb-8850-0242ac1c0002\"] = google.colab.output.getActiveOutputArea();\n",
              "//# sourceURL=js_06a4e8a334"
            ],
            "text/plain": [
              "<IPython.core.display.Javascript object>"
            ]
          },
          "metadata": {
            "tags": [
              "id20-0-0",
              "outputarea_id20"
            ]
          }
        },
        {
          "output_type": "display_data",
          "data": {
            "application/javascript": [
              "window[\"44ff5480-7f9d-11eb-8850-0242ac1c0002\"] = document.querySelector(\"#id20-0-0\");\n",
              "//# sourceURL=js_f520240e7c"
            ],
            "text/plain": [
              "<IPython.core.display.Javascript object>"
            ]
          },
          "metadata": {
            "tags": [
              "id20-0-0",
              "outputarea_id20"
            ]
          }
        },
        {
          "output_type": "display_data",
          "data": {
            "application/javascript": [
              "window[\"4501157c-7f9d-11eb-8850-0242ac1c0002\"] = google.colab.output.setActiveOutputArea(window[\"44ff5480-7f9d-11eb-8850-0242ac1c0002\"]);\n",
              "//# sourceURL=js_52c2606c71"
            ],
            "text/plain": [
              "<IPython.core.display.Javascript object>"
            ]
          },
          "metadata": {
            "tags": [
              "id20-0-0",
              "outputarea_id20"
            ]
          }
        },
        {
          "output_type": "display_data",
          "data": {
            "application/javascript": [
              "window[\"451d93c8-7f9d-11eb-8850-0242ac1c0002\"] = google.colab.output.setActiveOutputArea(window[\"44fe9e50-7f9d-11eb-8850-0242ac1c0002\"]);\n",
              "//# sourceURL=js_c1f64a5914"
            ],
            "text/plain": [
              "<IPython.core.display.Javascript object>"
            ]
          },
          "metadata": {
            "tags": [
              "id20-0-0",
              "outputarea_id20"
            ]
          }
        },
        {
          "output_type": "display_data",
          "data": {
            "application/javascript": [
              "window[\"456b57ca-7f9d-11eb-8850-0242ac1c0002\"] = google.colab.output.getActiveOutputArea();\n",
              "//# sourceURL=js_14c27ad9d7"
            ],
            "text/plain": [
              "<IPython.core.display.Javascript object>"
            ]
          },
          "metadata": {
            "tags": [
              "id20-0-0",
              "outputarea_id20"
            ]
          }
        },
        {
          "output_type": "display_data",
          "data": {
            "application/javascript": [
              "window[\"456b9ff0-7f9d-11eb-8850-0242ac1c0002\"] = document.querySelector(\"#id20-0-0\");\n",
              "//# sourceURL=js_6e72a8de4a"
            ],
            "text/plain": [
              "<IPython.core.display.Javascript object>"
            ]
          },
          "metadata": {
            "tags": [
              "id20-0-0",
              "outputarea_id20"
            ]
          }
        },
        {
          "output_type": "display_data",
          "data": {
            "application/javascript": [
              "window[\"456beb68-7f9d-11eb-8850-0242ac1c0002\"] = google.colab.output.setActiveOutputArea(window[\"456b9ff0-7f9d-11eb-8850-0242ac1c0002\"]);\n",
              "//# sourceURL=js_fa3b71f296"
            ],
            "text/plain": [
              "<IPython.core.display.Javascript object>"
            ]
          },
          "metadata": {
            "tags": [
              "id20-0-0",
              "outputarea_id20"
            ]
          }
        },
        {
          "output_type": "display_data",
          "data": {
            "application/javascript": [
              "window[\"458778e2-7f9d-11eb-8850-0242ac1c0002\"] = google.colab.output.setActiveOutputArea(window[\"456b57ca-7f9d-11eb-8850-0242ac1c0002\"]);\n",
              "//# sourceURL=js_edc692bc9d"
            ],
            "text/plain": [
              "<IPython.core.display.Javascript object>"
            ]
          },
          "metadata": {
            "tags": [
              "id20-0-0",
              "outputarea_id20"
            ]
          }
        },
        {
          "output_type": "display_data",
          "data": {
            "application/javascript": [
              "window[\"45d541c6-7f9d-11eb-8850-0242ac1c0002\"] = google.colab.output.getActiveOutputArea();\n",
              "//# sourceURL=js_9203fd74db"
            ],
            "text/plain": [
              "<IPython.core.display.Javascript object>"
            ]
          },
          "metadata": {
            "tags": [
              "id20-0-0",
              "outputarea_id20"
            ]
          }
        },
        {
          "output_type": "display_data",
          "data": {
            "application/javascript": [
              "window[\"45d58bf4-7f9d-11eb-8850-0242ac1c0002\"] = document.querySelector(\"#id20-0-0\");\n",
              "//# sourceURL=js_08c97a4683"
            ],
            "text/plain": [
              "<IPython.core.display.Javascript object>"
            ]
          },
          "metadata": {
            "tags": [
              "id20-0-0",
              "outputarea_id20"
            ]
          }
        },
        {
          "output_type": "display_data",
          "data": {
            "application/javascript": [
              "window[\"45d680cc-7f9d-11eb-8850-0242ac1c0002\"] = google.colab.output.setActiveOutputArea(window[\"45d58bf4-7f9d-11eb-8850-0242ac1c0002\"]);\n",
              "//# sourceURL=js_a0e8dc3911"
            ],
            "text/plain": [
              "<IPython.core.display.Javascript object>"
            ]
          },
          "metadata": {
            "tags": [
              "id20-0-0",
              "outputarea_id20"
            ]
          }
        },
        {
          "output_type": "display_data",
          "data": {
            "application/javascript": [
              "window[\"45f303a0-7f9d-11eb-8850-0242ac1c0002\"] = google.colab.output.setActiveOutputArea(window[\"45d541c6-7f9d-11eb-8850-0242ac1c0002\"]);\n",
              "//# sourceURL=js_38c222a826"
            ],
            "text/plain": [
              "<IPython.core.display.Javascript object>"
            ]
          },
          "metadata": {
            "tags": [
              "id20-0-0",
              "outputarea_id20"
            ]
          }
        },
        {
          "output_type": "display_data",
          "data": {
            "application/javascript": [
              "window[\"464300d0-7f9d-11eb-8850-0242ac1c0002\"] = google.colab.output.getActiveOutputArea();\n",
              "//# sourceURL=js_bea3d9829f"
            ],
            "text/plain": [
              "<IPython.core.display.Javascript object>"
            ]
          },
          "metadata": {
            "tags": [
              "id20-0-0",
              "outputarea_id20"
            ]
          }
        },
        {
          "output_type": "display_data",
          "data": {
            "application/javascript": [
              "window[\"464349dc-7f9d-11eb-8850-0242ac1c0002\"] = document.querySelector(\"#id20-0-0\");\n",
              "//# sourceURL=js_310d9a024a"
            ],
            "text/plain": [
              "<IPython.core.display.Javascript object>"
            ]
          },
          "metadata": {
            "tags": [
              "id20-0-0",
              "outputarea_id20"
            ]
          }
        },
        {
          "output_type": "display_data",
          "data": {
            "application/javascript": [
              "window[\"4643a670-7f9d-11eb-8850-0242ac1c0002\"] = google.colab.output.setActiveOutputArea(window[\"464349dc-7f9d-11eb-8850-0242ac1c0002\"]);\n",
              "//# sourceURL=js_096bc97cab"
            ],
            "text/plain": [
              "<IPython.core.display.Javascript object>"
            ]
          },
          "metadata": {
            "tags": [
              "id20-0-0",
              "outputarea_id20"
            ]
          }
        },
        {
          "output_type": "display_data",
          "data": {
            "application/javascript": [
              "window[\"465f2d14-7f9d-11eb-8850-0242ac1c0002\"] = google.colab.output.setActiveOutputArea(window[\"464300d0-7f9d-11eb-8850-0242ac1c0002\"]);\n",
              "//# sourceURL=js_8a4bb25c81"
            ],
            "text/plain": [
              "<IPython.core.display.Javascript object>"
            ]
          },
          "metadata": {
            "tags": [
              "id20-0-0",
              "outputarea_id20"
            ]
          }
        },
        {
          "output_type": "display_data",
          "data": {
            "application/javascript": [
              "window[\"46acbf70-7f9d-11eb-8850-0242ac1c0002\"] = google.colab.output.getActiveOutputArea();\n",
              "//# sourceURL=js_89ad772e99"
            ],
            "text/plain": [
              "<IPython.core.display.Javascript object>"
            ]
          },
          "metadata": {
            "tags": [
              "id20-0-0",
              "outputarea_id20"
            ]
          }
        },
        {
          "output_type": "display_data",
          "data": {
            "application/javascript": [
              "window[\"46ad1a7e-7f9d-11eb-8850-0242ac1c0002\"] = document.querySelector(\"#id20-0-0\");\n",
              "//# sourceURL=js_29e147724f"
            ],
            "text/plain": [
              "<IPython.core.display.Javascript object>"
            ]
          },
          "metadata": {
            "tags": [
              "id20-0-0",
              "outputarea_id20"
            ]
          }
        },
        {
          "output_type": "display_data",
          "data": {
            "application/javascript": [
              "window[\"46ad5e8a-7f9d-11eb-8850-0242ac1c0002\"] = google.colab.output.setActiveOutputArea(window[\"46ad1a7e-7f9d-11eb-8850-0242ac1c0002\"]);\n",
              "//# sourceURL=js_38ca232d81"
            ],
            "text/plain": [
              "<IPython.core.display.Javascript object>"
            ]
          },
          "metadata": {
            "tags": [
              "id20-0-0",
              "outputarea_id20"
            ]
          }
        },
        {
          "output_type": "display_data",
          "data": {
            "image/png": "[encoded data removed]",
            "text/plain": [
              "<Figure size 432x288 with 1 Axes>"
            ]
          },
          "metadata": {
            "tags": [
              "id20-0-0",
              "outputarea_id20",
              "user_output"
            ],
            "needs_background": "light"
          }
        },
        {
          "output_type": "display_data",
          "data": {
            "application/javascript": [
              "window[\"46c9142c-7f9d-11eb-8850-0242ac1c0002\"] = google.colab.output.setActiveOutputArea(window[\"46acbf70-7f9d-11eb-8850-0242ac1c0002\"]);\n",
              "//# sourceURL=js_2cb06dc393"
            ],
            "text/plain": [
              "<IPython.core.display.Javascript object>"
            ]
          },
          "metadata": {
            "tags": [
              "id20-0-0",
              "outputarea_id20"
            ]
          }
        }
      ]
    },
    {
      "cell_type": "markdown",
      "metadata": {
        "id": "F5uaOibidnWg"
      },
      "source": [
        "## Q Learning"
      ]
    },
    {
      "cell_type": "code",
      "metadata": {
        "id": "5QpKKcUyUORI"
      },
      "source": [
        "## Q Learning Agent\r\n",
        "class QLearning:\r\n",
        "    def __init__(self, env):\r\n",
        "        self.env = env\r\n",
        "        self.observation_space = env.observation_space\r\n",
        "        self.action_space = env.action_space\r\n",
        "        print(self.action_space.n)\r\n",
        "\r\n",
        "    def step(self, state):\r\n",
        "        return np.random.choice(self.action_space.n)\r\n"
      ],
      "execution_count": null,
      "outputs": []
    },
    {
      "cell_type": "code",
      "metadata": {
        "colab": {
          "base_uri": "https://localhost:8080/",
          "height": 265
        },
        "id": "qEftTKqkXZHq",
        "outputId": "54a70743-90e2-419f-dd6f-8ced273997c9"
      },
      "source": [
        "env = GridEnvironment()\r\n",
        "obs = env.reset()\r\n",
        "\r\n",
        "q_LearningTable = np.zeros([env.observation_space.n, env.action_space.n])  \r\n",
        "alpha = 0.1\r\n",
        "gamma = 0.9\r\n",
        "epsilon = 0.1\r\n",
        "\r\n",
        "for i in range(1, 1000):\r\n",
        "    state = env.reset()\r\n",
        "    encodedstate=np.array(range(0,25)).reshape(5,5)\r\n",
        "    y,x = state\r\n",
        "\r\n",
        "    reward = 0\r\n",
        "    done = False\r\n",
        "    cumulative_reward=0\r\n",
        "    rewardplot=[0]\r\n",
        "    epoch=0\r\n",
        "    \r\n",
        "    while not done:\r\n",
        "      if(np.random.uniform(0,1)<epsilon):\r\n",
        "        np.random.choice(env.action_space.n)\r\n",
        "      else:\r\n",
        "        action = np.argmax(q_LearningTable[encodedstate]) \r\n",
        "        prev_reward=cumulative_reward\r\n",
        "        obs, reward, done, info = env.step(action)\r\n",
        "        cumulative_reward+=gamma*reward\r\n",
        "        rewardplot.append(cumulative_reward)\r\n",
        "\r\n",
        "        q_old = q_LearningTable[encodedstate, action]\r\n",
        "        updatedMax = np.max(q_LearningTable[obs])\r\n",
        "        \r\n",
        "        q_new = q_old + alpha * (reward + (gamma * updatedMax)-q_old)\r\n",
        "        q_LearningTable[encodedstate, action] = q_new \r\n",
        "\r\n",
        "\r\n",
        "      \r\n",
        "        with output_grid.output_to(0, 0):\r\n",
        "          output_grid.clear_cell()\r\n",
        "          env.render()\r\n",
        "      epoch+=1\r\n",
        "      time.sleep(0.5)       "
      ],
      "execution_count": 96,
      "outputs": [
        {
          "output_type": "display_data",
          "data": {
            "application/javascript": [
              "window[\"7dc7cf98-7fa9-11eb-8850-0242ac1c0002\"] = google.colab.output.getActiveOutputArea();\n",
              "//# sourceURL=js_98c663096a"
            ],
            "text/plain": [
              "<IPython.core.display.Javascript object>"
            ]
          },
          "metadata": {
            "tags": [
              "id20-0-0",
              "outputarea_id20"
            ]
          }
        },
        {
          "output_type": "display_data",
          "data": {
            "application/javascript": [
              "window[\"7dc83398-7fa9-11eb-8850-0242ac1c0002\"] = document.querySelector(\"#id20-0-0\");\n",
              "//# sourceURL=js_4b5c96e55d"
            ],
            "text/plain": [
              "<IPython.core.display.Javascript object>"
            ]
          },
          "metadata": {
            "tags": [
              "id20-0-0",
              "outputarea_id20"
            ]
          }
        },
        {
          "output_type": "display_data",
          "data": {
            "application/javascript": [
              "window[\"7dc8bcdc-7fa9-11eb-8850-0242ac1c0002\"] = google.colab.output.setActiveOutputArea(window[\"7dc83398-7fa9-11eb-8850-0242ac1c0002\"]);\n",
              "//# sourceURL=js_fa8fb8da37"
            ],
            "text/plain": [
              "<IPython.core.display.Javascript object>"
            ]
          },
          "metadata": {
            "tags": [
              "id20-0-0",
              "outputarea_id20"
            ]
          }
        },
        {
          "output_type": "display_data",
          "data": {
            "application/javascript": [
              "window[\"7de205d4-7fa9-11eb-8850-0242ac1c0002\"] = google.colab.output.setActiveOutputArea(window[\"7dc7cf98-7fa9-11eb-8850-0242ac1c0002\"]);\n",
              "//# sourceURL=js_d2d1790907"
            ],
            "text/plain": [
              "<IPython.core.display.Javascript object>"
            ]
          },
          "metadata": {
            "tags": [
              "id20-0-0",
              "outputarea_id20"
            ]
          }
        },
        {
          "output_type": "display_data",
          "data": {
            "application/javascript": [
              "window[\"7e2fb9aa-7fa9-11eb-8850-0242ac1c0002\"] = google.colab.output.getActiveOutputArea();\n",
              "//# sourceURL=js_c154eb5fd8"
            ],
            "text/plain": [
              "<IPython.core.display.Javascript object>"
            ]
          },
          "metadata": {
            "tags": [
              "id20-0-0",
              "outputarea_id20"
            ]
          }
        },
        {
          "output_type": "display_data",
          "data": {
            "application/javascript": [
              "window[\"7e301300-7fa9-11eb-8850-0242ac1c0002\"] = document.querySelector(\"#id20-0-0\");\n",
              "//# sourceURL=js_34e33be2cf"
            ],
            "text/plain": [
              "<IPython.core.display.Javascript object>"
            ]
          },
          "metadata": {
            "tags": [
              "id20-0-0",
              "outputarea_id20"
            ]
          }
        },
        {
          "output_type": "display_data",
          "data": {
            "application/javascript": [
              "window[\"7e30c034-7fa9-11eb-8850-0242ac1c0002\"] = google.colab.output.setActiveOutputArea(window[\"7e301300-7fa9-11eb-8850-0242ac1c0002\"]);\n",
              "//# sourceURL=js_46ddcd735e"
            ],
            "text/plain": [
              "<IPython.core.display.Javascript object>"
            ]
          },
          "metadata": {
            "tags": [
              "id20-0-0",
              "outputarea_id20"
            ]
          }
        },
        {
          "output_type": "display_data",
          "data": {
            "application/javascript": [
              "window[\"7e4793ea-7fa9-11eb-8850-0242ac1c0002\"] = google.colab.output.setActiveOutputArea(window[\"7e2fb9aa-7fa9-11eb-8850-0242ac1c0002\"]);\n",
              "//# sourceURL=js_9f9c04fb28"
            ],
            "text/plain": [
              "<IPython.core.display.Javascript object>"
            ]
          },
          "metadata": {
            "tags": [
              "id20-0-0",
              "outputarea_id20"
            ]
          }
        },
        {
          "output_type": "display_data",
          "data": {
            "application/javascript": [
              "window[\"7e95da3c-7fa9-11eb-8850-0242ac1c0002\"] = google.colab.output.getActiveOutputArea();\n",
              "//# sourceURL=js_8d44bc1804"
            ],
            "text/plain": [
              "<IPython.core.display.Javascript object>"
            ]
          },
          "metadata": {
            "tags": [
              "id20-0-0",
              "outputarea_id20"
            ]
          }
        },
        {
          "output_type": "display_data",
          "data": {
            "application/javascript": [
              "window[\"7e96462a-7fa9-11eb-8850-0242ac1c0002\"] = document.querySelector(\"#id20-0-0\");\n",
              "//# sourceURL=js_6cb16e7b29"
            ],
            "text/plain": [
              "<IPython.core.display.Javascript object>"
            ]
          },
          "metadata": {
            "tags": [
              "id20-0-0",
              "outputarea_id20"
            ]
          }
        },
        {
          "output_type": "display_data",
          "data": {
            "application/javascript": [
              "window[\"7e969896-7fa9-11eb-8850-0242ac1c0002\"] = google.colab.output.setActiveOutputArea(window[\"7e96462a-7fa9-11eb-8850-0242ac1c0002\"]);\n",
              "//# sourceURL=js_71ad6f0657"
            ],
            "text/plain": [
              "<IPython.core.display.Javascript object>"
            ]
          },
          "metadata": {
            "tags": [
              "id20-0-0",
              "outputarea_id20"
            ]
          }
        },
        {
          "output_type": "display_data",
          "data": {
            "application/javascript": [
              "window[\"7eadcbba-7fa9-11eb-8850-0242ac1c0002\"] = google.colab.output.setActiveOutputArea(window[\"7e95da3c-7fa9-11eb-8850-0242ac1c0002\"]);\n",
              "//# sourceURL=js_27ac0d98ae"
            ],
            "text/plain": [
              "<IPython.core.display.Javascript object>"
            ]
          },
          "metadata": {
            "tags": [
              "id20-0-0",
              "outputarea_id20"
            ]
          }
        },
        {
          "output_type": "display_data",
          "data": {
            "application/javascript": [
              "window[\"7efb9d72-7fa9-11eb-8850-0242ac1c0002\"] = google.colab.output.getActiveOutputArea();\n",
              "//# sourceURL=js_e19526356a"
            ],
            "text/plain": [
              "<IPython.core.display.Javascript object>"
            ]
          },
          "metadata": {
            "tags": [
              "id20-0-0",
              "outputarea_id20"
            ]
          }
        },
        {
          "output_type": "display_data",
          "data": {
            "application/javascript": [
              "window[\"7efbe160-7fa9-11eb-8850-0242ac1c0002\"] = document.querySelector(\"#id20-0-0\");\n",
              "//# sourceURL=js_7189bc4e65"
            ],
            "text/plain": [
              "<IPython.core.display.Javascript object>"
            ]
          },
          "metadata": {
            "tags": [
              "id20-0-0",
              "outputarea_id20"
            ]
          }
        },
        {
          "output_type": "display_data",
          "data": {
            "application/javascript": [
              "window[\"7efc4092-7fa9-11eb-8850-0242ac1c0002\"] = google.colab.output.setActiveOutputArea(window[\"7efbe160-7fa9-11eb-8850-0242ac1c0002\"]);\n",
              "//# sourceURL=js_7bc56d2c7b"
            ],
            "text/plain": [
              "<IPython.core.display.Javascript object>"
            ]
          },
          "metadata": {
            "tags": [
              "id20-0-0",
              "outputarea_id20"
            ]
          }
        },
        {
          "output_type": "display_data",
          "data": {
            "application/javascript": [
              "window[\"7f12b598-7fa9-11eb-8850-0242ac1c0002\"] = google.colab.output.setActiveOutputArea(window[\"7efb9d72-7fa9-11eb-8850-0242ac1c0002\"]);\n",
              "//# sourceURL=js_702d919dee"
            ],
            "text/plain": [
              "<IPython.core.display.Javascript object>"
            ]
          },
          "metadata": {
            "tags": [
              "id20-0-0",
              "outputarea_id20"
            ]
          }
        },
        {
          "output_type": "display_data",
          "data": {
            "application/javascript": [
              "window[\"7f612412-7fa9-11eb-8850-0242ac1c0002\"] = google.colab.output.getActiveOutputArea();\n",
              "//# sourceURL=js_35914d9623"
            ],
            "text/plain": [
              "<IPython.core.display.Javascript object>"
            ]
          },
          "metadata": {
            "tags": [
              "id20-0-0",
              "outputarea_id20"
            ]
          }
        },
        {
          "output_type": "display_data",
          "data": {
            "application/javascript": [
              "window[\"7f61928a-7fa9-11eb-8850-0242ac1c0002\"] = document.querySelector(\"#id20-0-0\");\n",
              "//# sourceURL=js_d0eae50527"
            ],
            "text/plain": [
              "<IPython.core.display.Javascript object>"
            ]
          },
          "metadata": {
            "tags": [
              "id20-0-0",
              "outputarea_id20"
            ]
          }
        },
        {
          "output_type": "display_data",
          "data": {
            "application/javascript": [
              "window[\"7f6234f6-7fa9-11eb-8850-0242ac1c0002\"] = google.colab.output.setActiveOutputArea(window[\"7f61928a-7fa9-11eb-8850-0242ac1c0002\"]);\n",
              "//# sourceURL=js_c93b6089e5"
            ],
            "text/plain": [
              "<IPython.core.display.Javascript object>"
            ]
          },
          "metadata": {
            "tags": [
              "id20-0-0",
              "outputarea_id20"
            ]
          }
        },
        {
          "output_type": "display_data",
          "data": {
            "application/javascript": [
              "window[\"7f78ec8c-7fa9-11eb-8850-0242ac1c0002\"] = google.colab.output.setActiveOutputArea(window[\"7f612412-7fa9-11eb-8850-0242ac1c0002\"]);\n",
              "//# sourceURL=js_b1cbb6ebd0"
            ],
            "text/plain": [
              "<IPython.core.display.Javascript object>"
            ]
          },
          "metadata": {
            "tags": [
              "id20-0-0",
              "outputarea_id20"
            ]
          }
        },
        {
          "output_type": "display_data",
          "data": {
            "application/javascript": [
              "window[\"7fc68852-7fa9-11eb-8850-0242ac1c0002\"] = google.colab.output.getActiveOutputArea();\n",
              "//# sourceURL=js_1d51926f47"
            ],
            "text/plain": [
              "<IPython.core.display.Javascript object>"
            ]
          },
          "metadata": {
            "tags": [
              "id20-0-0",
              "outputarea_id20"
            ]
          }
        },
        {
          "output_type": "display_data",
          "data": {
            "application/javascript": [
              "window[\"7fc6bd90-7fa9-11eb-8850-0242ac1c0002\"] = document.querySelector(\"#id20-0-0\");\n",
              "//# sourceURL=js_af0d3cc8be"
            ],
            "text/plain": [
              "<IPython.core.display.Javascript object>"
            ]
          },
          "metadata": {
            "tags": [
              "id20-0-0",
              "outputarea_id20"
            ]
          }
        },
        {
          "output_type": "display_data",
          "data": {
            "application/javascript": [
              "window[\"7fc6f422-7fa9-11eb-8850-0242ac1c0002\"] = google.colab.output.setActiveOutputArea(window[\"7fc6bd90-7fa9-11eb-8850-0242ac1c0002\"]);\n",
              "//# sourceURL=js_8737545af8"
            ],
            "text/plain": [
              "<IPython.core.display.Javascript object>"
            ]
          },
          "metadata": {
            "tags": [
              "id20-0-0",
              "outputarea_id20"
            ]
          }
        },
        {
          "output_type": "display_data",
          "data": {
            "application/javascript": [
              "window[\"7fde23c2-7fa9-11eb-8850-0242ac1c0002\"] = google.colab.output.setActiveOutputArea(window[\"7fc68852-7fa9-11eb-8850-0242ac1c0002\"]);\n",
              "//# sourceURL=js_32d4d36c91"
            ],
            "text/plain": [
              "<IPython.core.display.Javascript object>"
            ]
          },
          "metadata": {
            "tags": [
              "id20-0-0",
              "outputarea_id20"
            ]
          }
        },
        {
          "output_type": "display_data",
          "data": {
            "application/javascript": [
              "window[\"802cc400-7fa9-11eb-8850-0242ac1c0002\"] = google.colab.output.getActiveOutputArea();\n",
              "//# sourceURL=js_f21803938c"
            ],
            "text/plain": [
              "<IPython.core.display.Javascript object>"
            ]
          },
          "metadata": {
            "tags": [
              "id20-0-0",
              "outputarea_id20"
            ]
          }
        },
        {
          "output_type": "display_data",
          "data": {
            "application/javascript": [
              "window[\"802d3340-7fa9-11eb-8850-0242ac1c0002\"] = document.querySelector(\"#id20-0-0\");\n",
              "//# sourceURL=js_79ec818770"
            ],
            "text/plain": [
              "<IPython.core.display.Javascript object>"
            ]
          },
          "metadata": {
            "tags": [
              "id20-0-0",
              "outputarea_id20"
            ]
          }
        },
        {
          "output_type": "display_data",
          "data": {
            "application/javascript": [
              "window[\"802e2be2-7fa9-11eb-8850-0242ac1c0002\"] = google.colab.output.setActiveOutputArea(window[\"802d3340-7fa9-11eb-8850-0242ac1c0002\"]);\n",
              "//# sourceURL=js_d76719359b"
            ],
            "text/plain": [
              "<IPython.core.display.Javascript object>"
            ]
          },
          "metadata": {
            "tags": [
              "id20-0-0",
              "outputarea_id20"
            ]
          }
        },
        {
          "output_type": "display_data",
          "data": {
            "application/javascript": [
              "window[\"8044909e-7fa9-11eb-8850-0242ac1c0002\"] = google.colab.output.setActiveOutputArea(window[\"802cc400-7fa9-11eb-8850-0242ac1c0002\"]);\n",
              "//# sourceURL=js_6e8d26e619"
            ],
            "text/plain": [
              "<IPython.core.display.Javascript object>"
            ]
          },
          "metadata": {
            "tags": [
              "id20-0-0",
              "outputarea_id20"
            ]
          }
        },
        {
          "output_type": "display_data",
          "data": {
            "application/javascript": [
              "window[\"8092c340-7fa9-11eb-8850-0242ac1c0002\"] = google.colab.output.getActiveOutputArea();\n",
              "//# sourceURL=js_2f63d6501a"
            ],
            "text/plain": [
              "<IPython.core.display.Javascript object>"
            ]
          },
          "metadata": {
            "tags": [
              "id20-0-0",
              "outputarea_id20"
            ]
          }
        },
        {
          "output_type": "display_data",
          "data": {
            "application/javascript": [
              "window[\"80933294-7fa9-11eb-8850-0242ac1c0002\"] = document.querySelector(\"#id20-0-0\");\n",
              "//# sourceURL=js_e28cd95d43"
            ],
            "text/plain": [
              "<IPython.core.display.Javascript object>"
            ]
          },
          "metadata": {
            "tags": [
              "id20-0-0",
              "outputarea_id20"
            ]
          }
        },
        {
          "output_type": "display_data",
          "data": {
            "application/javascript": [
              "window[\"8093d870-7fa9-11eb-8850-0242ac1c0002\"] = google.colab.output.setActiveOutputArea(window[\"80933294-7fa9-11eb-8850-0242ac1c0002\"]);\n",
              "//# sourceURL=js_f91793f80c"
            ],
            "text/plain": [
              "<IPython.core.display.Javascript object>"
            ]
          },
          "metadata": {
            "tags": [
              "id20-0-0",
              "outputarea_id20"
            ]
          }
        },
        {
          "output_type": "display_data",
          "data": {
            "application/javascript": [
              "window[\"80ab2c1e-7fa9-11eb-8850-0242ac1c0002\"] = google.colab.output.setActiveOutputArea(window[\"8092c340-7fa9-11eb-8850-0242ac1c0002\"]);\n",
              "//# sourceURL=js_b513497b03"
            ],
            "text/plain": [
              "<IPython.core.display.Javascript object>"
            ]
          },
          "metadata": {
            "tags": [
              "id20-0-0",
              "outputarea_id20"
            ]
          }
        },
        {
          "output_type": "display_data",
          "data": {
            "application/javascript": [
              "window[\"80f9d224-7fa9-11eb-8850-0242ac1c0002\"] = google.colab.output.getActiveOutputArea();\n",
              "//# sourceURL=js_6d7a756d1d"
            ],
            "text/plain": [
              "<IPython.core.display.Javascript object>"
            ]
          },
          "metadata": {
            "tags": [
              "id20-0-0",
              "outputarea_id20"
            ]
          }
        },
        {
          "output_type": "display_data",
          "data": {
            "application/javascript": [
              "window[\"80fa4376-7fa9-11eb-8850-0242ac1c0002\"] = document.querySelector(\"#id20-0-0\");\n",
              "//# sourceURL=js_815d7e3897"
            ],
            "text/plain": [
              "<IPython.core.display.Javascript object>"
            ]
          },
          "metadata": {
            "tags": [
              "id20-0-0",
              "outputarea_id20"
            ]
          }
        },
        {
          "output_type": "display_data",
          "data": {
            "application/javascript": [
              "window[\"80fb3fe2-7fa9-11eb-8850-0242ac1c0002\"] = google.colab.output.setActiveOutputArea(window[\"80fa4376-7fa9-11eb-8850-0242ac1c0002\"]);\n",
              "//# sourceURL=js_07f630be98"
            ],
            "text/plain": [
              "<IPython.core.display.Javascript object>"
            ]
          },
          "metadata": {
            "tags": [
              "id20-0-0",
              "outputarea_id20"
            ]
          }
        },
        {
          "output_type": "display_data",
          "data": {
            "application/javascript": [
              "window[\"811368ce-7fa9-11eb-8850-0242ac1c0002\"] = google.colab.output.setActiveOutputArea(window[\"80f9d224-7fa9-11eb-8850-0242ac1c0002\"]);\n",
              "//# sourceURL=js_09c6a19d69"
            ],
            "text/plain": [
              "<IPython.core.display.Javascript object>"
            ]
          },
          "metadata": {
            "tags": [
              "id20-0-0",
              "outputarea_id20"
            ]
          }
        },
        {
          "output_type": "display_data",
          "data": {
            "application/javascript": [
              "window[\"81614652-7fa9-11eb-8850-0242ac1c0002\"] = google.colab.output.getActiveOutputArea();\n",
              "//# sourceURL=js_6393e9e0bd"
            ],
            "text/plain": [
              "<IPython.core.display.Javascript object>"
            ]
          },
          "metadata": {
            "tags": [
              "id20-0-0",
              "outputarea_id20"
            ]
          }
        },
        {
          "output_type": "display_data",
          "data": {
            "application/javascript": [
              "window[\"81619d50-7fa9-11eb-8850-0242ac1c0002\"] = document.querySelector(\"#id20-0-0\");\n",
              "//# sourceURL=js_05aa0c0188"
            ],
            "text/plain": [
              "<IPython.core.display.Javascript object>"
            ]
          },
          "metadata": {
            "tags": [
              "id20-0-0",
              "outputarea_id20"
            ]
          }
        },
        {
          "output_type": "display_data",
          "data": {
            "application/javascript": [
              "window[\"81620790-7fa9-11eb-8850-0242ac1c0002\"] = google.colab.output.setActiveOutputArea(window[\"81619d50-7fa9-11eb-8850-0242ac1c0002\"]);\n",
              "//# sourceURL=js_81451e203e"
            ],
            "text/plain": [
              "<IPython.core.display.Javascript object>"
            ]
          },
          "metadata": {
            "tags": [
              "id20-0-0",
              "outputarea_id20"
            ]
          }
        },
        {
          "output_type": "display_data",
          "data": {
            "application/javascript": [
              "window[\"81785aa4-7fa9-11eb-8850-0242ac1c0002\"] = google.colab.output.setActiveOutputArea(window[\"81614652-7fa9-11eb-8850-0242ac1c0002\"]);\n",
              "//# sourceURL=js_3443c849a8"
            ],
            "text/plain": [
              "<IPython.core.display.Javascript object>"
            ]
          },
          "metadata": {
            "tags": [
              "id20-0-0",
              "outputarea_id20"
            ]
          }
        },
        {
          "output_type": "display_data",
          "data": {
            "application/javascript": [
              "window[\"81c6999e-7fa9-11eb-8850-0242ac1c0002\"] = google.colab.output.getActiveOutputArea();\n",
              "//# sourceURL=js_0e0a45dd5b"
            ],
            "text/plain": [
              "<IPython.core.display.Javascript object>"
            ]
          },
          "metadata": {
            "tags": [
              "id20-0-0",
              "outputarea_id20"
            ]
          }
        },
        {
          "output_type": "display_data",
          "data": {
            "application/javascript": [
              "window[\"81c6e3c2-7fa9-11eb-8850-0242ac1c0002\"] = document.querySelector(\"#id20-0-0\");\n",
              "//# sourceURL=js_e376896fc2"
            ],
            "text/plain": [
              "<IPython.core.display.Javascript object>"
            ]
          },
          "metadata": {
            "tags": [
              "id20-0-0",
              "outputarea_id20"
            ]
          }
        },
        {
          "output_type": "display_data",
          "data": {
            "application/javascript": [
              "window[\"81c73bce-7fa9-11eb-8850-0242ac1c0002\"] = google.colab.output.setActiveOutputArea(window[\"81c6e3c2-7fa9-11eb-8850-0242ac1c0002\"]);\n",
              "//# sourceURL=js_91c6e3530d"
            ],
            "text/plain": [
              "<IPython.core.display.Javascript object>"
            ]
          },
          "metadata": {
            "tags": [
              "id20-0-0",
              "outputarea_id20"
            ]
          }
        },
        {
          "output_type": "display_data",
          "data": {
            "application/javascript": [
              "window[\"81de1182-7fa9-11eb-8850-0242ac1c0002\"] = google.colab.output.setActiveOutputArea(window[\"81c6999e-7fa9-11eb-8850-0242ac1c0002\"]);\n",
              "//# sourceURL=js_e6fe2355f1"
            ],
            "text/plain": [
              "<IPython.core.display.Javascript object>"
            ]
          },
          "metadata": {
            "tags": [
              "id20-0-0",
              "outputarea_id20"
            ]
          }
        },
        {
          "output_type": "display_data",
          "data": {
            "application/javascript": [
              "window[\"822c8b14-7fa9-11eb-8850-0242ac1c0002\"] = google.colab.output.getActiveOutputArea();\n",
              "//# sourceURL=js_c7b94a416d"
            ],
            "text/plain": [
              "<IPython.core.display.Javascript object>"
            ]
          },
          "metadata": {
            "tags": [
              "id20-0-0",
              "outputarea_id20"
            ]
          }
        },
        {
          "output_type": "display_data",
          "data": {
            "application/javascript": [
              "window[\"822ce28a-7fa9-11eb-8850-0242ac1c0002\"] = document.querySelector(\"#id20-0-0\");\n",
              "//# sourceURL=js_57c29a54b2"
            ],
            "text/plain": [
              "<IPython.core.display.Javascript object>"
            ]
          },
          "metadata": {
            "tags": [
              "id20-0-0",
              "outputarea_id20"
            ]
          }
        },
        {
          "output_type": "display_data",
          "data": {
            "application/javascript": [
              "window[\"822d3b36-7fa9-11eb-8850-0242ac1c0002\"] = google.colab.output.setActiveOutputArea(window[\"822ce28a-7fa9-11eb-8850-0242ac1c0002\"]);\n",
              "//# sourceURL=js_6c3c6f0c4a"
            ],
            "text/plain": [
              "<IPython.core.display.Javascript object>"
            ]
          },
          "metadata": {
            "tags": [
              "id20-0-0",
              "outputarea_id20"
            ]
          }
        },
        {
          "output_type": "display_data",
          "data": {
            "application/javascript": [
              "window[\"82446f18-7fa9-11eb-8850-0242ac1c0002\"] = google.colab.output.setActiveOutputArea(window[\"822c8b14-7fa9-11eb-8850-0242ac1c0002\"]);\n",
              "//# sourceURL=js_30ff413be6"
            ],
            "text/plain": [
              "<IPython.core.display.Javascript object>"
            ]
          },
          "metadata": {
            "tags": [
              "id20-0-0",
              "outputarea_id20"
            ]
          }
        },
        {
          "output_type": "display_data",
          "data": {
            "application/javascript": [
              "window[\"82923f0e-7fa9-11eb-8850-0242ac1c0002\"] = google.colab.output.getActiveOutputArea();\n",
              "//# sourceURL=js_b89ae2c2e7"
            ],
            "text/plain": [
              "<IPython.core.display.Javascript object>"
            ]
          },
          "metadata": {
            "tags": [
              "id20-0-0",
              "outputarea_id20"
            ]
          }
        },
        {
          "output_type": "display_data",
          "data": {
            "application/javascript": [
              "window[\"829271d6-7fa9-11eb-8850-0242ac1c0002\"] = document.querySelector(\"#id20-0-0\");\n",
              "//# sourceURL=js_b0deb34997"
            ],
            "text/plain": [
              "<IPython.core.display.Javascript object>"
            ]
          },
          "metadata": {
            "tags": [
              "id20-0-0",
              "outputarea_id20"
            ]
          }
        },
        {
          "output_type": "display_data",
          "data": {
            "application/javascript": [
              "window[\"8292a502-7fa9-11eb-8850-0242ac1c0002\"] = google.colab.output.setActiveOutputArea(window[\"829271d6-7fa9-11eb-8850-0242ac1c0002\"]);\n",
              "//# sourceURL=js_d47db495d8"
            ],
            "text/plain": [
              "<IPython.core.display.Javascript object>"
            ]
          },
          "metadata": {
            "tags": [
              "id20-0-0",
              "outputarea_id20"
            ]
          }
        },
        {
          "output_type": "display_data",
          "data": {
            "application/javascript": [
              "window[\"82a96c06-7fa9-11eb-8850-0242ac1c0002\"] = google.colab.output.setActiveOutputArea(window[\"82923f0e-7fa9-11eb-8850-0242ac1c0002\"]);\n",
              "//# sourceURL=js_3e05b6bb62"
            ],
            "text/plain": [
              "<IPython.core.display.Javascript object>"
            ]
          },
          "metadata": {
            "tags": [
              "id20-0-0",
              "outputarea_id20"
            ]
          }
        },
        {
          "output_type": "display_data",
          "data": {
            "application/javascript": [
              "window[\"82f71e06-7fa9-11eb-8850-0242ac1c0002\"] = google.colab.output.getActiveOutputArea();\n",
              "//# sourceURL=js_e9143850c8"
            ],
            "text/plain": [
              "<IPython.core.display.Javascript object>"
            ]
          },
          "metadata": {
            "tags": [
              "id20-0-0",
              "outputarea_id20"
            ]
          }
        },
        {
          "output_type": "display_data",
          "data": {
            "application/javascript": [
              "window[\"82f78044-7fa9-11eb-8850-0242ac1c0002\"] = document.querySelector(\"#id20-0-0\");\n",
              "//# sourceURL=js_d9636bccf2"
            ],
            "text/plain": [
              "<IPython.core.display.Javascript object>"
            ]
          },
          "metadata": {
            "tags": [
              "id20-0-0",
              "outputarea_id20"
            ]
          }
        },
        {
          "output_type": "display_data",
          "data": {
            "application/javascript": [
              "window[\"82f7c9c8-7fa9-11eb-8850-0242ac1c0002\"] = google.colab.output.setActiveOutputArea(window[\"82f78044-7fa9-11eb-8850-0242ac1c0002\"]);\n",
              "//# sourceURL=js_cf528131fe"
            ],
            "text/plain": [
              "<IPython.core.display.Javascript object>"
            ]
          },
          "metadata": {
            "tags": [
              "id20-0-0",
              "outputarea_id20"
            ]
          }
        },
        {
          "output_type": "display_data",
          "data": {
            "application/javascript": [
              "window[\"8320ba36-7fa9-11eb-8850-0242ac1c0002\"] = google.colab.output.setActiveOutputArea(window[\"82f71e06-7fa9-11eb-8850-0242ac1c0002\"]);\n",
              "//# sourceURL=js_a197572068"
            ],
            "text/plain": [
              "<IPython.core.display.Javascript object>"
            ]
          },
          "metadata": {
            "tags": [
              "id20-0-0",
              "outputarea_id20"
            ]
          }
        },
        {
          "output_type": "display_data",
          "data": {
            "application/javascript": [
              "window[\"836edc7a-7fa9-11eb-8850-0242ac1c0002\"] = google.colab.output.getActiveOutputArea();\n",
              "//# sourceURL=js_a6dc4dd326"
            ],
            "text/plain": [
              "<IPython.core.display.Javascript object>"
            ]
          },
          "metadata": {
            "tags": [
              "id20-0-0",
              "outputarea_id20"
            ]
          }
        },
        {
          "output_type": "display_data",
          "data": {
            "application/javascript": [
              "window[\"836f14c4-7fa9-11eb-8850-0242ac1c0002\"] = document.querySelector(\"#id20-0-0\");\n",
              "//# sourceURL=js_acfd8a63fa"
            ],
            "text/plain": [
              "<IPython.core.display.Javascript object>"
            ]
          },
          "metadata": {
            "tags": [
              "id20-0-0",
              "outputarea_id20"
            ]
          }
        },
        {
          "output_type": "display_data",
          "data": {
            "application/javascript": [
              "window[\"836f8fee-7fa9-11eb-8850-0242ac1c0002\"] = google.colab.output.setActiveOutputArea(window[\"836f14c4-7fa9-11eb-8850-0242ac1c0002\"]);\n",
              "//# sourceURL=js_c19f3d93ac"
            ],
            "text/plain": [
              "<IPython.core.display.Javascript object>"
            ]
          },
          "metadata": {
            "tags": [
              "id20-0-0",
              "outputarea_id20"
            ]
          }
        },
        {
          "output_type": "display_data",
          "data": {
            "application/javascript": [
              "window[\"83883238-7fa9-11eb-8850-0242ac1c0002\"] = google.colab.output.setActiveOutputArea(window[\"836edc7a-7fa9-11eb-8850-0242ac1c0002\"]);\n",
              "//# sourceURL=js_b2fde5140a"
            ],
            "text/plain": [
              "<IPython.core.display.Javascript object>"
            ]
          },
          "metadata": {
            "tags": [
              "id20-0-0",
              "outputarea_id20"
            ]
          }
        },
        {
          "output_type": "display_data",
          "data": {
            "application/javascript": [
              "window[\"83d625a6-7fa9-11eb-8850-0242ac1c0002\"] = google.colab.output.getActiveOutputArea();\n",
              "//# sourceURL=js_54dc4c61b3"
            ],
            "text/plain": [
              "<IPython.core.display.Javascript object>"
            ]
          },
          "metadata": {
            "tags": [
              "id20-0-0",
              "outputarea_id20"
            ]
          }
        },
        {
          "output_type": "display_data",
          "data": {
            "application/javascript": [
              "window[\"83d68082-7fa9-11eb-8850-0242ac1c0002\"] = document.querySelector(\"#id20-0-0\");\n",
              "//# sourceURL=js_48ef30df3a"
            ],
            "text/plain": [
              "<IPython.core.display.Javascript object>"
            ]
          },
          "metadata": {
            "tags": [
              "id20-0-0",
              "outputarea_id20"
            ]
          }
        },
        {
          "output_type": "display_data",
          "data": {
            "application/javascript": [
              "window[\"83d6c2fe-7fa9-11eb-8850-0242ac1c0002\"] = google.colab.output.setActiveOutputArea(window[\"83d68082-7fa9-11eb-8850-0242ac1c0002\"]);\n",
              "//# sourceURL=js_a2bb301e0d"
            ],
            "text/plain": [
              "<IPython.core.display.Javascript object>"
            ]
          },
          "metadata": {
            "tags": [
              "id20-0-0",
              "outputarea_id20"
            ]
          }
        },
        {
          "output_type": "display_data",
          "data": {
            "application/javascript": [
              "window[\"83ef9cc0-7fa9-11eb-8850-0242ac1c0002\"] = google.colab.output.setActiveOutputArea(window[\"83d625a6-7fa9-11eb-8850-0242ac1c0002\"]);\n",
              "//# sourceURL=js_c8acd18603"
            ],
            "text/plain": [
              "<IPython.core.display.Javascript object>"
            ]
          },
          "metadata": {
            "tags": [
              "id20-0-0",
              "outputarea_id20"
            ]
          }
        },
        {
          "output_type": "display_data",
          "data": {
            "application/javascript": [
              "window[\"843d3958-7fa9-11eb-8850-0242ac1c0002\"] = google.colab.output.getActiveOutputArea();\n",
              "//# sourceURL=js_c0721fc8cb"
            ],
            "text/plain": [
              "<IPython.core.display.Javascript object>"
            ]
          },
          "metadata": {
            "tags": [
              "id20-0-0",
              "outputarea_id20"
            ]
          }
        },
        {
          "output_type": "display_data",
          "data": {
            "application/javascript": [
              "window[\"843d963c-7fa9-11eb-8850-0242ac1c0002\"] = document.querySelector(\"#id20-0-0\");\n",
              "//# sourceURL=js_cb58f289f4"
            ],
            "text/plain": [
              "<IPython.core.display.Javascript object>"
            ]
          },
          "metadata": {
            "tags": [
              "id20-0-0",
              "outputarea_id20"
            ]
          }
        },
        {
          "output_type": "display_data",
          "data": {
            "application/javascript": [
              "window[\"843dd930-7fa9-11eb-8850-0242ac1c0002\"] = google.colab.output.setActiveOutputArea(window[\"843d963c-7fa9-11eb-8850-0242ac1c0002\"]);\n",
              "//# sourceURL=js_e2287b81cb"
            ],
            "text/plain": [
              "<IPython.core.display.Javascript object>"
            ]
          },
          "metadata": {
            "tags": [
              "id20-0-0",
              "outputarea_id20"
            ]
          }
        },
        {
          "output_type": "display_data",
          "data": {
            "application/javascript": [
              "window[\"84571e2c-7fa9-11eb-8850-0242ac1c0002\"] = google.colab.output.setActiveOutputArea(window[\"843d3958-7fa9-11eb-8850-0242ac1c0002\"]);\n",
              "//# sourceURL=js_59454745ee"
            ],
            "text/plain": [
              "<IPython.core.display.Javascript object>"
            ]
          },
          "metadata": {
            "tags": [
              "id20-0-0",
              "outputarea_id20"
            ]
          }
        },
        {
          "output_type": "display_data",
          "data": {
            "application/javascript": [
              "window[\"84a4eb98-7fa9-11eb-8850-0242ac1c0002\"] = google.colab.output.getActiveOutputArea();\n",
              "//# sourceURL=js_c6f1cf17cf"
            ],
            "text/plain": [
              "<IPython.core.display.Javascript object>"
            ]
          },
          "metadata": {
            "tags": [
              "id20-0-0",
              "outputarea_id20"
            ]
          }
        },
        {
          "output_type": "display_data",
          "data": {
            "application/javascript": [
              "window[\"84a542f0-7fa9-11eb-8850-0242ac1c0002\"] = document.querySelector(\"#id20-0-0\");\n",
              "//# sourceURL=js_42e371824c"
            ],
            "text/plain": [
              "<IPython.core.display.Javascript object>"
            ]
          },
          "metadata": {
            "tags": [
              "id20-0-0",
              "outputarea_id20"
            ]
          }
        },
        {
          "output_type": "display_data",
          "data": {
            "application/javascript": [
              "window[\"84a5853a-7fa9-11eb-8850-0242ac1c0002\"] = google.colab.output.setActiveOutputArea(window[\"84a542f0-7fa9-11eb-8850-0242ac1c0002\"]);\n",
              "//# sourceURL=js_c3225b592d"
            ],
            "text/plain": [
              "<IPython.core.display.Javascript object>"
            ]
          },
          "metadata": {
            "tags": [
              "id20-0-0",
              "outputarea_id20"
            ]
          }
        },
        {
          "output_type": "display_data",
          "data": {
            "application/javascript": [
              "window[\"84be2a7c-7fa9-11eb-8850-0242ac1c0002\"] = google.colab.output.setActiveOutputArea(window[\"84a4eb98-7fa9-11eb-8850-0242ac1c0002\"]);\n",
              "//# sourceURL=js_dd1b5f6e7a"
            ],
            "text/plain": [
              "<IPython.core.display.Javascript object>"
            ]
          },
          "metadata": {
            "tags": [
              "id20-0-0",
              "outputarea_id20"
            ]
          }
        },
        {
          "output_type": "display_data",
          "data": {
            "application/javascript": [
              "window[\"850bd4c0-7fa9-11eb-8850-0242ac1c0002\"] = google.colab.output.getActiveOutputArea();\n",
              "//# sourceURL=js_d1120f8d9e"
            ],
            "text/plain": [
              "<IPython.core.display.Javascript object>"
            ]
          },
          "metadata": {
            "tags": [
              "id20-0-0",
              "outputarea_id20"
            ]
          }
        },
        {
          "output_type": "display_data",
          "data": {
            "application/javascript": [
              "window[\"850c1aca-7fa9-11eb-8850-0242ac1c0002\"] = document.querySelector(\"#id20-0-0\");\n",
              "//# sourceURL=js_d429b003c5"
            ],
            "text/plain": [
              "<IPython.core.display.Javascript object>"
            ]
          },
          "metadata": {
            "tags": [
              "id20-0-0",
              "outputarea_id20"
            ]
          }
        },
        {
          "output_type": "display_data",
          "data": {
            "application/javascript": [
              "window[\"850c7100-7fa9-11eb-8850-0242ac1c0002\"] = google.colab.output.setActiveOutputArea(window[\"850c1aca-7fa9-11eb-8850-0242ac1c0002\"]);\n",
              "//# sourceURL=js_bc03bf025e"
            ],
            "text/plain": [
              "<IPython.core.display.Javascript object>"
            ]
          },
          "metadata": {
            "tags": [
              "id20-0-0",
              "outputarea_id20"
            ]
          }
        },
        {
          "output_type": "display_data",
          "data": {
            "application/javascript": [
              "window[\"8522f862-7fa9-11eb-8850-0242ac1c0002\"] = google.colab.output.setActiveOutputArea(window[\"850bd4c0-7fa9-11eb-8850-0242ac1c0002\"]);\n",
              "//# sourceURL=js_43ac7b7e50"
            ],
            "text/plain": [
              "<IPython.core.display.Javascript object>"
            ]
          },
          "metadata": {
            "tags": [
              "id20-0-0",
              "outputarea_id20"
            ]
          }
        },
        {
          "output_type": "display_data",
          "data": {
            "application/javascript": [
              "window[\"85bd0f88-7fa9-11eb-8850-0242ac1c0002\"] = google.colab.output.getActiveOutputArea();\n",
              "//# sourceURL=js_ff4e69fed8"
            ],
            "text/plain": [
              "<IPython.core.display.Javascript object>"
            ]
          },
          "metadata": {
            "tags": [
              "id20-0-0",
              "outputarea_id20"
            ]
          }
        },
        {
          "output_type": "display_data",
          "data": {
            "application/javascript": [
              "window[\"85bd7bbc-7fa9-11eb-8850-0242ac1c0002\"] = document.querySelector(\"#id20-0-0\");\n",
              "//# sourceURL=js_4f5b072531"
            ],
            "text/plain": [
              "<IPython.core.display.Javascript object>"
            ]
          },
          "metadata": {
            "tags": [
              "id20-0-0",
              "outputarea_id20"
            ]
          }
        },
        {
          "output_type": "display_data",
          "data": {
            "application/javascript": [
              "window[\"85bdd10c-7fa9-11eb-8850-0242ac1c0002\"] = google.colab.output.setActiveOutputArea(window[\"85bd7bbc-7fa9-11eb-8850-0242ac1c0002\"]);\n",
              "//# sourceURL=js_5b35a1b6df"
            ],
            "text/plain": [
              "<IPython.core.display.Javascript object>"
            ]
          },
          "metadata": {
            "tags": [
              "id20-0-0",
              "outputarea_id20"
            ]
          }
        },
        {
          "output_type": "display_data",
          "data": {
            "application/javascript": [
              "window[\"85d4d3f2-7fa9-11eb-8850-0242ac1c0002\"] = google.colab.output.setActiveOutputArea(window[\"85bd0f88-7fa9-11eb-8850-0242ac1c0002\"]);\n",
              "//# sourceURL=js_12b844c9a8"
            ],
            "text/plain": [
              "<IPython.core.display.Javascript object>"
            ]
          },
          "metadata": {
            "tags": [
              "id20-0-0",
              "outputarea_id20"
            ]
          }
        },
        {
          "output_type": "display_data",
          "data": {
            "application/javascript": [
              "window[\"86229da8-7fa9-11eb-8850-0242ac1c0002\"] = google.colab.output.getActiveOutputArea();\n",
              "//# sourceURL=js_4140fe1a5b"
            ],
            "text/plain": [
              "<IPython.core.display.Javascript object>"
            ]
          },
          "metadata": {
            "tags": [
              "id20-0-0",
              "outputarea_id20"
            ]
          }
        },
        {
          "output_type": "display_data",
          "data": {
            "application/javascript": [
              "window[\"8622ea1a-7fa9-11eb-8850-0242ac1c0002\"] = document.querySelector(\"#id20-0-0\");\n",
              "//# sourceURL=js_ae57100755"
            ],
            "text/plain": [
              "<IPython.core.display.Javascript object>"
            ]
          },
          "metadata": {
            "tags": [
              "id20-0-0",
              "outputarea_id20"
            ]
          }
        },
        {
          "output_type": "display_data",
          "data": {
            "application/javascript": [
              "window[\"862327a0-7fa9-11eb-8850-0242ac1c0002\"] = google.colab.output.setActiveOutputArea(window[\"8622ea1a-7fa9-11eb-8850-0242ac1c0002\"]);\n",
              "//# sourceURL=js_81e1247aa2"
            ],
            "text/plain": [
              "<IPython.core.display.Javascript object>"
            ]
          },
          "metadata": {
            "tags": [
              "id20-0-0",
              "outputarea_id20"
            ]
          }
        },
        {
          "output_type": "display_data",
          "data": {
            "application/javascript": [
              "window[\"863e0354-7fa9-11eb-8850-0242ac1c0002\"] = google.colab.output.setActiveOutputArea(window[\"86229da8-7fa9-11eb-8850-0242ac1c0002\"]);\n",
              "//# sourceURL=js_b5430a8b83"
            ],
            "text/plain": [
              "<IPython.core.display.Javascript object>"
            ]
          },
          "metadata": {
            "tags": [
              "id20-0-0",
              "outputarea_id20"
            ]
          }
        },
        {
          "output_type": "display_data",
          "data": {
            "application/javascript": [
              "window[\"868ef174-7fa9-11eb-8850-0242ac1c0002\"] = google.colab.output.getActiveOutputArea();\n",
              "//# sourceURL=js_89b39f58c9"
            ],
            "text/plain": [
              "<IPython.core.display.Javascript object>"
            ]
          },
          "metadata": {
            "tags": [
              "id20-0-0",
              "outputarea_id20"
            ]
          }
        },
        {
          "output_type": "display_data",
          "data": {
            "application/javascript": [
              "window[\"868f6bae-7fa9-11eb-8850-0242ac1c0002\"] = document.querySelector(\"#id20-0-0\");\n",
              "//# sourceURL=js_8028170d8e"
            ],
            "text/plain": [
              "<IPython.core.display.Javascript object>"
            ]
          },
          "metadata": {
            "tags": [
              "id20-0-0",
              "outputarea_id20"
            ]
          }
        },
        {
          "output_type": "display_data",
          "data": {
            "application/javascript": [
              "window[\"869047b8-7fa9-11eb-8850-0242ac1c0002\"] = google.colab.output.setActiveOutputArea(window[\"868f6bae-7fa9-11eb-8850-0242ac1c0002\"]);\n",
              "//# sourceURL=js_a3c6e9f694"
            ],
            "text/plain": [
              "<IPython.core.display.Javascript object>"
            ]
          },
          "metadata": {
            "tags": [
              "id20-0-0",
              "outputarea_id20"
            ]
          }
        },
        {
          "output_type": "display_data",
          "data": {
            "application/javascript": [
              "window[\"86a921a2-7fa9-11eb-8850-0242ac1c0002\"] = google.colab.output.setActiveOutputArea(window[\"868ef174-7fa9-11eb-8850-0242ac1c0002\"]);\n",
              "//# sourceURL=js_c262dfec82"
            ],
            "text/plain": [
              "<IPython.core.display.Javascript object>"
            ]
          },
          "metadata": {
            "tags": [
              "id20-0-0",
              "outputarea_id20"
            ]
          }
        },
        {
          "output_type": "display_data",
          "data": {
            "application/javascript": [
              "window[\"86f79044-7fa9-11eb-8850-0242ac1c0002\"] = google.colab.output.getActiveOutputArea();\n",
              "//# sourceURL=js_aa7d11ab62"
            ],
            "text/plain": [
              "<IPython.core.display.Javascript object>"
            ]
          },
          "metadata": {
            "tags": [
              "id20-0-0",
              "outputarea_id20"
            ]
          }
        },
        {
          "output_type": "display_data",
          "data": {
            "application/javascript": [
              "window[\"86f7f1a6-7fa9-11eb-8850-0242ac1c0002\"] = document.querySelector(\"#id20-0-0\");\n",
              "//# sourceURL=js_38403014aa"
            ],
            "text/plain": [
              "<IPython.core.display.Javascript object>"
            ]
          },
          "metadata": {
            "tags": [
              "id20-0-0",
              "outputarea_id20"
            ]
          }
        },
        {
          "output_type": "display_data",
          "data": {
            "application/javascript": [
              "window[\"86f96004-7fa9-11eb-8850-0242ac1c0002\"] = google.colab.output.setActiveOutputArea(window[\"86f7f1a6-7fa9-11eb-8850-0242ac1c0002\"]);\n",
              "//# sourceURL=js_9e3668ff35"
            ],
            "text/plain": [
              "<IPython.core.display.Javascript object>"
            ]
          },
          "metadata": {
            "tags": [
              "id20-0-0",
              "outputarea_id20"
            ]
          }
        },
        {
          "output_type": "display_data",
          "data": {
            "application/javascript": [
              "window[\"87123020-7fa9-11eb-8850-0242ac1c0002\"] = google.colab.output.setActiveOutputArea(window[\"86f79044-7fa9-11eb-8850-0242ac1c0002\"]);\n",
              "//# sourceURL=js_1f0f14bd7d"
            ],
            "text/plain": [
              "<IPython.core.display.Javascript object>"
            ]
          },
          "metadata": {
            "tags": [
              "id20-0-0",
              "outputarea_id20"
            ]
          }
        },
        {
          "output_type": "display_data",
          "data": {
            "application/javascript": [
              "window[\"87ac4598-7fa9-11eb-8850-0242ac1c0002\"] = google.colab.output.getActiveOutputArea();\n",
              "//# sourceURL=js_fd90e54b98"
            ],
            "text/plain": [
              "<IPython.core.display.Javascript object>"
            ]
          },
          "metadata": {
            "tags": [
              "id20-0-0",
              "outputarea_id20"
            ]
          }
        },
        {
          "output_type": "display_data",
          "data": {
            "application/javascript": [
              "window[\"87aca010-7fa9-11eb-8850-0242ac1c0002\"] = document.querySelector(\"#id20-0-0\");\n",
              "//# sourceURL=js_a929ee30f2"
            ],
            "text/plain": [
              "<IPython.core.display.Javascript object>"
            ]
          },
          "metadata": {
            "tags": [
              "id20-0-0",
              "outputarea_id20"
            ]
          }
        },
        {
          "output_type": "display_data",
          "data": {
            "application/javascript": [
              "window[\"87acdfb2-7fa9-11eb-8850-0242ac1c0002\"] = google.colab.output.setActiveOutputArea(window[\"87aca010-7fa9-11eb-8850-0242ac1c0002\"]);\n",
              "//# sourceURL=js_2edb7c7136"
            ],
            "text/plain": [
              "<IPython.core.display.Javascript object>"
            ]
          },
          "metadata": {
            "tags": [
              "id20-0-0",
              "outputarea_id20"
            ]
          }
        },
        {
          "output_type": "display_data",
          "data": {
            "application/javascript": [
              "window[\"87c4a016-7fa9-11eb-8850-0242ac1c0002\"] = google.colab.output.setActiveOutputArea(window[\"87ac4598-7fa9-11eb-8850-0242ac1c0002\"]);\n",
              "//# sourceURL=js_f459478c79"
            ],
            "text/plain": [
              "<IPython.core.display.Javascript object>"
            ]
          },
          "metadata": {
            "tags": [
              "id20-0-0",
              "outputarea_id20"
            ]
          }
        },
        {
          "output_type": "display_data",
          "data": {
            "application/javascript": [
              "window[\"881246ae-7fa9-11eb-8850-0242ac1c0002\"] = google.colab.output.getActiveOutputArea();\n",
              "//# sourceURL=js_8198ba844e"
            ],
            "text/plain": [
              "<IPython.core.display.Javascript object>"
            ]
          },
          "metadata": {
            "tags": [
              "id20-0-0",
              "outputarea_id20"
            ]
          }
        },
        {
          "output_type": "display_data",
          "data": {
            "application/javascript": [
              "window[\"88128ca4-7fa9-11eb-8850-0242ac1c0002\"] = document.querySelector(\"#id20-0-0\");\n",
              "//# sourceURL=js_e7f3b358c5"
            ],
            "text/plain": [
              "<IPython.core.display.Javascript object>"
            ]
          },
          "metadata": {
            "tags": [
              "id20-0-0",
              "outputarea_id20"
            ]
          }
        },
        {
          "output_type": "display_data",
          "data": {
            "application/javascript": [
              "window[\"8812cbba-7fa9-11eb-8850-0242ac1c0002\"] = google.colab.output.setActiveOutputArea(window[\"88128ca4-7fa9-11eb-8850-0242ac1c0002\"]);\n",
              "//# sourceURL=js_bd53e60d8f"
            ],
            "text/plain": [
              "<IPython.core.display.Javascript object>"
            ]
          },
          "metadata": {
            "tags": [
              "id20-0-0",
              "outputarea_id20"
            ]
          }
        },
        {
          "output_type": "display_data",
          "data": {
            "application/javascript": [
              "window[\"882dbeca-7fa9-11eb-8850-0242ac1c0002\"] = google.colab.output.setActiveOutputArea(window[\"881246ae-7fa9-11eb-8850-0242ac1c0002\"]);\n",
              "//# sourceURL=js_b760d6f747"
            ],
            "text/plain": [
              "<IPython.core.display.Javascript object>"
            ]
          },
          "metadata": {
            "tags": [
              "id20-0-0",
              "outputarea_id20"
            ]
          }
        },
        {
          "output_type": "display_data",
          "data": {
            "application/javascript": [
              "window[\"88c7d29e-7fa9-11eb-8850-0242ac1c0002\"] = google.colab.output.getActiveOutputArea();\n",
              "//# sourceURL=js_667aeb56f4"
            ],
            "text/plain": [
              "<IPython.core.display.Javascript object>"
            ]
          },
          "metadata": {
            "tags": [
              "id20-0-0",
              "outputarea_id20"
            ]
          }
        },
        {
          "output_type": "display_data",
          "data": {
            "application/javascript": [
              "window[\"88c83220-7fa9-11eb-8850-0242ac1c0002\"] = document.querySelector(\"#id20-0-0\");\n",
              "//# sourceURL=js_876c108696"
            ],
            "text/plain": [
              "<IPython.core.display.Javascript object>"
            ]
          },
          "metadata": {
            "tags": [
              "id20-0-0",
              "outputarea_id20"
            ]
          }
        },
        {
          "output_type": "display_data",
          "data": {
            "application/javascript": [
              "window[\"88c8728a-7fa9-11eb-8850-0242ac1c0002\"] = google.colab.output.setActiveOutputArea(window[\"88c83220-7fa9-11eb-8850-0242ac1c0002\"]);\n",
              "//# sourceURL=js_51806edbcc"
            ],
            "text/plain": [
              "<IPython.core.display.Javascript object>"
            ]
          },
          "metadata": {
            "tags": [
              "id20-0-0",
              "outputarea_id20"
            ]
          }
        },
        {
          "output_type": "display_data",
          "data": {
            "application/javascript": [
              "window[\"88e2e1ec-7fa9-11eb-8850-0242ac1c0002\"] = google.colab.output.setActiveOutputArea(window[\"88c7d29e-7fa9-11eb-8850-0242ac1c0002\"]);\n",
              "//# sourceURL=js_98f9629b23"
            ],
            "text/plain": [
              "<IPython.core.display.Javascript object>"
            ]
          },
          "metadata": {
            "tags": [
              "id20-0-0",
              "outputarea_id20"
            ]
          }
        },
        {
          "output_type": "display_data",
          "data": {
            "application/javascript": [
              "window[\"8931651a-7fa9-11eb-8850-0242ac1c0002\"] = google.colab.output.getActiveOutputArea();\n",
              "//# sourceURL=js_ddfc1047de"
            ],
            "text/plain": [
              "<IPython.core.display.Javascript object>"
            ]
          },
          "metadata": {
            "tags": [
              "id20-0-0",
              "outputarea_id20"
            ]
          }
        },
        {
          "output_type": "display_data",
          "data": {
            "application/javascript": [
              "window[\"8931ac00-7fa9-11eb-8850-0242ac1c0002\"] = document.querySelector(\"#id20-0-0\");\n",
              "//# sourceURL=js_bb8bbde286"
            ],
            "text/plain": [
              "<IPython.core.display.Javascript object>"
            ]
          },
          "metadata": {
            "tags": [
              "id20-0-0",
              "outputarea_id20"
            ]
          }
        },
        {
          "output_type": "display_data",
          "data": {
            "application/javascript": [
              "window[\"8931f8fe-7fa9-11eb-8850-0242ac1c0002\"] = google.colab.output.setActiveOutputArea(window[\"8931ac00-7fa9-11eb-8850-0242ac1c0002\"]);\n",
              "//# sourceURL=js_3ce66239ed"
            ],
            "text/plain": [
              "<IPython.core.display.Javascript object>"
            ]
          },
          "metadata": {
            "tags": [
              "id20-0-0",
              "outputarea_id20"
            ]
          }
        },
        {
          "output_type": "display_data",
          "data": {
            "application/javascript": [
              "window[\"894a89d2-7fa9-11eb-8850-0242ac1c0002\"] = google.colab.output.setActiveOutputArea(window[\"8931651a-7fa9-11eb-8850-0242ac1c0002\"]);\n",
              "//# sourceURL=js_3f33ae975e"
            ],
            "text/plain": [
              "<IPython.core.display.Javascript object>"
            ]
          },
          "metadata": {
            "tags": [
              "id20-0-0",
              "outputarea_id20"
            ]
          }
        },
        {
          "output_type": "display_data",
          "data": {
            "application/javascript": [
              "window[\"8a310bc8-7fa9-11eb-8850-0242ac1c0002\"] = google.colab.output.getActiveOutputArea();\n",
              "//# sourceURL=js_8d97e53286"
            ],
            "text/plain": [
              "<IPython.core.display.Javascript object>"
            ]
          },
          "metadata": {
            "tags": [
              "id20-0-0",
              "outputarea_id20"
            ]
          }
        },
        {
          "output_type": "display_data",
          "data": {
            "application/javascript": [
              "window[\"8a31683e-7fa9-11eb-8850-0242ac1c0002\"] = document.querySelector(\"#id20-0-0\");\n",
              "//# sourceURL=js_0842686c52"
            ],
            "text/plain": [
              "<IPython.core.display.Javascript object>"
            ]
          },
          "metadata": {
            "tags": [
              "id20-0-0",
              "outputarea_id20"
            ]
          }
        },
        {
          "output_type": "display_data",
          "data": {
            "application/javascript": [
              "window[\"8a31aac4-7fa9-11eb-8850-0242ac1c0002\"] = google.colab.output.setActiveOutputArea(window[\"8a31683e-7fa9-11eb-8850-0242ac1c0002\"]);\n",
              "//# sourceURL=js_ef55d04aa1"
            ],
            "text/plain": [
              "<IPython.core.display.Javascript object>"
            ]
          },
          "metadata": {
            "tags": [
              "id20-0-0",
              "outputarea_id20"
            ]
          }
        },
        {
          "output_type": "display_data",
          "data": {
            "application/javascript": [
              "window[\"8a4a812a-7fa9-11eb-8850-0242ac1c0002\"] = google.colab.output.setActiveOutputArea(window[\"8a310bc8-7fa9-11eb-8850-0242ac1c0002\"]);\n",
              "//# sourceURL=js_f259cb04bc"
            ],
            "text/plain": [
              "<IPython.core.display.Javascript object>"
            ]
          },
          "metadata": {
            "tags": [
              "id20-0-0",
              "outputarea_id20"
            ]
          }
        },
        {
          "output_type": "display_data",
          "data": {
            "application/javascript": [
              "window[\"8a9814bc-7fa9-11eb-8850-0242ac1c0002\"] = google.colab.output.getActiveOutputArea();\n",
              "//# sourceURL=js_5d7d01db7c"
            ],
            "text/plain": [
              "<IPython.core.display.Javascript object>"
            ]
          },
          "metadata": {
            "tags": [
              "id20-0-0",
              "outputarea_id20"
            ]
          }
        },
        {
          "output_type": "display_data",
          "data": {
            "application/javascript": [
              "window[\"8a986d54-7fa9-11eb-8850-0242ac1c0002\"] = document.querySelector(\"#id20-0-0\");\n",
              "//# sourceURL=js_cd04b9c471"
            ],
            "text/plain": [
              "<IPython.core.display.Javascript object>"
            ]
          },
          "metadata": {
            "tags": [
              "id20-0-0",
              "outputarea_id20"
            ]
          }
        },
        {
          "output_type": "display_data",
          "data": {
            "application/javascript": [
              "window[\"8a98b476-7fa9-11eb-8850-0242ac1c0002\"] = google.colab.output.setActiveOutputArea(window[\"8a986d54-7fa9-11eb-8850-0242ac1c0002\"]);\n",
              "//# sourceURL=js_f166a13a62"
            ],
            "text/plain": [
              "<IPython.core.display.Javascript object>"
            ]
          },
          "metadata": {
            "tags": [
              "id20-0-0",
              "outputarea_id20"
            ]
          }
        },
        {
          "output_type": "display_data",
          "data": {
            "application/javascript": [
              "window[\"8aaf9cb8-7fa9-11eb-8850-0242ac1c0002\"] = google.colab.output.setActiveOutputArea(window[\"8a9814bc-7fa9-11eb-8850-0242ac1c0002\"]);\n",
              "//# sourceURL=js_9a91e08407"
            ],
            "text/plain": [
              "<IPython.core.display.Javascript object>"
            ]
          },
          "metadata": {
            "tags": [
              "id20-0-0",
              "outputarea_id20"
            ]
          }
        },
        {
          "output_type": "display_data",
          "data": {
            "application/javascript": [
              "window[\"8afd503e-7fa9-11eb-8850-0242ac1c0002\"] = google.colab.output.getActiveOutputArea();\n",
              "//# sourceURL=js_7ff7866e20"
            ],
            "text/plain": [
              "<IPython.core.display.Javascript object>"
            ]
          },
          "metadata": {
            "tags": [
              "id20-0-0",
              "outputarea_id20"
            ]
          }
        },
        {
          "output_type": "display_data",
          "data": {
            "application/javascript": [
              "window[\"8afdbfd8-7fa9-11eb-8850-0242ac1c0002\"] = document.querySelector(\"#id20-0-0\");\n",
              "//# sourceURL=js_096ad5d102"
            ],
            "text/plain": [
              "<IPython.core.display.Javascript object>"
            ]
          },
          "metadata": {
            "tags": [
              "id20-0-0",
              "outputarea_id20"
            ]
          }
        },
        {
          "output_type": "display_data",
          "data": {
            "application/javascript": [
              "window[\"8afe048e-7fa9-11eb-8850-0242ac1c0002\"] = google.colab.output.setActiveOutputArea(window[\"8afdbfd8-7fa9-11eb-8850-0242ac1c0002\"]);\n",
              "//# sourceURL=js_9887892db8"
            ],
            "text/plain": [
              "<IPython.core.display.Javascript object>"
            ]
          },
          "metadata": {
            "tags": [
              "id20-0-0",
              "outputarea_id20"
            ]
          }
        },
        {
          "output_type": "display_data",
          "data": {
            "application/javascript": [
              "window[\"8b257d2a-7fa9-11eb-8850-0242ac1c0002\"] = google.colab.output.setActiveOutputArea(window[\"8afd503e-7fa9-11eb-8850-0242ac1c0002\"]);\n",
              "//# sourceURL=js_ac07594c12"
            ],
            "text/plain": [
              "<IPython.core.display.Javascript object>"
            ]
          },
          "metadata": {
            "tags": [
              "id20-0-0",
              "outputarea_id20"
            ]
          }
        },
        {
          "output_type": "display_data",
          "data": {
            "application/javascript": [
              "window[\"8b731ed6-7fa9-11eb-8850-0242ac1c0002\"] = google.colab.output.getActiveOutputArea();\n",
              "//# sourceURL=js_a8ea2d93f0"
            ],
            "text/plain": [
              "<IPython.core.display.Javascript object>"
            ]
          },
          "metadata": {
            "tags": [
              "id20-0-0",
              "outputarea_id20"
            ]
          }
        },
        {
          "output_type": "display_data",
          "data": {
            "application/javascript": [
              "window[\"8b73581a-7fa9-11eb-8850-0242ac1c0002\"] = document.querySelector(\"#id20-0-0\");\n",
              "//# sourceURL=js_4dc3813040"
            ],
            "text/plain": [
              "<IPython.core.display.Javascript object>"
            ]
          },
          "metadata": {
            "tags": [
              "id20-0-0",
              "outputarea_id20"
            ]
          }
        },
        {
          "output_type": "display_data",
          "data": {
            "application/javascript": [
              "window[\"8b73a7c0-7fa9-11eb-8850-0242ac1c0002\"] = google.colab.output.setActiveOutputArea(window[\"8b73581a-7fa9-11eb-8850-0242ac1c0002\"]);\n",
              "//# sourceURL=js_cb8d8b444f"
            ],
            "text/plain": [
              "<IPython.core.display.Javascript object>"
            ]
          },
          "metadata": {
            "tags": [
              "id20-0-0",
              "outputarea_id20"
            ]
          }
        },
        {
          "output_type": "display_data",
          "data": {
            "application/javascript": [
              "window[\"8b8d35b4-7fa9-11eb-8850-0242ac1c0002\"] = google.colab.output.setActiveOutputArea(window[\"8b731ed6-7fa9-11eb-8850-0242ac1c0002\"]);\n",
              "//# sourceURL=js_17a90a9e95"
            ],
            "text/plain": [
              "<IPython.core.display.Javascript object>"
            ]
          },
          "metadata": {
            "tags": [
              "id20-0-0",
              "outputarea_id20"
            ]
          }
        },
        {
          "output_type": "display_data",
          "data": {
            "application/javascript": [
              "window[\"8bdb6be4-7fa9-11eb-8850-0242ac1c0002\"] = google.colab.output.getActiveOutputArea();\n",
              "//# sourceURL=js_5ae243b06d"
            ],
            "text/plain": [
              "<IPython.core.display.Javascript object>"
            ]
          },
          "metadata": {
            "tags": [
              "id20-0-0",
              "outputarea_id20"
            ]
          }
        },
        {
          "output_type": "display_data",
          "data": {
            "application/javascript": [
              "window[\"8bdc5536-7fa9-11eb-8850-0242ac1c0002\"] = document.querySelector(\"#id20-0-0\");\n",
              "//# sourceURL=js_c6744f7e14"
            ],
            "text/plain": [
              "<IPython.core.display.Javascript object>"
            ]
          },
          "metadata": {
            "tags": [
              "id20-0-0",
              "outputarea_id20"
            ]
          }
        },
        {
          "output_type": "display_data",
          "data": {
            "application/javascript": [
              "window[\"8bdd284e-7fa9-11eb-8850-0242ac1c0002\"] = google.colab.output.setActiveOutputArea(window[\"8bdc5536-7fa9-11eb-8850-0242ac1c0002\"]);\n",
              "//# sourceURL=js_ea4c2fd2ce"
            ],
            "text/plain": [
              "<IPython.core.display.Javascript object>"
            ]
          },
          "metadata": {
            "tags": [
              "id20-0-0",
              "outputarea_id20"
            ]
          }
        },
        {
          "output_type": "display_data",
          "data": {
            "application/javascript": [
              "window[\"8bf46d56-7fa9-11eb-8850-0242ac1c0002\"] = google.colab.output.setActiveOutputArea(window[\"8bdb6be4-7fa9-11eb-8850-0242ac1c0002\"]);\n",
              "//# sourceURL=js_a4b1a38e77"
            ],
            "text/plain": [
              "<IPython.core.display.Javascript object>"
            ]
          },
          "metadata": {
            "tags": [
              "id20-0-0",
              "outputarea_id20"
            ]
          }
        },
        {
          "output_type": "display_data",
          "data": {
            "application/javascript": [
              "window[\"8c428748-7fa9-11eb-8850-0242ac1c0002\"] = google.colab.output.getActiveOutputArea();\n",
              "//# sourceURL=js_29b94ae52c"
            ],
            "text/plain": [
              "<IPython.core.display.Javascript object>"
            ]
          },
          "metadata": {
            "tags": [
              "id20-0-0",
              "outputarea_id20"
            ]
          }
        },
        {
          "output_type": "display_data",
          "data": {
            "application/javascript": [
              "window[\"8c42d518-7fa9-11eb-8850-0242ac1c0002\"] = document.querySelector(\"#id20-0-0\");\n",
              "//# sourceURL=js_e1a0766d8e"
            ],
            "text/plain": [
              "<IPython.core.display.Javascript object>"
            ]
          },
          "metadata": {
            "tags": [
              "id20-0-0",
              "outputarea_id20"
            ]
          }
        },
        {
          "output_type": "display_data",
          "data": {
            "application/javascript": [
              "window[\"8c431bcc-7fa9-11eb-8850-0242ac1c0002\"] = google.colab.output.setActiveOutputArea(window[\"8c42d518-7fa9-11eb-8850-0242ac1c0002\"]);\n",
              "//# sourceURL=js_f9fe4bf971"
            ],
            "text/plain": [
              "<IPython.core.display.Javascript object>"
            ]
          },
          "metadata": {
            "tags": [
              "id20-0-0",
              "outputarea_id20"
            ]
          }
        },
        {
          "output_type": "display_data",
          "data": {
            "application/javascript": [
              "window[\"8c5a6ef8-7fa9-11eb-8850-0242ac1c0002\"] = google.colab.output.setActiveOutputArea(window[\"8c428748-7fa9-11eb-8850-0242ac1c0002\"]);\n",
              "//# sourceURL=js_876557253c"
            ],
            "text/plain": [
              "<IPython.core.display.Javascript object>"
            ]
          },
          "metadata": {
            "tags": [
              "id20-0-0",
              "outputarea_id20"
            ]
          }
        },
        {
          "output_type": "display_data",
          "data": {
            "application/javascript": [
              "window[\"8ca80a00-7fa9-11eb-8850-0242ac1c0002\"] = google.colab.output.getActiveOutputArea();\n",
              "//# sourceURL=js_f9e11d3d8c"
            ],
            "text/plain": [
              "<IPython.core.display.Javascript object>"
            ]
          },
          "metadata": {
            "tags": [
              "id20-0-0",
              "outputarea_id20"
            ]
          }
        },
        {
          "output_type": "display_data",
          "data": {
            "application/javascript": [
              "window[\"8ca840e2-7fa9-11eb-8850-0242ac1c0002\"] = document.querySelector(\"#id20-0-0\");\n",
              "//# sourceURL=js_1bc7657d79"
            ],
            "text/plain": [
              "<IPython.core.display.Javascript object>"
            ]
          },
          "metadata": {
            "tags": [
              "id20-0-0",
              "outputarea_id20"
            ]
          }
        },
        {
          "output_type": "display_data",
          "data": {
            "application/javascript": [
              "window[\"8ca871ca-7fa9-11eb-8850-0242ac1c0002\"] = google.colab.output.setActiveOutputArea(window[\"8ca840e2-7fa9-11eb-8850-0242ac1c0002\"]);\n",
              "//# sourceURL=js_57f5419d63"
            ],
            "text/plain": [
              "<IPython.core.display.Javascript object>"
            ]
          },
          "metadata": {
            "tags": [
              "id20-0-0",
              "outputarea_id20"
            ]
          }
        },
        {
          "output_type": "display_data",
          "data": {
            "application/javascript": [
              "window[\"8cc34ef0-7fa9-11eb-8850-0242ac1c0002\"] = google.colab.output.setActiveOutputArea(window[\"8ca80a00-7fa9-11eb-8850-0242ac1c0002\"]);\n",
              "//# sourceURL=js_fedd1c3876"
            ],
            "text/plain": [
              "<IPython.core.display.Javascript object>"
            ]
          },
          "metadata": {
            "tags": [
              "id20-0-0",
              "outputarea_id20"
            ]
          }
        },
        {
          "output_type": "display_data",
          "data": {
            "application/javascript": [
              "window[\"8d134c48-7fa9-11eb-8850-0242ac1c0002\"] = google.colab.output.getActiveOutputArea();\n",
              "//# sourceURL=js_cdd3caafad"
            ],
            "text/plain": [
              "<IPython.core.display.Javascript object>"
            ]
          },
          "metadata": {
            "tags": [
              "id20-0-0",
              "outputarea_id20"
            ]
          }
        },
        {
          "output_type": "display_data",
          "data": {
            "application/javascript": [
              "window[\"8d146380-7fa9-11eb-8850-0242ac1c0002\"] = document.querySelector(\"#id20-0-0\");\n",
              "//# sourceURL=js_01aa7eaadb"
            ],
            "text/plain": [
              "<IPython.core.display.Javascript object>"
            ]
          },
          "metadata": {
            "tags": [
              "id20-0-0",
              "outputarea_id20"
            ]
          }
        },
        {
          "output_type": "display_data",
          "data": {
            "application/javascript": [
              "window[\"8d157fae-7fa9-11eb-8850-0242ac1c0002\"] = google.colab.output.setActiveOutputArea(window[\"8d146380-7fa9-11eb-8850-0242ac1c0002\"]);\n",
              "//# sourceURL=js_1d0b34768c"
            ],
            "text/plain": [
              "<IPython.core.display.Javascript object>"
            ]
          },
          "metadata": {
            "tags": [
              "id20-0-0",
              "outputarea_id20"
            ]
          }
        },
        {
          "output_type": "display_data",
          "data": {
            "application/javascript": [
              "window[\"8d2e191a-7fa9-11eb-8850-0242ac1c0002\"] = google.colab.output.setActiveOutputArea(window[\"8d134c48-7fa9-11eb-8850-0242ac1c0002\"]);\n",
              "//# sourceURL=js_43fca66535"
            ],
            "text/plain": [
              "<IPython.core.display.Javascript object>"
            ]
          },
          "metadata": {
            "tags": [
              "id20-0-0",
              "outputarea_id20"
            ]
          }
        },
        {
          "output_type": "display_data",
          "data": {
            "application/javascript": [
              "window[\"8d7bf4c8-7fa9-11eb-8850-0242ac1c0002\"] = google.colab.output.getActiveOutputArea();\n",
              "//# sourceURL=js_5ff5cf6ffb"
            ],
            "text/plain": [
              "<IPython.core.display.Javascript object>"
            ]
          },
          "metadata": {
            "tags": [
              "id20-0-0",
              "outputarea_id20"
            ]
          }
        },
        {
          "output_type": "display_data",
          "data": {
            "application/javascript": [
              "window[\"8d7c5a08-7fa9-11eb-8850-0242ac1c0002\"] = document.querySelector(\"#id20-0-0\");\n",
              "//# sourceURL=js_a5f7b2df84"
            ],
            "text/plain": [
              "<IPython.core.display.Javascript object>"
            ]
          },
          "metadata": {
            "tags": [
              "id20-0-0",
              "outputarea_id20"
            ]
          }
        },
        {
          "output_type": "display_data",
          "data": {
            "application/javascript": [
              "window[\"8d7c9f36-7fa9-11eb-8850-0242ac1c0002\"] = google.colab.output.setActiveOutputArea(window[\"8d7c5a08-7fa9-11eb-8850-0242ac1c0002\"]);\n",
              "//# sourceURL=js_a461d5d076"
            ],
            "text/plain": [
              "<IPython.core.display.Javascript object>"
            ]
          },
          "metadata": {
            "tags": [
              "id20-0-0",
              "outputarea_id20"
            ]
          }
        },
        {
          "output_type": "display_data",
          "data": {
            "application/javascript": [
              "window[\"8d95f300-7fa9-11eb-8850-0242ac1c0002\"] = google.colab.output.setActiveOutputArea(window[\"8d7bf4c8-7fa9-11eb-8850-0242ac1c0002\"]);\n",
              "//# sourceURL=js_dd4f23259f"
            ],
            "text/plain": [
              "<IPython.core.display.Javascript object>"
            ]
          },
          "metadata": {
            "tags": [
              "id20-0-0",
              "outputarea_id20"
            ]
          }
        },
        {
          "output_type": "display_data",
          "data": {
            "application/javascript": [
              "window[\"8e30191c-7fa9-11eb-8850-0242ac1c0002\"] = google.colab.output.getActiveOutputArea();\n",
              "//# sourceURL=js_1d8223d061"
            ],
            "text/plain": [
              "<IPython.core.display.Javascript object>"
            ]
          },
          "metadata": {
            "tags": [
              "id20-0-0",
              "outputarea_id20"
            ]
          }
        },
        {
          "output_type": "display_data",
          "data": {
            "application/javascript": [
              "window[\"8e305d50-7fa9-11eb-8850-0242ac1c0002\"] = document.querySelector(\"#id20-0-0\");\n",
              "//# sourceURL=js_3580475adf"
            ],
            "text/plain": [
              "<IPython.core.display.Javascript object>"
            ]
          },
          "metadata": {
            "tags": [
              "id20-0-0",
              "outputarea_id20"
            ]
          }
        },
        {
          "output_type": "display_data",
          "data": {
            "application/javascript": [
              "window[\"8e30b872-7fa9-11eb-8850-0242ac1c0002\"] = google.colab.output.setActiveOutputArea(window[\"8e305d50-7fa9-11eb-8850-0242ac1c0002\"]);\n",
              "//# sourceURL=js_e9c205c1d1"
            ],
            "text/plain": [
              "<IPython.core.display.Javascript object>"
            ]
          },
          "metadata": {
            "tags": [
              "id20-0-0",
              "outputarea_id20"
            ]
          }
        },
        {
          "output_type": "display_data",
          "data": {
            "application/javascript": [
              "window[\"8e4b59d4-7fa9-11eb-8850-0242ac1c0002\"] = google.colab.output.setActiveOutputArea(window[\"8e30191c-7fa9-11eb-8850-0242ac1c0002\"]);\n",
              "//# sourceURL=js_1756eacc8e"
            ],
            "text/plain": [
              "<IPython.core.display.Javascript object>"
            ]
          },
          "metadata": {
            "tags": [
              "id20-0-0",
              "outputarea_id20"
            ]
          }
        },
        {
          "output_type": "display_data",
          "data": {
            "application/javascript": [
              "window[\"8e98e9ba-7fa9-11eb-8850-0242ac1c0002\"] = google.colab.output.getActiveOutputArea();\n",
              "//# sourceURL=js_84645c757b"
            ],
            "text/plain": [
              "<IPython.core.display.Javascript object>"
            ]
          },
          "metadata": {
            "tags": [
              "id20-0-0",
              "outputarea_id20"
            ]
          }
        },
        {
          "output_type": "display_data",
          "data": {
            "application/javascript": [
              "window[\"8e992e20-7fa9-11eb-8850-0242ac1c0002\"] = document.querySelector(\"#id20-0-0\");\n",
              "//# sourceURL=js_a0a12a821d"
            ],
            "text/plain": [
              "<IPython.core.display.Javascript object>"
            ]
          },
          "metadata": {
            "tags": [
              "id20-0-0",
              "outputarea_id20"
            ]
          }
        },
        {
          "output_type": "display_data",
          "data": {
            "application/javascript": [
              "window[\"8e9a836a-7fa9-11eb-8850-0242ac1c0002\"] = google.colab.output.setActiveOutputArea(window[\"8e992e20-7fa9-11eb-8850-0242ac1c0002\"]);\n",
              "//# sourceURL=js_e743ff6fcc"
            ],
            "text/plain": [
              "<IPython.core.display.Javascript object>"
            ]
          },
          "metadata": {
            "tags": [
              "id20-0-0",
              "outputarea_id20"
            ]
          }
        },
        {
          "output_type": "display_data",
          "data": {
            "application/javascript": [
              "window[\"8eb24266-7fa9-11eb-8850-0242ac1c0002\"] = google.colab.output.setActiveOutputArea(window[\"8e98e9ba-7fa9-11eb-8850-0242ac1c0002\"]);\n",
              "//# sourceURL=js_82f41e8d22"
            ],
            "text/plain": [
              "<IPython.core.display.Javascript object>"
            ]
          },
          "metadata": {
            "tags": [
              "id20-0-0",
              "outputarea_id20"
            ]
          }
        },
        {
          "output_type": "display_data",
          "data": {
            "application/javascript": [
              "window[\"8f018420-7fa9-11eb-8850-0242ac1c0002\"] = google.colab.output.getActiveOutputArea();\n",
              "//# sourceURL=js_3420ec4d6a"
            ],
            "text/plain": [
              "<IPython.core.display.Javascript object>"
            ]
          },
          "metadata": {
            "tags": [
              "id20-0-0",
              "outputarea_id20"
            ]
          }
        },
        {
          "output_type": "display_data",
          "data": {
            "application/javascript": [
              "window[\"8f028082-7fa9-11eb-8850-0242ac1c0002\"] = document.querySelector(\"#id20-0-0\");\n",
              "//# sourceURL=js_9f644b18d5"
            ],
            "text/plain": [
              "<IPython.core.display.Javascript object>"
            ]
          },
          "metadata": {
            "tags": [
              "id20-0-0",
              "outputarea_id20"
            ]
          }
        },
        {
          "output_type": "display_data",
          "data": {
            "application/javascript": [
              "window[\"8f02e112-7fa9-11eb-8850-0242ac1c0002\"] = google.colab.output.setActiveOutputArea(window[\"8f028082-7fa9-11eb-8850-0242ac1c0002\"]);\n",
              "//# sourceURL=js_d4597d8636"
            ],
            "text/plain": [
              "<IPython.core.display.Javascript object>"
            ]
          },
          "metadata": {
            "tags": [
              "id20-0-0",
              "outputarea_id20"
            ]
          }
        },
        {
          "output_type": "display_data",
          "data": {
            "application/javascript": [
              "window[\"8f1b164c-7fa9-11eb-8850-0242ac1c0002\"] = google.colab.output.setActiveOutputArea(window[\"8f018420-7fa9-11eb-8850-0242ac1c0002\"]);\n",
              "//# sourceURL=js_b193e57128"
            ],
            "text/plain": [
              "<IPython.core.display.Javascript object>"
            ]
          },
          "metadata": {
            "tags": [
              "id20-0-0",
              "outputarea_id20"
            ]
          }
        },
        {
          "output_type": "display_data",
          "data": {
            "application/javascript": [
              "window[\"8f68cc5c-7fa9-11eb-8850-0242ac1c0002\"] = google.colab.output.getActiveOutputArea();\n",
              "//# sourceURL=js_cf377b4ab9"
            ],
            "text/plain": [
              "<IPython.core.display.Javascript object>"
            ]
          },
          "metadata": {
            "tags": [
              "id20-0-0",
              "outputarea_id20"
            ]
          }
        },
        {
          "output_type": "display_data",
          "data": {
            "application/javascript": [
              "window[\"8f6934b2-7fa9-11eb-8850-0242ac1c0002\"] = document.querySelector(\"#id20-0-0\");\n",
              "//# sourceURL=js_46a96ede98"
            ],
            "text/plain": [
              "<IPython.core.display.Javascript object>"
            ]
          },
          "metadata": {
            "tags": [
              "id20-0-0",
              "outputarea_id20"
            ]
          }
        },
        {
          "output_type": "display_data",
          "data": {
            "application/javascript": [
              "window[\"8f6a752a-7fa9-11eb-8850-0242ac1c0002\"] = google.colab.output.setActiveOutputArea(window[\"8f6934b2-7fa9-11eb-8850-0242ac1c0002\"]);\n",
              "//# sourceURL=js_00bd62bd83"
            ],
            "text/plain": [
              "<IPython.core.display.Javascript object>"
            ]
          },
          "metadata": {
            "tags": [
              "id20-0-0",
              "outputarea_id20"
            ]
          }
        },
        {
          "output_type": "display_data",
          "data": {
            "application/javascript": [
              "window[\"8f832f5c-7fa9-11eb-8850-0242ac1c0002\"] = google.colab.output.setActiveOutputArea(window[\"8f68cc5c-7fa9-11eb-8850-0242ac1c0002\"]);\n",
              "//# sourceURL=js_b84945d323"
            ],
            "text/plain": [
              "<IPython.core.display.Javascript object>"
            ]
          },
          "metadata": {
            "tags": [
              "id20-0-0",
              "outputarea_id20"
            ]
          }
        },
        {
          "output_type": "display_data",
          "data": {
            "application/javascript": [
              "window[\"8fd3467c-7fa9-11eb-8850-0242ac1c0002\"] = google.colab.output.getActiveOutputArea();\n",
              "//# sourceURL=js_f8c5ebb5d2"
            ],
            "text/plain": [
              "<IPython.core.display.Javascript object>"
            ]
          },
          "metadata": {
            "tags": [
              "id20-0-0",
              "outputarea_id20"
            ]
          }
        },
        {
          "output_type": "display_data",
          "data": {
            "application/javascript": [
              "window[\"8fd38aba-7fa9-11eb-8850-0242ac1c0002\"] = document.querySelector(\"#id20-0-0\");\n",
              "//# sourceURL=js_6724204c55"
            ],
            "text/plain": [
              "<IPython.core.display.Javascript object>"
            ]
          },
          "metadata": {
            "tags": [
              "id20-0-0",
              "outputarea_id20"
            ]
          }
        },
        {
          "output_type": "display_data",
          "data": {
            "application/javascript": [
              "window[\"8fd4ec0c-7fa9-11eb-8850-0242ac1c0002\"] = google.colab.output.setActiveOutputArea(window[\"8fd38aba-7fa9-11eb-8850-0242ac1c0002\"]);\n",
              "//# sourceURL=js_3396593afa"
            ],
            "text/plain": [
              "<IPython.core.display.Javascript object>"
            ]
          },
          "metadata": {
            "tags": [
              "id20-0-0",
              "outputarea_id20"
            ]
          }
        },
        {
          "output_type": "display_data",
          "data": {
            "application/javascript": [
              "window[\"8fee106a-7fa9-11eb-8850-0242ac1c0002\"] = google.colab.output.setActiveOutputArea(window[\"8fd3467c-7fa9-11eb-8850-0242ac1c0002\"]);\n",
              "//# sourceURL=js_4aaadb1109"
            ],
            "text/plain": [
              "<IPython.core.display.Javascript object>"
            ]
          },
          "metadata": {
            "tags": [
              "id20-0-0",
              "outputarea_id20"
            ]
          }
        },
        {
          "output_type": "display_data",
          "data": {
            "application/javascript": [
              "window[\"903cf91e-7fa9-11eb-8850-0242ac1c0002\"] = google.colab.output.getActiveOutputArea();\n",
              "//# sourceURL=js_0f9fd0018e"
            ],
            "text/plain": [
              "<IPython.core.display.Javascript object>"
            ]
          },
          "metadata": {
            "tags": [
              "id20-0-0",
              "outputarea_id20"
            ]
          }
        },
        {
          "output_type": "display_data",
          "data": {
            "application/javascript": [
              "window[\"903d3cc6-7fa9-11eb-8850-0242ac1c0002\"] = document.querySelector(\"#id20-0-0\");\n",
              "//# sourceURL=js_05c689ac44"
            ],
            "text/plain": [
              "<IPython.core.display.Javascript object>"
            ]
          },
          "metadata": {
            "tags": [
              "id20-0-0",
              "outputarea_id20"
            ]
          }
        },
        {
          "output_type": "display_data",
          "data": {
            "application/javascript": [
              "window[\"903d7c86-7fa9-11eb-8850-0242ac1c0002\"] = google.colab.output.setActiveOutputArea(window[\"903d3cc6-7fa9-11eb-8850-0242ac1c0002\"]);\n",
              "//# sourceURL=js_cfefbdeb08"
            ],
            "text/plain": [
              "<IPython.core.display.Javascript object>"
            ]
          },
          "metadata": {
            "tags": [
              "id20-0-0",
              "outputarea_id20"
            ]
          }
        },
        {
          "output_type": "display_data",
          "data": {
            "application/javascript": [
              "window[\"90576146-7fa9-11eb-8850-0242ac1c0002\"] = google.colab.output.setActiveOutputArea(window[\"903cf91e-7fa9-11eb-8850-0242ac1c0002\"]);\n",
              "//# sourceURL=js_38c355aab6"
            ],
            "text/plain": [
              "<IPython.core.display.Javascript object>"
            ]
          },
          "metadata": {
            "tags": [
              "id20-0-0",
              "outputarea_id20"
            ]
          }
        },
        {
          "output_type": "display_data",
          "data": {
            "application/javascript": [
              "window[\"90a4fdac-7fa9-11eb-8850-0242ac1c0002\"] = google.colab.output.getActiveOutputArea();\n",
              "//# sourceURL=js_32806ae143"
            ],
            "text/plain": [
              "<IPython.core.display.Javascript object>"
            ]
          },
          "metadata": {
            "tags": [
              "id20-0-0",
              "outputarea_id20"
            ]
          }
        },
        {
          "output_type": "display_data",
          "data": {
            "application/javascript": [
              "window[\"90a55554-7fa9-11eb-8850-0242ac1c0002\"] = document.querySelector(\"#id20-0-0\");\n",
              "//# sourceURL=js_5988ce539e"
            ],
            "text/plain": [
              "<IPython.core.display.Javascript object>"
            ]
          },
          "metadata": {
            "tags": [
              "id20-0-0",
              "outputarea_id20"
            ]
          }
        },
        {
          "output_type": "display_data",
          "data": {
            "application/javascript": [
              "window[\"90a64edc-7fa9-11eb-8850-0242ac1c0002\"] = google.colab.output.setActiveOutputArea(window[\"90a55554-7fa9-11eb-8850-0242ac1c0002\"]);\n",
              "//# sourceURL=js_816f8006cb"
            ],
            "text/plain": [
              "<IPython.core.display.Javascript object>"
            ]
          },
          "metadata": {
            "tags": [
              "id20-0-0",
              "outputarea_id20"
            ]
          }
        },
        {
          "output_type": "display_data",
          "data": {
            "application/javascript": [
              "window[\"90be45e6-7fa9-11eb-8850-0242ac1c0002\"] = google.colab.output.setActiveOutputArea(window[\"90a4fdac-7fa9-11eb-8850-0242ac1c0002\"]);\n",
              "//# sourceURL=js_7ae16bbaf5"
            ],
            "text/plain": [
              "<IPython.core.display.Javascript object>"
            ]
          },
          "metadata": {
            "tags": [
              "id20-0-0",
              "outputarea_id20"
            ]
          }
        },
        {
          "output_type": "display_data",
          "data": {
            "application/javascript": [
              "window[\"910c0a7e-7fa9-11eb-8850-0242ac1c0002\"] = google.colab.output.getActiveOutputArea();\n",
              "//# sourceURL=js_6cceb30c3e"
            ],
            "text/plain": [
              "<IPython.core.display.Javascript object>"
            ]
          },
          "metadata": {
            "tags": [
              "id20-0-0",
              "outputarea_id20"
            ]
          }
        },
        {
          "output_type": "display_data",
          "data": {
            "application/javascript": [
              "window[\"910c658c-7fa9-11eb-8850-0242ac1c0002\"] = document.querySelector(\"#id20-0-0\");\n",
              "//# sourceURL=js_935307dca7"
            ],
            "text/plain": [
              "<IPython.core.display.Javascript object>"
            ]
          },
          "metadata": {
            "tags": [
              "id20-0-0",
              "outputarea_id20"
            ]
          }
        },
        {
          "output_type": "display_data",
          "data": {
            "application/javascript": [
              "window[\"910cbb9a-7fa9-11eb-8850-0242ac1c0002\"] = google.colab.output.setActiveOutputArea(window[\"910c658c-7fa9-11eb-8850-0242ac1c0002\"]);\n",
              "//# sourceURL=js_4a9e125f73"
            ],
            "text/plain": [
              "<IPython.core.display.Javascript object>"
            ]
          },
          "metadata": {
            "tags": [
              "id20-0-0",
              "outputarea_id20"
            ]
          }
        },
        {
          "output_type": "display_data",
          "data": {
            "application/javascript": [
              "window[\"9126b22a-7fa9-11eb-8850-0242ac1c0002\"] = google.colab.output.setActiveOutputArea(window[\"910c0a7e-7fa9-11eb-8850-0242ac1c0002\"]);\n",
              "//# sourceURL=js_f922fa2a6c"
            ],
            "text/plain": [
              "<IPython.core.display.Javascript object>"
            ]
          },
          "metadata": {
            "tags": [
              "id20-0-0",
              "outputarea_id20"
            ]
          }
        },
        {
          "output_type": "display_data",
          "data": {
            "application/javascript": [
              "window[\"9174594e-7fa9-11eb-8850-0242ac1c0002\"] = google.colab.output.getActiveOutputArea();\n",
              "//# sourceURL=js_5e04a3065a"
            ],
            "text/plain": [
              "<IPython.core.display.Javascript object>"
            ]
          },
          "metadata": {
            "tags": [
              "id20-0-0",
              "outputarea_id20"
            ]
          }
        },
        {
          "output_type": "display_data",
          "data": {
            "application/javascript": [
              "window[\"91752d10-7fa9-11eb-8850-0242ac1c0002\"] = document.querySelector(\"#id20-0-0\");\n",
              "//# sourceURL=js_cfb2c31994"
            ],
            "text/plain": [
              "<IPython.core.display.Javascript object>"
            ]
          },
          "metadata": {
            "tags": [
              "id20-0-0",
              "outputarea_id20"
            ]
          }
        },
        {
          "output_type": "display_data",
          "data": {
            "application/javascript": [
              "window[\"9175bab4-7fa9-11eb-8850-0242ac1c0002\"] = google.colab.output.setActiveOutputArea(window[\"91752d10-7fa9-11eb-8850-0242ac1c0002\"]);\n",
              "//# sourceURL=js_4d891b6d3c"
            ],
            "text/plain": [
              "<IPython.core.display.Javascript object>"
            ]
          },
          "metadata": {
            "tags": [
              "id20-0-0",
              "outputarea_id20"
            ]
          }
        },
        {
          "output_type": "display_data",
          "data": {
            "application/javascript": [
              "window[\"919001b2-7fa9-11eb-8850-0242ac1c0002\"] = google.colab.output.setActiveOutputArea(window[\"9174594e-7fa9-11eb-8850-0242ac1c0002\"]);\n",
              "//# sourceURL=js_4859ab63c1"
            ],
            "text/plain": [
              "<IPython.core.display.Javascript object>"
            ]
          },
          "metadata": {
            "tags": [
              "id20-0-0",
              "outputarea_id20"
            ]
          }
        },
        {
          "output_type": "display_data",
          "data": {
            "application/javascript": [
              "window[\"91df6fae-7fa9-11eb-8850-0242ac1c0002\"] = google.colab.output.getActiveOutputArea();\n",
              "//# sourceURL=js_a4d23f89e1"
            ],
            "text/plain": [
              "<IPython.core.display.Javascript object>"
            ]
          },
          "metadata": {
            "tags": [
              "id20-0-0",
              "outputarea_id20"
            ]
          }
        },
        {
          "output_type": "display_data",
          "data": {
            "application/javascript": [
              "window[\"91e093d4-7fa9-11eb-8850-0242ac1c0002\"] = document.querySelector(\"#id20-0-0\");\n",
              "//# sourceURL=js_6760dece39"
            ],
            "text/plain": [
              "<IPython.core.display.Javascript object>"
            ]
          },
          "metadata": {
            "tags": [
              "id20-0-0",
              "outputarea_id20"
            ]
          }
        },
        {
          "output_type": "display_data",
          "data": {
            "application/javascript": [
              "window[\"91e109cc-7fa9-11eb-8850-0242ac1c0002\"] = google.colab.output.setActiveOutputArea(window[\"91e093d4-7fa9-11eb-8850-0242ac1c0002\"]);\n",
              "//# sourceURL=js_fb4ecc5be1"
            ],
            "text/plain": [
              "<IPython.core.display.Javascript object>"
            ]
          },
          "metadata": {
            "tags": [
              "id20-0-0",
              "outputarea_id20"
            ]
          }
        },
        {
          "output_type": "display_data",
          "data": {
            "application/javascript": [
              "window[\"920ad9b4-7fa9-11eb-8850-0242ac1c0002\"] = google.colab.output.setActiveOutputArea(window[\"91df6fae-7fa9-11eb-8850-0242ac1c0002\"]);\n",
              "//# sourceURL=js_559385fe04"
            ],
            "text/plain": [
              "<IPython.core.display.Javascript object>"
            ]
          },
          "metadata": {
            "tags": [
              "id20-0-0",
              "outputarea_id20"
            ]
          }
        },
        {
          "output_type": "display_data",
          "data": {
            "application/javascript": [
              "window[\"9258d6fa-7fa9-11eb-8850-0242ac1c0002\"] = google.colab.output.getActiveOutputArea();\n",
              "//# sourceURL=js_de70ebed06"
            ],
            "text/plain": [
              "<IPython.core.display.Javascript object>"
            ]
          },
          "metadata": {
            "tags": [
              "id20-0-0",
              "outputarea_id20"
            ]
          }
        },
        {
          "output_type": "display_data",
          "data": {
            "application/javascript": [
              "window[\"92593118-7fa9-11eb-8850-0242ac1c0002\"] = document.querySelector(\"#id20-0-0\");\n",
              "//# sourceURL=js_3a733d95ab"
            ],
            "text/plain": [
              "<IPython.core.display.Javascript object>"
            ]
          },
          "metadata": {
            "tags": [
              "id20-0-0",
              "outputarea_id20"
            ]
          }
        },
        {
          "output_type": "display_data",
          "data": {
            "application/javascript": [
              "window[\"925b0600-7fa9-11eb-8850-0242ac1c0002\"] = google.colab.output.setActiveOutputArea(window[\"92593118-7fa9-11eb-8850-0242ac1c0002\"]);\n",
              "//# sourceURL=js_a7ff52b6a9"
            ],
            "text/plain": [
              "<IPython.core.display.Javascript object>"
            ]
          },
          "metadata": {
            "tags": [
              "id20-0-0",
              "outputarea_id20"
            ]
          }
        },
        {
          "output_type": "display_data",
          "data": {
            "application/javascript": [
              "window[\"92746d52-7fa9-11eb-8850-0242ac1c0002\"] = google.colab.output.setActiveOutputArea(window[\"9258d6fa-7fa9-11eb-8850-0242ac1c0002\"]);\n",
              "//# sourceURL=js_3d655317ec"
            ],
            "text/plain": [
              "<IPython.core.display.Javascript object>"
            ]
          },
          "metadata": {
            "tags": [
              "id20-0-0",
              "outputarea_id20"
            ]
          }
        },
        {
          "output_type": "display_data",
          "data": {
            "application/javascript": [
              "window[\"92c3695c-7fa9-11eb-8850-0242ac1c0002\"] = google.colab.output.getActiveOutputArea();\n",
              "//# sourceURL=js_da39e37d09"
            ],
            "text/plain": [
              "<IPython.core.display.Javascript object>"
            ]
          },
          "metadata": {
            "tags": [
              "id20-0-0",
              "outputarea_id20"
            ]
          }
        },
        {
          "output_type": "display_data",
          "data": {
            "application/javascript": [
              "window[\"92c51158-7fa9-11eb-8850-0242ac1c0002\"] = document.querySelector(\"#id20-0-0\");\n",
              "//# sourceURL=js_ed70324204"
            ],
            "text/plain": [
              "<IPython.core.display.Javascript object>"
            ]
          },
          "metadata": {
            "tags": [
              "id20-0-0",
              "outputarea_id20"
            ]
          }
        },
        {
          "output_type": "display_data",
          "data": {
            "application/javascript": [
              "window[\"92c5bbb2-7fa9-11eb-8850-0242ac1c0002\"] = google.colab.output.setActiveOutputArea(window[\"92c51158-7fa9-11eb-8850-0242ac1c0002\"]);\n",
              "//# sourceURL=js_c3d06fc514"
            ],
            "text/plain": [
              "<IPython.core.display.Javascript object>"
            ]
          },
          "metadata": {
            "tags": [
              "id20-0-0",
              "outputarea_id20"
            ]
          }
        },
        {
          "output_type": "display_data",
          "data": {
            "application/javascript": [
              "window[\"92dd4066-7fa9-11eb-8850-0242ac1c0002\"] = google.colab.output.setActiveOutputArea(window[\"92c3695c-7fa9-11eb-8850-0242ac1c0002\"]);\n",
              "//# sourceURL=js_d73b55cb06"
            ],
            "text/plain": [
              "<IPython.core.display.Javascript object>"
            ]
          },
          "metadata": {
            "tags": [
              "id20-0-0",
              "outputarea_id20"
            ]
          }
        },
        {
          "output_type": "display_data",
          "data": {
            "application/javascript": [
              "window[\"932aea46-7fa9-11eb-8850-0242ac1c0002\"] = google.colab.output.getActiveOutputArea();\n",
              "//# sourceURL=js_56aa49c30a"
            ],
            "text/plain": [
              "<IPython.core.display.Javascript object>"
            ]
          },
          "metadata": {
            "tags": [
              "id20-0-0",
              "outputarea_id20"
            ]
          }
        },
        {
          "output_type": "display_data",
          "data": {
            "application/javascript": [
              "window[\"932b4e64-7fa9-11eb-8850-0242ac1c0002\"] = document.querySelector(\"#id20-0-0\");\n",
              "//# sourceURL=js_7fba918203"
            ],
            "text/plain": [
              "<IPython.core.display.Javascript object>"
            ]
          },
          "metadata": {
            "tags": [
              "id20-0-0",
              "outputarea_id20"
            ]
          }
        },
        {
          "output_type": "display_data",
          "data": {
            "application/javascript": [
              "window[\"932bba66-7fa9-11eb-8850-0242ac1c0002\"] = google.colab.output.setActiveOutputArea(window[\"932b4e64-7fa9-11eb-8850-0242ac1c0002\"]);\n",
              "//# sourceURL=js_3d745704d4"
            ],
            "text/plain": [
              "<IPython.core.display.Javascript object>"
            ]
          },
          "metadata": {
            "tags": [
              "id20-0-0",
              "outputarea_id20"
            ]
          }
        },
        {
          "output_type": "display_data",
          "data": {
            "application/javascript": [
              "window[\"93459710-7fa9-11eb-8850-0242ac1c0002\"] = google.colab.output.setActiveOutputArea(window[\"932aea46-7fa9-11eb-8850-0242ac1c0002\"]);\n",
              "//# sourceURL=js_625c7f2566"
            ],
            "text/plain": [
              "<IPython.core.display.Javascript object>"
            ]
          },
          "metadata": {
            "tags": [
              "id20-0-0",
              "outputarea_id20"
            ]
          }
        },
        {
          "output_type": "display_data",
          "data": {
            "application/javascript": [
              "window[\"93933c0e-7fa9-11eb-8850-0242ac1c0002\"] = google.colab.output.getActiveOutputArea();\n",
              "//# sourceURL=js_360004d2c4"
            ],
            "text/plain": [
              "<IPython.core.display.Javascript object>"
            ]
          },
          "metadata": {
            "tags": [
              "id20-0-0",
              "outputarea_id20"
            ]
          }
        },
        {
          "output_type": "display_data",
          "data": {
            "application/javascript": [
              "window[\"93937e94-7fa9-11eb-8850-0242ac1c0002\"] = document.querySelector(\"#id20-0-0\");\n",
              "//# sourceURL=js_a8a19121b1"
            ],
            "text/plain": [
              "<IPython.core.display.Javascript object>"
            ]
          },
          "metadata": {
            "tags": [
              "id20-0-0",
              "outputarea_id20"
            ]
          }
        },
        {
          "output_type": "display_data",
          "data": {
            "application/javascript": [
              "window[\"9394e98c-7fa9-11eb-8850-0242ac1c0002\"] = google.colab.output.setActiveOutputArea(window[\"93937e94-7fa9-11eb-8850-0242ac1c0002\"]);\n",
              "//# sourceURL=js_a8b17bc32c"
            ],
            "text/plain": [
              "<IPython.core.display.Javascript object>"
            ]
          },
          "metadata": {
            "tags": [
              "id20-0-0",
              "outputarea_id20"
            ]
          }
        },
        {
          "output_type": "display_data",
          "data": {
            "application/javascript": [
              "window[\"93ad58fa-7fa9-11eb-8850-0242ac1c0002\"] = google.colab.output.setActiveOutputArea(window[\"93933c0e-7fa9-11eb-8850-0242ac1c0002\"]);\n",
              "//# sourceURL=js_90c79353c5"
            ],
            "text/plain": [
              "<IPython.core.display.Javascript object>"
            ]
          },
          "metadata": {
            "tags": [
              "id20-0-0",
              "outputarea_id20"
            ]
          }
        },
        {
          "output_type": "display_data",
          "data": {
            "application/javascript": [
              "window[\"93fc5c0c-7fa9-11eb-8850-0242ac1c0002\"] = google.colab.output.getActiveOutputArea();\n",
              "//# sourceURL=js_51bb13ea6d"
            ],
            "text/plain": [
              "<IPython.core.display.Javascript object>"
            ]
          },
          "metadata": {
            "tags": [
              "id20-0-0",
              "outputarea_id20"
            ]
          }
        },
        {
          "output_type": "display_data",
          "data": {
            "application/javascript": [
              "window[\"93fcbaf8-7fa9-11eb-8850-0242ac1c0002\"] = document.querySelector(\"#id20-0-0\");\n",
              "//# sourceURL=js_0d2c007bc4"
            ],
            "text/plain": [
              "<IPython.core.display.Javascript object>"
            ]
          },
          "metadata": {
            "tags": [
              "id20-0-0",
              "outputarea_id20"
            ]
          }
        },
        {
          "output_type": "display_data",
          "data": {
            "application/javascript": [
              "window[\"93fdaec2-7fa9-11eb-8850-0242ac1c0002\"] = google.colab.output.setActiveOutputArea(window[\"93fcbaf8-7fa9-11eb-8850-0242ac1c0002\"]);\n",
              "//# sourceURL=js_eff9390a06"
            ],
            "text/plain": [
              "<IPython.core.display.Javascript object>"
            ]
          },
          "metadata": {
            "tags": [
              "id20-0-0",
              "outputarea_id20"
            ]
          }
        },
        {
          "output_type": "display_data",
          "data": {
            "application/javascript": [
              "window[\"941707a0-7fa9-11eb-8850-0242ac1c0002\"] = google.colab.output.setActiveOutputArea(window[\"93fc5c0c-7fa9-11eb-8850-0242ac1c0002\"]);\n",
              "//# sourceURL=js_2df7ea0fe7"
            ],
            "text/plain": [
              "<IPython.core.display.Javascript object>"
            ]
          },
          "metadata": {
            "tags": [
              "id20-0-0",
              "outputarea_id20"
            ]
          }
        },
        {
          "output_type": "display_data",
          "data": {
            "application/javascript": [
              "window[\"9464d282-7fa9-11eb-8850-0242ac1c0002\"] = google.colab.output.getActiveOutputArea();\n",
              "//# sourceURL=js_30de567c94"
            ],
            "text/plain": [
              "<IPython.core.display.Javascript object>"
            ]
          },
          "metadata": {
            "tags": [
              "id20-0-0",
              "outputarea_id20"
            ]
          }
        },
        {
          "output_type": "display_data",
          "data": {
            "application/javascript": [
              "window[\"94653290-7fa9-11eb-8850-0242ac1c0002\"] = document.querySelector(\"#id20-0-0\");\n",
              "//# sourceURL=js_4439d56936"
            ],
            "text/plain": [
              "<IPython.core.display.Javascript object>"
            ]
          },
          "metadata": {
            "tags": [
              "id20-0-0",
              "outputarea_id20"
            ]
          }
        },
        {
          "output_type": "display_data",
          "data": {
            "application/javascript": [
              "window[\"9465967c-7fa9-11eb-8850-0242ac1c0002\"] = google.colab.output.setActiveOutputArea(window[\"94653290-7fa9-11eb-8850-0242ac1c0002\"]);\n",
              "//# sourceURL=js_f13cfbd153"
            ],
            "text/plain": [
              "<IPython.core.display.Javascript object>"
            ]
          },
          "metadata": {
            "tags": [
              "id20-0-0",
              "outputarea_id20"
            ]
          }
        },
        {
          "output_type": "display_data",
          "data": {
            "application/javascript": [
              "window[\"947d7e0e-7fa9-11eb-8850-0242ac1c0002\"] = google.colab.output.setActiveOutputArea(window[\"9464d282-7fa9-11eb-8850-0242ac1c0002\"]);\n",
              "//# sourceURL=js_438c28358f"
            ],
            "text/plain": [
              "<IPython.core.display.Javascript object>"
            ]
          },
          "metadata": {
            "tags": [
              "id20-0-0",
              "outputarea_id20"
            ]
          }
        },
        {
          "output_type": "display_data",
          "data": {
            "application/javascript": [
              "window[\"94cb70e6-7fa9-11eb-8850-0242ac1c0002\"] = google.colab.output.getActiveOutputArea();\n",
              "//# sourceURL=js_11e9f5a1e9"
            ],
            "text/plain": [
              "<IPython.core.display.Javascript object>"
            ]
          },
          "metadata": {
            "tags": [
              "id20-0-0",
              "outputarea_id20"
            ]
          }
        },
        {
          "output_type": "display_data",
          "data": {
            "application/javascript": [
              "window[\"94cbd662-7fa9-11eb-8850-0242ac1c0002\"] = document.querySelector(\"#id20-0-0\");\n",
              "//# sourceURL=js_bc6989e5b6"
            ],
            "text/plain": [
              "<IPython.core.display.Javascript object>"
            ]
          },
          "metadata": {
            "tags": [
              "id20-0-0",
              "outputarea_id20"
            ]
          }
        },
        {
          "output_type": "display_data",
          "data": {
            "application/javascript": [
              "window[\"94ccb686-7fa9-11eb-8850-0242ac1c0002\"] = google.colab.output.setActiveOutputArea(window[\"94cbd662-7fa9-11eb-8850-0242ac1c0002\"]);\n",
              "//# sourceURL=js_e36798bbaf"
            ],
            "text/plain": [
              "<IPython.core.display.Javascript object>"
            ]
          },
          "metadata": {
            "tags": [
              "id20-0-0",
              "outputarea_id20"
            ]
          }
        },
        {
          "output_type": "display_data",
          "data": {
            "application/javascript": [
              "window[\"94e730f6-7fa9-11eb-8850-0242ac1c0002\"] = google.colab.output.setActiveOutputArea(window[\"94cb70e6-7fa9-11eb-8850-0242ac1c0002\"]);\n",
              "//# sourceURL=js_8380fd428d"
            ],
            "text/plain": [
              "<IPython.core.display.Javascript object>"
            ]
          },
          "metadata": {
            "tags": [
              "id20-0-0",
              "outputarea_id20"
            ]
          }
        },
        {
          "output_type": "display_data",
          "data": {
            "application/javascript": [
              "window[\"9536569a-7fa9-11eb-8850-0242ac1c0002\"] = google.colab.output.getActiveOutputArea();\n",
              "//# sourceURL=js_2f570b7d2e"
            ],
            "text/plain": [
              "<IPython.core.display.Javascript object>"
            ]
          },
          "metadata": {
            "tags": [
              "id20-0-0",
              "outputarea_id20"
            ]
          }
        },
        {
          "output_type": "display_data",
          "data": {
            "application/javascript": [
              "window[\"95368872-7fa9-11eb-8850-0242ac1c0002\"] = document.querySelector(\"#id20-0-0\");\n",
              "//# sourceURL=js_d65828772a"
            ],
            "text/plain": [
              "<IPython.core.display.Javascript object>"
            ]
          },
          "metadata": {
            "tags": [
              "id20-0-0",
              "outputarea_id20"
            ]
          }
        },
        {
          "output_type": "display_data",
          "data": {
            "application/javascript": [
              "window[\"953721e2-7fa9-11eb-8850-0242ac1c0002\"] = google.colab.output.setActiveOutputArea(window[\"95368872-7fa9-11eb-8850-0242ac1c0002\"]);\n",
              "//# sourceURL=js_6b8fba79a5"
            ],
            "text/plain": [
              "<IPython.core.display.Javascript object>"
            ]
          },
          "metadata": {
            "tags": [
              "id20-0-0",
              "outputarea_id20"
            ]
          }
        },
        {
          "output_type": "display_data",
          "data": {
            "application/javascript": [
              "window[\"9550f216-7fa9-11eb-8850-0242ac1c0002\"] = google.colab.output.setActiveOutputArea(window[\"9536569a-7fa9-11eb-8850-0242ac1c0002\"]);\n",
              "//# sourceURL=js_b8e3518b60"
            ],
            "text/plain": [
              "<IPython.core.display.Javascript object>"
            ]
          },
          "metadata": {
            "tags": [
              "id20-0-0",
              "outputarea_id20"
            ]
          }
        },
        {
          "output_type": "display_data",
          "data": {
            "application/javascript": [
              "window[\"95edd8c4-7fa9-11eb-8850-0242ac1c0002\"] = google.colab.output.getActiveOutputArea();\n",
              "//# sourceURL=js_7869789409"
            ],
            "text/plain": [
              "<IPython.core.display.Javascript object>"
            ]
          },
          "metadata": {
            "tags": [
              "id20-0-0",
              "outputarea_id20"
            ]
          }
        },
        {
          "output_type": "display_data",
          "data": {
            "application/javascript": [
              "window[\"95ee3ecc-7fa9-11eb-8850-0242ac1c0002\"] = document.querySelector(\"#id20-0-0\");\n",
              "//# sourceURL=js_da68daa325"
            ],
            "text/plain": [
              "<IPython.core.display.Javascript object>"
            ]
          },
          "metadata": {
            "tags": [
              "id20-0-0",
              "outputarea_id20"
            ]
          }
        },
        {
          "output_type": "display_data",
          "data": {
            "application/javascript": [
              "window[\"95ef9790-7fa9-11eb-8850-0242ac1c0002\"] = google.colab.output.setActiveOutputArea(window[\"95ee3ecc-7fa9-11eb-8850-0242ac1c0002\"]);\n",
              "//# sourceURL=js_70dd0c50c8"
            ],
            "text/plain": [
              "<IPython.core.display.Javascript object>"
            ]
          },
          "metadata": {
            "tags": [
              "id20-0-0",
              "outputarea_id20"
            ]
          }
        },
        {
          "output_type": "display_data",
          "data": {
            "application/javascript": [
              "window[\"9607bc80-7fa9-11eb-8850-0242ac1c0002\"] = google.colab.output.setActiveOutputArea(window[\"95edd8c4-7fa9-11eb-8850-0242ac1c0002\"]);\n",
              "//# sourceURL=js_c90c3e0aee"
            ],
            "text/plain": [
              "<IPython.core.display.Javascript object>"
            ]
          },
          "metadata": {
            "tags": [
              "id20-0-0",
              "outputarea_id20"
            ]
          }
        },
        {
          "output_type": "display_data",
          "data": {
            "application/javascript": [
              "window[\"9655b02a-7fa9-11eb-8850-0242ac1c0002\"] = google.colab.output.getActiveOutputArea();\n",
              "//# sourceURL=js_3f5bccec63"
            ],
            "text/plain": [
              "<IPython.core.display.Javascript object>"
            ]
          },
          "metadata": {
            "tags": [
              "id20-0-0",
              "outputarea_id20"
            ]
          }
        },
        {
          "output_type": "display_data",
          "data": {
            "application/javascript": [
              "window[\"9656127c-7fa9-11eb-8850-0242ac1c0002\"] = document.querySelector(\"#id20-0-0\");\n",
              "//# sourceURL=js_abea16d74d"
            ],
            "text/plain": [
              "<IPython.core.display.Javascript object>"
            ]
          },
          "metadata": {
            "tags": [
              "id20-0-0",
              "outputarea_id20"
            ]
          }
        },
        {
          "output_type": "display_data",
          "data": {
            "application/javascript": [
              "window[\"9656f2dc-7fa9-11eb-8850-0242ac1c0002\"] = google.colab.output.setActiveOutputArea(window[\"9656127c-7fa9-11eb-8850-0242ac1c0002\"]);\n",
              "//# sourceURL=js_199d9cf6fc"
            ],
            "text/plain": [
              "<IPython.core.display.Javascript object>"
            ]
          },
          "metadata": {
            "tags": [
              "id20-0-0",
              "outputarea_id20"
            ]
          }
        },
        {
          "output_type": "display_data",
          "data": {
            "application/javascript": [
              "window[\"96708f30-7fa9-11eb-8850-0242ac1c0002\"] = google.colab.output.setActiveOutputArea(window[\"9655b02a-7fa9-11eb-8850-0242ac1c0002\"]);\n",
              "//# sourceURL=js_9296a85a56"
            ],
            "text/plain": [
              "<IPython.core.display.Javascript object>"
            ]
          },
          "metadata": {
            "tags": [
              "id20-0-0",
              "outputarea_id20"
            ]
          }
        },
        {
          "output_type": "display_data",
          "data": {
            "application/javascript": [
              "window[\"96be38d4-7fa9-11eb-8850-0242ac1c0002\"] = google.colab.output.getActiveOutputArea();\n",
              "//# sourceURL=js_e1f927a93b"
            ],
            "text/plain": [
              "<IPython.core.display.Javascript object>"
            ]
          },
          "metadata": {
            "tags": [
              "id20-0-0",
              "outputarea_id20"
            ]
          }
        },
        {
          "output_type": "display_data",
          "data": {
            "application/javascript": [
              "window[\"96bea6fc-7fa9-11eb-8850-0242ac1c0002\"] = document.querySelector(\"#id20-0-0\");\n",
              "//# sourceURL=js_ec7ac83018"
            ],
            "text/plain": [
              "<IPython.core.display.Javascript object>"
            ]
          },
          "metadata": {
            "tags": [
              "id20-0-0",
              "outputarea_id20"
            ]
          }
        },
        {
          "output_type": "display_data",
          "data": {
            "application/javascript": [
              "window[\"96bef2e2-7fa9-11eb-8850-0242ac1c0002\"] = google.colab.output.setActiveOutputArea(window[\"96bea6fc-7fa9-11eb-8850-0242ac1c0002\"]);\n",
              "//# sourceURL=js_45e5573f54"
            ],
            "text/plain": [
              "<IPython.core.display.Javascript object>"
            ]
          },
          "metadata": {
            "tags": [
              "id20-0-0",
              "outputarea_id20"
            ]
          }
        },
        {
          "output_type": "display_data",
          "data": {
            "application/javascript": [
              "window[\"96d8238e-7fa9-11eb-8850-0242ac1c0002\"] = google.colab.output.setActiveOutputArea(window[\"96be38d4-7fa9-11eb-8850-0242ac1c0002\"]);\n",
              "//# sourceURL=js_34e6da40f8"
            ],
            "text/plain": [
              "<IPython.core.display.Javascript object>"
            ]
          },
          "metadata": {
            "tags": [
              "id20-0-0",
              "outputarea_id20"
            ]
          }
        },
        {
          "output_type": "display_data",
          "data": {
            "application/javascript": [
              "window[\"972765e8-7fa9-11eb-8850-0242ac1c0002\"] = google.colab.output.getActiveOutputArea();\n",
              "//# sourceURL=js_88dfe5d6d1"
            ],
            "text/plain": [
              "<IPython.core.display.Javascript object>"
            ]
          },
          "metadata": {
            "tags": [
              "id20-0-0",
              "outputarea_id20"
            ]
          }
        },
        {
          "output_type": "display_data",
          "data": {
            "application/javascript": [
              "window[\"9727e0cc-7fa9-11eb-8850-0242ac1c0002\"] = document.querySelector(\"#id20-0-0\");\n",
              "//# sourceURL=js_6d90018786"
            ],
            "text/plain": [
              "<IPython.core.display.Javascript object>"
            ]
          },
          "metadata": {
            "tags": [
              "id20-0-0",
              "outputarea_id20"
            ]
          }
        },
        {
          "output_type": "display_data",
          "data": {
            "application/javascript": [
              "window[\"97287118-7fa9-11eb-8850-0242ac1c0002\"] = google.colab.output.setActiveOutputArea(window[\"9727e0cc-7fa9-11eb-8850-0242ac1c0002\"]);\n",
              "//# sourceURL=js_4b85655478"
            ],
            "text/plain": [
              "<IPython.core.display.Javascript object>"
            ]
          },
          "metadata": {
            "tags": [
              "id20-0-0",
              "outputarea_id20"
            ]
          }
        },
        {
          "output_type": "display_data",
          "data": {
            "application/javascript": [
              "window[\"9743ddfe-7fa9-11eb-8850-0242ac1c0002\"] = google.colab.output.setActiveOutputArea(window[\"972765e8-7fa9-11eb-8850-0242ac1c0002\"]);\n",
              "//# sourceURL=js_002a733508"
            ],
            "text/plain": [
              "<IPython.core.display.Javascript object>"
            ]
          },
          "metadata": {
            "tags": [
              "id20-0-0",
              "outputarea_id20"
            ]
          }
        },
        {
          "output_type": "display_data",
          "data": {
            "application/javascript": [
              "window[\"97e106c4-7fa9-11eb-8850-0242ac1c0002\"] = google.colab.output.getActiveOutputArea();\n",
              "//# sourceURL=js_103afa9f4d"
            ],
            "text/plain": [
              "<IPython.core.display.Javascript object>"
            ]
          },
          "metadata": {
            "tags": [
              "id20-0-0",
              "outputarea_id20"
            ]
          }
        },
        {
          "output_type": "display_data",
          "data": {
            "application/javascript": [
              "window[\"97e180e0-7fa9-11eb-8850-0242ac1c0002\"] = document.querySelector(\"#id20-0-0\");\n",
              "//# sourceURL=js_1914b24a3f"
            ],
            "text/plain": [
              "<IPython.core.display.Javascript object>"
            ]
          },
          "metadata": {
            "tags": [
              "id20-0-0",
              "outputarea_id20"
            ]
          }
        },
        {
          "output_type": "display_data",
          "data": {
            "application/javascript": [
              "window[\"97e2ef84-7fa9-11eb-8850-0242ac1c0002\"] = google.colab.output.setActiveOutputArea(window[\"97e180e0-7fa9-11eb-8850-0242ac1c0002\"]);\n",
              "//# sourceURL=js_0f47b745f9"
            ],
            "text/plain": [
              "<IPython.core.display.Javascript object>"
            ]
          },
          "metadata": {
            "tags": [
              "id20-0-0",
              "outputarea_id20"
            ]
          }
        },
        {
          "output_type": "display_data",
          "data": {
            "application/javascript": [
              "window[\"97fc4556-7fa9-11eb-8850-0242ac1c0002\"] = google.colab.output.setActiveOutputArea(window[\"97e106c4-7fa9-11eb-8850-0242ac1c0002\"]);\n",
              "//# sourceURL=js_3aaf9f4168"
            ],
            "text/plain": [
              "<IPython.core.display.Javascript object>"
            ]
          },
          "metadata": {
            "tags": [
              "id20-0-0",
              "outputarea_id20"
            ]
          }
        },
        {
          "output_type": "display_data",
          "data": {
            "application/javascript": [
              "window[\"9849d898-7fa9-11eb-8850-0242ac1c0002\"] = google.colab.output.getActiveOutputArea();\n",
              "//# sourceURL=js_9c10add6bb"
            ],
            "text/plain": [
              "<IPython.core.display.Javascript object>"
            ]
          },
          "metadata": {
            "tags": [
              "id20-0-0",
              "outputarea_id20"
            ]
          }
        },
        {
          "output_type": "display_data",
          "data": {
            "application/javascript": [
              "window[\"984aa264-7fa9-11eb-8850-0242ac1c0002\"] = document.querySelector(\"#id20-0-0\");\n",
              "//# sourceURL=js_aae65370e2"
            ],
            "text/plain": [
              "<IPython.core.display.Javascript object>"
            ]
          },
          "metadata": {
            "tags": [
              "id20-0-0",
              "outputarea_id20"
            ]
          }
        },
        {
          "output_type": "display_data",
          "data": {
            "application/javascript": [
              "window[\"984bc590-7fa9-11eb-8850-0242ac1c0002\"] = google.colab.output.setActiveOutputArea(window[\"984aa264-7fa9-11eb-8850-0242ac1c0002\"]);\n",
              "//# sourceURL=js_4599f75094"
            ],
            "text/plain": [
              "<IPython.core.display.Javascript object>"
            ]
          },
          "metadata": {
            "tags": [
              "id20-0-0",
              "outputarea_id20"
            ]
          }
        },
        {
          "output_type": "display_data",
          "data": {
            "application/javascript": [
              "window[\"98647df6-7fa9-11eb-8850-0242ac1c0002\"] = google.colab.output.setActiveOutputArea(window[\"9849d898-7fa9-11eb-8850-0242ac1c0002\"]);\n",
              "//# sourceURL=js_ed965343c0"
            ],
            "text/plain": [
              "<IPython.core.display.Javascript object>"
            ]
          },
          "metadata": {
            "tags": [
              "id20-0-0",
              "outputarea_id20"
            ]
          }
        },
        {
          "output_type": "display_data",
          "data": {
            "application/javascript": [
              "window[\"98b21a66-7fa9-11eb-8850-0242ac1c0002\"] = google.colab.output.getActiveOutputArea();\n",
              "//# sourceURL=js_e76b5f7373"
            ],
            "text/plain": [
              "<IPython.core.display.Javascript object>"
            ]
          },
          "metadata": {
            "tags": [
              "id20-0-0",
              "outputarea_id20"
            ]
          }
        },
        {
          "output_type": "display_data",
          "data": {
            "application/javascript": [
              "window[\"98b2612e-7fa9-11eb-8850-0242ac1c0002\"] = document.querySelector(\"#id20-0-0\");\n",
              "//# sourceURL=js_7f9fcdfbb7"
            ],
            "text/plain": [
              "<IPython.core.display.Javascript object>"
            ]
          },
          "metadata": {
            "tags": [
              "id20-0-0",
              "outputarea_id20"
            ]
          }
        },
        {
          "output_type": "display_data",
          "data": {
            "application/javascript": [
              "window[\"98b2a6fc-7fa9-11eb-8850-0242ac1c0002\"] = google.colab.output.setActiveOutputArea(window[\"98b2612e-7fa9-11eb-8850-0242ac1c0002\"]);\n",
              "//# sourceURL=js_3f99ec34ef"
            ],
            "text/plain": [
              "<IPython.core.display.Javascript object>"
            ]
          },
          "metadata": {
            "tags": [
              "id20-0-0",
              "outputarea_id20"
            ]
          }
        },
        {
          "output_type": "display_data",
          "data": {
            "application/javascript": [
              "window[\"98caaebe-7fa9-11eb-8850-0242ac1c0002\"] = google.colab.output.setActiveOutputArea(window[\"98b21a66-7fa9-11eb-8850-0242ac1c0002\"]);\n",
              "//# sourceURL=js_e47d54165f"
            ],
            "text/plain": [
              "<IPython.core.display.Javascript object>"
            ]
          },
          "metadata": {
            "tags": [
              "id20-0-0",
              "outputarea_id20"
            ]
          }
        },
        {
          "output_type": "display_data",
          "data": {
            "application/javascript": [
              "window[\"9918847c-7fa9-11eb-8850-0242ac1c0002\"] = google.colab.output.getActiveOutputArea();\n",
              "//# sourceURL=js_288ffb8b41"
            ],
            "text/plain": [
              "<IPython.core.display.Javascript object>"
            ]
          },
          "metadata": {
            "tags": [
              "id20-0-0",
              "outputarea_id20"
            ]
          }
        },
        {
          "output_type": "display_data",
          "data": {
            "application/javascript": [
              "window[\"9918d666-7fa9-11eb-8850-0242ac1c0002\"] = document.querySelector(\"#id20-0-0\");\n",
              "//# sourceURL=js_255ea60d6d"
            ],
            "text/plain": [
              "<IPython.core.display.Javascript object>"
            ]
          },
          "metadata": {
            "tags": [
              "id20-0-0",
              "outputarea_id20"
            ]
          }
        },
        {
          "output_type": "display_data",
          "data": {
            "application/javascript": [
              "window[\"9919371e-7fa9-11eb-8850-0242ac1c0002\"] = google.colab.output.setActiveOutputArea(window[\"9918d666-7fa9-11eb-8850-0242ac1c0002\"]);\n",
              "//# sourceURL=js_20b721a0cc"
            ],
            "text/plain": [
              "<IPython.core.display.Javascript object>"
            ]
          },
          "metadata": {
            "tags": [
              "id20-0-0",
              "outputarea_id20"
            ]
          }
        },
        {
          "output_type": "display_data",
          "data": {
            "application/javascript": [
              "window[\"9940c1e4-7fa9-11eb-8850-0242ac1c0002\"] = google.colab.output.setActiveOutputArea(window[\"9918847c-7fa9-11eb-8850-0242ac1c0002\"]);\n",
              "//# sourceURL=js_f68cf0fda9"
            ],
            "text/plain": [
              "<IPython.core.display.Javascript object>"
            ]
          },
          "metadata": {
            "tags": [
              "id20-0-0",
              "outputarea_id20"
            ]
          }
        },
        {
          "output_type": "display_data",
          "data": {
            "application/javascript": [
              "window[\"998e8230-7fa9-11eb-8850-0242ac1c0002\"] = google.colab.output.getActiveOutputArea();\n",
              "//# sourceURL=js_7c719234e6"
            ],
            "text/plain": [
              "<IPython.core.display.Javascript object>"
            ]
          },
          "metadata": {
            "tags": [
              "id20-0-0",
              "outputarea_id20"
            ]
          }
        },
        {
          "output_type": "display_data",
          "data": {
            "application/javascript": [
              "window[\"998ebf98-7fa9-11eb-8850-0242ac1c0002\"] = document.querySelector(\"#id20-0-0\");\n",
              "//# sourceURL=js_2ee56d51a1"
            ],
            "text/plain": [
              "<IPython.core.display.Javascript object>"
            ]
          },
          "metadata": {
            "tags": [
              "id20-0-0",
              "outputarea_id20"
            ]
          }
        },
        {
          "output_type": "display_data",
          "data": {
            "application/javascript": [
              "window[\"998efaee-7fa9-11eb-8850-0242ac1c0002\"] = google.colab.output.setActiveOutputArea(window[\"998ebf98-7fa9-11eb-8850-0242ac1c0002\"]);\n",
              "//# sourceURL=js_6a7f84fc2c"
            ],
            "text/plain": [
              "<IPython.core.display.Javascript object>"
            ]
          },
          "metadata": {
            "tags": [
              "id20-0-0",
              "outputarea_id20"
            ]
          }
        },
        {
          "output_type": "display_data",
          "data": {
            "application/javascript": [
              "window[\"99a98f58-7fa9-11eb-8850-0242ac1c0002\"] = google.colab.output.setActiveOutputArea(window[\"998e8230-7fa9-11eb-8850-0242ac1c0002\"]);\n",
              "//# sourceURL=js_093e40bdea"
            ],
            "text/plain": [
              "<IPython.core.display.Javascript object>"
            ]
          },
          "metadata": {
            "tags": [
              "id20-0-0",
              "outputarea_id20"
            ]
          }
        },
        {
          "output_type": "display_data",
          "data": {
            "application/javascript": [
              "window[\"99f723da-7fa9-11eb-8850-0242ac1c0002\"] = google.colab.output.getActiveOutputArea();\n",
              "//# sourceURL=js_9a36cb5963"
            ],
            "text/plain": [
              "<IPython.core.display.Javascript object>"
            ]
          },
          "metadata": {
            "tags": [
              "id20-0-0",
              "outputarea_id20"
            ]
          }
        },
        {
          "output_type": "display_data",
          "data": {
            "application/javascript": [
              "window[\"99f77010-7fa9-11eb-8850-0242ac1c0002\"] = document.querySelector(\"#id20-0-0\");\n",
              "//# sourceURL=js_2945837c4c"
            ],
            "text/plain": [
              "<IPython.core.display.Javascript object>"
            ]
          },
          "metadata": {
            "tags": [
              "id20-0-0",
              "outputarea_id20"
            ]
          }
        },
        {
          "output_type": "display_data",
          "data": {
            "application/javascript": [
              "window[\"99f7b6ec-7fa9-11eb-8850-0242ac1c0002\"] = google.colab.output.setActiveOutputArea(window[\"99f77010-7fa9-11eb-8850-0242ac1c0002\"]);\n",
              "//# sourceURL=js_9281380f9e"
            ],
            "text/plain": [
              "<IPython.core.display.Javascript object>"
            ]
          },
          "metadata": {
            "tags": [
              "id20-0-0",
              "outputarea_id20"
            ]
          }
        },
        {
          "output_type": "display_data",
          "data": {
            "application/javascript": [
              "window[\"9a12cd4c-7fa9-11eb-8850-0242ac1c0002\"] = google.colab.output.setActiveOutputArea(window[\"99f723da-7fa9-11eb-8850-0242ac1c0002\"]);\n",
              "//# sourceURL=js_c67daa5b74"
            ],
            "text/plain": [
              "<IPython.core.display.Javascript object>"
            ]
          },
          "metadata": {
            "tags": [
              "id20-0-0",
              "outputarea_id20"
            ]
          }
        },
        {
          "output_type": "display_data",
          "data": {
            "application/javascript": [
              "window[\"9a607308-7fa9-11eb-8850-0242ac1c0002\"] = google.colab.output.getActiveOutputArea();\n",
              "//# sourceURL=js_70cf59d3bf"
            ],
            "text/plain": [
              "<IPython.core.display.Javascript object>"
            ]
          },
          "metadata": {
            "tags": [
              "id20-0-0",
              "outputarea_id20"
            ]
          }
        },
        {
          "output_type": "display_data",
          "data": {
            "application/javascript": [
              "window[\"9a60b688-7fa9-11eb-8850-0242ac1c0002\"] = document.querySelector(\"#id20-0-0\");\n",
              "//# sourceURL=js_abde3a6c75"
            ],
            "text/plain": [
              "<IPython.core.display.Javascript object>"
            ]
          },
          "metadata": {
            "tags": [
              "id20-0-0",
              "outputarea_id20"
            ]
          }
        },
        {
          "output_type": "display_data",
          "data": {
            "application/javascript": [
              "window[\"9a61f084-7fa9-11eb-8850-0242ac1c0002\"] = google.colab.output.setActiveOutputArea(window[\"9a60b688-7fa9-11eb-8850-0242ac1c0002\"]);\n",
              "//# sourceURL=js_6a5ada9fd4"
            ],
            "text/plain": [
              "<IPython.core.display.Javascript object>"
            ]
          },
          "metadata": {
            "tags": [
              "id20-0-0",
              "outputarea_id20"
            ]
          }
        },
        {
          "output_type": "display_data",
          "data": {
            "application/javascript": [
              "window[\"9a799fd6-7fa9-11eb-8850-0242ac1c0002\"] = google.colab.output.setActiveOutputArea(window[\"9a607308-7fa9-11eb-8850-0242ac1c0002\"]);\n",
              "//# sourceURL=js_d74a8ed974"
            ],
            "text/plain": [
              "<IPython.core.display.Javascript object>"
            ]
          },
          "metadata": {
            "tags": [
              "id20-0-0",
              "outputarea_id20"
            ]
          }
        },
        {
          "output_type": "display_data",
          "data": {
            "application/javascript": [
              "window[\"9ac76180-7fa9-11eb-8850-0242ac1c0002\"] = google.colab.output.getActiveOutputArea();\n",
              "//# sourceURL=js_70e1f0fcb9"
            ],
            "text/plain": [
              "<IPython.core.display.Javascript object>"
            ]
          },
          "metadata": {
            "tags": [
              "id20-0-0",
              "outputarea_id20"
            ]
          }
        },
        {
          "output_type": "display_data",
          "data": {
            "application/javascript": [
              "window[\"9ac7bae0-7fa9-11eb-8850-0242ac1c0002\"] = document.querySelector(\"#id20-0-0\");\n",
              "//# sourceURL=js_7cf54eac02"
            ],
            "text/plain": [
              "<IPython.core.display.Javascript object>"
            ]
          },
          "metadata": {
            "tags": [
              "id20-0-0",
              "outputarea_id20"
            ]
          }
        },
        {
          "output_type": "display_data",
          "data": {
            "application/javascript": [
              "window[\"9ac8052c-7fa9-11eb-8850-0242ac1c0002\"] = google.colab.output.setActiveOutputArea(window[\"9ac7bae0-7fa9-11eb-8850-0242ac1c0002\"]);\n",
              "//# sourceURL=js_77317a30f8"
            ],
            "text/plain": [
              "<IPython.core.display.Javascript object>"
            ]
          },
          "metadata": {
            "tags": [
              "id20-0-0",
              "outputarea_id20"
            ]
          }
        },
        {
          "output_type": "display_data",
          "data": {
            "application/javascript": [
              "window[\"9ae18e16-7fa9-11eb-8850-0242ac1c0002\"] = google.colab.output.setActiveOutputArea(window[\"9ac76180-7fa9-11eb-8850-0242ac1c0002\"]);\n",
              "//# sourceURL=js_38337f0599"
            ],
            "text/plain": [
              "<IPython.core.display.Javascript object>"
            ]
          },
          "metadata": {
            "tags": [
              "id20-0-0",
              "outputarea_id20"
            ]
          }
        },
        {
          "output_type": "display_data",
          "data": {
            "application/javascript": [
              "window[\"9b2f513c-7fa9-11eb-8850-0242ac1c0002\"] = google.colab.output.getActiveOutputArea();\n",
              "//# sourceURL=js_03a2fd8a32"
            ],
            "text/plain": [
              "<IPython.core.display.Javascript object>"
            ]
          },
          "metadata": {
            "tags": [
              "id20-0-0",
              "outputarea_id20"
            ]
          }
        },
        {
          "output_type": "display_data",
          "data": {
            "application/javascript": [
              "window[\"9b2f9b60-7fa9-11eb-8850-0242ac1c0002\"] = document.querySelector(\"#id20-0-0\");\n",
              "//# sourceURL=js_426f5c10bf"
            ],
            "text/plain": [
              "<IPython.core.display.Javascript object>"
            ]
          },
          "metadata": {
            "tags": [
              "id20-0-0",
              "outputarea_id20"
            ]
          }
        },
        {
          "output_type": "display_data",
          "data": {
            "application/javascript": [
              "window[\"9b2fdfe4-7fa9-11eb-8850-0242ac1c0002\"] = google.colab.output.setActiveOutputArea(window[\"9b2f9b60-7fa9-11eb-8850-0242ac1c0002\"]);\n",
              "//# sourceURL=js_da4bded2a6"
            ],
            "text/plain": [
              "<IPython.core.display.Javascript object>"
            ]
          },
          "metadata": {
            "tags": [
              "id20-0-0",
              "outputarea_id20"
            ]
          }
        },
        {
          "output_type": "display_data",
          "data": {
            "application/javascript": [
              "window[\"9b49c9b8-7fa9-11eb-8850-0242ac1c0002\"] = google.colab.output.setActiveOutputArea(window[\"9b2f513c-7fa9-11eb-8850-0242ac1c0002\"]);\n",
              "//# sourceURL=js_2a3cb2898f"
            ],
            "text/plain": [
              "<IPython.core.display.Javascript object>"
            ]
          },
          "metadata": {
            "tags": [
              "id20-0-0",
              "outputarea_id20"
            ]
          }
        },
        {
          "output_type": "display_data",
          "data": {
            "application/javascript": [
              "window[\"9b97bbd2-7fa9-11eb-8850-0242ac1c0002\"] = google.colab.output.getActiveOutputArea();\n",
              "//# sourceURL=js_0369f3f073"
            ],
            "text/plain": [
              "<IPython.core.display.Javascript object>"
            ]
          },
          "metadata": {
            "tags": [
              "id20-0-0",
              "outputarea_id20"
            ]
          }
        },
        {
          "output_type": "display_data",
          "data": {
            "application/javascript": [
              "window[\"9b98200e-7fa9-11eb-8850-0242ac1c0002\"] = document.querySelector(\"#id20-0-0\");\n",
              "//# sourceURL=js_3947c1d7be"
            ],
            "text/plain": [
              "<IPython.core.display.Javascript object>"
            ]
          },
          "metadata": {
            "tags": [
              "id20-0-0",
              "outputarea_id20"
            ]
          }
        },
        {
          "output_type": "display_data",
          "data": {
            "application/javascript": [
              "window[\"9b98781a-7fa9-11eb-8850-0242ac1c0002\"] = google.colab.output.setActiveOutputArea(window[\"9b98200e-7fa9-11eb-8850-0242ac1c0002\"]);\n",
              "//# sourceURL=js_e1fe42df03"
            ],
            "text/plain": [
              "<IPython.core.display.Javascript object>"
            ]
          },
          "metadata": {
            "tags": [
              "id20-0-0",
              "outputarea_id20"
            ]
          }
        },
        {
          "output_type": "display_data",
          "data": {
            "application/javascript": [
              "window[\"9bb18738-7fa9-11eb-8850-0242ac1c0002\"] = google.colab.output.setActiveOutputArea(window[\"9b97bbd2-7fa9-11eb-8850-0242ac1c0002\"]);\n",
              "//# sourceURL=js_6c06722ae7"
            ],
            "text/plain": [
              "<IPython.core.display.Javascript object>"
            ]
          },
          "metadata": {
            "tags": [
              "id20-0-0",
              "outputarea_id20"
            ]
          }
        },
        {
          "output_type": "display_data",
          "data": {
            "application/javascript": [
              "window[\"9bffa6a2-7fa9-11eb-8850-0242ac1c0002\"] = google.colab.output.getActiveOutputArea();\n",
              "//# sourceURL=js_aec7dd61af"
            ],
            "text/plain": [
              "<IPython.core.display.Javascript object>"
            ]
          },
          "metadata": {
            "tags": [
              "id20-0-0",
              "outputarea_id20"
            ]
          }
        },
        {
          "output_type": "display_data",
          "data": {
            "application/javascript": [
              "window[\"9bfff760-7fa9-11eb-8850-0242ac1c0002\"] = document.querySelector(\"#id20-0-0\");\n",
              "//# sourceURL=js_17b73805a4"
            ],
            "text/plain": [
              "<IPython.core.display.Javascript object>"
            ]
          },
          "metadata": {
            "tags": [
              "id20-0-0",
              "outputarea_id20"
            ]
          }
        },
        {
          "output_type": "display_data",
          "data": {
            "application/javascript": [
              "window[\"9c005796-7fa9-11eb-8850-0242ac1c0002\"] = google.colab.output.setActiveOutputArea(window[\"9bfff760-7fa9-11eb-8850-0242ac1c0002\"]);\n",
              "//# sourceURL=js_97e9fd59c2"
            ],
            "text/plain": [
              "<IPython.core.display.Javascript object>"
            ]
          },
          "metadata": {
            "tags": [
              "id20-0-0",
              "outputarea_id20"
            ]
          }
        },
        {
          "output_type": "display_data",
          "data": {
            "application/javascript": [
              "window[\"9c19d2ac-7fa9-11eb-8850-0242ac1c0002\"] = google.colab.output.setActiveOutputArea(window[\"9bffa6a2-7fa9-11eb-8850-0242ac1c0002\"]);\n",
              "//# sourceURL=js_8039880867"
            ],
            "text/plain": [
              "<IPython.core.display.Javascript object>"
            ]
          },
          "metadata": {
            "tags": [
              "id20-0-0",
              "outputarea_id20"
            ]
          }
        },
        {
          "output_type": "display_data",
          "data": {
            "application/javascript": [
              "window[\"9c6a81c0-7fa9-11eb-8850-0242ac1c0002\"] = google.colab.output.getActiveOutputArea();\n",
              "//# sourceURL=js_51a51103c9"
            ],
            "text/plain": [
              "<IPython.core.display.Javascript object>"
            ]
          },
          "metadata": {
            "tags": [
              "id20-0-0",
              "outputarea_id20"
            ]
          }
        },
        {
          "output_type": "display_data",
          "data": {
            "application/javascript": [
              "window[\"9c6ae8ae-7fa9-11eb-8850-0242ac1c0002\"] = document.querySelector(\"#id20-0-0\");\n",
              "//# sourceURL=js_4bdd2298d4"
            ],
            "text/plain": [
              "<IPython.core.display.Javascript object>"
            ]
          },
          "metadata": {
            "tags": [
              "id20-0-0",
              "outputarea_id20"
            ]
          }
        },
        {
          "output_type": "display_data",
          "data": {
            "application/javascript": [
              "window[\"9c6b5294-7fa9-11eb-8850-0242ac1c0002\"] = google.colab.output.setActiveOutputArea(window[\"9c6ae8ae-7fa9-11eb-8850-0242ac1c0002\"]);\n",
              "//# sourceURL=js_544725ab71"
            ],
            "text/plain": [
              "<IPython.core.display.Javascript object>"
            ]
          },
          "metadata": {
            "tags": [
              "id20-0-0",
              "outputarea_id20"
            ]
          }
        },
        {
          "output_type": "display_data",
          "data": {
            "application/javascript": [
              "window[\"9c85924e-7fa9-11eb-8850-0242ac1c0002\"] = google.colab.output.setActiveOutputArea(window[\"9c6a81c0-7fa9-11eb-8850-0242ac1c0002\"]);\n",
              "//# sourceURL=js_997802057f"
            ],
            "text/plain": [
              "<IPython.core.display.Javascript object>"
            ]
          },
          "metadata": {
            "tags": [
              "id20-0-0",
              "outputarea_id20"
            ]
          }
        },
        {
          "output_type": "display_data",
          "data": {
            "application/javascript": [
              "window[\"9cd32d74-7fa9-11eb-8850-0242ac1c0002\"] = google.colab.output.getActiveOutputArea();\n",
              "//# sourceURL=js_fb812519f8"
            ],
            "text/plain": [
              "<IPython.core.display.Javascript object>"
            ]
          },
          "metadata": {
            "tags": [
              "id20-0-0",
              "outputarea_id20"
            ]
          }
        },
        {
          "output_type": "display_data",
          "data": {
            "application/javascript": [
              "window[\"9cd39d72-7fa9-11eb-8850-0242ac1c0002\"] = document.querySelector(\"#id20-0-0\");\n",
              "//# sourceURL=js_718b9ea034"
            ],
            "text/plain": [
              "<IPython.core.display.Javascript object>"
            ]
          },
          "metadata": {
            "tags": [
              "id20-0-0",
              "outputarea_id20"
            ]
          }
        },
        {
          "output_type": "display_data",
          "data": {
            "application/javascript": [
              "window[\"9cd4012c-7fa9-11eb-8850-0242ac1c0002\"] = google.colab.output.setActiveOutputArea(window[\"9cd39d72-7fa9-11eb-8850-0242ac1c0002\"]);\n",
              "//# sourceURL=js_78338dcc63"
            ],
            "text/plain": [
              "<IPython.core.display.Javascript object>"
            ]
          },
          "metadata": {
            "tags": [
              "id20-0-0",
              "outputarea_id20"
            ]
          }
        },
        {
          "output_type": "display_data",
          "data": {
            "application/javascript": [
              "window[\"9cef054e-7fa9-11eb-8850-0242ac1c0002\"] = google.colab.output.setActiveOutputArea(window[\"9cd32d74-7fa9-11eb-8850-0242ac1c0002\"]);\n",
              "//# sourceURL=js_e83142a976"
            ],
            "text/plain": [
              "<IPython.core.display.Javascript object>"
            ]
          },
          "metadata": {
            "tags": [
              "id20-0-0",
              "outputarea_id20"
            ]
          }
        },
        {
          "output_type": "display_data",
          "data": {
            "application/javascript": [
              "window[\"9d3ca420-7fa9-11eb-8850-0242ac1c0002\"] = google.colab.output.getActiveOutputArea();\n",
              "//# sourceURL=js_63a32d3eda"
            ],
            "text/plain": [
              "<IPython.core.display.Javascript object>"
            ]
          },
          "metadata": {
            "tags": [
              "id20-0-0",
              "outputarea_id20"
            ]
          }
        },
        {
          "output_type": "display_data",
          "data": {
            "application/javascript": [
              "window[\"9d3cf510-7fa9-11eb-8850-0242ac1c0002\"] = document.querySelector(\"#id20-0-0\");\n",
              "//# sourceURL=js_53e3ee968a"
            ],
            "text/plain": [
              "<IPython.core.display.Javascript object>"
            ]
          },
          "metadata": {
            "tags": [
              "id20-0-0",
              "outputarea_id20"
            ]
          }
        },
        {
          "output_type": "display_data",
          "data": {
            "application/javascript": [
              "window[\"9d3d326e-7fa9-11eb-8850-0242ac1c0002\"] = google.colab.output.setActiveOutputArea(window[\"9d3cf510-7fa9-11eb-8850-0242ac1c0002\"]);\n",
              "//# sourceURL=js_86c176bbfc"
            ],
            "text/plain": [
              "<IPython.core.display.Javascript object>"
            ]
          },
          "metadata": {
            "tags": [
              "id20-0-0",
              "outputarea_id20"
            ]
          }
        },
        {
          "output_type": "display_data",
          "data": {
            "application/javascript": [
              "window[\"9d591290-7fa9-11eb-8850-0242ac1c0002\"] = google.colab.output.setActiveOutputArea(window[\"9d3ca420-7fa9-11eb-8850-0242ac1c0002\"]);\n",
              "//# sourceURL=js_60719fee54"
            ],
            "text/plain": [
              "<IPython.core.display.Javascript object>"
            ]
          },
          "metadata": {
            "tags": [
              "id20-0-0",
              "outputarea_id20"
            ]
          }
        },
        {
          "output_type": "display_data",
          "data": {
            "application/javascript": [
              "window[\"9da913ee-7fa9-11eb-8850-0242ac1c0002\"] = google.colab.output.getActiveOutputArea();\n",
              "//# sourceURL=js_faa3ba97b1"
            ],
            "text/plain": [
              "<IPython.core.display.Javascript object>"
            ]
          },
          "metadata": {
            "tags": [
              "id20-0-0",
              "outputarea_id20"
            ]
          }
        },
        {
          "output_type": "display_data",
          "data": {
            "application/javascript": [
              "window[\"9da95fd4-7fa9-11eb-8850-0242ac1c0002\"] = document.querySelector(\"#id20-0-0\");\n",
              "//# sourceURL=js_46a1ea4e34"
            ],
            "text/plain": [
              "<IPython.core.display.Javascript object>"
            ]
          },
          "metadata": {
            "tags": [
              "id20-0-0",
              "outputarea_id20"
            ]
          }
        },
        {
          "output_type": "display_data",
          "data": {
            "application/javascript": [
              "window[\"9da9aaac-7fa9-11eb-8850-0242ac1c0002\"] = google.colab.output.setActiveOutputArea(window[\"9da95fd4-7fa9-11eb-8850-0242ac1c0002\"]);\n",
              "//# sourceURL=js_67fd029aaa"
            ],
            "text/plain": [
              "<IPython.core.display.Javascript object>"
            ]
          },
          "metadata": {
            "tags": [
              "id20-0-0",
              "outputarea_id20"
            ]
          }
        },
        {
          "output_type": "display_data",
          "data": {
            "application/javascript": [
              "window[\"9dc5320e-7fa9-11eb-8850-0242ac1c0002\"] = google.colab.output.setActiveOutputArea(window[\"9da913ee-7fa9-11eb-8850-0242ac1c0002\"]);\n",
              "//# sourceURL=js_909fc7cc50"
            ],
            "text/plain": [
              "<IPython.core.display.Javascript object>"
            ]
          },
          "metadata": {
            "tags": [
              "id20-0-0",
              "outputarea_id20"
            ]
          }
        },
        {
          "output_type": "display_data",
          "data": {
            "application/javascript": [
              "window[\"9e1482d2-7fa9-11eb-8850-0242ac1c0002\"] = google.colab.output.getActiveOutputArea();\n",
              "//# sourceURL=js_6f06729635"
            ],
            "text/plain": [
              "<IPython.core.display.Javascript object>"
            ]
          },
          "metadata": {
            "tags": [
              "id20-0-0",
              "outputarea_id20"
            ]
          }
        },
        {
          "output_type": "display_data",
          "data": {
            "application/javascript": [
              "window[\"9e16dca8-7fa9-11eb-8850-0242ac1c0002\"] = document.querySelector(\"#id20-0-0\");\n",
              "//# sourceURL=js_2d3d4d7132"
            ],
            "text/plain": [
              "<IPython.core.display.Javascript object>"
            ]
          },
          "metadata": {
            "tags": [
              "id20-0-0",
              "outputarea_id20"
            ]
          }
        },
        {
          "output_type": "display_data",
          "data": {
            "application/javascript": [
              "window[\"9e172bc2-7fa9-11eb-8850-0242ac1c0002\"] = google.colab.output.setActiveOutputArea(window[\"9e16dca8-7fa9-11eb-8850-0242ac1c0002\"]);\n",
              "//# sourceURL=js_4676aaaf7c"
            ],
            "text/plain": [
              "<IPython.core.display.Javascript object>"
            ]
          },
          "metadata": {
            "tags": [
              "id20-0-0",
              "outputarea_id20"
            ]
          }
        },
        {
          "output_type": "display_data",
          "data": {
            "application/javascript": [
              "window[\"9e333d80-7fa9-11eb-8850-0242ac1c0002\"] = google.colab.output.setActiveOutputArea(window[\"9e1482d2-7fa9-11eb-8850-0242ac1c0002\"]);\n",
              "//# sourceURL=js_9beaa8af50"
            ],
            "text/plain": [
              "<IPython.core.display.Javascript object>"
            ]
          },
          "metadata": {
            "tags": [
              "id20-0-0",
              "outputarea_id20"
            ]
          }
        },
        {
          "output_type": "display_data",
          "data": {
            "application/javascript": [
              "window[\"9e817310-7fa9-11eb-8850-0242ac1c0002\"] = google.colab.output.getActiveOutputArea();\n",
              "//# sourceURL=js_d04b2ff0e1"
            ],
            "text/plain": [
              "<IPython.core.display.Javascript object>"
            ]
          },
          "metadata": {
            "tags": [
              "id20-0-0",
              "outputarea_id20"
            ]
          }
        },
        {
          "output_type": "display_data",
          "data": {
            "application/javascript": [
              "window[\"9e81d170-7fa9-11eb-8850-0242ac1c0002\"] = document.querySelector(\"#id20-0-0\");\n",
              "//# sourceURL=js_841e26c8cc"
            ],
            "text/plain": [
              "<IPython.core.display.Javascript object>"
            ]
          },
          "metadata": {
            "tags": [
              "id20-0-0",
              "outputarea_id20"
            ]
          }
        },
        {
          "output_type": "display_data",
          "data": {
            "application/javascript": [
              "window[\"9e822ad0-7fa9-11eb-8850-0242ac1c0002\"] = google.colab.output.setActiveOutputArea(window[\"9e81d170-7fa9-11eb-8850-0242ac1c0002\"]);\n",
              "//# sourceURL=js_024a524fc3"
            ],
            "text/plain": [
              "<IPython.core.display.Javascript object>"
            ]
          },
          "metadata": {
            "tags": [
              "id20-0-0",
              "outputarea_id20"
            ]
          }
        },
        {
          "output_type": "display_data",
          "data": {
            "application/javascript": [
              "window[\"9e9ce640-7fa9-11eb-8850-0242ac1c0002\"] = google.colab.output.setActiveOutputArea(window[\"9e817310-7fa9-11eb-8850-0242ac1c0002\"]);\n",
              "//# sourceURL=js_9643f36245"
            ],
            "text/plain": [
              "<IPython.core.display.Javascript object>"
            ]
          },
          "metadata": {
            "tags": [
              "id20-0-0",
              "outputarea_id20"
            ]
          }
        },
        {
          "output_type": "display_data",
          "data": {
            "application/javascript": [
              "window[\"9f3727be-7fa9-11eb-8850-0242ac1c0002\"] = google.colab.output.getActiveOutputArea();\n",
              "//# sourceURL=js_738463fb23"
            ],
            "text/plain": [
              "<IPython.core.display.Javascript object>"
            ]
          },
          "metadata": {
            "tags": [
              "id20-0-0",
              "outputarea_id20"
            ]
          }
        },
        {
          "output_type": "display_data",
          "data": {
            "application/javascript": [
              "window[\"9f3792ee-7fa9-11eb-8850-0242ac1c0002\"] = document.querySelector(\"#id20-0-0\");\n",
              "//# sourceURL=js_e6412194a2"
            ],
            "text/plain": [
              "<IPython.core.display.Javascript object>"
            ]
          },
          "metadata": {
            "tags": [
              "id20-0-0",
              "outputarea_id20"
            ]
          }
        },
        {
          "output_type": "display_data",
          "data": {
            "application/javascript": [
              "window[\"9f380bca-7fa9-11eb-8850-0242ac1c0002\"] = google.colab.output.setActiveOutputArea(window[\"9f3792ee-7fa9-11eb-8850-0242ac1c0002\"]);\n",
              "//# sourceURL=js_3922517afa"
            ],
            "text/plain": [
              "<IPython.core.display.Javascript object>"
            ]
          },
          "metadata": {
            "tags": [
              "id20-0-0",
              "outputarea_id20"
            ]
          }
        },
        {
          "output_type": "display_data",
          "data": {
            "application/javascript": [
              "window[\"9f54d4c6-7fa9-11eb-8850-0242ac1c0002\"] = google.colab.output.setActiveOutputArea(window[\"9f3727be-7fa9-11eb-8850-0242ac1c0002\"]);\n",
              "//# sourceURL=js_36473bf1b6"
            ],
            "text/plain": [
              "<IPython.core.display.Javascript object>"
            ]
          },
          "metadata": {
            "tags": [
              "id20-0-0",
              "outputarea_id20"
            ]
          }
        },
        {
          "output_type": "display_data",
          "data": {
            "application/javascript": [
              "window[\"9fa4997a-7fa9-11eb-8850-0242ac1c0002\"] = google.colab.output.getActiveOutputArea();\n",
              "//# sourceURL=js_4040b0b5fb"
            ],
            "text/plain": [
              "<IPython.core.display.Javascript object>"
            ]
          },
          "metadata": {
            "tags": [
              "id20-0-0",
              "outputarea_id20"
            ]
          }
        },
        {
          "output_type": "display_data",
          "data": {
            "application/javascript": [
              "window[\"9fa4fe24-7fa9-11eb-8850-0242ac1c0002\"] = document.querySelector(\"#id20-0-0\");\n",
              "//# sourceURL=js_d69c9c6d1e"
            ],
            "text/plain": [
              "<IPython.core.display.Javascript object>"
            ]
          },
          "metadata": {
            "tags": [
              "id20-0-0",
              "outputarea_id20"
            ]
          }
        },
        {
          "output_type": "display_data",
          "data": {
            "application/javascript": [
              "window[\"9fa53e34-7fa9-11eb-8850-0242ac1c0002\"] = google.colab.output.setActiveOutputArea(window[\"9fa4fe24-7fa9-11eb-8850-0242ac1c0002\"]);\n",
              "//# sourceURL=js_c3509503e4"
            ],
            "text/plain": [
              "<IPython.core.display.Javascript object>"
            ]
          },
          "metadata": {
            "tags": [
              "id20-0-0",
              "outputarea_id20"
            ]
          }
        },
        {
          "output_type": "display_data",
          "data": {
            "application/javascript": [
              "window[\"9fc0aa5c-7fa9-11eb-8850-0242ac1c0002\"] = google.colab.output.setActiveOutputArea(window[\"9fa4997a-7fa9-11eb-8850-0242ac1c0002\"]);\n",
              "//# sourceURL=js_6b4469158d"
            ],
            "text/plain": [
              "<IPython.core.display.Javascript object>"
            ]
          },
          "metadata": {
            "tags": [
              "id20-0-0",
              "outputarea_id20"
            ]
          }
        },
        {
          "output_type": "display_data",
          "data": {
            "application/javascript": [
              "window[\"a05bf9b2-7fa9-11eb-8850-0242ac1c0002\"] = google.colab.output.getActiveOutputArea();\n",
              "//# sourceURL=js_1b5327973e"
            ],
            "text/plain": [
              "<IPython.core.display.Javascript object>"
            ]
          },
          "metadata": {
            "tags": [
              "id20-0-0",
              "outputarea_id20"
            ]
          }
        },
        {
          "output_type": "display_data",
          "data": {
            "application/javascript": [
              "window[\"a05c6398-7fa9-11eb-8850-0242ac1c0002\"] = document.querySelector(\"#id20-0-0\");\n",
              "//# sourceURL=js_805041badf"
            ],
            "text/plain": [
              "<IPython.core.display.Javascript object>"
            ]
          },
          "metadata": {
            "tags": [
              "id20-0-0",
              "outputarea_id20"
            ]
          }
        },
        {
          "output_type": "display_data",
          "data": {
            "application/javascript": [
              "window[\"a05cad12-7fa9-11eb-8850-0242ac1c0002\"] = google.colab.output.setActiveOutputArea(window[\"a05c6398-7fa9-11eb-8850-0242ac1c0002\"]);\n",
              "//# sourceURL=js_ce12192052"
            ],
            "text/plain": [
              "<IPython.core.display.Javascript object>"
            ]
          },
          "metadata": {
            "tags": [
              "id20-0-0",
              "outputarea_id20"
            ]
          }
        },
        {
          "output_type": "display_data",
          "data": {
            "application/javascript": [
              "window[\"a08832d4-7fa9-11eb-8850-0242ac1c0002\"] = google.colab.output.setActiveOutputArea(window[\"a05bf9b2-7fa9-11eb-8850-0242ac1c0002\"]);\n",
              "//# sourceURL=js_294677cbb1"
            ],
            "text/plain": [
              "<IPython.core.display.Javascript object>"
            ]
          },
          "metadata": {
            "tags": [
              "id20-0-0",
              "outputarea_id20"
            ]
          }
        },
        {
          "output_type": "display_data",
          "data": {
            "application/javascript": [
              "window[\"a0d694ce-7fa9-11eb-8850-0242ac1c0002\"] = google.colab.output.getActiveOutputArea();\n",
              "//# sourceURL=js_91a53d274f"
            ],
            "text/plain": [
              "<IPython.core.display.Javascript object>"
            ]
          },
          "metadata": {
            "tags": [
              "id20-0-0",
              "outputarea_id20"
            ]
          }
        },
        {
          "output_type": "display_data",
          "data": {
            "application/javascript": [
              "window[\"a0d6e370-7fa9-11eb-8850-0242ac1c0002\"] = document.querySelector(\"#id20-0-0\");\n",
              "//# sourceURL=js_3ae7e44ef2"
            ],
            "text/plain": [
              "<IPython.core.display.Javascript object>"
            ]
          },
          "metadata": {
            "tags": [
              "id20-0-0",
              "outputarea_id20"
            ]
          }
        },
        {
          "output_type": "display_data",
          "data": {
            "application/javascript": [
              "window[\"a0d73d34-7fa9-11eb-8850-0242ac1c0002\"] = google.colab.output.setActiveOutputArea(window[\"a0d6e370-7fa9-11eb-8850-0242ac1c0002\"]);\n",
              "//# sourceURL=js_bda6641a0b"
            ],
            "text/plain": [
              "<IPython.core.display.Javascript object>"
            ]
          },
          "metadata": {
            "tags": [
              "id20-0-0",
              "outputarea_id20"
            ]
          }
        },
        {
          "output_type": "display_data",
          "data": {
            "application/javascript": [
              "window[\"a0f56516-7fa9-11eb-8850-0242ac1c0002\"] = google.colab.output.setActiveOutputArea(window[\"a0d694ce-7fa9-11eb-8850-0242ac1c0002\"]);\n",
              "//# sourceURL=js_f32a8ac90e"
            ],
            "text/plain": [
              "<IPython.core.display.Javascript object>"
            ]
          },
          "metadata": {
            "tags": [
              "id20-0-0",
              "outputarea_id20"
            ]
          }
        },
        {
          "output_type": "display_data",
          "data": {
            "application/javascript": [
              "window[\"a1434290-7fa9-11eb-8850-0242ac1c0002\"] = google.colab.output.getActiveOutputArea();\n",
              "//# sourceURL=js_88ca30dfbf"
            ],
            "text/plain": [
              "<IPython.core.display.Javascript object>"
            ]
          },
          "metadata": {
            "tags": [
              "id20-0-0",
              "outputarea_id20"
            ]
          }
        },
        {
          "output_type": "display_data",
          "data": {
            "application/javascript": [
              "window[\"a1438fa2-7fa9-11eb-8850-0242ac1c0002\"] = document.querySelector(\"#id20-0-0\");\n",
              "//# sourceURL=js_c9b4987bdc"
            ],
            "text/plain": [
              "<IPython.core.display.Javascript object>"
            ]
          },
          "metadata": {
            "tags": [
              "id20-0-0",
              "outputarea_id20"
            ]
          }
        },
        {
          "output_type": "display_data",
          "data": {
            "application/javascript": [
              "window[\"a143f1b8-7fa9-11eb-8850-0242ac1c0002\"] = google.colab.output.setActiveOutputArea(window[\"a1438fa2-7fa9-11eb-8850-0242ac1c0002\"]);\n",
              "//# sourceURL=js_90a6157ea7"
            ],
            "text/plain": [
              "<IPython.core.display.Javascript object>"
            ]
          },
          "metadata": {
            "tags": [
              "id20-0-0",
              "outputarea_id20"
            ]
          }
        },
        {
          "output_type": "display_data",
          "data": {
            "application/javascript": [
              "window[\"a15e4a86-7fa9-11eb-8850-0242ac1c0002\"] = google.colab.output.setActiveOutputArea(window[\"a1434290-7fa9-11eb-8850-0242ac1c0002\"]);\n",
              "//# sourceURL=js_bea170a064"
            ],
            "text/plain": [
              "<IPython.core.display.Javascript object>"
            ]
          },
          "metadata": {
            "tags": [
              "id20-0-0",
              "outputarea_id20"
            ]
          }
        },
        {
          "output_type": "display_data",
          "data": {
            "application/javascript": [
              "window[\"a1abef98-7fa9-11eb-8850-0242ac1c0002\"] = google.colab.output.getActiveOutputArea();\n",
              "//# sourceURL=js_9b7a5c68c1"
            ],
            "text/plain": [
              "<IPython.core.display.Javascript object>"
            ]
          },
          "metadata": {
            "tags": [
              "id20-0-0",
              "outputarea_id20"
            ]
          }
        },
        {
          "output_type": "display_data",
          "data": {
            "application/javascript": [
              "window[\"a1ac4dda-7fa9-11eb-8850-0242ac1c0002\"] = document.querySelector(\"#id20-0-0\");\n",
              "//# sourceURL=js_b7e2d5df4c"
            ],
            "text/plain": [
              "<IPython.core.display.Javascript object>"
            ]
          },
          "metadata": {
            "tags": [
              "id20-0-0",
              "outputarea_id20"
            ]
          }
        },
        {
          "output_type": "display_data",
          "data": {
            "application/javascript": [
              "window[\"a1ac8d40-7fa9-11eb-8850-0242ac1c0002\"] = google.colab.output.setActiveOutputArea(window[\"a1ac4dda-7fa9-11eb-8850-0242ac1c0002\"]);\n",
              "//# sourceURL=js_11a5223a5b"
            ],
            "text/plain": [
              "<IPython.core.display.Javascript object>"
            ]
          },
          "metadata": {
            "tags": [
              "id20-0-0",
              "outputarea_id20"
            ]
          }
        },
        {
          "output_type": "display_data",
          "data": {
            "application/javascript": [
              "window[\"a1c6c58e-7fa9-11eb-8850-0242ac1c0002\"] = google.colab.output.setActiveOutputArea(window[\"a1abef98-7fa9-11eb-8850-0242ac1c0002\"]);\n",
              "//# sourceURL=js_e589d5c38c"
            ],
            "text/plain": [
              "<IPython.core.display.Javascript object>"
            ]
          },
          "metadata": {
            "tags": [
              "id20-0-0",
              "outputarea_id20"
            ]
          }
        },
        {
          "output_type": "display_data",
          "data": {
            "application/javascript": [
              "window[\"a260c936-7fa9-11eb-8850-0242ac1c0002\"] = google.colab.output.getActiveOutputArea();\n",
              "//# sourceURL=js_75d3bd6d60"
            ],
            "text/plain": [
              "<IPython.core.display.Javascript object>"
            ]
          },
          "metadata": {
            "tags": [
              "id20-0-0",
              "outputarea_id20"
            ]
          }
        },
        {
          "output_type": "display_data",
          "data": {
            "application/javascript": [
              "window[\"a260fa14-7fa9-11eb-8850-0242ac1c0002\"] = document.querySelector(\"#id20-0-0\");\n",
              "//# sourceURL=js_b96af89100"
            ],
            "text/plain": [
              "<IPython.core.display.Javascript object>"
            ]
          },
          "metadata": {
            "tags": [
              "id20-0-0",
              "outputarea_id20"
            ]
          }
        },
        {
          "output_type": "display_data",
          "data": {
            "application/javascript": [
              "window[\"a2612566-7fa9-11eb-8850-0242ac1c0002\"] = google.colab.output.setActiveOutputArea(window[\"a260fa14-7fa9-11eb-8850-0242ac1c0002\"]);\n",
              "//# sourceURL=js_5325ba321d"
            ],
            "text/plain": [
              "<IPython.core.display.Javascript object>"
            ]
          },
          "metadata": {
            "tags": [
              "id20-0-0",
              "outputarea_id20"
            ]
          }
        },
        {
          "output_type": "display_data",
          "data": {
            "application/javascript": [
              "window[\"a27ea618-7fa9-11eb-8850-0242ac1c0002\"] = google.colab.output.setActiveOutputArea(window[\"a260c936-7fa9-11eb-8850-0242ac1c0002\"]);\n",
              "//# sourceURL=js_085e10d35d"
            ],
            "text/plain": [
              "<IPython.core.display.Javascript object>"
            ]
          },
          "metadata": {
            "tags": [
              "id20-0-0",
              "outputarea_id20"
            ]
          }
        },
        {
          "output_type": "display_data",
          "data": {
            "application/javascript": [
              "window[\"a31bb246-7fa9-11eb-8850-0242ac1c0002\"] = google.colab.output.getActiveOutputArea();\n",
              "//# sourceURL=js_816408d8eb"
            ],
            "text/plain": [
              "<IPython.core.display.Javascript object>"
            ]
          },
          "metadata": {
            "tags": [
              "id20-0-0",
              "outputarea_id20"
            ]
          }
        },
        {
          "output_type": "display_data",
          "data": {
            "application/javascript": [
              "window[\"a31c8194-7fa9-11eb-8850-0242ac1c0002\"] = document.querySelector(\"#id20-0-0\");\n",
              "//# sourceURL=js_5019aeff9d"
            ],
            "text/plain": [
              "<IPython.core.display.Javascript object>"
            ]
          },
          "metadata": {
            "tags": [
              "id20-0-0",
              "outputarea_id20"
            ]
          }
        },
        {
          "output_type": "display_data",
          "data": {
            "application/javascript": [
              "window[\"a31d8f58-7fa9-11eb-8850-0242ac1c0002\"] = google.colab.output.setActiveOutputArea(window[\"a31c8194-7fa9-11eb-8850-0242ac1c0002\"]);\n",
              "//# sourceURL=js_f2bba88bc3"
            ],
            "text/plain": [
              "<IPython.core.display.Javascript object>"
            ]
          },
          "metadata": {
            "tags": [
              "id20-0-0",
              "outputarea_id20"
            ]
          }
        },
        {
          "output_type": "display_data",
          "data": {
            "application/javascript": [
              "window[\"a3395c1a-7fa9-11eb-8850-0242ac1c0002\"] = google.colab.output.setActiveOutputArea(window[\"a31bb246-7fa9-11eb-8850-0242ac1c0002\"]);\n",
              "//# sourceURL=js_7a0db0055f"
            ],
            "text/plain": [
              "<IPython.core.display.Javascript object>"
            ]
          },
          "metadata": {
            "tags": [
              "id20-0-0",
              "outputarea_id20"
            ]
          }
        },
        {
          "output_type": "display_data",
          "data": {
            "application/javascript": [
              "window[\"a3870ce4-7fa9-11eb-8850-0242ac1c0002\"] = google.colab.output.getActiveOutputArea();\n",
              "//# sourceURL=js_84be92b9c2"
            ],
            "text/plain": [
              "<IPython.core.display.Javascript object>"
            ]
          },
          "metadata": {
            "tags": [
              "id20-0-0",
              "outputarea_id20"
            ]
          }
        },
        {
          "output_type": "display_data",
          "data": {
            "application/javascript": [
              "window[\"a387659a-7fa9-11eb-8850-0242ac1c0002\"] = document.querySelector(\"#id20-0-0\");\n",
              "//# sourceURL=js_9175a50c1c"
            ],
            "text/plain": [
              "<IPython.core.display.Javascript object>"
            ]
          },
          "metadata": {
            "tags": [
              "id20-0-0",
              "outputarea_id20"
            ]
          }
        },
        {
          "output_type": "display_data",
          "data": {
            "application/javascript": [
              "window[\"a387ba9a-7fa9-11eb-8850-0242ac1c0002\"] = google.colab.output.setActiveOutputArea(window[\"a387659a-7fa9-11eb-8850-0242ac1c0002\"]);\n",
              "//# sourceURL=js_eede40d93b"
            ],
            "text/plain": [
              "<IPython.core.display.Javascript object>"
            ]
          },
          "metadata": {
            "tags": [
              "id20-0-0",
              "outputarea_id20"
            ]
          }
        },
        {
          "output_type": "display_data",
          "data": {
            "application/javascript": [
              "window[\"a3a27718-7fa9-11eb-8850-0242ac1c0002\"] = google.colab.output.setActiveOutputArea(window[\"a3870ce4-7fa9-11eb-8850-0242ac1c0002\"]);\n",
              "//# sourceURL=js_c575af0897"
            ],
            "text/plain": [
              "<IPython.core.display.Javascript object>"
            ]
          },
          "metadata": {
            "tags": [
              "id20-0-0",
              "outputarea_id20"
            ]
          }
        },
        {
          "output_type": "display_data",
          "data": {
            "application/javascript": [
              "window[\"a3f092c2-7fa9-11eb-8850-0242ac1c0002\"] = google.colab.output.getActiveOutputArea();\n",
              "//# sourceURL=js_c95e543793"
            ],
            "text/plain": [
              "<IPython.core.display.Javascript object>"
            ]
          },
          "metadata": {
            "tags": [
              "id20-0-0",
              "outputarea_id20"
            ]
          }
        },
        {
          "output_type": "display_data",
          "data": {
            "application/javascript": [
              "window[\"a3f36f38-7fa9-11eb-8850-0242ac1c0002\"] = document.querySelector(\"#id20-0-0\");\n",
              "//# sourceURL=js_040c571bef"
            ],
            "text/plain": [
              "<IPython.core.display.Javascript object>"
            ]
          },
          "metadata": {
            "tags": [
              "id20-0-0",
              "outputarea_id20"
            ]
          }
        },
        {
          "output_type": "display_data",
          "data": {
            "application/javascript": [
              "window[\"a3f3c1c2-7fa9-11eb-8850-0242ac1c0002\"] = google.colab.output.setActiveOutputArea(window[\"a3f36f38-7fa9-11eb-8850-0242ac1c0002\"]);\n",
              "//# sourceURL=js_fddd503518"
            ],
            "text/plain": [
              "<IPython.core.display.Javascript object>"
            ]
          },
          "metadata": {
            "tags": [
              "id20-0-0",
              "outputarea_id20"
            ]
          }
        },
        {
          "output_type": "display_data",
          "data": {
            "application/javascript": [
              "window[\"a40f8182-7fa9-11eb-8850-0242ac1c0002\"] = google.colab.output.setActiveOutputArea(window[\"a3f092c2-7fa9-11eb-8850-0242ac1c0002\"]);\n",
              "//# sourceURL=js_216d6c5af3"
            ],
            "text/plain": [
              "<IPython.core.display.Javascript object>"
            ]
          },
          "metadata": {
            "tags": [
              "id20-0-0",
              "outputarea_id20"
            ]
          }
        },
        {
          "output_type": "display_data",
          "data": {
            "application/javascript": [
              "window[\"a45dc98c-7fa9-11eb-8850-0242ac1c0002\"] = google.colab.output.getActiveOutputArea();\n",
              "//# sourceURL=js_5a446be142"
            ],
            "text/plain": [
              "<IPython.core.display.Javascript object>"
            ]
          },
          "metadata": {
            "tags": [
              "id20-0-0",
              "outputarea_id20"
            ]
          }
        },
        {
          "output_type": "display_data",
          "data": {
            "application/javascript": [
              "window[\"a45e6266-7fa9-11eb-8850-0242ac1c0002\"] = document.querySelector(\"#id20-0-0\");\n",
              "//# sourceURL=js_b3e1871c2e"
            ],
            "text/plain": [
              "<IPython.core.display.Javascript object>"
            ]
          },
          "metadata": {
            "tags": [
              "id20-0-0",
              "outputarea_id20"
            ]
          }
        },
        {
          "output_type": "display_data",
          "data": {
            "application/javascript": [
              "window[\"a460b872-7fa9-11eb-8850-0242ac1c0002\"] = google.colab.output.setActiveOutputArea(window[\"a45e6266-7fa9-11eb-8850-0242ac1c0002\"]);\n",
              "//# sourceURL=js_f497e2df1e"
            ],
            "text/plain": [
              "<IPython.core.display.Javascript object>"
            ]
          },
          "metadata": {
            "tags": [
              "id20-0-0",
              "outputarea_id20"
            ]
          }
        },
        {
          "output_type": "display_data",
          "data": {
            "application/javascript": [
              "window[\"a47c1c98-7fa9-11eb-8850-0242ac1c0002\"] = google.colab.output.setActiveOutputArea(window[\"a45dc98c-7fa9-11eb-8850-0242ac1c0002\"]);\n",
              "//# sourceURL=js_966f14262b"
            ],
            "text/plain": [
              "<IPython.core.display.Javascript object>"
            ]
          },
          "metadata": {
            "tags": [
              "id20-0-0",
              "outputarea_id20"
            ]
          }
        },
        {
          "output_type": "display_data",
          "data": {
            "application/javascript": [
              "window[\"a4ca89c8-7fa9-11eb-8850-0242ac1c0002\"] = google.colab.output.getActiveOutputArea();\n",
              "//# sourceURL=js_68a5a47d93"
            ],
            "text/plain": [
              "<IPython.core.display.Javascript object>"
            ]
          },
          "metadata": {
            "tags": [
              "id20-0-0",
              "outputarea_id20"
            ]
          }
        },
        {
          "output_type": "display_data",
          "data": {
            "application/javascript": [
              "window[\"a4cad414-7fa9-11eb-8850-0242ac1c0002\"] = document.querySelector(\"#id20-0-0\");\n",
              "//# sourceURL=js_406a271886"
            ],
            "text/plain": [
              "<IPython.core.display.Javascript object>"
            ]
          },
          "metadata": {
            "tags": [
              "id20-0-0",
              "outputarea_id20"
            ]
          }
        },
        {
          "output_type": "display_data",
          "data": {
            "application/javascript": [
              "window[\"a4cb1be0-7fa9-11eb-8850-0242ac1c0002\"] = google.colab.output.setActiveOutputArea(window[\"a4cad414-7fa9-11eb-8850-0242ac1c0002\"]);\n",
              "//# sourceURL=js_49ca2fc5cd"
            ],
            "text/plain": [
              "<IPython.core.display.Javascript object>"
            ]
          },
          "metadata": {
            "tags": [
              "id20-0-0",
              "outputarea_id20"
            ]
          }
        },
        {
          "output_type": "display_data",
          "data": {
            "application/javascript": [
              "window[\"a4e76bb0-7fa9-11eb-8850-0242ac1c0002\"] = google.colab.output.setActiveOutputArea(window[\"a4ca89c8-7fa9-11eb-8850-0242ac1c0002\"]);\n",
              "//# sourceURL=js_8eeffcc52e"
            ],
            "text/plain": [
              "<IPython.core.display.Javascript object>"
            ]
          },
          "metadata": {
            "tags": [
              "id20-0-0",
              "outputarea_id20"
            ]
          }
        },
        {
          "output_type": "display_data",
          "data": {
            "application/javascript": [
              "window[\"a536d132-7fa9-11eb-8850-0242ac1c0002\"] = google.colab.output.getActiveOutputArea();\n",
              "//# sourceURL=js_a9d59a05ca"
            ],
            "text/plain": [
              "<IPython.core.display.Javascript object>"
            ]
          },
          "metadata": {
            "tags": [
              "id20-0-0",
              "outputarea_id20"
            ]
          }
        },
        {
          "output_type": "display_data",
          "data": {
            "application/javascript": [
              "window[\"a537196c-7fa9-11eb-8850-0242ac1c0002\"] = document.querySelector(\"#id20-0-0\");\n",
              "//# sourceURL=js_3ee9fdd64d"
            ],
            "text/plain": [
              "<IPython.core.display.Javascript object>"
            ]
          },
          "metadata": {
            "tags": [
              "id20-0-0",
              "outputarea_id20"
            ]
          }
        },
        {
          "output_type": "display_data",
          "data": {
            "application/javascript": [
              "window[\"a537cf06-7fa9-11eb-8850-0242ac1c0002\"] = google.colab.output.setActiveOutputArea(window[\"a537196c-7fa9-11eb-8850-0242ac1c0002\"]);\n",
              "//# sourceURL=js_2e807a1eb7"
            ],
            "text/plain": [
              "<IPython.core.display.Javascript object>"
            ]
          },
          "metadata": {
            "tags": [
              "id20-0-0",
              "outputarea_id20"
            ]
          }
        },
        {
          "output_type": "display_data",
          "data": {
            "application/javascript": [
              "window[\"a55263d4-7fa9-11eb-8850-0242ac1c0002\"] = google.colab.output.setActiveOutputArea(window[\"a536d132-7fa9-11eb-8850-0242ac1c0002\"]);\n",
              "//# sourceURL=js_a142fb9d31"
            ],
            "text/plain": [
              "<IPython.core.display.Javascript object>"
            ]
          },
          "metadata": {
            "tags": [
              "id20-0-0",
              "outputarea_id20"
            ]
          }
        },
        {
          "output_type": "display_data",
          "data": {
            "application/javascript": [
              "window[\"a5a3c99a-7fa9-11eb-8850-0242ac1c0002\"] = google.colab.output.getActiveOutputArea();\n",
              "//# sourceURL=js_2425344093"
            ],
            "text/plain": [
              "<IPython.core.display.Javascript object>"
            ]
          },
          "metadata": {
            "tags": [
              "id20-0-0",
              "outputarea_id20"
            ]
          }
        },
        {
          "output_type": "display_data",
          "data": {
            "application/javascript": [
              "window[\"a5a4b2e2-7fa9-11eb-8850-0242ac1c0002\"] = document.querySelector(\"#id20-0-0\");\n",
              "//# sourceURL=js_a47d057faa"
            ],
            "text/plain": [
              "<IPython.core.display.Javascript object>"
            ]
          },
          "metadata": {
            "tags": [
              "id20-0-0",
              "outputarea_id20"
            ]
          }
        },
        {
          "output_type": "display_data",
          "data": {
            "application/javascript": [
              "window[\"a5a5628c-7fa9-11eb-8850-0242ac1c0002\"] = google.colab.output.setActiveOutputArea(window[\"a5a4b2e2-7fa9-11eb-8850-0242ac1c0002\"]);\n",
              "//# sourceURL=js_e2842fe6f7"
            ],
            "text/plain": [
              "<IPython.core.display.Javascript object>"
            ]
          },
          "metadata": {
            "tags": [
              "id20-0-0",
              "outputarea_id20"
            ]
          }
        },
        {
          "output_type": "display_data",
          "data": {
            "application/javascript": [
              "window[\"a5c27200-7fa9-11eb-8850-0242ac1c0002\"] = google.colab.output.setActiveOutputArea(window[\"a5a3c99a-7fa9-11eb-8850-0242ac1c0002\"]);\n",
              "//# sourceURL=js_8b853fd266"
            ],
            "text/plain": [
              "<IPython.core.display.Javascript object>"
            ]
          },
          "metadata": {
            "tags": [
              "id20-0-0",
              "outputarea_id20"
            ]
          }
        },
        {
          "output_type": "display_data",
          "data": {
            "application/javascript": [
              "window[\"a61016a4-7fa9-11eb-8850-0242ac1c0002\"] = google.colab.output.getActiveOutputArea();\n",
              "//# sourceURL=js_d6820a123b"
            ],
            "text/plain": [
              "<IPython.core.display.Javascript object>"
            ]
          },
          "metadata": {
            "tags": [
              "id20-0-0",
              "outputarea_id20"
            ]
          }
        },
        {
          "output_type": "display_data",
          "data": {
            "application/javascript": [
              "window[\"a610ced2-7fa9-11eb-8850-0242ac1c0002\"] = document.querySelector(\"#id20-0-0\");\n",
              "//# sourceURL=js_0c3ba957d7"
            ],
            "text/plain": [
              "<IPython.core.display.Javascript object>"
            ]
          },
          "metadata": {
            "tags": [
              "id20-0-0",
              "outputarea_id20"
            ]
          }
        },
        {
          "output_type": "display_data",
          "data": {
            "application/javascript": [
              "window[\"a611204e-7fa9-11eb-8850-0242ac1c0002\"] = google.colab.output.setActiveOutputArea(window[\"a610ced2-7fa9-11eb-8850-0242ac1c0002\"]);\n",
              "//# sourceURL=js_d146dd7270"
            ],
            "text/plain": [
              "<IPython.core.display.Javascript object>"
            ]
          },
          "metadata": {
            "tags": [
              "id20-0-0",
              "outputarea_id20"
            ]
          }
        },
        {
          "output_type": "display_data",
          "data": {
            "application/javascript": [
              "window[\"a62d5624-7fa9-11eb-8850-0242ac1c0002\"] = google.colab.output.setActiveOutputArea(window[\"a61016a4-7fa9-11eb-8850-0242ac1c0002\"]);\n",
              "//# sourceURL=js_0b9a1b2e5e"
            ],
            "text/plain": [
              "<IPython.core.display.Javascript object>"
            ]
          },
          "metadata": {
            "tags": [
              "id20-0-0",
              "outputarea_id20"
            ]
          }
        },
        {
          "output_type": "display_data",
          "data": {
            "application/javascript": [
              "window[\"a67b7868-7fa9-11eb-8850-0242ac1c0002\"] = google.colab.output.getActiveOutputArea();\n",
              "//# sourceURL=js_3c9790d7a0"
            ],
            "text/plain": [
              "<IPython.core.display.Javascript object>"
            ]
          },
          "metadata": {
            "tags": [
              "id20-0-0",
              "outputarea_id20"
            ]
          }
        },
        {
          "output_type": "display_data",
          "data": {
            "application/javascript": [
              "window[\"a67bf6f8-7fa9-11eb-8850-0242ac1c0002\"] = document.querySelector(\"#id20-0-0\");\n",
              "//# sourceURL=js_c0ffa21f65"
            ],
            "text/plain": [
              "<IPython.core.display.Javascript object>"
            ]
          },
          "metadata": {
            "tags": [
              "id20-0-0",
              "outputarea_id20"
            ]
          }
        },
        {
          "output_type": "display_data",
          "data": {
            "application/javascript": [
              "window[\"a67d46fc-7fa9-11eb-8850-0242ac1c0002\"] = google.colab.output.setActiveOutputArea(window[\"a67bf6f8-7fa9-11eb-8850-0242ac1c0002\"]);\n",
              "//# sourceURL=js_e3540606fa"
            ],
            "text/plain": [
              "<IPython.core.display.Javascript object>"
            ]
          },
          "metadata": {
            "tags": [
              "id20-0-0",
              "outputarea_id20"
            ]
          }
        },
        {
          "output_type": "display_data",
          "data": {
            "application/javascript": [
              "window[\"a69915e4-7fa9-11eb-8850-0242ac1c0002\"] = google.colab.output.setActiveOutputArea(window[\"a67b7868-7fa9-11eb-8850-0242ac1c0002\"]);\n",
              "//# sourceURL=js_a5ec97a1e9"
            ],
            "text/plain": [
              "<IPython.core.display.Javascript object>"
            ]
          },
          "metadata": {
            "tags": [
              "id20-0-0",
              "outputarea_id20"
            ]
          }
        },
        {
          "output_type": "display_data",
          "data": {
            "application/javascript": [
              "window[\"a6e6f8a4-7fa9-11eb-8850-0242ac1c0002\"] = google.colab.output.getActiveOutputArea();\n",
              "//# sourceURL=js_67ec9809c7"
            ],
            "text/plain": [
              "<IPython.core.display.Javascript object>"
            ]
          },
          "metadata": {
            "tags": [
              "id20-0-0",
              "outputarea_id20"
            ]
          }
        },
        {
          "output_type": "display_data",
          "data": {
            "application/javascript": [
              "window[\"a6e7a1be-7fa9-11eb-8850-0242ac1c0002\"] = document.querySelector(\"#id20-0-0\");\n",
              "//# sourceURL=js_f563c85706"
            ],
            "text/plain": [
              "<IPython.core.display.Javascript object>"
            ]
          },
          "metadata": {
            "tags": [
              "id20-0-0",
              "outputarea_id20"
            ]
          }
        },
        {
          "output_type": "display_data",
          "data": {
            "application/javascript": [
              "window[\"a6e91508-7fa9-11eb-8850-0242ac1c0002\"] = google.colab.output.setActiveOutputArea(window[\"a6e7a1be-7fa9-11eb-8850-0242ac1c0002\"]);\n",
              "//# sourceURL=js_9a6d7609ea"
            ],
            "text/plain": [
              "<IPython.core.display.Javascript object>"
            ]
          },
          "metadata": {
            "tags": [
              "id20-0-0",
              "outputarea_id20"
            ]
          }
        },
        {
          "output_type": "display_data",
          "data": {
            "application/javascript": [
              "window[\"a7065bc2-7fa9-11eb-8850-0242ac1c0002\"] = google.colab.output.setActiveOutputArea(window[\"a6e6f8a4-7fa9-11eb-8850-0242ac1c0002\"]);\n",
              "//# sourceURL=js_4b4fda5ba0"
            ],
            "text/plain": [
              "<IPython.core.display.Javascript object>"
            ]
          },
          "metadata": {
            "tags": [
              "id20-0-0",
              "outputarea_id20"
            ]
          }
        },
        {
          "output_type": "display_data",
          "data": {
            "application/javascript": [
              "window[\"a7558760-7fa9-11eb-8850-0242ac1c0002\"] = google.colab.output.getActiveOutputArea();\n",
              "//# sourceURL=js_3cf7be0328"
            ],
            "text/plain": [
              "<IPython.core.display.Javascript object>"
            ]
          },
          "metadata": {
            "tags": [
              "id20-0-0",
              "outputarea_id20"
            ]
          }
        },
        {
          "output_type": "display_data",
          "data": {
            "application/javascript": [
              "window[\"a755ef5c-7fa9-11eb-8850-0242ac1c0002\"] = document.querySelector(\"#id20-0-0\");\n",
              "//# sourceURL=js_3845e6efd9"
            ],
            "text/plain": [
              "<IPython.core.display.Javascript object>"
            ]
          },
          "metadata": {
            "tags": [
              "id20-0-0",
              "outputarea_id20"
            ]
          }
        },
        {
          "output_type": "display_data",
          "data": {
            "application/javascript": [
              "window[\"a756302a-7fa9-11eb-8850-0242ac1c0002\"] = google.colab.output.setActiveOutputArea(window[\"a755ef5c-7fa9-11eb-8850-0242ac1c0002\"]);\n",
              "//# sourceURL=js_7a47b7da38"
            ],
            "text/plain": [
              "<IPython.core.display.Javascript object>"
            ]
          },
          "metadata": {
            "tags": [
              "id20-0-0",
              "outputarea_id20"
            ]
          }
        },
        {
          "output_type": "display_data",
          "data": {
            "application/javascript": [
              "window[\"a770fae0-7fa9-11eb-8850-0242ac1c0002\"] = google.colab.output.setActiveOutputArea(window[\"a7558760-7fa9-11eb-8850-0242ac1c0002\"]);\n",
              "//# sourceURL=js_b556d28fb0"
            ],
            "text/plain": [
              "<IPython.core.display.Javascript object>"
            ]
          },
          "metadata": {
            "tags": [
              "id20-0-0",
              "outputarea_id20"
            ]
          }
        },
        {
          "output_type": "display_data",
          "data": {
            "application/javascript": [
              "window[\"a7be90de-7fa9-11eb-8850-0242ac1c0002\"] = google.colab.output.getActiveOutputArea();\n",
              "//# sourceURL=js_1c36a0d65b"
            ],
            "text/plain": [
              "<IPython.core.display.Javascript object>"
            ]
          },
          "metadata": {
            "tags": [
              "id20-0-0",
              "outputarea_id20"
            ]
          }
        },
        {
          "output_type": "display_data",
          "data": {
            "application/javascript": [
              "window[\"a7bee1ec-7fa9-11eb-8850-0242ac1c0002\"] = document.querySelector(\"#id20-0-0\");\n",
              "//# sourceURL=js_4e2a341d94"
            ],
            "text/plain": [
              "<IPython.core.display.Javascript object>"
            ]
          },
          "metadata": {
            "tags": [
              "id20-0-0",
              "outputarea_id20"
            ]
          }
        },
        {
          "output_type": "display_data",
          "data": {
            "application/javascript": [
              "window[\"a7c06e90-7fa9-11eb-8850-0242ac1c0002\"] = google.colab.output.setActiveOutputArea(window[\"a7bee1ec-7fa9-11eb-8850-0242ac1c0002\"]);\n",
              "//# sourceURL=js_73992b336e"
            ],
            "text/plain": [
              "<IPython.core.display.Javascript object>"
            ]
          },
          "metadata": {
            "tags": [
              "id20-0-0",
              "outputarea_id20"
            ]
          }
        },
        {
          "output_type": "display_data",
          "data": {
            "application/javascript": [
              "window[\"a7e9f594-7fa9-11eb-8850-0242ac1c0002\"] = google.colab.output.setActiveOutputArea(window[\"a7be90de-7fa9-11eb-8850-0242ac1c0002\"]);\n",
              "//# sourceURL=js_e4baebf8ce"
            ],
            "text/plain": [
              "<IPython.core.display.Javascript object>"
            ]
          },
          "metadata": {
            "tags": [
              "id20-0-0",
              "outputarea_id20"
            ]
          }
        },
        {
          "output_type": "display_data",
          "data": {
            "application/javascript": [
              "window[\"a8394df6-7fa9-11eb-8850-0242ac1c0002\"] = google.colab.output.getActiveOutputArea();\n",
              "//# sourceURL=js_8c29ab55c1"
            ],
            "text/plain": [
              "<IPython.core.display.Javascript object>"
            ]
          },
          "metadata": {
            "tags": [
              "id20-0-0",
              "outputarea_id20"
            ]
          }
        },
        {
          "output_type": "display_data",
          "data": {
            "application/javascript": [
              "window[\"a839c3e4-7fa9-11eb-8850-0242ac1c0002\"] = document.querySelector(\"#id20-0-0\");\n",
              "//# sourceURL=js_259bc1934c"
            ],
            "text/plain": [
              "<IPython.core.display.Javascript object>"
            ]
          },
          "metadata": {
            "tags": [
              "id20-0-0",
              "outputarea_id20"
            ]
          }
        },
        {
          "output_type": "display_data",
          "data": {
            "application/javascript": [
              "window[\"a83a175e-7fa9-11eb-8850-0242ac1c0002\"] = google.colab.output.setActiveOutputArea(window[\"a839c3e4-7fa9-11eb-8850-0242ac1c0002\"]);\n",
              "//# sourceURL=js_b79a17a984"
            ],
            "text/plain": [
              "<IPython.core.display.Javascript object>"
            ]
          },
          "metadata": {
            "tags": [
              "id20-0-0",
              "outputarea_id20"
            ]
          }
        },
        {
          "output_type": "display_data",
          "data": {
            "application/javascript": [
              "window[\"a8551180-7fa9-11eb-8850-0242ac1c0002\"] = google.colab.output.setActiveOutputArea(window[\"a8394df6-7fa9-11eb-8850-0242ac1c0002\"]);\n",
              "//# sourceURL=js_18d0b15ec9"
            ],
            "text/plain": [
              "<IPython.core.display.Javascript object>"
            ]
          },
          "metadata": {
            "tags": [
              "id20-0-0",
              "outputarea_id20"
            ]
          }
        },
        {
          "output_type": "display_data",
          "data": {
            "application/javascript": [
              "window[\"a8a2b692-7fa9-11eb-8850-0242ac1c0002\"] = google.colab.output.getActiveOutputArea();\n",
              "//# sourceURL=js_cc55ef1eec"
            ],
            "text/plain": [
              "<IPython.core.display.Javascript object>"
            ]
          },
          "metadata": {
            "tags": [
              "id20-0-0",
              "outputarea_id20"
            ]
          }
        },
        {
          "output_type": "display_data",
          "data": {
            "application/javascript": [
              "window[\"a8a2ee6e-7fa9-11eb-8850-0242ac1c0002\"] = document.querySelector(\"#id20-0-0\");\n",
              "//# sourceURL=js_e2b534a193"
            ],
            "text/plain": [
              "<IPython.core.display.Javascript object>"
            ]
          },
          "metadata": {
            "tags": [
              "id20-0-0",
              "outputarea_id20"
            ]
          }
        },
        {
          "output_type": "display_data",
          "data": {
            "application/javascript": [
              "window[\"a8a31fec-7fa9-11eb-8850-0242ac1c0002\"] = google.colab.output.setActiveOutputArea(window[\"a8a2ee6e-7fa9-11eb-8850-0242ac1c0002\"]);\n",
              "//# sourceURL=js_e38b7483d4"
            ],
            "text/plain": [
              "<IPython.core.display.Javascript object>"
            ]
          },
          "metadata": {
            "tags": [
              "id20-0-0",
              "outputarea_id20"
            ]
          }
        },
        {
          "output_type": "display_data",
          "data": {
            "application/javascript": [
              "window[\"a8bf5be4-7fa9-11eb-8850-0242ac1c0002\"] = google.colab.output.setActiveOutputArea(window[\"a8a2b692-7fa9-11eb-8850-0242ac1c0002\"]);\n",
              "//# sourceURL=js_15e2b58148"
            ],
            "text/plain": [
              "<IPython.core.display.Javascript object>"
            ]
          },
          "metadata": {
            "tags": [
              "id20-0-0",
              "outputarea_id20"
            ]
          }
        },
        {
          "output_type": "display_data",
          "data": {
            "application/javascript": [
              "window[\"a90d1d48-7fa9-11eb-8850-0242ac1c0002\"] = google.colab.output.getActiveOutputArea();\n",
              "//# sourceURL=js_e6df6f44b0"
            ],
            "text/plain": [
              "<IPython.core.display.Javascript object>"
            ]
          },
          "metadata": {
            "tags": [
              "id20-0-0",
              "outputarea_id20"
            ]
          }
        },
        {
          "output_type": "display_data",
          "data": {
            "application/javascript": [
              "window[\"a90d53bc-7fa9-11eb-8850-0242ac1c0002\"] = document.querySelector(\"#id20-0-0\");\n",
              "//# sourceURL=js_11b723e5d7"
            ],
            "text/plain": [
              "<IPython.core.display.Javascript object>"
            ]
          },
          "metadata": {
            "tags": [
              "id20-0-0",
              "outputarea_id20"
            ]
          }
        },
        {
          "output_type": "display_data",
          "data": {
            "application/javascript": [
              "window[\"a90d86c0-7fa9-11eb-8850-0242ac1c0002\"] = google.colab.output.setActiveOutputArea(window[\"a90d53bc-7fa9-11eb-8850-0242ac1c0002\"]);\n",
              "//# sourceURL=js_f1d21cd7ad"
            ],
            "text/plain": [
              "<IPython.core.display.Javascript object>"
            ]
          },
          "metadata": {
            "tags": [
              "id20-0-0",
              "outputarea_id20"
            ]
          }
        },
        {
          "output_type": "display_data",
          "data": {
            "application/javascript": [
              "window[\"a92bb8c0-7fa9-11eb-8850-0242ac1c0002\"] = google.colab.output.setActiveOutputArea(window[\"a90d1d48-7fa9-11eb-8850-0242ac1c0002\"]);\n",
              "//# sourceURL=js_35fb7a32bc"
            ],
            "text/plain": [
              "<IPython.core.display.Javascript object>"
            ]
          },
          "metadata": {
            "tags": [
              "id20-0-0",
              "outputarea_id20"
            ]
          }
        },
        {
          "output_type": "display_data",
          "data": {
            "application/javascript": [
              "window[\"a97b4a7a-7fa9-11eb-8850-0242ac1c0002\"] = google.colab.output.getActiveOutputArea();\n",
              "//# sourceURL=js_d7254ac3b2"
            ],
            "text/plain": [
              "<IPython.core.display.Javascript object>"
            ]
          },
          "metadata": {
            "tags": [
              "id20-0-0",
              "outputarea_id20"
            ]
          }
        },
        {
          "output_type": "display_data",
          "data": {
            "application/javascript": [
              "window[\"a97badc6-7fa9-11eb-8850-0242ac1c0002\"] = document.querySelector(\"#id20-0-0\");\n",
              "//# sourceURL=js_28bb6da342"
            ],
            "text/plain": [
              "<IPython.core.display.Javascript object>"
            ]
          },
          "metadata": {
            "tags": [
              "id20-0-0",
              "outputarea_id20"
            ]
          }
        },
        {
          "output_type": "display_data",
          "data": {
            "application/javascript": [
              "window[\"a97c8b06-7fa9-11eb-8850-0242ac1c0002\"] = google.colab.output.setActiveOutputArea(window[\"a97badc6-7fa9-11eb-8850-0242ac1c0002\"]);\n",
              "//# sourceURL=js_d15617517d"
            ],
            "text/plain": [
              "<IPython.core.display.Javascript object>"
            ]
          },
          "metadata": {
            "tags": [
              "id20-0-0",
              "outputarea_id20"
            ]
          }
        },
        {
          "output_type": "display_data",
          "data": {
            "application/javascript": [
              "window[\"a99b9622-7fa9-11eb-8850-0242ac1c0002\"] = google.colab.output.setActiveOutputArea(window[\"a97b4a7a-7fa9-11eb-8850-0242ac1c0002\"]);\n",
              "//# sourceURL=js_d0018710a8"
            ],
            "text/plain": [
              "<IPython.core.display.Javascript object>"
            ]
          },
          "metadata": {
            "tags": [
              "id20-0-0",
              "outputarea_id20"
            ]
          }
        },
        {
          "output_type": "display_data",
          "data": {
            "application/javascript": [
              "window[\"a9e944f8-7fa9-11eb-8850-0242ac1c0002\"] = google.colab.output.getActiveOutputArea();\n",
              "//# sourceURL=js_17980cb16f"
            ],
            "text/plain": [
              "<IPython.core.display.Javascript object>"
            ]
          },
          "metadata": {
            "tags": [
              "id20-0-0",
              "outputarea_id20"
            ]
          }
        },
        {
          "output_type": "display_data",
          "data": {
            "application/javascript": [
              "window[\"a9e994d0-7fa9-11eb-8850-0242ac1c0002\"] = document.querySelector(\"#id20-0-0\");\n",
              "//# sourceURL=js_d3b3bd10b2"
            ],
            "text/plain": [
              "<IPython.core.display.Javascript object>"
            ]
          },
          "metadata": {
            "tags": [
              "id20-0-0",
              "outputarea_id20"
            ]
          }
        },
        {
          "output_type": "display_data",
          "data": {
            "application/javascript": [
              "window[\"a9e9d94a-7fa9-11eb-8850-0242ac1c0002\"] = google.colab.output.setActiveOutputArea(window[\"a9e994d0-7fa9-11eb-8850-0242ac1c0002\"]);\n",
              "//# sourceURL=js_9e813bfb24"
            ],
            "text/plain": [
              "<IPython.core.display.Javascript object>"
            ]
          },
          "metadata": {
            "tags": [
              "id20-0-0",
              "outputarea_id20"
            ]
          }
        },
        {
          "output_type": "display_data",
          "data": {
            "application/javascript": [
              "window[\"aa0773e2-7fa9-11eb-8850-0242ac1c0002\"] = google.colab.output.setActiveOutputArea(window[\"a9e944f8-7fa9-11eb-8850-0242ac1c0002\"]);\n",
              "//# sourceURL=js_cf459c48d8"
            ],
            "text/plain": [
              "<IPython.core.display.Javascript object>"
            ]
          },
          "metadata": {
            "tags": [
              "id20-0-0",
              "outputarea_id20"
            ]
          }
        },
        {
          "output_type": "display_data",
          "data": {
            "application/javascript": [
              "window[\"aa558dca-7fa9-11eb-8850-0242ac1c0002\"] = google.colab.output.getActiveOutputArea();\n",
              "//# sourceURL=js_1b08628aa8"
            ],
            "text/plain": [
              "<IPython.core.display.Javascript object>"
            ]
          },
          "metadata": {
            "tags": [
              "id20-0-0",
              "outputarea_id20"
            ]
          }
        },
        {
          "output_type": "display_data",
          "data": {
            "application/javascript": [
              "window[\"aa55caec-7fa9-11eb-8850-0242ac1c0002\"] = document.querySelector(\"#id20-0-0\");\n",
              "//# sourceURL=js_ffe0858004"
            ],
            "text/plain": [
              "<IPython.core.display.Javascript object>"
            ]
          },
          "metadata": {
            "tags": [
              "id20-0-0",
              "outputarea_id20"
            ]
          }
        },
        {
          "output_type": "display_data",
          "data": {
            "application/javascript": [
              "window[\"aa560520-7fa9-11eb-8850-0242ac1c0002\"] = google.colab.output.setActiveOutputArea(window[\"aa55caec-7fa9-11eb-8850-0242ac1c0002\"]);\n",
              "//# sourceURL=js_fa9d017087"
            ],
            "text/plain": [
              "<IPython.core.display.Javascript object>"
            ]
          },
          "metadata": {
            "tags": [
              "id20-0-0",
              "outputarea_id20"
            ]
          }
        },
        {
          "output_type": "display_data",
          "data": {
            "image/png": "[encoded data removed]",
            "text/plain": [
              "<Figure size 432x288 with 1 Axes>"
            ]
          },
          "metadata": {
            "tags": [
              "id20-0-0",
              "outputarea_id20",
              "user_output"
            ],
            "needs_background": "light"
          }
        },
        {
          "output_type": "display_data",
          "data": {
            "application/javascript": [
              "window[\"aa72ace8-7fa9-11eb-8850-0242ac1c0002\"] = google.colab.output.setActiveOutputArea(window[\"aa558dca-7fa9-11eb-8850-0242ac1c0002\"]);\n",
              "//# sourceURL=js_59a01eae70"
            ],
            "text/plain": [
              "<IPython.core.display.Javascript object>"
            ]
          },
          "metadata": {
            "tags": [
              "id20-0-0",
              "outputarea_id20"
            ]
          }
        }
      ]
    },
    {
      "cell_type": "code",
      "metadata": {
        "colab": {
          "base_uri": "https://localhost:8080/"
        },
        "id": "tgC-FLAUiVsq",
        "outputId": "5001d3b4-5b0b-4b35-a574-599d2ef36087"
      },
      "source": [
        "q_LearningTable\r\n",
        "\r\n",
        "#print(q_LearningTable)\r\n",
        "\r\n"
      ],
      "execution_count": 98,
      "outputs": [
        {
          "output_type": "execute_result",
          "data": {
            "text/plain": [
              "array([[-4.44357281, -4.44357281, -4.44357281, -4.44357281],\n",
              "       [-4.44357281, -4.44357281, -4.44357281, -4.44357281],\n",
              "       [-4.44357281, -4.44357281, -4.44357281, -4.44357281],\n",
              "       [-4.44357281, -4.44357281, -4.44357281, -4.44357281],\n",
              "       [-4.44357281, -4.44357281, -4.44357281, -4.44357281],\n",
              "       [-4.44357281, -4.44357281, -4.44357281, -4.44357281],\n",
              "       [-4.44357281, -4.44357281, -4.44357281, -4.44357281],\n",
              "       [-4.44357281, -4.44357281, -4.44357281, -4.44357281],\n",
              "       [-4.44357281, -4.44357281, -4.44357281, -4.44357281],\n",
              "       [-4.44357281, -4.44357281, -4.44357281, -4.44357281],\n",
              "       [-4.44357281, -4.44357281, -4.44357281, -4.44357281],\n",
              "       [-4.44357281, -4.44357281, -4.44357281, -4.44357281],\n",
              "       [-4.44357281, -4.44357281, -4.44357281, -4.44357281],\n",
              "       [-4.44357281, -4.44357281, -4.44357281, -4.44357281],\n",
              "       [-4.44357281, -4.44357281, -4.44357281, -4.44357281],\n",
              "       [-4.44357281, -4.44357281, -4.44357281, -4.44357281],\n",
              "       [-4.44357281, -4.44357281, -4.44357281, -4.44357281],\n",
              "       [-4.44357281, -4.44357281, -4.44357281, -4.44357281],\n",
              "       [-4.44357281, -4.44357281, -4.44357281, -4.44357281],\n",
              "       [-4.44357281, -4.44357281, -4.44357281, -4.44357281],\n",
              "       [-4.44357281, -4.44357281, -4.44357281, -4.44357281],\n",
              "       [-4.44357281, -4.44357281, -4.44357281, -4.44357281],\n",
              "       [-4.44357281, -4.44357281, -4.44357281, -4.44357281],\n",
              "       [-4.44357281, -4.44357281, -4.44357281, -4.44357281],\n",
              "       [-4.44357281, -4.44357281, -4.44357281, -4.44357281]])"
            ]
          },
          "metadata": {
            "tags": []
          },
          "execution_count": 98
        }
      ]
    },
    {
      "cell_type": "markdown",
      "metadata": {
        "id": "4oE4QoRQhERM"
      },
      "source": [
        ""
      ]
    },
    {
      "cell_type": "markdown",
      "metadata": {
        "id": "UuTQg8gS7ssZ"
      },
      "source": [
        "## Temporal Difference (TD)"
      ]
    },
    {
      "cell_type": "code",
      "metadata": {
        "colab": {
          "base_uri": "https://localhost:8080/",
          "height": 477
        },
        "id": "u_KSRiY47oHH",
        "outputId": "2204db2e-8c2e-4b5e-d22b-b25c75567f01"
      },
      "source": [
        "v_table = np.zeros((25, 4))  \r\n",
        "alpha = 0.1\r\n",
        "gamma = 0.8\r\n",
        "\r\n",
        "for i in range(1, 1000):\r\n",
        "    state = env.reset()\r\n",
        "    encodedstate=np.array(range(0,25)).reshape(5,5)\r\n",
        "    reward = 0\r\n",
        "    done = False\r\n",
        "    \r\n",
        "    while not done:\r\n",
        "        action = np.argmax(v_table[encodedstate]) # Exploit learned values\r\n",
        "        x_old,y_old=state\r\n",
        "        v_current = v_table[encodedstate[x_old,y_old]][action]\r\n",
        "        obs, reward, done, info = env.step(action)\r\n",
        "        x,y=obs\r\n",
        "        #encodedstate[y,x]\r\n",
        "        v_next =v_table[encodedstate[x,y]][action]\r\n",
        "        \r\n",
        "        v_current = v_current + alpha * (reward + (gamma * v_next)-v_current)\r\n",
        "        v_table[encodedstate[x,y]][action]= v_current \r\n",
        "\r\n",
        "        with output_grid.output_to(0, 0):\r\n",
        "          output_grid.clear_cell()\r\n",
        "          env.render()\r\n",
        "        time.sleep(0.5)      "
      ],
      "execution_count": 124,
      "outputs": [
        {
          "output_type": "display_data",
          "data": {
            "application/javascript": [
              "window[\"f5f16284-7fab-11eb-8850-0242ac1c0002\"] = google.colab.output.getActiveOutputArea();\n",
              "//# sourceURL=js_17b1f2ffcd"
            ],
            "text/plain": [
              "<IPython.core.display.Javascript object>"
            ]
          },
          "metadata": {
            "tags": [
              "id20-0-0",
              "outputarea_id20"
            ]
          }
        },
        {
          "output_type": "display_data",
          "data": {
            "application/javascript": [
              "window[\"f5f1b4f0-7fab-11eb-8850-0242ac1c0002\"] = document.querySelector(\"#id20-0-0\");\n",
              "//# sourceURL=js_c955c472fa"
            ],
            "text/plain": [
              "<IPython.core.display.Javascript object>"
            ]
          },
          "metadata": {
            "tags": [
              "id20-0-0",
              "outputarea_id20"
            ]
          }
        },
        {
          "output_type": "display_data",
          "data": {
            "application/javascript": [
              "window[\"f5f2435c-7fab-11eb-8850-0242ac1c0002\"] = google.colab.output.setActiveOutputArea(window[\"f5f1b4f0-7fab-11eb-8850-0242ac1c0002\"]);\n",
              "//# sourceURL=js_5ce22dcf2c"
            ],
            "text/plain": [
              "<IPython.core.display.Javascript object>"
            ]
          },
          "metadata": {
            "tags": [
              "id20-0-0",
              "outputarea_id20"
            ]
          }
        },
        {
          "output_type": "display_data",
          "data": {
            "application/javascript": [
              "window[\"f609a268-7fab-11eb-8850-0242ac1c0002\"] = google.colab.output.setActiveOutputArea(window[\"f5f16284-7fab-11eb-8850-0242ac1c0002\"]);\n",
              "//# sourceURL=js_7712264a71"
            ],
            "text/plain": [
              "<IPython.core.display.Javascript object>"
            ]
          },
          "metadata": {
            "tags": [
              "id20-0-0",
              "outputarea_id20"
            ]
          }
        },
        {
          "output_type": "display_data",
          "data": {
            "application/javascript": [
              "window[\"f657c6dc-7fab-11eb-8850-0242ac1c0002\"] = google.colab.output.getActiveOutputArea();\n",
              "//# sourceURL=js_a4914f0be0"
            ],
            "text/plain": [
              "<IPython.core.display.Javascript object>"
            ]
          },
          "metadata": {
            "tags": [
              "id20-0-0",
              "outputarea_id20"
            ]
          }
        },
        {
          "output_type": "display_data",
          "data": {
            "application/javascript": [
              "window[\"f65827c6-7fab-11eb-8850-0242ac1c0002\"] = document.querySelector(\"#id20-0-0\");\n",
              "//# sourceURL=js_cd003552bb"
            ],
            "text/plain": [
              "<IPython.core.display.Javascript object>"
            ]
          },
          "metadata": {
            "tags": [
              "id20-0-0",
              "outputarea_id20"
            ]
          }
        },
        {
          "output_type": "display_data",
          "data": {
            "application/javascript": [
              "window[\"f658b6b4-7fab-11eb-8850-0242ac1c0002\"] = google.colab.output.setActiveOutputArea(window[\"f65827c6-7fab-11eb-8850-0242ac1c0002\"]);\n",
              "//# sourceURL=js_1cd2ec5d9b"
            ],
            "text/plain": [
              "<IPython.core.display.Javascript object>"
            ]
          },
          "metadata": {
            "tags": [
              "id20-0-0",
              "outputarea_id20"
            ]
          }
        },
        {
          "output_type": "display_data",
          "data": {
            "application/javascript": [
              "window[\"f66fdbbe-7fab-11eb-8850-0242ac1c0002\"] = google.colab.output.setActiveOutputArea(window[\"f657c6dc-7fab-11eb-8850-0242ac1c0002\"]);\n",
              "//# sourceURL=js_6d862ff682"
            ],
            "text/plain": [
              "<IPython.core.display.Javascript object>"
            ]
          },
          "metadata": {
            "tags": [
              "id20-0-0",
              "outputarea_id20"
            ]
          }
        },
        {
          "output_type": "display_data",
          "data": {
            "application/javascript": [
              "window[\"f6bea834-7fab-11eb-8850-0242ac1c0002\"] = google.colab.output.getActiveOutputArea();\n",
              "//# sourceURL=js_63d804af89"
            ],
            "text/plain": [
              "<IPython.core.display.Javascript object>"
            ]
          },
          "metadata": {
            "tags": [
              "id20-0-0",
              "outputarea_id20"
            ]
          }
        },
        {
          "output_type": "display_data",
          "data": {
            "application/javascript": [
              "window[\"f6bff446-7fab-11eb-8850-0242ac1c0002\"] = document.querySelector(\"#id20-0-0\");\n",
              "//# sourceURL=js_473d3e80d0"
            ],
            "text/plain": [
              "<IPython.core.display.Javascript object>"
            ]
          },
          "metadata": {
            "tags": [
              "id20-0-0",
              "outputarea_id20"
            ]
          }
        },
        {
          "output_type": "display_data",
          "data": {
            "application/javascript": [
              "window[\"f6c03f50-7fab-11eb-8850-0242ac1c0002\"] = google.colab.output.setActiveOutputArea(window[\"f6bff446-7fab-11eb-8850-0242ac1c0002\"]);\n",
              "//# sourceURL=js_6ac0bc8767"
            ],
            "text/plain": [
              "<IPython.core.display.Javascript object>"
            ]
          },
          "metadata": {
            "tags": [
              "id20-0-0",
              "outputarea_id20"
            ]
          }
        },
        {
          "output_type": "display_data",
          "data": {
            "application/javascript": [
              "window[\"f6d535a4-7fab-11eb-8850-0242ac1c0002\"] = google.colab.output.setActiveOutputArea(window[\"f6bea834-7fab-11eb-8850-0242ac1c0002\"]);\n",
              "//# sourceURL=js_159c4e654d"
            ],
            "text/plain": [
              "<IPython.core.display.Javascript object>"
            ]
          },
          "metadata": {
            "tags": [
              "id20-0-0",
              "outputarea_id20"
            ]
          }
        },
        {
          "output_type": "display_data",
          "data": {
            "application/javascript": [
              "window[\"f722efb0-7fab-11eb-8850-0242ac1c0002\"] = google.colab.output.getActiveOutputArea();\n",
              "//# sourceURL=js_ff174a7add"
            ],
            "text/plain": [
              "<IPython.core.display.Javascript object>"
            ]
          },
          "metadata": {
            "tags": [
              "id20-0-0",
              "outputarea_id20"
            ]
          }
        },
        {
          "output_type": "display_data",
          "data": {
            "application/javascript": [
              "window[\"f7234456-7fab-11eb-8850-0242ac1c0002\"] = document.querySelector(\"#id20-0-0\");\n",
              "//# sourceURL=js_207399e315"
            ],
            "text/plain": [
              "<IPython.core.display.Javascript object>"
            ]
          },
          "metadata": {
            "tags": [
              "id20-0-0",
              "outputarea_id20"
            ]
          }
        },
        {
          "output_type": "display_data",
          "data": {
            "application/javascript": [
              "window[\"f7239b40-7fab-11eb-8850-0242ac1c0002\"] = google.colab.output.setActiveOutputArea(window[\"f7234456-7fab-11eb-8850-0242ac1c0002\"]);\n",
              "//# sourceURL=js_22697025b0"
            ],
            "text/plain": [
              "<IPython.core.display.Javascript object>"
            ]
          },
          "metadata": {
            "tags": [
              "id20-0-0",
              "outputarea_id20"
            ]
          }
        },
        {
          "output_type": "display_data",
          "data": {
            "application/javascript": [
              "window[\"f73b074e-7fab-11eb-8850-0242ac1c0002\"] = google.colab.output.setActiveOutputArea(window[\"f722efb0-7fab-11eb-8850-0242ac1c0002\"]);\n",
              "//# sourceURL=js_6fca0eb035"
            ],
            "text/plain": [
              "<IPython.core.display.Javascript object>"
            ]
          },
          "metadata": {
            "tags": [
              "id20-0-0",
              "outputarea_id20"
            ]
          }
        },
        {
          "output_type": "display_data",
          "data": {
            "application/javascript": [
              "window[\"f78997ba-7fab-11eb-8850-0242ac1c0002\"] = google.colab.output.getActiveOutputArea();\n",
              "//# sourceURL=js_a6bb1b86fc"
            ],
            "text/plain": [
              "<IPython.core.display.Javascript object>"
            ]
          },
          "metadata": {
            "tags": [
              "id20-0-0",
              "outputarea_id20"
            ]
          }
        },
        {
          "output_type": "display_data",
          "data": {
            "application/javascript": [
              "window[\"f78a3f6c-7fab-11eb-8850-0242ac1c0002\"] = document.querySelector(\"#id20-0-0\");\n",
              "//# sourceURL=js_c4616ffd31"
            ],
            "text/plain": [
              "<IPython.core.display.Javascript object>"
            ]
          },
          "metadata": {
            "tags": [
              "id20-0-0",
              "outputarea_id20"
            ]
          }
        },
        {
          "output_type": "display_data",
          "data": {
            "application/javascript": [
              "window[\"f78acb9e-7fab-11eb-8850-0242ac1c0002\"] = google.colab.output.setActiveOutputArea(window[\"f78a3f6c-7fab-11eb-8850-0242ac1c0002\"]);\n",
              "//# sourceURL=js_6250c5fdeb"
            ],
            "text/plain": [
              "<IPython.core.display.Javascript object>"
            ]
          },
          "metadata": {
            "tags": [
              "id20-0-0",
              "outputarea_id20"
            ]
          }
        },
        {
          "output_type": "display_data",
          "data": {
            "image/png": "[encoded data removed]",
            "text/plain": [
              "<Figure size 432x288 with 1 Axes>"
            ]
          },
          "metadata": {
            "tags": [
              "id20-0-0",
              "outputarea_id20",
              "user_output"
            ],
            "needs_background": "light"
          }
        },
        {
          "output_type": "display_data",
          "data": {
            "application/javascript": [
              "window[\"f7a09906-7fab-11eb-8850-0242ac1c0002\"] = google.colab.output.setActiveOutputArea(window[\"f78997ba-7fab-11eb-8850-0242ac1c0002\"]);\n",
              "//# sourceURL=js_9c37be435a"
            ],
            "text/plain": [
              "<IPython.core.display.Javascript object>"
            ]
          },
          "metadata": {
            "tags": [
              "id20-0-0",
              "outputarea_id20"
            ]
          }
        },
        {
          "output_type": "error",
          "ename": "IndexError",
          "evalue": "ignored",
          "traceback": [
            "\u001b[0;31m---------------------------------------------------------------------------\u001b[0m",
            "\u001b[0;31mIndexError\u001b[0m                                Traceback (most recent call last)",
            "\u001b[0;32m<ipython-input-124-237162a10f54>\u001b[0m in \u001b[0;36m<module>\u001b[0;34m()\u001b[0m\n\u001b[1;32m     12\u001b[0m         \u001b[0maction\u001b[0m \u001b[0;34m=\u001b[0m \u001b[0mnp\u001b[0m\u001b[0;34m.\u001b[0m\u001b[0margmax\u001b[0m\u001b[0;34m(\u001b[0m\u001b[0mv_table\u001b[0m\u001b[0;34m[\u001b[0m\u001b[0mencodedstate\u001b[0m\u001b[0;34m]\u001b[0m\u001b[0;34m)\u001b[0m \u001b[0;31m# Exploit learned values\u001b[0m\u001b[0;34m\u001b[0m\u001b[0;34m\u001b[0m\u001b[0m\n\u001b[1;32m     13\u001b[0m         \u001b[0mx_old\u001b[0m\u001b[0;34m,\u001b[0m\u001b[0my_old\u001b[0m\u001b[0;34m=\u001b[0m\u001b[0mstate\u001b[0m\u001b[0;34m\u001b[0m\u001b[0;34m\u001b[0m\u001b[0m\n\u001b[0;32m---> 14\u001b[0;31m         \u001b[0mv_current\u001b[0m \u001b[0;34m=\u001b[0m \u001b[0mv_table\u001b[0m\u001b[0;34m[\u001b[0m\u001b[0mencodedstate\u001b[0m\u001b[0;34m[\u001b[0m\u001b[0mx_old\u001b[0m\u001b[0;34m,\u001b[0m\u001b[0my_old\u001b[0m\u001b[0;34m]\u001b[0m\u001b[0;34m]\u001b[0m\u001b[0;34m[\u001b[0m\u001b[0maction\u001b[0m\u001b[0;34m]\u001b[0m\u001b[0;34m\u001b[0m\u001b[0;34m\u001b[0m\u001b[0m\n\u001b[0m\u001b[1;32m     15\u001b[0m         \u001b[0mobs\u001b[0m\u001b[0;34m,\u001b[0m \u001b[0mreward\u001b[0m\u001b[0;34m,\u001b[0m \u001b[0mdone\u001b[0m\u001b[0;34m,\u001b[0m \u001b[0minfo\u001b[0m \u001b[0;34m=\u001b[0m \u001b[0menv\u001b[0m\u001b[0;34m.\u001b[0m\u001b[0mstep\u001b[0m\u001b[0;34m(\u001b[0m\u001b[0maction\u001b[0m\u001b[0;34m)\u001b[0m\u001b[0;34m\u001b[0m\u001b[0;34m\u001b[0m\u001b[0m\n\u001b[1;32m     16\u001b[0m         \u001b[0mx\u001b[0m\u001b[0;34m,\u001b[0m\u001b[0my\u001b[0m\u001b[0;34m=\u001b[0m\u001b[0mobs\u001b[0m\u001b[0;34m\u001b[0m\u001b[0;34m\u001b[0m\u001b[0m\n",
            "\u001b[0;31mIndexError\u001b[0m: index 5 is out of bounds for axis 0 with size 5"
          ]
        }
      ]
    },
    {
      "cell_type": "code",
      "metadata": {
        "colab": {
          "base_uri": "https://localhost:8080/"
        },
        "id": "rtwiY-NLkiDh",
        "outputId": "b3a38b84-6438-4885-fa5f-813e0aaab20e"
      },
      "source": [
        ""
      ],
      "execution_count": 123,
      "outputs": [
        {
          "output_type": "execute_result",
          "data": {
            "text/plain": [
              "0.0"
            ]
          },
          "metadata": {
            "tags": []
          },
          "execution_count": 123
        }
      ]
    }
  ]
}